{
 "cells": [
  {
   "cell_type": "markdown",
   "metadata": {},
   "source": [
    "# THE-IMMERSING_DIAMOND-_PATTERN\n",
    "\n",
    "\n",
    "###### =>THIS IS A VERY SIMPLE PROGRAM WHICH HELPS IN MAKING A PATTERN WHICH LOOKS LIKE IMMERSSED IN THE GIVEN \n",
    "###### LIQUID OF VALUE.\n",
    "\n",
    "###### =>THERE IS ALSO THE INPUT FOR THE DEPTH (CALLED SIZE) AND THE INPUT FOR THE IMMERSED DIAMOND ATOMS \n",
    "######      (CALLED IT'S BOUNDARIES).\n",
    "    \n"
   ]
  },
  {
   "cell_type": "raw",
   "metadata": {},
   "source": [
    "ENTER THE DEPTH: 27\n",
    "ENTER THE LIQUID OF VALUE('.' or ',' or '-' or '_'): _\n",
    "ENTER THE ATOM OF THE ATOMS('*' or 'x' or 'o' or '@'): x\n",
    "____________________________________________________x____________________________________________________\n",
    "\n",
    "__________________________________________________x_x_x__________________________________________________\n",
    "\n",
    "________________________________________________x_x_x_x_x________________________________________________\n",
    "\n",
    "______________________________________________x_x_x_x_x_x_x______________________________________________\n",
    "\n",
    "____________________________________________x_x_x_x_x_x_x_x_x____________________________________________\n",
    "\n",
    "__________________________________________x_x_x_x_x_x_x_x_x_x_x__________________________________________\n",
    "\n",
    "________________________________________x_x_x_x_x_x_x_x_x_x_x_x_x________________________________________\n",
    "\n",
    "______________________________________x_x_x_x_x_x_x_x_x_x_x_x_x_x_x______________________________________\n",
    "\n",
    "____________________________________x_x_x_x_x_x_x_x_x_x_x_x_x_x_x_x_x____________________________________\n",
    "\n",
    "__________________________________x_x_x_x_x_x_x_x_x_x_x_x_x_x_x_x_x_x_x__________________________________\n",
    "\n",
    "________________________________x_x_x_x_x_x_x_x_x_x_x_x_x_x_x_x_x_x_x_x_x________________________________\n",
    "\n",
    "______________________________x_x_x_x_x_x_x_x_x_x_x_x_x_x_x_x_x_x_x_x_x_x_x______________________________\n",
    "\n",
    "____________________________x_x_x_x_x_x_x_x_x_x_x_x_x_x_x_x_x_x_x_x_x_x_x_x_x____________________________\n",
    "\n",
    "__________________________x_x_x_x_x_x_x_x_x_x_x_x_x_x_x_x_x_x_x_x_x_x_x_x_x_x_x__________________________\n",
    "\n",
    "________________________x_x_x_x_x_x_x_x_x_x_x_x_x_x_x_x_x_x_x_x_x_x_x_x_x_x_x_x_x________________________\n",
    "\n",
    "______________________x_x_x_x_x_x_x_x_x_x_x_x_x_x_x_x_x_x_x_x_x_x_x_x_x_x_x_x_x_x_x______________________\n",
    "\n",
    "____________________x_x_x_x_x_x_x_x_x_x_x_x_x_x_x_x_x_x_x_x_x_x_x_x_x_x_x_x_x_x_x_x_x____________________\n",
    "\n",
    "__________________x_x_x_x_x_x_x_x_x_x_x_x_x_x_x_x_x_x_x_x_x_x_x_x_x_x_x_x_x_x_x_x_x_x_x__________________\n",
    "\n",
    "________________x_x_x_x_x_x_x_x_x_x_x_x_x_x_x_x_x_x_x_x_x_x_x_x_x_x_x_x_x_x_x_x_x_x_x_x_x________________\n",
    "\n",
    "______________x_x_x_x_x_x_x_x_x_x_x_x_x_x_x_x_x_x_x_x_x_x_x_x_x_x_x_x_x_x_x_x_x_x_x_x_x_x_x______________\n",
    "\n",
    "____________x_x_x_x_x_x_x_x_x_x_x_x_x_x_x_x_x_x_x_x_x_x_x_x_x_x_x_x_x_x_x_x_x_x_x_x_x_x_x_x_x____________\n",
    "\n",
    "__________x_x_x_x_x_x_x_x_x_x_x_x_x_x_x_x_x_x_x_x_x_x_x_x_x_x_x_x_x_x_x_x_x_x_x_x_x_x_x_x_x_x_x__________\n",
    "\n",
    "________x_x_x_x_x_x_x_x_x_x_x_x_x_x_x_x_x_x_x_x_x_x_x_x_x_x_x_x_x_x_x_x_x_x_x_x_x_x_x_x_x_x_x_x_x________\n",
    "\n",
    "______x_x_x_x_x_x_x_x_x_x_x_x_x_x_x_x_x_x_x_x_x_x_x_x_x_x_x_x_x_x_x_x_x_x_x_x_x_x_x_x_x_x_x_x_x_x_x______\n",
    "\n",
    "____x_x_x_x_x_x_x_x_x_x_x_x_x_x_x_x_x_x_x_x_x_x_x_x_x_x_x_x_x_x_x_x_x_x_x_x_x_x_x_x_x_x_x_x_x_x_x_x_x____\n",
    "\n",
    "__x_x_x_x_x_x_x_x_x_x_x_x_x_x_x_x_x_x_x_x_x_x_x_x_x_x_x_x_x_x_x_x_x_x_x_x_x_x_x_x_x_x_x_x_x_x_x_x_x_x_x__\n",
    "\n",
    "x_x_x_x_x_x_x_x_x_x_x_x_x_x_x_x_x_x_x_x_x_x_x_x_x_x_x_x_x_x_x_x_x_x_x_x_x_x_x_x_x_x_x_x_x_x_x_x_x_x_x_x_x\n",
    "\n",
    "__x_x_x_x_x_x_x_x_x_x_x_x_x_x_x_x_x_x_x_x_x_x_x_x_x_x_x_x_x_x_x_x_x_x_x_x_x_x_x_x_x_x_x_x_x_x_x_x_x_x_x__\n",
    "\n",
    "____x_x_x_x_x_x_x_x_x_x_x_x_x_x_x_x_x_x_x_x_x_x_x_x_x_x_x_x_x_x_x_x_x_x_x_x_x_x_x_x_x_x_x_x_x_x_x_x_x____\n",
    "\n",
    "______x_x_x_x_x_x_x_x_x_x_x_x_x_x_x_x_x_x_x_x_x_x_x_x_x_x_x_x_x_x_x_x_x_x_x_x_x_x_x_x_x_x_x_x_x_x_x______\n",
    "\n",
    "________x_x_x_x_x_x_x_x_x_x_x_x_x_x_x_x_x_x_x_x_x_x_x_x_x_x_x_x_x_x_x_x_x_x_x_x_x_x_x_x_x_x_x_x_x________\n",
    "\n",
    "__________x_x_x_x_x_x_x_x_x_x_x_x_x_x_x_x_x_x_x_x_x_x_x_x_x_x_x_x_x_x_x_x_x_x_x_x_x_x_x_x_x_x_x__________\n",
    "\n",
    "____________x_x_x_x_x_x_x_x_x_x_x_x_x_x_x_x_x_x_x_x_x_x_x_x_x_x_x_x_x_x_x_x_x_x_x_x_x_x_x_x_x____________\n",
    "\n",
    "______________x_x_x_x_x_x_x_x_x_x_x_x_x_x_x_x_x_x_x_x_x_x_x_x_x_x_x_x_x_x_x_x_x_x_x_x_x_x_x______________\n",
    "\n",
    "________________x_x_x_x_x_x_x_x_x_x_x_x_x_x_x_x_x_x_x_x_x_x_x_x_x_x_x_x_x_x_x_x_x_x_x_x_x________________\n",
    "\n",
    "__________________x_x_x_x_x_x_x_x_x_x_x_x_x_x_x_x_x_x_x_x_x_x_x_x_x_x_x_x_x_x_x_x_x_x_x__________________\n",
    "\n",
    "____________________x_x_x_x_x_x_x_x_x_x_x_x_x_x_x_x_x_x_x_x_x_x_x_x_x_x_x_x_x_x_x_x_x____________________\n",
    "\n",
    "______________________x_x_x_x_x_x_x_x_x_x_x_x_x_x_x_x_x_x_x_x_x_x_x_x_x_x_x_x_x_x_x______________________\n",
    "\n",
    "________________________x_x_x_x_x_x_x_x_x_x_x_x_x_x_x_x_x_x_x_x_x_x_x_x_x_x_x_x_x________________________\n",
    "\n",
    "__________________________x_x_x_x_x_x_x_x_x_x_x_x_x_x_x_x_x_x_x_x_x_x_x_x_x_x_x__________________________\n",
    "\n",
    "____________________________x_x_x_x_x_x_x_x_x_x_x_x_x_x_x_x_x_x_x_x_x_x_x_x_x____________________________\n",
    "\n",
    "______________________________x_x_x_x_x_x_x_x_x_x_x_x_x_x_x_x_x_x_x_x_x_x_x______________________________\n",
    "\n",
    "________________________________x_x_x_x_x_x_x_x_x_x_x_x_x_x_x_x_x_x_x_x_x________________________________\n",
    "\n",
    "__________________________________x_x_x_x_x_x_x_x_x_x_x_x_x_x_x_x_x_x_x__________________________________\n",
    "\n",
    "____________________________________x_x_x_x_x_x_x_x_x_x_x_x_x_x_x_x_x____________________________________\n",
    "\n",
    "______________________________________x_x_x_x_x_x_x_x_x_x_x_x_x_x_x______________________________________\n",
    "\n",
    "________________________________________x_x_x_x_x_x_x_x_x_x_x_x_x________________________________________\n",
    "\n",
    "__________________________________________x_x_x_x_x_x_x_x_x_x_x__________________________________________\n",
    "\n",
    "____________________________________________x_x_x_x_x_x_x_x_x____________________________________________\n",
    "\n",
    "______________________________________________x_x_x_x_x_x_x______________________________________________\n",
    "\n",
    "________________________________________________x_x_x_x_x________________________________________________\n",
    "\n",
    "__________________________________________________x_x_x__________________________________________________\n",
    "\n",
    "____________________________________________________x____________________________________________________\n"
   ]
  },
  {
   "cell_type": "code",
   "execution_count": 5,
   "metadata": {
    "scrolled": false
   },
   "outputs": [
    {
     "name": "stdout",
     "output_type": "stream",
     "text": [
      "ENTER THE DEPTH: 3\n",
      "ENTER THE LIQUID OF VALUE('.' or ',' or '-' or '_'): _\n",
      "ENTER THE ATOM OF THE ATOMS('*' or 'x' or 'o' or '@'): X\n",
      "____X____\n",
      "\n",
      "__X_X_X__\n",
      "\n",
      "X_X_X_X_X\n",
      "\n",
      "__X_X_X__\n",
      "\n",
      "____X____\n",
      "\n"
     ]
    }
   ],
   "source": [
    "n=int(input(\"ENTER THE DEPTH: \"))                                                                         #input for the length or the row of blocks\n",
    "\n",
    "liq=input(\"ENTER THE LIQUID OF VALUE('.' or ',' or '-' or '_'): \")                                        #input for the column style or pattern\n",
    "\n",
    "symbol=input(\"ENTER THE ATOM OF THE ATOMS('*' or 'x' or 'o' or '@'): \")                               #input for the actual diamond or plot made up of or from\n",
    "\n",
    "down=list()\n",
    "downer=-1\n",
    "\n",
    "\n",
    "for i in range(0,(2*n-1)):                                        #loop for the rows counting\n",
    "    if i<=(2*n-1)%n:\n",
    "        temp=list()\n",
    "        for j in range((2*n-1)-(2*i),(2*n-1)+(2*i)+1,2):                                        #loop for the column counting\n",
    "            temp.append(j)\n",
    "        down.append(temp)\n",
    "    else:\n",
    "        downer-=1\n",
    "\n",
    "\n",
    "                                        \n",
    "                                    \n",
    "\n",
    "\n",
    "\n",
    "upperer=0                     #to start from first element of upper list\n",
    "downer=-2                     #to start from second last element of down list\n",
    "lst=0\n",
    "for i in range(2*n-1,0,-1):                                        #plot the diamond on the basis of coordinates in down list\n",
    "    count=0\n",
    "    \n",
    "    for j in range(4*n-3,0,-1):\n",
    "        \n",
    "        if i>=n:                                   #code for the upper half\n",
    "        \n",
    "            if j in down[upperer]:\n",
    "                print(symbol,end='')\n",
    "                \n",
    "            else:\n",
    "                print(liq,end='')                                   #code for the upper half column\n",
    "            \n",
    "        \n",
    "        else:                                   #code for the lower half\n",
    "            if j in down[downer]:\n",
    "                print(symbol,end='')\n",
    "                \n",
    "            else:\n",
    "                print(liq,end='')                                   #code for the lower half column\n",
    "    if i<n:\n",
    "        downer-=1\n",
    "    upperer+=1\n",
    "    \n",
    "    print(\"\\n\")                                   #move to next row\n",
    "    \n"
   ]
  },
  {
   "cell_type": "markdown",
   "metadata": {},
   "source": [
    "# EXPERIMENT 2"
   ]
  },
  {
   "cell_type": "code",
   "execution_count": 2,
   "metadata": {},
   "outputs": [],
   "source": [
    "# importing the necessary libraries\n",
    "import pandas as pd  # for the model training which only requires the dataframe\n",
    "# for the plotting of regression plots,residual plots and distribution plot\n",
    "import matplotlib.pyplot as plt\n",
    "import seaborn as sns  # for the plotting of regression plots\n",
    "from sklearn.linear_model import LinearRegression  # for the linear model"
   ]
  },
  {
   "cell_type": "code",
   "execution_count": 3,
   "metadata": {},
   "outputs": [],
   "source": [
    "# importing the dataset\n",
    "dataset = open(\"csv/salary_data.csv\")"
   ]
  },
  {
   "cell_type": "code",
   "execution_count": 4,
   "metadata": {},
   "outputs": [],
   "source": [
    "# counting the number of features (column) in the dataset\n",
    "col_names = dataset.readline()  # reading the row that contain column name\n",
    "num_of_col = col_names.count(\",\")+1"
   ]
  },
  {
   "cell_type": "code",
   "execution_count": 5,
   "metadata": {
    "scrolled": false
   },
   "outputs": [],
   "source": [
    "# the raw data from which we will extract the required data\n",
    "data_raw = dataset.readlines()\n",
    "\n",
    "# now we will get data for each column\n",
    "required_data = dict()  # first we create dictionary to seperate values of each feature\n",
    "for col in range(num_of_col):\n",
    "    required_data[\"col\"+str(col)] = []\n",
    "\n",
    "# removing unnecessary data (like '\\n' or ',' which are seperating the values in csv )\n",
    "for row in data_raw:\n",
    "    row = row.rstrip(\"\\n\")\n",
    "    row_val = row.split(\",\")\n",
    "    for i in range(len(row_val)):\n",
    "        # now seprating values of each feature\n",
    "        required_data[\"col\"+str(i)].append(float(row_val[i]))"
   ]
  },
  {
   "cell_type": "code",
   "execution_count": 6,
   "metadata": {},
   "outputs": [],
   "source": [
    "# now we will make the series of our to train our model\n",
    "for col in range(num_of_col):\n",
    "    required_data[\"col\"+str(col)] = pd.DataFrame(required_data[\"col\"+str(col)])"
   ]
  },
  {
   "cell_type": "code",
   "execution_count": 7,
   "metadata": {},
   "outputs": [
    {
     "data": {
      "text/plain": [
       "array([[ 36187.15875227],\n",
       "       [ 38077.15121656],\n",
       "       [ 39967.14368085],\n",
       "       [ 44692.12484158],\n",
       "       [ 46582.11730587],\n",
       "       [ 53197.09093089],\n",
       "       [ 54142.08716303],\n",
       "       [ 56032.07962732],\n",
       "       [ 56032.07962732],\n",
       "       [ 60757.06078805],\n",
       "       [ 62647.05325234],\n",
       "       [ 63592.04948449],\n",
       "       [ 63592.04948449],\n",
       "       [ 64537.04571663],\n",
       "       [ 68317.03064522],\n",
       "       [ 72097.0155738 ],\n",
       "       [ 73987.00803809],\n",
       "       [ 75877.00050238],\n",
       "       [ 81546.97789525],\n",
       "       [ 82491.9741274 ],\n",
       "       [ 90051.94398456],\n",
       "       [ 92886.932681  ],\n",
       "       [100446.90253816],\n",
       "       [103281.8912346 ],\n",
       "       [108006.87239533],\n",
       "       [110841.86109176],\n",
       "       [115566.84225249],\n",
       "       [116511.83848464],\n",
       "       [123126.81210966],\n",
       "       [125016.80457395]])"
      ]
     },
     "execution_count": 7,
     "metadata": {},
     "output_type": "execute_result"
    }
   ],
   "source": [
    "# now we create,train and then predict our dataset\n",
    "lm = LinearRegression()\n",
    "lm.fit(required_data[\"col0\"], required_data[\"col1\"])\n",
    "pred = lm.predict(required_data[\"col0\"])\n",
    "pred"
   ]
  },
  {
   "cell_type": "code",
   "execution_count": 8,
   "metadata": {},
   "outputs": [],
   "source": [
    "# finding the coefficient(slope) for the linear model\n",
    "slope = lm.coef_\n",
    "# finding the intercept for the linear model\n",
    "intercept = lm.intercept_"
   ]
  },
  {
   "cell_type": "code",
   "execution_count": 9,
   "metadata": {},
   "outputs": [
    {
     "name": "stdout",
     "output_type": "stream",
     "text": [
      "the equation is: Y=9449.962321455074X + 25792.20019866871\n"
     ]
    }
   ],
   "source": [
    "# hence the linear equation\n",
    "print(\"the equation is: Y=\", slope[0, 0], \"X + \", intercept[0], sep='')"
   ]
  },
  {
   "cell_type": "code",
   "execution_count": 10,
   "metadata": {},
   "outputs": [
    {
     "data": {
      "text/plain": [
       "<AxesSubplot:xlabel='0', ylabel='0'>"
      ]
     },
     "execution_count": 10,
     "metadata": {},
     "output_type": "execute_result"
    },
    {
     "data": {
      "image/png": "[encoded data removed]",
      "text/plain": [
       "<Figure size 432x288 with 1 Axes>"
      ]
     },
     "metadata": {
      "needs_background": "light"
     },
     "output_type": "display_data"
    }
   ],
   "source": [
    "# now we plot the regression\n",
    "sns.regplot(x=required_data[\"col0\"],\n",
    "            y=required_data[\"col0\"], data=required_data)"
   ]
  },
  {
   "cell_type": "code",
   "execution_count": 11,
   "metadata": {},
   "outputs": [
    {
     "name": "stderr",
     "output_type": "stream",
     "text": [
      "/home/dhanola/anaconda3/lib/python3.8/site-packages/seaborn/_decorators.py:36: FutureWarning: Pass the following variables as keyword args: x, y. From version 0.12, the only valid positional argument will be `data`, and passing other arguments without an explicit keyword will result in an error or misinterpretation.\n",
      "  warnings.warn(\n"
     ]
    },
    {
     "data": {
      "text/plain": [
       "<AxesSubplot:xlabel='0', ylabel='0'>"
      ]
     },
     "execution_count": 11,
     "metadata": {},
     "output_type": "execute_result"
    },
    {
     "data": {
      "image/png": "[encoded data removed]",
      "text/plain": [
       "<Figure size 432x288 with 1 Axes>"
      ]
     },
     "metadata": {
      "needs_background": "light"
     },
     "output_type": "display_data"
    }
   ],
   "source": [
    "# now we plot the residual\n",
    "sns.residplot(required_data[\"col0\"], required_data[\"col0\"])"
   ]
  },
  {
   "cell_type": "code",
   "execution_count": 12,
   "metadata": {
    "scrolled": false
   },
   "outputs": [
    {
     "name": "stderr",
     "output_type": "stream",
     "text": [
      "/home/dhanola/anaconda3/lib/python3.8/site-packages/seaborn/distributions.py:2551: FutureWarning: `distplot` is a deprecated function and will be removed in a future version. Please adapt your code to use either `displot` (a figure-level function with similar flexibility) or `kdeplot` (an axes-level function for kernel density plots).\n",
      "  warnings.warn(msg, FutureWarning)\n",
      "/home/dhanola/anaconda3/lib/python3.8/site-packages/seaborn/distributions.py:2551: FutureWarning: `distplot` is a deprecated function and will be removed in a future version. Please adapt your code to use either `displot` (a figure-level function with similar flexibility) or `kdeplot` (an axes-level function for kernel density plots).\n",
      "  warnings.warn(msg, FutureWarning)\n"
     ]
    },
    {
     "data": {
      "text/plain": [
       "<AxesSubplot:ylabel='Density'>"
      ]
     },
     "execution_count": 12,
     "metadata": {},
     "output_type": "execute_result"
    },
    {
     "data": {
      "image/png": "[encoded data removed]",
      "text/plain": [
       "<Figure size 432x288 with 1 Axes>"
      ]
     },
     "metadata": {
      "needs_background": "light"
     },
     "output_type": "display_data"
    }
   ],
   "source": [
    "# now we plot the distribution\n",
    "ax1 = sns.distplot(required_data[\"col1\"], hist=False, color=\"r\",\n",
    "                   label=\"Actual Values of The Data Frame\")\n",
    "sns.distplot(pred, hist=False, color=\"b\",\n",
    "             label=\"Values used for tejh fitting of the model\", ax=ax1)"
   ]
  },
  {
   "cell_type": "markdown",
   "metadata": {},
   "source": [
    "# python"
   ]
  },
  {
   "cell_type": "code",
   "execution_count": null,
   "metadata": {},
   "outputs": [],
   "source": []
  }
 ],
 "metadata": {
  "kernelspec": {
   "display_name": "Python 3",
   "language": "python",
   "name": "python3"
  },
  "language_info": {
   "codemirror_mode": {
    "name": "ipython",
    "version": 3
   },
   "file_extension": ".py",
   "mimetype": "text/x-python",
   "name": "python",
   "nbconvert_exporter": "python",
   "pygments_lexer": "ipython3",
   "version": "3.8.5"
  }
 },
 "nbformat": 4,
 "nbformat_minor": 4
}
