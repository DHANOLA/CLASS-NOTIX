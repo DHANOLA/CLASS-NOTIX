{
 "cells": [
  {
   "cell_type": "markdown",
   "metadata": {},
   "source": [
    "# EXPERIMENT NO 9"
   ]
  },
  {
   "cell_type": "markdown",
   "metadata": {},
   "source": [
    "# Kalman Filtering using python"
   ]
  },
  {
   "cell_type": "code",
   "execution_count": 22,
   "metadata": {},
   "outputs": [],
   "source": [
    "#\n",
    "# Implements a single-variable linear Kalman filter.\n",
    "#\n",
    "import random\n",
    "import numpy\n",
    "import pylab\n"
   ]
  },
  {
   "cell_type": "code",
   "execution_count": 23,
   "metadata": {},
   "outputs": [],
   "source": [
    "# Implements a linear Kalman filter.\n",
    "class KalmanFilterLinear:\n",
    "    def __init__ (self,_A, _B, _H, _x, _P, _Q, _R):\n",
    "        self.A = _A # State transition matrix.\n",
    "        self.B = _B # Control matrix.\n",
    "        self.H = _H # Observation matrix.\n",
    "        self.current_state_estimate = _x # Initial state estimate.\n",
    "        self.current_prob_estimate = _P # Initial covariance estimate.\n",
    "        self.Q = _Q # Estimated error in process.\n",
    "        self.R = _R # Estimated error in measurements.\n",
    "        \n",
    "    def GetCurrentState(self):\n",
    "        return self.current_state_estimate\n",
    "\n",
    "    def Step(self,control_vector,measurement_vector):\n",
    "    #------------------------------Prediction step--------------------------------------------------------------\n",
    "        predicted_state_estimate = self.A * self.current_state_estimate + self.B *control_vector\n",
    "        predicted_prob_estimate = (self.A * self.current_prob_estimate) *numpy.transpose(self.A) + self.Q\n",
    "\n",
    "\n",
    "    #------------------------------Observation step-------------------------------------------------------------\n",
    "        innovation = measurement_vector - self.H*predicted_state_estimate\n",
    "        innovation_covariance =self.H*predicted_prob_estimate*numpy.transpose(self.H) + self.R\n",
    "    \n",
    "    #------------------------------Update step------------------------------------------------------------------\n",
    "        kalman_gain = predicted_prob_estimate * numpy.transpose(self.H) *numpy.linalg.inv(innovation_covariance)\n",
    "        self.current_state_estimate = predicted_state_estimate + kalman_gain *innovation\n",
    "        # We need the size of the matrix so we can make an identity matrix.\n",
    "        size = self.current_prob_estimate.shape[0]\n",
    "        # eye(n) = nxn identity matrix.\n",
    "        self.current_prob_estimate = (numpy.eye(size)-kalman_gain*self.H)*predicted_prob_estimate\n",
    "        "
   ]
  },
  {
   "cell_type": "code",
   "execution_count": 24,
   "metadata": {},
   "outputs": [],
   "source": [
    "class Voltmeter:\n",
    "    def __init__(self,_truevoltage,_noiselevel):\n",
    "        self.truevoltage = _truevoltage\n",
    "        self.noiselevel = _noiselevel\n",
    "    \n",
    "    def GetVoltage(self):\n",
    "        return self.truevoltage\n",
    "\n",
    "    def GetVoltageWithNoise(self):\n",
    "        return random.gauss(self.GetVoltage(),self.noiselevel)\n",
    "\n"
   ]
  },
  {
   "cell_type": "code",
   "execution_count": 25,
   "metadata": {},
   "outputs": [],
   "source": [
    "numsteps = 60\n",
    "A = numpy.matrix([1])\n",
    "H = numpy.matrix([1])\n",
    "B = numpy.matrix([0])\n",
    "Q = numpy.matrix([0.00001])\n",
    "R = numpy.matrix([0.1])\n",
    "xhat = numpy.matrix([3])\n",
    "P = numpy.matrix([1])\n",
    "\n",
    "filter = KalmanFilterLinear(A,B,H,xhat,P,Q,R)\n",
    "voltmeter = Voltmeter(1.25,0.25)\n",
    "measuredvoltage = []\n",
    "truevoltage = []\n",
    "kalman = []\n",
    "\n",
    "for i in range(numsteps):\n",
    "    measured = voltmeter.GetVoltageWithNoise()\n",
    "    measuredvoltage.append(measured)\n",
    "    truevoltage.append(voltmeter.GetVoltage())\n",
    "    kalman.append(filter.GetCurrentState()[0,0])\n",
    "    filter.Step(numpy.matrix([0]),numpy.matrix([measured]))\n",
    "    "
   ]
  },
  {
   "cell_type": "code",
   "execution_count": 26,
   "metadata": {},
   "outputs": [
    {
     "data": {
      "image/png": "[encoded data removed]",
      "text/plain": [
       "<Figure size 432x288 with 1 Axes>"
      ]
     },
     "metadata": {
      "needs_background": "light"
     },
     "output_type": "display_data"
    }
   ],
   "source": [
    "pylab.plot(range(numsteps),measuredvoltage,'b',range(numsteps),truevoltage,'r',\n",
    "range(numsteps),kalman,'g')\n",
    "pylab.xlabel('Time')\n",
    "pylab.ylabel('Voltage')\n",
    "pylab.title('Voltage Measurement with Kalman Filter')\n",
    "pylab.legend(('measured','true voltage','kalman'))\n",
    "pylab.show()"
   ]
  },
  {
   "cell_type": "code",
   "execution_count": null,
   "metadata": {},
   "outputs": [],
   "source": []
  }
 ],
 "metadata": {
  "kernelspec": {
   "display_name": "Python 3",
   "language": "python",
   "name": "python3"
  },
  "language_info": {
   "codemirror_mode": {
    "name": "ipython",
    "version": 3
   },
   "file_extension": ".py",
   "mimetype": "text/x-python",
   "name": "python",
   "nbconvert_exporter": "python",
   "pygments_lexer": "ipython3",
   "version": "3.8.5"
  }
 },
 "nbformat": 4,
 "nbformat_minor": 4
}
