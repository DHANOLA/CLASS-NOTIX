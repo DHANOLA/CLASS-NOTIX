{
 "cells": [
  {
   "cell_type": "markdown",
   "metadata": {
    "id": "W0vBYmlwiEWX"
   },
   "source": [
    "# EXPERIMENT NO 5"
   ]
  },
  {
   "cell_type": "markdown",
   "metadata": {
    "id": "8-7EKpmQkq2B"
   },
   "source": [
    " # Hill Climbing using python"
   ]
  },
  {
   "cell_type": "code",
   "execution_count": 1,
   "metadata": {
    "id": "zXLnhhCfiEW4"
   },
   "outputs": [],
   "source": [
    "import random\n",
    "import math\n",
    "import time\n"
   ]
  },
  {
   "cell_type": "code",
   "execution_count": 2,
   "metadata": {
    "id": "SRgJbbISiEW-"
   },
   "outputs": [],
   "source": [
    "#Three cost functions are described in the project guidelines\n",
    "\n",
    "def cost1(x,y):\n",
    "    if x==y:\n",
    "        return 0\n",
    "    elif x<3 and y<3:\n",
    "        return 1\n",
    "    elif x<3:\n",
    "        return 200\n",
    "    elif y<3:\n",
    "        return 200\n",
    "    elif (x%7)==(y%7):\n",
    "        return 2\n",
    "    else:\n",
    "        return abs(x-y)+3\n",
    "    return\n"
   ]
  },
  {
   "cell_type": "code",
   "execution_count": 3,
   "metadata": {
    "id": "phAKWLViiEXA"
   },
   "outputs": [],
   "source": [
    "def cost2(x,y):\n",
    "    if x==y:\n",
    "        return 0\n",
    "    elif (x+y)<10:\n",
    "        return abs(x-y)+4\n",
    "    elif [(x+y)%11]==0:\n",
    "        return 3\n",
    "    else:\n",
    "        return abs(x-y)**2+10\n",
    "    return\n",
    "\n",
    "\n",
    "def cost3(x,y):\n",
    "    if x==y:\n",
    "        return 0\n",
    "    else:\n",
    "        return (x+y)**2\n",
    "    return\n"
   ]
  },
  {
   "cell_type": "code",
   "execution_count": 4,
   "metadata": {
    "id": "fytV7jfniEXB"
   },
   "outputs": [],
   "source": [
    "#function that returns a random path given a total number of cities\n",
    "\n",
    "def random_path(no_cities,seed1):\n",
    "    tour=list(range(no_cities))\n",
    "    random.seed(seed1)\n",
    "    random.shuffle(tour)\n",
    "    return tour\n",
    "\n",
    "#Given a list of cities, calculates the cost of the tour\n",
    "def tour_cost(tours,cost_fun):\n",
    "    total_cost =0\n",
    "    cost_i=0\n",
    "    n=len(tours)\n",
    "    for i,city in enumerate(tours):\n",
    "        if i==n-1:\n",
    "            if(cost_fun==\"c1\"):\n",
    "                cost_i = cost1(tours[i],tours[0])\n",
    "            if(cost_fun==\"c2\"):\n",
    "                cost_i = cost2(tours[i],tours[0])\n",
    "            if(cost_fun==\"c3\"):\n",
    "                cost_i = cost3(tours[i],tours[0])\n",
    "            total_cost=total_cost+cost_i\n",
    "        else:\n",
    "            if(cost_fun==\"c1\"):\n",
    "                cost_i = cost1(tours[i],tours[i+1])\n",
    "            if(cost_fun==\"c2\"):\n",
    "                cost_i = cost2(tours[i],tours[i+1])\n",
    "            if(cost_fun==\"c3\"):\n",
    "                cost_i = cost3(tours[i],tours[i+1])\n",
    "            total_cost=total_cost+cost_i\n",
    "    return total_cost\n",
    "\n"
   ]
  },
  {
   "cell_type": "code",
   "execution_count": 5,
   "metadata": {
    "id": "uwIXhEtKiEXD"
   },
   "outputs": [],
   "source": [
    "# mutation operator that swaps two cities randomly to create a new path\n",
    "def mutation_operator(tours):\n",
    "    r1= list(range(len(tours)))\n",
    "    r2= list(range(len(tours)))\n",
    "    random.shuffle(r1)\n",
    "    random.shuffle(r2)\n",
    "    for i in r1:\n",
    "        for j in r2:\n",
    "            if i < j:\n",
    "                next_state =tours[:]\n",
    "                next_state[i],next_state[j]=tours[j],tours[i]\n",
    "                yield next_state\n",
    "                \n",
    "#probabilistically choosing a neighbour\n",
    "def Probability_acceptance(prev_score,next_score,temperature):\n",
    "    if next_score < prev_score:\n",
    "        return 1.0\n",
    "    elif temperature == 0:\n",
    "        return 0.0\n",
    "    else:\n",
    "        return math.exp( -abs(next_score-prev_score)/temperature )\n",
    "        "
   ]
  },
  {
   "cell_type": "code",
   "execution_count": 6,
   "metadata": {
    "id": "eKrFEJdOiEXE"
   },
   "outputs": [],
   "source": [
    "#The cooling schedule based on kirkpatrick model\n",
    "def cooling_schedule(start_temp,cooling_constant):\n",
    "    T=start_temp\n",
    "    while True:\n",
    "        yield T\n",
    "        T= cooling_constant*T\n",
    "\n",
    "#This function implements randomized hill climbing for TSP\n",
    "def randomized_hill_climbing(no_cities,cost_func,MEB,seed1):\n",
    "    best_path=random_path(no_cities,seed1)\n",
    "    best_cost = tour_cost(best_path,cost_func)\n",
    "    evaluations_count=1\n",
    "    while evaluations_count < MEB:\n",
    "        for next_city in mutation_operator(best_path):\n",
    "            if evaluations_count == MEB:\n",
    "                break\n",
    "            str1 = ''.join(str(e) for e in next_city)\n",
    "            \n",
    "            #Skip calculating the cost of repeated paths\n",
    "            if str1 in dict:\n",
    "                evaluations_count+=1\n",
    "                continue\n",
    "            next_tCost=tour_cost(next_city,cost_func)\n",
    "            \n",
    "            #store it in the dictionary\n",
    "            dict[str1] = next_tCost\n",
    "            evaluations_count+=1\n",
    "            \n",
    "            #selecting the path with lowest cost\n",
    "            if next_tCost < best_cost:\n",
    "                best_path=next_city\n",
    "                best_cost=next_tCost\n",
    "    return best_cost,best_path,evaluations_count\n"
   ]
  },
  {
   "cell_type": "code",
   "execution_count": 7,
   "metadata": {
    "id": "3wiPSrCmiEXG"
   },
   "outputs": [],
   "source": [
    "#This function implements simulated annealing for TSP\n",
    "def simulated_annealing(no_cities,cost_func,MEB,seed1):\n",
    "    start_temp=70\n",
    "    cooling_constant=0.9995\n",
    "    best_path = None\n",
    "    best_cost = None\n",
    "    current_path=random_path(int(no_cities),seed1)\n",
    "    current_cost=tour_cost(current_path,cost_func)\n",
    "    if best_path is None or current_cost < best_cost:\n",
    "        best_cost = current_cost\n",
    "        best_path = current_path\n",
    "    num_evaluations=1\n",
    "    temp_schedule=cooling_schedule(start_temp,cooling_constant)\n",
    "    for temperature in temp_schedule:\n",
    "        flag = False\n",
    "        \n",
    "        #examinning moves around our current path\n",
    "        for next_path in mutation_operator(current_path):\n",
    "            if num_evaluations == MEB:\n",
    "                #print \"reached meb\"\n",
    "                flag=True\n",
    "                break\n",
    "            next_cost=tour_cost(next_path,cost_func)\n",
    "            if best_path is None or next_cost < best_cost:\n",
    "                best_cost = next_cost\n",
    "                best_path = next_path\n",
    "            num_evaluations+=1\n",
    "            p=Probability_acceptance(current_cost,next_cost,temperature)\n",
    "            if random.random() < p:\n",
    "                current_path=next_path\n",
    "                current_cost=next_cost\n",
    "                break\n",
    "        if flag:\n",
    "            break\n",
    "    return best_path,best_cost,num_evaluations\n"
   ]
  },
  {
   "cell_type": "code",
   "execution_count": 8,
   "metadata": {
    "colab": {
     "base_uri": "https://localhost:8080/"
    },
    "id": "V3XEU62ciEXI",
    "outputId": "9b813723-0b23-4c8a-cffd-13d0b8fa8bf1",
    "scrolled": true
   },
   "outputs": [
    {
     "name": "stdout",
     "output_type": "stream",
     "text": [
      "Enter number of cities \n",
      "50\n",
      "Enter MEB \n",
      "2000000\n",
      "Enter the cost function \n",
      " Enter either c1 or c2 or c3\n",
      "c2\n",
      "enter the seed \n",
      "28\n",
      "Enter the search strategy \n",
      " 1 for simple \n",
      " 2 for SOPH \n",
      "1\n",
      "The cost of best solution [1, 8, 13, 19, 24, 30, 36, 40, 41, 42, 44, 45, 47, 49, 48, 46, 43, 39, 33, 27, 22, 18, 15, 16, 20, 23, 26, 29, 32, 35, 38, 37, 34, 31, 28, 25, 21, 17, 14, 12, 11, 10, 9, 7, 6, 3, 4, 5, 2, 0]\n",
      "The Path of best solution 978\n",
      "The Value of MEB count 2000000\n",
      "********** %s seconds********* 34.232844829559326\n",
      "Do you want to run this program again? yes or no?\n",
      "no\n"
     ]
    }
   ],
   "source": [
    "keeprunning=True\n",
    "while keeprunning:\n",
    "    no_cities=int(input(\"Enter number of cities \\n\"))\n",
    "    MEB=int(input(\"Enter MEB \\n\"))\n",
    "    dict={}\n",
    "    cost_func=input(\"Enter the cost function \\n Enter either c1 or c2 or c3\\n\")\n",
    "    seed1=int(input(\"enter the seed \\n\"))\n",
    "    search_strat=int(input(\"Enter the search strategy \\n 1 for simple \\n 2 for SOPH \\n\"))\n",
    "    start_time=time.time()\n",
    "    if(search_strat==1):\n",
    "        print(\"This is the output of randomized hill climbing - Simple Search\\n\", file=open(\"2runs.txt\", \"a\"))\n",
    "        best_path,best_cost,num_evaluations=randomized_hill_climbing(no_cities,cost_func,MEB,seed1)\n",
    "    elif(search_strat==2):\n",
    "        print(\"This is the output of simulated annealing - Sophisticated Search\\n\", file=open(\"2runs.txt\", \"a\"))\n",
    "        best_path,best_cost,num_evaluations=simulated_annealing(no_cities,cost_func,MEB,seed1)\n",
    "    else:\n",
    "        print(\"Please enter a valid option either 1 or 2 !!\")\n",
    "        break\n",
    "    print (\"The cost of best solution\",best_cost)\n",
    "    print (\"The Path of best solution\",best_path)\n",
    "    print (\"The Value of MEB count\",num_evaluations)\n",
    "    print(\"********** %s seconds*********\",(time.time()-start_time))\n",
    "    print(\"The cost of best Solution\",best_cost, file=open(\"2runs.txt\", \"a\"))\n",
    "    print(\"The path of best solution\",best_path, file=open(\"2runs.txt\", \"a\"))\n",
    "    print(\"Value of MEB count is \",num_evaluations, file=open(\"2runs.txt\",\"a\"))\n",
    "    print(\"********** %s seconds*********\",(time.time()-start_time),\n",
    "    file=open(\"2runs.txt\", \"a\"))\n",
    "    stop=input(\"Do you want to run this program again? yes or no?\\n\")\n",
    "    if stop==\"no\":\n",
    "        keeprunning=False\n",
    "        break"
   ]
  },
  {
   "cell_type": "markdown",
   "metadata": {},
   "source": [
    "# "
   ]
  }
 ],
 "metadata": {
  "accelerator": "TPU",
  "colab": {
   "collapsed_sections": [],
   "name": "EXPERIMENT NO 5.ipynb",
   "provenance": []
  },
  "kernelspec": {
   "display_name": "Python 3",
   "language": "python",
   "name": "python3"
  },
  "language_info": {
   "codemirror_mode": {
    "name": "ipython",
    "version": 3
   },
   "file_extension": ".py",
   "mimetype": "text/x-python",
   "name": "python",
   "nbconvert_exporter": "python",
   "pygments_lexer": "ipython3",
   "version": "3.8.5"
  }
 },
 "nbformat": 4,
 "nbformat_minor": 1
}
