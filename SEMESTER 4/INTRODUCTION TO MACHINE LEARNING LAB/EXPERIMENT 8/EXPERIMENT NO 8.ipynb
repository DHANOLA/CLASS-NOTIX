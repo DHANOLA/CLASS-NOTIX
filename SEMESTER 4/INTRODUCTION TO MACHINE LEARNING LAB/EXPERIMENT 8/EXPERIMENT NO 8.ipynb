{
 "cells": [
  {
   "cell_type": "markdown",
   "id": "2e8635b9",
   "metadata": {},
   "source": [
    "# EXPERIMENT NO 8"
   ]
  },
  {
   "cell_type": "markdown",
   "id": "b78dfcdf",
   "metadata": {},
   "source": [
    "###### K-NEAREST NEIGHBOURS ALGORITH IMPLEMENTATION ON\n",
    "###### BREAST CANCER DATA"
   ]
  },
  {
   "cell_type": "code",
   "execution_count": 1,
   "id": "6b9d76fa",
   "metadata": {},
   "outputs": [],
   "source": [
    "from matplotlib.colors import ListedColormap\n",
    "import matplotlib.pyplot as plt\n",
    "import numpy as np\n",
    "import warnings\n",
    "from collections import Counter\n",
    "import pandas as pd\n",
    "import random\n"
   ]
  },
  {
   "cell_type": "code",
   "execution_count": 2,
   "id": "0b04ea84",
   "metadata": {},
   "outputs": [],
   "source": [
    "def k_nearest_neighbors(data,predict,k=3):\n",
    "    if(len(data)>=k):\n",
    "        warnings.warn('K is set to a value less than total voting groups!')\n",
    "    distances=[]\n",
    "    for group in data:\n",
    "        for features in data[group]:\n",
    "            euclidean_distance=np.linalg.norm(np.array(features)-np.array(predict))\n",
    "            distances.append([euclidean_distance,group])\n",
    "        \n",
    "    votes=[i[1] for i in sorted(distances)[:k]]\n",
    "    vote_result=Counter(votes).most_common(1)[0][0]\n",
    "    return vote_result,distances,votes\n",
    "\n",
    "def read_train():\n",
    "    df=pd.read_csv('EXPERIMENT 8.csv')\n",
    "    print('Loaded Dataset:\\n',df)\n",
    "    df.replace(\"?\",-99999,inplace=True)\n",
    "    df.drop(['id'],1,inplace=True)\n",
    "    full_data=df.astype(float).values.tolist()\n",
    "    \n",
    "    random.shuffle(full_data)\n",
    "    \n",
    "    test_size=.2\n",
    "    train_set={2:[],4:[]}\n",
    "    test_set={2:[],4:[]}\n",
    "    train_data=full_data[:-int(test_size*len(full_data))]\n",
    "    test_data=full_data[-int(test_size*len(full_data)):]\n",
    "    print(train_data[:10])\n",
    "    print(test_data[:10])\n",
    "    \n",
    "    for i in train_data:\n",
    "        train_set[i[-1]].append(i[:-1])\n",
    "    for i in test_data:\n",
    "        test_set[i[-1]].append(i[:-1])\n",
    "    \n",
    "    return train_set,test_set\n"
   ]
  },
  {
   "cell_type": "code",
   "execution_count": 3,
   "id": "b05c1ad8",
   "metadata": {},
   "outputs": [],
   "source": [
    "def accuracy_calc(train_set,test_set):\n",
    "    correct=0\n",
    "    total=0\n",
    "    \n",
    "    for group in test_set:\n",
    "        for data in test_set[group]:\n",
    "            vote,distances,votes=k_nearest_neighbors(train_set,data,k=5)\n",
    "            if group==vote:\n",
    "                correct+=1\n",
    "            total+=1\n",
    "    print('Correct Predictions:',correct)\n",
    "    print('Total:',total)\n",
    "    print('Accuracy:',correct/total)\n",
    "    \n",
    "    return distances\n",
    "\n",
    "def plotting(distances):\n",
    "    col=lambda val:0 if val==2 else 1\n",
    "    #random.shuffle(distances)\n",
    "    for i,j in enumerate(distances):\n",
    "        l=lambda j: 0 if(j==2) else 1\n",
    "        plt.scatter(i,j[1],c=np.atleast_2d(ListedColormap(('black','red'))(l(j[1]))),label=j[1])\n",
    "    \n",
    "    plt.show()\n",
    "    "
   ]
  },
  {
   "cell_type": "code",
   "execution_count": 4,
   "id": "ef262334",
   "metadata": {
    "scrolled": false
   },
   "outputs": [
    {
     "name": "stdout",
     "output_type": "stream",
     "text": [
      "Loaded Dataset:\n",
      "           id  clump_thickness  size_uniformity  shape_uniformity  \\\n",
      "0    1000025                5                1                 1   \n",
      "1    1002945                5                4                 4   \n",
      "2    1015425                3                1                 1   \n",
      "3    1016277                6                8                 8   \n",
      "4    1017023                4                1                 1   \n",
      "..       ...              ...              ...               ...   \n",
      "694   776715                3                1                 1   \n",
      "695   841769                2                1                 1   \n",
      "696   888820                5               10                10   \n",
      "697   897471                4                8                 6   \n",
      "698   897471                4                8                 8   \n",
      "\n",
      "     marginal_adhesion  epithelial_size bare_nucleoli  bland_chromatin  \\\n",
      "0                    1                2             1                3   \n",
      "1                    5                7            10                3   \n",
      "2                    1                2             2                3   \n",
      "3                    1                3             4                3   \n",
      "4                    3                2             1                3   \n",
      "..                 ...              ...           ...              ...   \n",
      "694                  1                3             2                1   \n",
      "695                  1                2             1                1   \n",
      "696                  3                7             3                8   \n",
      "697                  4                3             4               10   \n",
      "698                  5                4             5               10   \n",
      "\n",
      "     normal_nucleoli  mitoses  Class  \n",
      "0                  1        1      2  \n",
      "1                  2        1      2  \n",
      "2                  1        1      2  \n",
      "3                  7        1      2  \n",
      "4                  1        1      2  \n",
      "..               ...      ...    ...  \n",
      "694                1        1      2  \n",
      "695                1        1      2  \n",
      "696               10        2      4  \n",
      "697                6        1      4  \n",
      "698                4        1      4  \n",
      "\n",
      "[699 rows x 11 columns]\n",
      "[[4.0, 3.0, 3.0, 1.0, 2.0, 1.0, 3.0, 3.0, 1.0, 2.0], [5.0, 2.0, 2.0, 2.0, 3.0, 1.0, 1.0, 3.0, 1.0, 2.0], [8.0, 7.0, 6.0, 4.0, 4.0, 10.0, 5.0, 1.0, 1.0, 4.0], [3.0, 1.0, 1.0, 1.0, 2.0, 1.0, 2.0, 3.0, 1.0, 2.0], [1.0, 1.0, 1.0, 1.0, 2.0, 1.0, 1.0, 1.0, 1.0, 2.0], [2.0, 1.0, 1.0, 1.0, 2.0, 1.0, 1.0, 1.0, 1.0, 2.0], [5.0, 10.0, 10.0, 10.0, 6.0, 10.0, 6.0, 5.0, 2.0, 4.0], [3.0, 10.0, 7.0, 8.0, 5.0, 8.0, 7.0, 4.0, 1.0, 4.0], [10.0, 6.0, 6.0, 2.0, 4.0, 10.0, 9.0, 7.0, 1.0, 4.0], [7.0, 5.0, 3.0, 7.0, 4.0, 10.0, 7.0, 5.0, 5.0, 4.0]]\n",
      "[[7.0, 5.0, 10.0, 10.0, 10.0, 10.0, 4.0, 10.0, 3.0, 4.0], [3.0, 4.0, 4.0, 10.0, 5.0, 1.0, 3.0, 3.0, 1.0, 4.0], [4.0, 2.0, 1.0, 1.0, 2.0, 1.0, 2.0, 1.0, 1.0, 2.0], [5.0, 1.0, 2.0, 1.0, 2.0, 1.0, 1.0, 1.0, 1.0, 2.0], [10.0, 3.0, 3.0, 1.0, 2.0, 10.0, 7.0, 6.0, 1.0, 4.0], [1.0, 1.0, 1.0, 1.0, 2.0, 1.0, 1.0, 1.0, 1.0, 2.0], [3.0, 2.0, 1.0, 1.0, 1.0, 1.0, 2.0, 1.0, 1.0, 2.0], [10.0, 4.0, 4.0, 10.0, 2.0, 10.0, 5.0, 3.0, 3.0, 4.0], [5.0, 5.0, 7.0, 8.0, 6.0, 10.0, 7.0, 4.0, 1.0, 4.0], [8.0, 7.0, 8.0, 5.0, 10.0, 10.0, 7.0, 2.0, 1.0, 4.0]]\n"
     ]
    },
    {
     "name": "stderr",
     "output_type": "stream",
     "text": [
      "C:\\Users\\HP\\AppData\\Local\\Temp/ipykernel_17820/4129297613.py:18: FutureWarning: In a future version of pandas all arguments of DataFrame.drop except for the argument 'labels' will be keyword-only\n",
      "  df.drop(['id'],1,inplace=True)\n"
     ]
    },
    {
     "name": "stdout",
     "output_type": "stream",
     "text": [
      "Correct Predictions: 135\n",
      "Total: 139\n",
      "Accuracy: 0.9712230215827338\n"
     ]
    },
    {
     "data": {
      "image/png": "[encoded data removed]",
      "text/plain": [
       "<Figure size 432x288 with 1 Axes>"
      ]
     },
     "metadata": {
      "needs_background": "light"
     },
     "output_type": "display_data"
    }
   ],
   "source": [
    "train_set,test_set=read_train()\n",
    "distances=accuracy_calc(train_set,test_set)\n",
    "plotting(distances)"
   ]
  },
  {
   "cell_type": "markdown",
   "id": "def449e5",
   "metadata": {},
   "source": [
    "# "
   ]
  }
 ],
 "metadata": {
  "kernelspec": {
   "display_name": "Python 3 (ipykernel)",
   "language": "python",
   "name": "python3"
  },
  "language_info": {
   "codemirror_mode": {
    "name": "ipython",
    "version": 3
   },
   "file_extension": ".py",
   "mimetype": "text/x-python",
   "name": "python",
   "nbconvert_exporter": "python",
   "pygments_lexer": "ipython3",
   "version": "3.9.7"
  }
 },
 "nbformat": 4,
 "nbformat_minor": 5
}
