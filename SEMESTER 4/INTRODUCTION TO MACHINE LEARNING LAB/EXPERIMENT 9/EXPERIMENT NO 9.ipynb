{
 "cells": [
  {
   "cell_type": "markdown",
   "id": "19854998",
   "metadata": {},
   "source": [
    "# EXPERIMENT NO 9"
   ]
  },
  {
   "cell_type": "markdown",
   "id": "0d3cd002",
   "metadata": {},
   "source": [
    "##### K NEAREST NEIGHBOURS (KNN) ALGORITHM IMPLEMENTATION"
   ]
  },
  {
   "cell_type": "code",
   "execution_count": 10,
   "id": "67807ac9",
   "metadata": {},
   "outputs": [],
   "source": [
    "import math\n",
    "from random import shuffle\n"
   ]
  },
  {
   "cell_type": "code",
   "execution_count": 11,
   "id": "07e3b1e9",
   "metadata": {},
   "outputs": [],
   "source": [
    "def ReadData(fileName):\n",
    "    f=open(fileName,'r')\n",
    "    lines=f.read().splitlines()\n",
    "    f.close()\n",
    "    features=lines[0].split(',')[:-1]\n",
    "    items=[]\n",
    "    for i in range(1,len(lines)):\n",
    "        line=lines[i].split(',')\n",
    "        itemsFeatures={'Class':line[-1]}\n",
    "        for j in range(len(features)):\n",
    "            f=features[j]\n",
    "            v=float(line[j])\n",
    "            itemsFeatures[f]=v\n",
    "        items.append(itemsFeatures)\n",
    "    shuffle(items)\n",
    "    print('Pulled items from Dataset')\n",
    "    for i in items:\n",
    "        print(i)\n",
    "    return items\n",
    "\n",
    "def EuclideanDistance(x,y):\n",
    "    S=0\n",
    "    for key in x.keys():\n",
    "        S+=math.pow(x[key]-y[key],2)\n",
    "    return math.sqrt(S)\n"
   ]
  },
  {
   "cell_type": "code",
   "execution_count": 12,
   "id": "b360b69a",
   "metadata": {},
   "outputs": [],
   "source": [
    "def CalculateNeighborsClass(neighbors,k):\n",
    "    count={}\n",
    "    for i in range(k):\n",
    "        if neighbors[i][1] not in count:\n",
    "            count[neighbors[i][1]]=1\n",
    "        else:\n",
    "            count[neighbors[i][1]]+=1\n",
    "    return count\n",
    "\n",
    "def FindMax(Dict):\n",
    "    maximum=-1\n",
    "    classification=''\n",
    "    for key in Dict.keys():\n",
    "        if Dict[key]>maximum:\n",
    "            maximum=Dict[key]\n",
    "            classification=key\n",
    "    return (classification,maximum)\n"
   ]
  },
  {
   "cell_type": "code",
   "execution_count": 13,
   "id": "6c2adeda",
   "metadata": {},
   "outputs": [],
   "source": [
    "def Classify(nItem,k,Items):\n",
    "    neighbors=[]\n",
    "    for item in Items:\n",
    "        distance=EuclideanDistance(nItem,item)\n",
    "        neighbors=UpdateNeighbors(neighbors,item,distance,k)\n",
    "    count=CalculateNeighborsClass(neighbors,k)\n",
    "    return FindMax(count)\n",
    "\n",
    "def UpdateNeighbors(neighbors,item,distance,k,):\n",
    "    if len(neighbors)<k:\n",
    "        neighbors.append([distance,item['Class']])\n",
    "        neighbors=sorted(neighbors)\n",
    "    else:\n",
    "        if neighbors[-1][0]>distance:\n",
    "            neighbors[-1]=[distance,item['Class']]\n",
    "            neighbors=sorted(neighbors)\n",
    "    return neighbors\n"
   ]
  },
  {
   "cell_type": "code",
   "execution_count": 14,
   "id": "3727f478",
   "metadata": {},
   "outputs": [],
   "source": [
    "def K_FoldValidation(K,k,Items):\n",
    "    if K>len(Items):\n",
    "        return -1\n",
    "    correct=0\n",
    "    total=len(Items)*(K-1)\n",
    "    l=int(len(Items)/K)\n",
    "    for i in range(K):\n",
    "        trainingSet=Items[i*l:(i+1)*l]\n",
    "        testSet=Items[:i*l]+Items[(i+1)*l:]\n",
    "        for item in testSet:\n",
    "            itemClass=item['Class']\n",
    "            itemFeatures={}\n",
    "            for key in item:\n",
    "                if key!='Class':\n",
    "                    itemFeatures[key]=item[key]\n",
    "            guess=Classify(itemFeatures,k,trainingSet)[0]\n",
    "            if guess==itemClass:\n",
    "                correct+=1\n",
    "    accuracy=correct/float(total)\n",
    "    return accuracy\n",
    "\n",
    "def Evaluate(K,k,items,iterations):\n",
    "    accuracy=0\n",
    "    for i in range(iterations):\n",
    "        shuffle(items)\n",
    "        accuracy+=K_FoldValidation(K,k,items)\n",
    "    print('Accuracy:',accuracy/float(iterations))\n"
   ]
  },
  {
   "cell_type": "code",
   "execution_count": 30,
   "id": "1131f3cd",
   "metadata": {},
   "outputs": [
    {
     "name": "stdout",
     "output_type": "stream",
     "text": [
      "Pulled items from Dataset\n",
      "{'Class': 'Scientist', 'Height': 1.73, 'Weight': 70.0, 'Age': 75.0}\n",
      "{'Class': 'Builder', 'Height': 1.78, 'Weight': 76.0, 'Age': 31.0}\n",
      "{'Class': 'Builder', 'Height': 1.9, 'Weight': 85.0, 'Age': 33.0}\n",
      "{'Class': 'Programmer', 'Height': 1.7, 'Weight': 65.0, 'Age': 20.0}\n",
      "{'Class': 'Programmer', 'Height': 1.75, 'Weight': 69.0, 'Age': 25.0}\n",
      "{'Class': 'Builder', 'Height': 1.81, 'Weight': 75.0, 'Age': 35.0}\n",
      "{'Class': 'Programmer', 'Height': 1.73, 'Weight': 74.0, 'Age': 24.0}\n",
      "{'Class': 'Scientist', 'Height': 1.8, 'Weight': 71.0, 'Age': 63.0}\n",
      "Accuracy: 0.4513888888888886\n"
     ]
    }
   ],
   "source": [
    "items=ReadData('EXPERIMENT NO 9.txt')\n",
    "Evaluate(4,2,items,60)"
   ]
  },
  {
   "cell_type": "markdown",
   "id": "54c8ca0a",
   "metadata": {},
   "source": [
    "# "
   ]
  },
  {
   "cell_type": "markdown",
   "id": "2c8b5c35",
   "metadata": {},
   "source": [
    "# "
   ]
  }
 ],
 "metadata": {
  "kernelspec": {
   "display_name": "Python 3 (ipykernel)",
   "language": "python",
   "name": "python3"
  },
  "language_info": {
   "codemirror_mode": {
    "name": "ipython",
    "version": 3
   },
   "file_extension": ".py",
   "mimetype": "text/x-python",
   "name": "python",
   "nbconvert_exporter": "python",
   "pygments_lexer": "ipython3",
   "version": "3.9.7"
  }
 },
 "nbformat": 4,
 "nbformat_minor": 5
}
