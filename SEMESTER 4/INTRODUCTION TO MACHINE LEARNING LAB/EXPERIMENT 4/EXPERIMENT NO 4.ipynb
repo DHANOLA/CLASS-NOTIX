{
 "cells": [
  {
   "cell_type": "markdown",
   "id": "a902d163",
   "metadata": {},
   "source": [
    "# EXPERIMENT NO 4"
   ]
  },
  {
   "cell_type": "markdown",
   "id": "c90fe5c7",
   "metadata": {},
   "source": [
    "## LOGISTIC REGRESSION - NEW PRODUCT PURCHASE DATASET"
   ]
  },
  {
   "cell_type": "code",
   "execution_count": 89,
   "id": "dbf3ad82",
   "metadata": {},
   "outputs": [],
   "source": [
    "from matplotlib.colors import ListedColormap\n",
    "from sklearn.metrics import accuracy_score\n",
    "from sklearn.metrics import confusion_matrix\n",
    "from sklearn.preprocessing import StandardScaler\n",
    "from sklearn.linear_model import LogisticRegression\n",
    "from sklearn.model_selection import train_test_split\n",
    "import pandas as pd\n",
    "import numpy as np\n",
    "import matplotlib.pyplot as plt\n"
   ]
  },
  {
   "cell_type": "code",
   "execution_count": 90,
   "id": "4454e92f",
   "metadata": {},
   "outputs": [],
   "source": [
    "def read_set():\n",
    "    dataset=pd.read_csv('EXPERIMENT 4.csv')\n",
    "    print('Starting Rows of Dataset:')\n",
    "    print(dataset.head(),end='\\n\\n')\n",
    "    x=dataset.iloc[:,[2,3]].values\n",
    "    y=dataset.iloc[:,4].values\n",
    "    return x,y\n",
    "\n",
    "def split(x,y):\n",
    "    xtrain,xtest,ytrain,ytest=train_test_split(x,y,test_size=.2,random_state=0)\n",
    "    sc_x=StandardScaler()\n",
    "    xtrain=sc_x.fit_transform(xtrain)\n",
    "    xtest=sc_x.fit_transform(xtest)\n",
    "    print('Few Training Data:\\n',xtrain[0:10,:])\n",
    "    return xtrain,ytrain,xtest,ytest\n"
   ]
  },
  {
   "cell_type": "code",
   "execution_count": 91,
   "id": "824dec78",
   "metadata": {},
   "outputs": [],
   "source": [
    "def train_test_plot(xtrain,ytrain,xtest,ytest):\n",
    "    classifier=LogisticRegression(random_state=0)\n",
    "    classifier.fit(xtrain,ytrain)\n",
    "    y_pred=classifier.predict(xtest)\n",
    "    cm=confusion_matrix(ytest,y_pred)\n",
    "    print(\"Confusion Matrix: \\n\",cm)\n",
    "    print(\"Accuracy Score: \",accuracy_score(ytest,y_pred))\n",
    "    X_set,y_set=xtest,ytest\n",
    "    X1,X2=np.meshgrid(np.arange(start=X_set[:,0].min()-1,stop=X_set[:,0].max()+1,step=.01),np.arange(start=X_set[:,1].min()-1,stop=X_set[:,1].max()+1,step=.01))\n",
    "    plt.contourf(X1,X2,classifier.predict(np.array([X1.ravel(),X2.ravel()]).T).reshape(X1.shape),alpha=.75,cmap=ListedColormap(('blue','yellow')))\n",
    "    plt.xlim(X1.min(),X1.max())\n",
    "    plt.ylim(X2.min(),X2.max())\n",
    "    for i,j in enumerate(np.unique(y_set)):\n",
    "        l=lambda j:'Yes' if(j==1) else 'No'\n",
    "        plt.scatter(X_set[y_set==j,0],X_set[y_set==j,1],c=ListedColormap(('black','red'))(i),label=l(j))\n",
    "    plt.title('Classifier (Test set)')\n",
    "    plt.xlabel('Age')\n",
    "    plt.ylabel('Estimated Salary')\n",
    "    plt.legend(loc='best')\n",
    "    plt.show()\n",
    "        "
   ]
  },
  {
   "cell_type": "code",
   "execution_count": 92,
   "id": "48eb5e62",
   "metadata": {},
   "outputs": [
    {
     "name": "stderr",
     "output_type": "stream",
     "text": [
      "*c* argument looks like a single numeric RGB or RGBA sequence, which should be avoided as value-mapping will have precedence in case its length matches with *x* & *y*.  Please use the *color* keyword-argument or provide a 2D array with a single row if you intend to specify the same RGB or RGBA value for all points.\n",
      "*c* argument looks like a single numeric RGB or RGBA sequence, which should be avoided as value-mapping will have precedence in case its length matches with *x* & *y*.  Please use the *color* keyword-argument or provide a 2D array with a single row if you intend to specify the same RGB or RGBA value for all points.\n"
     ]
    },
    {
     "name": "stdout",
     "output_type": "stream",
     "text": [
      "Starting Rows of Dataset:\n",
      "    User ID  Gender  Age  EstimatedSalary  Purchased\n",
      "0  15624510    Male   19            19000          0\n",
      "1  15810944    Male   35            20000          0\n",
      "2  15668575  Female   26            43000          0\n",
      "3  15603246  Female   27            57000          0\n",
      "4  15804002    Male   19            76000          0\n",
      "\n",
      "Few Training Data:\n",
      " [[ 1.92295008  2.14601566]\n",
      " [ 2.02016082  0.3787193 ]\n",
      " [-1.3822153  -0.4324987 ]\n",
      " [-1.18779381 -1.01194013]\n",
      " [ 1.92295008 -0.92502392]\n",
      " [ 0.36757813  0.29180308]\n",
      " [ 0.17315664  0.14694273]\n",
      " [ 2.02016082  1.74040666]\n",
      " [ 0.75642112 -0.83810771]\n",
      " [ 0.27036739 -0.28763835]]\n",
      "Confusion Matrix: \n",
      " [[52  6]\n",
      " [ 3 19]]\n",
      "Accuracy Score:  0.8875\n"
     ]
    },
    {
     "data": {
      "image/png": "[encoded data removed]",
      "text/plain": [
       "<Figure size 432x288 with 1 Axes>"
      ]
     },
     "metadata": {
      "needs_background": "light"
     },
     "output_type": "display_data"
    }
   ],
   "source": [
    "#driver\n",
    "x,y=read_set()\n",
    "xtrain,ytrain,xtest,ytest=split(x,y)\n",
    "train_test_plot(xtrain,ytrain,xtest,ytest)"
   ]
  },
  {
   "cell_type": "markdown",
   "id": "96c1f35a",
   "metadata": {},
   "source": [
    "# "
   ]
  }
 ],
 "metadata": {
  "kernelspec": {
   "display_name": "Python 3 (ipykernel)",
   "language": "python",
   "name": "python3"
  },
  "language_info": {
   "codemirror_mode": {
    "name": "ipython",
    "version": 3
   },
   "file_extension": ".py",
   "mimetype": "text/x-python",
   "name": "python",
   "nbconvert_exporter": "python",
   "pygments_lexer": "ipython3",
   "version": "3.9.7"
  }
 },
 "nbformat": 4,
 "nbformat_minor": 5
}
