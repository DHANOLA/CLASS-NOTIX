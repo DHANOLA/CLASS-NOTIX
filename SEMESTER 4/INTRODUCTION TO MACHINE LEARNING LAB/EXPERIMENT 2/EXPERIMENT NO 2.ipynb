{
 "cells": [
  {
   "cell_type": "markdown",
   "id": "7e7c1691",
   "metadata": {},
   "source": [
    "# EXPERIMENT NO 2"
   ]
  },
  {
   "cell_type": "markdown",
   "id": "66be08ac",
   "metadata": {},
   "source": [
    "## BEST FIT FOR LINEAR REGRESSION (LR)"
   ]
  },
  {
   "cell_type": "code",
   "execution_count": 7,
   "id": "c979e6fc",
   "metadata": {},
   "outputs": [],
   "source": [
    "from statistics import mean\n",
    "import numpy as np\n"
   ]
  },
  {
   "cell_type": "code",
   "execution_count": 8,
   "id": "bf303ded",
   "metadata": {},
   "outputs": [],
   "source": [
    "def calculate_slope_intrecpt(xvalues,yvalues):\n",
    "    m=(((mean(xvalues)*mean(yvalues))-mean(xvalues*yvalues))/((mean(xvalues)*mean(xvalues))-mean(xvalues*xvalues)))\n",
    "    \n",
    "    b=mean(yvalues)-m*mean(xvalues)\n",
    "    \n",
    "    return m,b\n",
    "\n",
    "def linear_regresion():\n",
    "    regression_line=[(m*x)+b for x in xvalues]\n",
    "    return regression_line\n"
   ]
  },
  {
   "cell_type": "code",
   "execution_count": 9,
   "id": "4542cfda",
   "metadata": {},
   "outputs": [],
   "source": [
    "def squared_error(ys_orig,ys_line):\n",
    "    return sum((ys_line-ys_orig)*(ys_line-ys_orig))\n",
    "\n",
    "def determination_coeff(ys_orig,ys_line):\n",
    "    y_mean=[mean(ys_orig) for y in ys_orig]\n",
    "    squared_error_y_mean=squared_error(ys_orig,y_mean)\n",
    "    squared_error_regr=squared_error(ys_orig,ys_line)\n",
    "    rsq=1-(squared_error_regr/squared_error_y_mean)\n",
    "    return rsq"
   ]
  },
  {
   "cell_type": "code",
   "execution_count": 10,
   "id": "5b1bdfe1",
   "metadata": {},
   "outputs": [
    {
     "name": "stdout",
     "output_type": "stream",
     "text": [
      "X values:  [1. 2. 3. 4. 5.]\n",
      "Y values:  [5. 4. 6. 5. 6.]\n"
     ]
    }
   ],
   "source": [
    "#driver\n",
    "xvalues=np.array([1,2,3,4,5],dtype=np.float64)\n",
    "yvalues=np.array([5,4,6,5,6],dtype=np.float64)\n",
    "print('X values: ',xvalues)\n",
    "print('Y values: ',yvalues)"
   ]
  },
  {
   "cell_type": "code",
   "execution_count": 11,
   "id": "f5c0f9de",
   "metadata": {},
   "outputs": [
    {
     "name": "stdout",
     "output_type": "stream",
     "text": [
      "Slope:  0.3 Intercept:  4.3\n"
     ]
    }
   ],
   "source": [
    "m,b=calculate_slope_intrecpt(xvalues,yvalues)\n",
    "print('Slope: ',round(m,5),'Intercept: ',round(b,5))\n"
   ]
  },
  {
   "cell_type": "code",
   "execution_count": 12,
   "id": "52317da5",
   "metadata": {},
   "outputs": [
    {
     "name": "stdout",
     "output_type": "stream",
     "text": [
      "R Squared Value:  0.321\n"
     ]
    }
   ],
   "source": [
    "regression_line=linear_regresion()\n",
    "Rsq=determination_coeff(yvalues,regression_line)\n",
    "print('R Squared Value: ',round(Rsq,3))\n",
    "threshold=0.6\n"
   ]
  },
  {
   "cell_type": "code",
   "execution_count": 13,
   "id": "9167d0d9",
   "metadata": {},
   "outputs": [
    {
     "name": "stdout",
     "output_type": "stream",
     "text": [
      "Acceptable Range\n"
     ]
    }
   ],
   "source": [
    "if(Rsq<threshold):\n",
    "    print('Acceptable Range')\n",
    "else:\n",
    "    print('Not Acceptable Range')"
   ]
  },
  {
   "cell_type": "markdown",
   "id": "d1b00fed",
   "metadata": {},
   "source": [
    "# "
   ]
  }
 ],
 "metadata": {
  "kernelspec": {
   "display_name": "Python 3 (ipykernel)",
   "language": "python",
   "name": "python3"
  },
  "language_info": {
   "codemirror_mode": {
    "name": "ipython",
    "version": 3
   },
   "file_extension": ".py",
   "mimetype": "text/x-python",
   "name": "python",
   "nbconvert_exporter": "python",
   "pygments_lexer": "ipython3",
   "version": "3.9.7"
  }
 },
 "nbformat": 4,
 "nbformat_minor": 5
}
