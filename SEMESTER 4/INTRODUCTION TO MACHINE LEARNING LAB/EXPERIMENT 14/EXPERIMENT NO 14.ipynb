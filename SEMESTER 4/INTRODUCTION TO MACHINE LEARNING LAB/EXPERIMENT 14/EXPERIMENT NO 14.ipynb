{
 "cells": [
  {
   "cell_type": "markdown",
   "id": "a7407aa9",
   "metadata": {
    "id": "a7407aa9"
   },
   "source": [
    "# EXPERIMENT NO 14"
   ]
  },
  {
   "cell_type": "markdown",
   "id": "417b2638",
   "metadata": {
    "id": "417b2638"
   },
   "source": [
    "## BAGGING"
   ]
  },
  {
   "cell_type": "code",
   "execution_count": 1,
   "id": "74501dc9",
   "metadata": {
    "id": "74501dc9"
   },
   "outputs": [],
   "source": [
    "from random import seed\n",
    "from random import randrange\n",
    "from csv import reader\n"
   ]
  },
  {
   "cell_type": "code",
   "execution_count": 2,
   "id": "f6a5c478",
   "metadata": {
    "id": "f6a5c478"
   },
   "outputs": [],
   "source": [
    "#Load a CSV file\n",
    "def load_csv(filename):\n",
    "    dataset=list()\n",
    "    with open(filename,'r') as file:\n",
    "        csv_reader=reader(file)\n",
    "        for row in csv_reader:\n",
    "            if not row:\n",
    "                continue\n",
    "            dataset.append(row)\n",
    "    return dataset\n",
    "\n",
    "#Converting string column to float\n",
    "def str_column_to_float(dataset,column):\n",
    "    for row in dataset:\n",
    "        row[column]=float(row[column].strip())\n",
    "        \n"
   ]
  },
  {
   "cell_type": "code",
   "execution_count": 3,
   "id": "ccdd6447",
   "metadata": {
    "id": "ccdd6447"
   },
   "outputs": [],
   "source": [
    "#Convert string column to integer\n",
    "def str_column_to_int(dataset,column):\n",
    "    class_values=[row[column] for row in dataset]\n",
    "    unique=set(class_values)\n",
    "    lookup=dict()\n",
    "    for i,value in enumerate(unique):\n",
    "        lookup[value]=i\n",
    "    for row in dataset:\n",
    "        row[column]=lookup[row[column]]\n",
    "    return lookup\n",
    "\n",
    "#Split a dataset into k folds\n",
    "def cross_validation_split(dataset,n_folds):\n",
    "    dataset_split=list()\n",
    "    dataset_copy=list(dataset)\n",
    "    fold_size=int(len(dataset)/n_folds)\n",
    "    for i in range(n_folds):\n",
    "        fold=list()\n",
    "        while len(fold)<fold_size:\n",
    "            index=randrange(len(dataset_copy))\n",
    "            fold.append(dataset_copy.pop(index))\n",
    "        dataset_split.append(fold)\n",
    "    return dataset_split\n"
   ]
  },
  {
   "cell_type": "code",
   "execution_count": 4,
   "id": "b6b707bd",
   "metadata": {
    "id": "b6b707bd"
   },
   "outputs": [],
   "source": [
    "#Calculate accuracy percentage\n",
    "def accuracy_metric(actual,predicted):\n",
    "    correct=0\n",
    "    for i in range(len(actual)):\n",
    "        if(actual[i]==predicted[i]):\n",
    "            correct+=1\n",
    "    return correct/float(len(actual))*100.0\n",
    "\n",
    "#Evaluate an algorith using a cross validation split\n",
    "def evaluate_algorithm(dataset,algorithm,n_folds,*args):\n",
    "    folds=cross_validation_split(dataset,n_folds)\n",
    "    scores=list()\n",
    "    for fold in folds:\n",
    "        train_set=list(folds)\n",
    "        train_set.remove(fold)\n",
    "        train_set=sum(train_set,[])\n",
    "        test_set=list()\n",
    "        for row in fold:\n",
    "            row_copy=list(row)\n",
    "            test_set.append(row_copy)\n",
    "            row_copy[-1]=None\n",
    "        predicted=algorithm(train_set,test_set,*args)\n",
    "        actual=[row[-1] for row in fold]\n",
    "        accuracy=accuracy_metric(actual,predicted)\n",
    "        scores.append(accuracy)\n",
    "    return scores\n"
   ]
  },
  {
   "cell_type": "code",
   "execution_count": 5,
   "id": "39b08405",
   "metadata": {
    "id": "39b08405"
   },
   "outputs": [],
   "source": [
    "#Split a dataset on an attribute and an attribute value\n",
    "def test_split(index,value,dataset):\n",
    "    left,right=list(),list()\n",
    "    for row in dataset:\n",
    "        if row[index]<value:\n",
    "            left.append(row)\n",
    "        else:\n",
    "            right.append(row)\n",
    "            \n",
    "    return left,right\n",
    "\n",
    "#Calculate the Gini index for a split dataset\n",
    "def gini_index(groups,classes):\n",
    "    #Count all samples at split point\n",
    "    n_instances=float(sum([len(group) for group in groups]))\n",
    "    #Sum weighted Gini index for each group\n",
    "    gini=0.0\n",
    "    for group in groups:\n",
    "        size=float(len(group))\n",
    "        #avoid divide by zero\n",
    "        if size==0:\n",
    "            continue\n",
    "        score=0.0\n",
    "        #Score the group based on he score for each class\n",
    "        for class_val in classes:\n",
    "            p=[row[-1] for row in group].count(class_val)/size\n",
    "            score+=p*p\n",
    "        #Weigth the group score by its relative size\n",
    "        gini+=(1-score)*(size/n_instances)\n",
    "    return gini\n"
   ]
  },
  {
   "cell_type": "code",
   "execution_count": 6,
   "id": "fab3b608",
   "metadata": {
    "id": "fab3b608"
   },
   "outputs": [],
   "source": [
    "#Select the best split point for a dataset\n",
    "def get_split(dataset):\n",
    "    class_values=list(set(row[-1] for row in dataset))\n",
    "    b_index,b_value,b_score,b_groups=999,999,999,None\n",
    "    \n",
    "    for index in range(len(dataset[0])-1):\n",
    "        for row in dataset:\n",
    "            for i in range(len(dataset)):\n",
    "                row=dataset[randrange(len(dataset))]\n",
    "                groups=test_split(index,row[index],dataset)\n",
    "                gini=gini_index(groups,class_values)\n",
    "            if gini<b_score:\n",
    "                b_index,b_value,b_score,b_groups=index,row[index],gini,groups\n",
    "    return {'index':b_index,'value':b_value,'groups':b_groups}\n",
    "\n",
    "#Create a terminal node value\n",
    "def to_terminal(group):\n",
    "    outcomes=[row[-1] for row in group]\n",
    "    return max(set(outcomes),key=outcomes.count)\n"
   ]
  },
  {
   "cell_type": "code",
   "execution_count": 7,
   "id": "f2f4902e",
   "metadata": {
    "id": "f2f4902e"
   },
   "outputs": [],
   "source": [
    "#Create child splits for a node or make terminal\n",
    "def split(node,max_depth,min_size,depth):\n",
    "    left,right=node['groups']\n",
    "    del(node['groups'])\n",
    "    #Check for a no split\n",
    "    if not left or not right:\n",
    "        node['left']=node['right']=to_terminal(left+right)\n",
    "        return\n",
    "    #Check for max depth\n",
    "    if depth>=max_depth:\n",
    "        node['left'],node['right']=to_terminal(left),to_terminal(right)\n",
    "        return\n",
    "    #process left child\n",
    "    if len(right)<=min_size:\n",
    "        node['left']=to_terminal(left)\n",
    "    else:\n",
    "        node['left']=get_split(left)\n",
    "        split(node['left'],max_depth,min_size,depth+1)\n",
    "    #process right child\n",
    "    if len(right)<=min_size:\n",
    "        node['right']=to_terminal(right)\n",
    "    else:\n",
    "        node['right']=get_split(right)\n",
    "        split(node['right'],max_depth,min_size,depth+1)\n",
    "        \n",
    "#Build a Decision Tree\n",
    "def build_tree(train,max_depth,min_size):\n",
    "    root=get_split(train)\n",
    "    split(root,max_depth,min_size,1)\n",
    "    return root\n"
   ]
  },
  {
   "cell_type": "code",
   "execution_count": 8,
   "id": "64cc9600",
   "metadata": {
    "id": "64cc9600"
   },
   "outputs": [],
   "source": [
    "#Make a prediction with a decision tree\n",
    "def predict(node,row):\n",
    "    if row[node['index']]<node['value']:\n",
    "        if isinstance(node['left'],dict):\n",
    "            return predict(node['left'],row)\n",
    "        else:\n",
    "            return node['left']\n",
    "    else:\n",
    "        if isinstance(node['right'],dict):\n",
    "            return predict(node['right'],row)\n",
    "        else:\n",
    "            return node['right']\n",
    "        \n",
    "#Create a random subsample from the dataset with replacement\n",
    "def subsample(dataset,ratio):\n",
    "    sample=list()\n",
    "    n_sample=round(len(dataset)*ratio)\n",
    "    while len(sample)<n_sample:\n",
    "        index=randrange(len(dataset))\n",
    "        sample.append(dataset[index])\n",
    "    return sample\n"
   ]
  },
  {
   "cell_type": "code",
   "execution_count": 9,
   "id": "774849e9",
   "metadata": {
    "id": "774849e9"
   },
   "outputs": [],
   "source": [
    "#Make a prediction with a list of bagged trees\n",
    "def bagging_predict(trees,row):\n",
    "    predictions=[predict(tree,row) for tree in trees]\n",
    "    return max(set(predictions),key=predictions.count)\n",
    "\n",
    "#Bootstrap Aggregation Algorithm\n",
    "def bagging(train,test,max_depth,min_size,sample_size,n_trees):\n",
    "    trees=list()\n",
    "    for i in range(n_trees):\n",
    "        sample=subsample(train,sample_size)\n",
    "        tree=build_tree(sample,max_depth,min_size)\n",
    "        trees.append(tree)\n",
    "    predictions=[bagging_predict(trees,row) for row in test]\n",
    "    return (predictions)\n"
   ]
  },
  {
   "cell_type": "code",
   "execution_count": 10,
   "id": "6a589b9f",
   "metadata": {
    "id": "6a589b9f"
   },
   "outputs": [],
   "source": [
    "#Test bagging on the sonar dataset\n",
    "seed(1)\n",
    "#load and prepare data\n",
    "filename='/content/EXPERIMENT 14.csv'\n",
    "dataset=load_csv(filename)\n",
    "#convert string attribiutes to integers\n",
    "for i in range(len(dataset[0])-1):\n",
    "    str_column_to_float(dataset,i)\n"
   ]
  },
  {
   "cell_type": "code",
   "execution_count": 11,
   "id": "827b6260",
   "metadata": {
    "id": "827b6260"
   },
   "outputs": [],
   "source": [
    "#convert class columns to integers\n",
    "str_column_to_int(dataset,len(dataset[0])-1)\n",
    "#evaluate algorithm\n",
    "n_folds=5\n",
    "max_depth=6\n",
    "min_size=2\n",
    "sample_size=.50\n"
   ]
  },
  {
   "cell_type": "code",
   "execution_count": 12,
   "id": "340cc263",
   "metadata": {
    "colab": {
     "base_uri": "https://localhost:8080/"
    },
    "id": "340cc263",
    "outputId": "37f29e12-b689-4a10-ba4f-d13fac92d355"
   },
   "outputs": [
    {
     "name": "stdout",
     "output_type": "stream",
     "text": [
      "Trees: 1\n",
      "Scores: [80.48780487804879, 87.8048780487805, 63.41463414634146, 68.29268292682927, 75.60975609756098]\n",
      "Mean Accuracy: 75.1219512195122\n",
      "Trees: 5\n",
      "Scores: [78.04878048780488, 85.36585365853658, 63.41463414634146, 70.73170731707317, 63.41463414634146]\n",
      "Mean Accuracy: 72.19512195121952\n",
      "Trees: 10\n",
      "Scores: [82.92682926829268, 70.73170731707317, 73.17073170731707, 70.73170731707317, 78.04878048780488]\n",
      "Mean Accuracy: 75.1219512195122\n",
      "Trees: 50\n",
      "Scores: [75.60975609756098, 75.60975609756098, 75.60975609756098, 82.92682926829268, 80.48780487804879]\n",
      "Mean Accuracy: 78.04878048780488\n"
     ]
    }
   ],
   "source": [
    "for n_trees in [1,5,10,50]:\n",
    "    scores=evaluate_algorithm(dataset,bagging,n_folds,max_depth,min_size,sample_size,n_trees)\n",
    "    print('Trees:',n_trees)\n",
    "    print('Scores:',scores)\n",
    "    print(\"Mean Accuracy:\",(sum(scores)/float(len(scores))))"
   ]
  },
  {
   "cell_type": "markdown",
   "id": "2a99748e",
   "metadata": {
    "id": "2a99748e"
   },
   "source": [
    "# "
   ]
  }
 ],
 "metadata": {
  "accelerator": "TPU",
  "colab": {
   "collapsed_sections": [],
   "name": "EXPERIMENT NO 14.ipynb",
   "provenance": []
  },
  "kernelspec": {
   "display_name": "Python 3 (ipykernel)",
   "language": "python",
   "name": "python3"
  },
  "language_info": {
   "codemirror_mode": {
    "name": "ipython",
    "version": 3
   },
   "file_extension": ".py",
   "mimetype": "text/x-python",
   "name": "python",
   "nbconvert_exporter": "python",
   "pygments_lexer": "ipython3",
   "version": "3.9.7"
  }
 },
 "nbformat": 4,
 "nbformat_minor": 5
}
