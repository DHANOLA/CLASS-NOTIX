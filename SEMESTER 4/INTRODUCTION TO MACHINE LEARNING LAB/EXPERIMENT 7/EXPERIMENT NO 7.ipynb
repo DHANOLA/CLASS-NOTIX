{
 "cells": [
  {
   "cell_type": "markdown",
   "id": "a3247316",
   "metadata": {},
   "source": [
    "# EXPERIMENT NO 7"
   ]
  },
  {
   "cell_type": "markdown",
   "id": "6cd87e61",
   "metadata": {},
   "source": [
    "#### K-NEARSET NEIGHBOUR (KNN) ACCURACY PREDICTION"
   ]
  },
  {
   "cell_type": "code",
   "execution_count": 23,
   "id": "2291cb28",
   "metadata": {},
   "outputs": [],
   "source": [
    "import matplotlib.pyplot as plt\n",
    "import numpy as np\n",
    "from matplotlib import style\n",
    "from matplotlib.colors import ListedColormap\n",
    "style.use('fivethirtyeight')\n",
    "import math\n",
    "from sklearn import model_selection,neighbors\n",
    "import pandas as pd\n"
   ]
  },
  {
   "cell_type": "code",
   "execution_count": 24,
   "id": "e3929d3b",
   "metadata": {},
   "outputs": [],
   "source": [
    "def read():\n",
    "    df=pd.read_csv('EXPERIMENT 7.csv')\n",
    "    print('Starting Few rows:\\n',df.head())\n",
    "    df.replace('?',-99999,inplace=True)\n",
    "    df.drop(['id'],1,inplace=True)\n",
    "    X=np.array(df.drop(['Class'],1))\n",
    "    y=np.array(df['Class'])\n",
    "    return X,y\n",
    "\n",
    "def train(X,y):\n",
    "    X_train,X_test,y_train,y_test=model_selection.train_test_split(X,y,test_size=.2)\n",
    "    clf.fit(X_train,y_train)\n",
    "    accuracy=clf.score(X_test,y_test)\n",
    "    print('Accuracy on Test Data:',accuracy)\n",
    "    "
   ]
  },
  {
   "cell_type": "code",
   "execution_count": 25,
   "id": "5dee9984",
   "metadata": {},
   "outputs": [],
   "source": [
    "def one_sample():\n",
    "    print('One Sample Measure')\n",
    "    example_measures=np.array([4,2,1,1,1,2,3,2,1])\n",
    "    example_measures=example_measures.reshape(1,-1)\n",
    "    prediction=clf.predict(example_measures)\n",
    "    print('Prediction:',prediction)\n",
    "    \n",
    "def two_sample():\n",
    "    print('Two Sample Measure')\n",
    "    example_measures=np.array([[4,2,1,1,1,2,3,2,1],[4,2,1,1,1,2,3,2,1]])\n",
    "    example_measures=example_measures.reshape(2,-1)\n",
    "    prediction=clf.predict(example_measures)\n",
    "    print('Prediction:',prediction)\n",
    "    "
   ]
  },
  {
   "cell_type": "code",
   "execution_count": 26,
   "id": "63776f90",
   "metadata": {},
   "outputs": [],
   "source": [
    "def generic():\n",
    "    print('Sample Measures Unknown - Generic Representation')\n",
    "    example_measures=np.array([[4,2,1,1,1,2,3,2,1],[8,9,10,7,7,10,8,7,1],[2,1,2,1,2,1,3,1,1],[4,1,2,1,1,2,3,1,1]])\n",
    "    example_measures=example_measures.reshape(len(example_measures),-1)\n",
    "    prediction=clf.predict(example_measures)\n",
    "    print('Prediction:',prediction)\n",
    "    \n",
    "def eucledian():\n",
    "    #Eucledian Distance theory\n",
    "    plot1=[1,3]\n",
    "    plot2=[2,5]\n",
    "    eucledian_distance=math.sqrt((plot1[0]-plot2[0])**2+(plot1[1]-plot2[1])**2)\n",
    "    print('Eucledian Distance:',eucledian_distance)\n",
    "    "
   ]
  },
  {
   "cell_type": "code",
   "execution_count": 27,
   "id": "2b1628af",
   "metadata": {},
   "outputs": [],
   "source": [
    "def plotting():\n",
    "    new_features=np.array([[4,2,1,1,1,2,3,2,1],[8,9,10,7,7,10,8,7,1],[2,1,2,1,2,1,3,1,1],[4,1,2,1,1,2,3,1,1]])\n",
    "    new_features=new_features.reshape(len(new_features),-1)\n",
    "    result=clf.predict(new_features)\n",
    "    col=lambda val: 0 if val==2 else 1\n",
    "    \n",
    "    for i,j in enumerate(result):\n",
    "        l=lambda j: 0 if(j==2) else 1\n",
    "        plt.scatter(i,j,c=ListedColormap(('black','red'))(l(j)),label=j)\n",
    "    plt.show()\n",
    "        "
   ]
  },
  {
   "cell_type": "code",
   "execution_count": 28,
   "id": "08582135",
   "metadata": {},
   "outputs": [
    {
     "name": "stderr",
     "output_type": "stream",
     "text": [
      "C:\\Users\\HP\\AppData\\Local\\Temp/ipykernel_18256/690603599.py:5: FutureWarning: In a future version of pandas all arguments of DataFrame.drop except for the argument 'labels' will be keyword-only\n",
      "  df.drop(['id'],1,inplace=True)\n",
      "C:\\Users\\HP\\AppData\\Local\\Temp/ipykernel_18256/690603599.py:6: FutureWarning: In a future version of pandas all arguments of DataFrame.drop except for the argument 'labels' will be keyword-only\n",
      "  X=np.array(df.drop(['Class'],1))\n",
      "*c* argument looks like a single numeric RGB or RGBA sequence, which should be avoided as value-mapping will have precedence in case its length matches with *x* & *y*.  Please use the *color* keyword-argument or provide a 2D array with a single row if you intend to specify the same RGB or RGBA value for all points.\n",
      "*c* argument looks like a single numeric RGB or RGBA sequence, which should be avoided as value-mapping will have precedence in case its length matches with *x* & *y*.  Please use the *color* keyword-argument or provide a 2D array with a single row if you intend to specify the same RGB or RGBA value for all points.\n",
      "*c* argument looks like a single numeric RGB or RGBA sequence, which should be avoided as value-mapping will have precedence in case its length matches with *x* & *y*.  Please use the *color* keyword-argument or provide a 2D array with a single row if you intend to specify the same RGB or RGBA value for all points.\n",
      "*c* argument looks like a single numeric RGB or RGBA sequence, which should be avoided as value-mapping will have precedence in case its length matches with *x* & *y*.  Please use the *color* keyword-argument or provide a 2D array with a single row if you intend to specify the same RGB or RGBA value for all points.\n"
     ]
    },
    {
     "name": "stdout",
     "output_type": "stream",
     "text": [
      "Starting Few rows:\n",
      "         id  clump_thickness  size_uniformity  shape_uniformity  \\\n",
      "0  1000025                5                1                 1   \n",
      "1  1002945                5                4                 4   \n",
      "2  1015425                3                1                 1   \n",
      "3  1016277                6                8                 8   \n",
      "4  1017023                4                1                 1   \n",
      "\n",
      "   marginal_adhesion  epithelial_size bare_nucleoli  bland_chromatin  \\\n",
      "0                  1                2             1                3   \n",
      "1                  5                7            10                3   \n",
      "2                  1                2             2                3   \n",
      "3                  1                3             4                3   \n",
      "4                  3                2             1                3   \n",
      "\n",
      "   normal_nucleoli  mitoses  Class  \n",
      "0                1        1      2  \n",
      "1                2        1      2  \n",
      "2                1        1      2  \n",
      "3                7        1      2  \n",
      "4                1        1      2  \n",
      "Accuracy on Test Data: 0.9857142857142858\n",
      "Validation Results: \n",
      "One Sample Measure\n",
      "Prediction: [2]\n",
      "Two Sample Measure\n",
      "Prediction: [2 2]\n",
      "Sample Measures Unknown - Generic Representation\n",
      "Prediction: [2 4 2 2]\n",
      "Eucledian Distance: 2.23606797749979\n"
     ]
    },
    {
     "data": {
      "image/png": "[encoded data removed]",
      "text/plain": [
       "<Figure size 432x288 with 1 Axes>"
      ]
     },
     "metadata": {},
     "output_type": "display_data"
    }
   ],
   "source": [
    "#driver\n",
    "clf=neighbors.KNeighborsClassifier()\n",
    "X,y=read()\n",
    "train(X,y)\n",
    "print('Validation Results: ')\n",
    "one_sample()\n",
    "two_sample()\n",
    "generic()\n",
    "eucledian()\n",
    "plotting()"
   ]
  },
  {
   "cell_type": "markdown",
   "id": "48195852",
   "metadata": {},
   "source": [
    "# "
   ]
  }
 ],
 "metadata": {
  "kernelspec": {
   "display_name": "Python 3 (ipykernel)",
   "language": "python",
   "name": "python3"
  },
  "language_info": {
   "codemirror_mode": {
    "name": "ipython",
    "version": 3
   },
   "file_extension": ".py",
   "mimetype": "text/x-python",
   "name": "python",
   "nbconvert_exporter": "python",
   "pygments_lexer": "ipython3",
   "version": "3.9.7"
  }
 },
 "nbformat": 4,
 "nbformat_minor": 5
}
