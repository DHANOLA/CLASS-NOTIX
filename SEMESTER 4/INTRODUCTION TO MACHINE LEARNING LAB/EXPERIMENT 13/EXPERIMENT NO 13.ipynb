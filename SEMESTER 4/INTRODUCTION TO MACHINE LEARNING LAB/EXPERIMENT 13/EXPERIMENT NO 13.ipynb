{
 "cells": [
  {
   "cell_type": "markdown",
   "id": "4b27512d",
   "metadata": {},
   "source": [
    "# EXPERIMENT NO 13"
   ]
  },
  {
   "cell_type": "markdown",
   "id": "3ee98931",
   "metadata": {},
   "source": [
    "## PRINCIPAL COMPONENT ANALYSIS (PCA)"
   ]
  },
  {
   "cell_type": "code",
   "execution_count": 88,
   "id": "c455f3e5",
   "metadata": {},
   "outputs": [],
   "source": [
    "from matplotlib.colors import ListedColormap\n",
    "from sklearn.metrics import confusion_matrix\n",
    "from sklearn.linear_model import LogisticRegression\n",
    "from sklearn.decomposition import PCA\n",
    "from sklearn.preprocessing import StandardScaler\n",
    "from sklearn.model_selection import train_test_split\n",
    "import numpy as np\n",
    "import pandas as pd\n",
    "import matplotlib.pyplot as plt\n"
   ]
  },
  {
   "cell_type": "code",
   "execution_count": 89,
   "id": "c0e91951",
   "metadata": {},
   "outputs": [],
   "source": [
    "dataset=pd.read_csv('EXPERIMENT 13.csv')\n",
    "X=dataset.iloc[:,0:13].values\n",
    "y=dataset.iloc[:,13].values\n"
   ]
  },
  {
   "cell_type": "code",
   "execution_count": 90,
   "id": "7c6db98f",
   "metadata": {},
   "outputs": [],
   "source": [
    "X_train,X_test,y_train,y_test=train_test_split(X,y,test_size=.2,random_state=0)\n",
    "sc=StandardScaler()\n",
    "\n",
    "X_train=sc.fit_transform(X_train)\n",
    "X_test=sc.fit_transform(X_test)\n"
   ]
  },
  {
   "cell_type": "code",
   "execution_count": 91,
   "id": "a6ebb3f9",
   "metadata": {},
   "outputs": [],
   "source": [
    "pca=PCA(n_components=2)\n",
    "\n",
    "X_train=pca.fit_transform(X_train)\n",
    "X_test=pca.transform(X_test)\n"
   ]
  },
  {
   "cell_type": "code",
   "execution_count": 92,
   "id": "1991180e",
   "metadata": {},
   "outputs": [],
   "source": [
    "explained_variance=pca.explained_variance_ratio_\n",
    "classifier=LogisticRegression(random_state=0)\n",
    "classifier.fit(X_train,y_train)\n",
    "y_pred=classifier.predict(X_test)\n"
   ]
  },
  {
   "cell_type": "code",
   "execution_count": 93,
   "id": "e3578e13",
   "metadata": {},
   "outputs": [],
   "source": [
    "cm=confusion_matrix(y_test,y_pred)\n",
    "X_set,y_set=X_train,y_train\n",
    "X1,X2=np.meshgrid(np.arange(start=X_set[:,0].min()-1,\n",
    "                           stop=X_set[:,0].max()+1,step=.01),\n",
    "                 np.arange(start=X_set[:,1].min()-1,\n",
    "                          stop=X_set[:,1].max()+1,step=.01))\n"
   ]
  },
  {
   "cell_type": "code",
   "execution_count": 94,
   "id": "0a4d2484",
   "metadata": {},
   "outputs": [
    {
     "name": "stderr",
     "output_type": "stream",
     "text": [
      "*c* argument looks like a single numeric RGB or RGBA sequence, which should be avoided as value-mapping will have precedence in case its length matches with *x* & *y*.  Please use the *color* keyword-argument or provide a 2D array with a single row if you intend to specify the same RGB or RGBA value for all points.\n",
      "*c* argument looks like a single numeric RGB or RGBA sequence, which should be avoided as value-mapping will have precedence in case its length matches with *x* & *y*.  Please use the *color* keyword-argument or provide a 2D array with a single row if you intend to specify the same RGB or RGBA value for all points.\n",
      "*c* argument looks like a single numeric RGB or RGBA sequence, which should be avoided as value-mapping will have precedence in case its length matches with *x* & *y*.  Please use the *color* keyword-argument or provide a 2D array with a single row if you intend to specify the same RGB or RGBA value for all points.\n"
     ]
    },
    {
     "data": {
      "image/png": "[encoded data removed]",
      "text/plain": [
       "<Figure size 432x288 with 1 Axes>"
      ]
     },
     "metadata": {
      "needs_background": "light"
     },
     "output_type": "display_data"
    }
   ],
   "source": [
    "plt.contourf(X1,X2,classifier.predict(np.array([X1.ravel(),\n",
    "                                                X2.ravel()]).T).reshape(X1.shape),alpha=.75,\n",
    "            cmap=ListedColormap(('yellow','white','aquamarine')))\n",
    "plt.xlim(X1.min(),X2.max())\n",
    "plt.ylim(X2.min(),X2.max())\n",
    "\n",
    "\n",
    "for i,j in enumerate(np.unique(y_set)):\n",
    "    plt.scatter(X_set[y_set==j,0],X_set[y_set==j,1],c=ListedColormap(('red','green','blue'))(i),label=j)\n",
    "plt.title('Logistic Regression (Training set)')\n",
    "plt.xlabel('PC1')\n",
    "plt.ylabel('PC2')\n",
    "plt.legend()\n",
    "plt.show()\n"
   ]
  },
  {
   "cell_type": "code",
   "execution_count": 95,
   "id": "1a0d9779",
   "metadata": {},
   "outputs": [
    {
     "name": "stderr",
     "output_type": "stream",
     "text": [
      "*c* argument looks like a single numeric RGB or RGBA sequence, which should be avoided as value-mapping will have precedence in case its length matches with *x* & *y*.  Please use the *color* keyword-argument or provide a 2D array with a single row if you intend to specify the same RGB or RGBA value for all points.\n",
      "*c* argument looks like a single numeric RGB or RGBA sequence, which should be avoided as value-mapping will have precedence in case its length matches with *x* & *y*.  Please use the *color* keyword-argument or provide a 2D array with a single row if you intend to specify the same RGB or RGBA value for all points.\n",
      "*c* argument looks like a single numeric RGB or RGBA sequence, which should be avoided as value-mapping will have precedence in case its length matches with *x* & *y*.  Please use the *color* keyword-argument or provide a 2D array with a single row if you intend to specify the same RGB or RGBA value for all points.\n"
     ]
    },
    {
     "data": {
      "image/png": "[encoded data removed]",
      "text/plain": [
       "<Figure size 432x288 with 1 Axes>"
      ]
     },
     "metadata": {
      "needs_background": "light"
     },
     "output_type": "display_data"
    }
   ],
   "source": [
    "X_set,y_set=X_test,y_test\n",
    "X1,X2=np.meshgrid(np.arange(start=X_set[:,0].min()-1,\n",
    "                           stop=X_set[:,0].max()+1,step=.01),\n",
    "                 np.arange(start=X_set[:,1].min()-1,\n",
    "                          stop=X_set[:,1].max()+1,step=.01))\n",
    "plt.contourf(X1,X2,classifier.predict(np.array([X1.ravel(),\n",
    "                                               X2.ravel()]).T).reshape(X1.shape),alpha=.75,\n",
    "            cmap=ListedColormap(('yellow','white','aquamarine')))\n",
    "\n",
    "plt.xlim(X1.min(),X1.max())\n",
    "plt.ylim(X2.min(),X2.max())\n",
    "\n",
    "for i,j in enumerate(np.unique(y_set)):\n",
    "    plt.scatter(X_set[y_set==j,0],X_set[y_set==j,1],\n",
    "               c=ListedColormap(('red','green','blue'))(i),label=j)\n",
    "    \n",
    "plt.title('Logistic Regression (Test set)')\n",
    "plt.xlabel('PC1')\n",
    "plt.ylabel('PC2')\n",
    "plt.legend()\n",
    "plt.show()\n",
    "    "
   ]
  },
  {
   "cell_type": "markdown",
   "id": "f2f9ff6a",
   "metadata": {},
   "source": [
    "# "
   ]
  }
 ],
 "metadata": {
  "kernelspec": {
   "display_name": "Python 3 (ipykernel)",
   "language": "python",
   "name": "python3"
  },
  "language_info": {
   "codemirror_mode": {
    "name": "ipython",
    "version": 3
   },
   "file_extension": ".py",
   "mimetype": "text/x-python",
   "name": "python",
   "nbconvert_exporter": "python",
   "pygments_lexer": "ipython3",
   "version": "3.9.7"
  }
 },
 "nbformat": 4,
 "nbformat_minor": 5
}
