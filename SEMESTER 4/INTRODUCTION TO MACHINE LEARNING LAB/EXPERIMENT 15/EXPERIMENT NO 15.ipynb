{
 "cells": [
  {
   "cell_type": "markdown",
   "id": "5a2ef900",
   "metadata": {},
   "source": [
    "# EXPERIMENT NO 15"
   ]
  },
  {
   "cell_type": "markdown",
   "id": "7c878c11",
   "metadata": {},
   "source": [
    "## BOOSTING"
   ]
  },
  {
   "cell_type": "code",
   "execution_count": 22,
   "id": "fffcb15b",
   "metadata": {},
   "outputs": [],
   "source": [
    "from sklearn.ensemble import AdaBoostClassifier\n",
    "from sklearn.preprocessing import LabelEncoder\n",
    "from sklearn.tree import DecisionTreeClassifier\n",
    "import pandas as pd\n"
   ]
  },
  {
   "cell_type": "code",
   "execution_count": 23,
   "id": "cd02206c",
   "metadata": {},
   "outputs": [],
   "source": [
    "dataset=pd.read_csv('EXPERIMENT NO 15.csv',header=None)\n",
    "dataset=dataset.sample(frac=1)\n",
    "dataset.columns=['target', 'cap-shape', 'cap-surface', 'cap-color', 'bruises', 'odor',\n",
    "       'gill-attachment', 'gill-spacing', 'gill-size', 'gill-color',\n",
    "       'stalk-shape', 'stalk-root', 'stalk-surface-above-ring',\n",
    "       'stalk-surface-below-ring', 'stalk-color-above-ring',\n",
    "       'stalk-color-below-ring', 'veil-type', 'veil-color', 'ring-number',\n",
    "       'ring-type', 'spore-print-color', 'population', 'habitat']\n"
   ]
  },
  {
   "cell_type": "code",
   "execution_count": 24,
   "id": "96755f83",
   "metadata": {},
   "outputs": [],
   "source": [
    "#Encode the feature values from strings to integers since the sklearn DecisionTreeClassifier only takes numerical values\n",
    "for label in dataset.columns:\n",
    "    dataset[label]=LabelEncoder().fit(dataset[label]).transform(dataset[label])\n",
    "    "
   ]
  },
  {
   "cell_type": "code",
   "execution_count": 25,
   "id": "d6de4cf1",
   "metadata": {},
   "outputs": [],
   "source": [
    "X=dataset.drop(['target'],axis=1)\n",
    "Y=dataset['target']\n"
   ]
  },
  {
   "cell_type": "code",
   "execution_count": 26,
   "id": "79dca0da",
   "metadata": {},
   "outputs": [
    {
     "name": "stdout",
     "output_type": "stream",
     "text": [
      "The accuracy of Decision Tree Model is:  77.55076923076923 %\n"
     ]
    }
   ],
   "source": [
    "model=DecisionTreeClassifier(criterion='entropy',max_depth=1)\n",
    "AdaBoost=AdaBoostClassifier(base_estimator=model,n_estimators=400,learning_rate=1)\n",
    "AdaBoost.fit(X,Y)\n",
    "prediction=AdaBoost.score(X,Y)\n",
    "print('The accuracy of Decision Tree Model is: ',prediction*100,'%')\n"
   ]
  },
  {
   "cell_type": "code",
   "execution_count": 27,
   "id": "c094ac94",
   "metadata": {},
   "outputs": [
    {
     "name": "stdout",
     "output_type": "stream",
     "text": [
      "The accuracy for SAMME algorithm is:  96.99692307692308 %\n"
     ]
    }
   ],
   "source": [
    "AdaBoost=AdaBoostClassifier(n_estimators=400,learning_rate=1,algorithm='SAMME')\n",
    "AdaBoost.fit(X,Y)\n",
    "prediction=AdaBoost.score(X,Y)\n",
    "print('The accuracy for SAMME algorithm is: ',prediction*100,'%')\n"
   ]
  },
  {
   "cell_type": "markdown",
   "id": "1a91eb39",
   "metadata": {},
   "source": [
    "# "
   ]
  }
 ],
 "metadata": {
  "kernelspec": {
   "display_name": "Python 3 (ipykernel)",
   "language": "python",
   "name": "python3"
  },
  "language_info": {
   "codemirror_mode": {
    "name": "ipython",
    "version": 3
   },
   "file_extension": ".py",
   "mimetype": "text/x-python",
   "name": "python",
   "nbconvert_exporter": "python",
   "pygments_lexer": "ipython3",
   "version": "3.9.7"
  }
 },
 "nbformat": 4,
 "nbformat_minor": 5
}
