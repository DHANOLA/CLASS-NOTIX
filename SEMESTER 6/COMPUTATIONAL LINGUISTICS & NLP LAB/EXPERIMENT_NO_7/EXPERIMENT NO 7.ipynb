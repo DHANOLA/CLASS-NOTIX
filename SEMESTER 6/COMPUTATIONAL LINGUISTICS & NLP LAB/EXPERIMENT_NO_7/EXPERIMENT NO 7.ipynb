{
 "cells": [
  {
   "cell_type": "markdown",
   "metadata": {
    "_cell_guid": "cdabc1b8-da83-4f4b-84f2-b096167655f0",
    "_uuid": "517facf5-96d0-43e3-a741-933db717a299",
    "id": "eo4M4Y-ZlANr"
   },
   "source": [
    "# EXPERIMENT NO 7"
   ]
  },
  {
   "cell_type": "markdown",
   "metadata": {
    "_cell_guid": "19be2900-800a-4fec-8bad-f8028d445548",
    "_uuid": "30fd164d-5140-4007-80dc-79d60e6177bc",
    "id": "6Ol9TrUwljuS"
   },
   "source": [
    "## TEXT SUMMARIZATION"
   ]
  },
  {
   "cell_type": "markdown",
   "metadata": {
    "_cell_guid": "88c1f82c-c81c-43a0-8505-4a6db12fb4c4",
    "_uuid": "03fb6985-e434-43dc-988c-86a2520e876f",
    "id": "_ns6JWXalnCN"
   },
   "source": [
    "### IMPORTING THE LIBRARIES"
   ]
  },
  {
   "cell_type": "code",
   "execution_count": 1,
   "metadata": {
    "_cell_guid": "72c51ff9-0f61-44d1-8f8e-727e1754d196",
    "_uuid": "18d024e6-672e-4d20-b696-9e224a9d1abd",
    "execution": {
     "iopub.execute_input": "2022-03-17T19:49:42.018666Z",
     "iopub.status.busy": "2022-03-17T19:49:42.018285Z",
     "iopub.status.idle": "2022-03-17T19:49:45.131092Z",
     "shell.execute_reply": "2022-03-17T19:49:45.130122Z",
     "shell.execute_reply.started": "2022-03-17T19:49:42.018589Z"
    },
    "id": "08sNIdvelAN0",
    "jupyter": {
     "outputs_hidden": false
    },
    "outputId": "6ca82053-3ad1-4f01-cc20-912996202705"
   },
   "outputs": [
    {
     "name": "stderr",
     "output_type": "stream",
     "text": [
      "Using TensorFlow backend.\n"
     ]
    }
   ],
   "source": [
    "# keras module for building LSTM\n",
    "import os\n",
    "import string\n",
    "import numpy as np\n",
    "import pandas as pd\n",
    "from keras.preprocessing.sequence import pad_sequences\n",
    "from keras.layers import Embedding, LSTM, Dense, Dropout\n",
    "from keras.preprocessing.text import Tokenizer\n",
    "from keras.callbacks import EarlyStopping\n",
    "from keras.models import Sequential\n",
    "import keras.utils as ku\n",
    "\n",
    "# set seeds for reproducability\n",
    "from tensorflow import set_random_seed\n",
    "from numpy.random import seed\n",
    "\n",
    "set_random_seed(2)\n",
    "seed(1)"
   ]
  },
  {
   "cell_type": "markdown",
   "metadata": {
    "_cell_guid": "1fec17ce-8e66-4c09-a454-1feec02ac145",
    "_uuid": "286ed226-04a8-414a-929a-ecbc170728a0",
    "id": "aKCXVMIalAN3"
   },
   "source": [
    "### READING THE DATASET"
   ]
  },
  {
   "cell_type": "code",
   "execution_count": 2,
   "metadata": {
    "_cell_guid": "46dff20e-04ce-4611-a365-76b6bd1660fa",
    "_uuid": "1dfcf246-52ca-4526-a880-60b6e5f223fc",
    "execution": {
     "iopub.execute_input": "2022-03-17T19:49:45.133497Z",
     "iopub.status.busy": "2022-03-17T19:49:45.132825Z",
     "iopub.status.idle": "2022-03-17T19:49:45.193515Z",
     "shell.execute_reply": "2022-03-17T19:49:45.192318Z",
     "shell.execute_reply.started": "2022-03-17T19:49:45.133436Z"
    },
    "id": "IsKkeut6lAN4",
    "jupyter": {
     "outputs_hidden": false
    }
   },
   "outputs": [
    {
     "data": {
      "text/plain": [
       "829"
      ]
     },
     "execution_count": 2,
     "metadata": {},
     "output_type": "execute_result"
    }
   ],
   "source": [
    "all_headlines = []\n",
    "article_df = pd.read_csv('/DOCUMENTS/Articles.csv/Articles.csv')\n",
    "all_headlines.extend(list(article_df.headline.values))\n",
    "\n",
    "all_headlines = [h for h in all_headlines if h != \"Unknown\"]\n",
    "len(all_headlines)"
   ]
  },
  {
   "cell_type": "markdown",
   "metadata": {
    "_cell_guid": "89289a33-b193-4ecf-ab56-5e7f87d9a48f",
    "_uuid": "dbc5ef5d-94a9-4118-9caf-5a8c99e8d417",
    "id": "hCl8FA9ElAN5"
   },
   "source": [
    "### DATA PREPRATION"
   ]
  },
  {
   "cell_type": "code",
   "execution_count": 3,
   "metadata": {
    "_cell_guid": "d45a53f8-ba81-4c64-a3be-965c1e5b36a9",
    "_uuid": "6103fe47-4b73-4fad-810f-1a9a52ce4f24",
    "execution": {
     "iopub.execute_input": "2022-03-17T19:49:45.195344Z",
     "iopub.status.busy": "2022-03-17T19:49:45.195041Z",
     "iopub.status.idle": "2022-03-17T19:49:45.213708Z",
     "shell.execute_reply": "2022-03-17T19:49:45.212170Z",
     "shell.execute_reply.started": "2022-03-17T19:49:45.195289Z"
    },
    "id": "UylQuRH1lAN5",
    "jupyter": {
     "outputs_hidden": false
    }
   },
   "outputs": [
    {
     "data": {
      "text/plain": [
       "['nfl vs politics has been battle all season long',\n",
       " 'voice vice veracity',\n",
       " 'a standups downward slide',\n",
       " 'new york today a groundhog has her day',\n",
       " 'a swimmers communion with the ocean',\n",
       " 'trail activity',\n",
       " 'super bowl',\n",
       " 'trumps mexican shakedown',\n",
       " 'pences presidential pet',\n",
       " 'fruit of a poison tree']"
      ]
     },
     "execution_count": 3,
     "metadata": {},
     "output_type": "execute_result"
    }
   ],
   "source": [
    "def clean_text(txt):\n",
    "    txt = \"\".join(v for v in txt if v not in string.punctuation).lower()\n",
    "    txt = txt.encode(\"utf8\").decode(\"ascii\", 'ignore')\n",
    "    return txt\n",
    "\n",
    "\n",
    "corpus = [clean_text(x) for x in all_headlines]\n",
    "corpus[:10]"
   ]
  },
  {
   "cell_type": "markdown",
   "metadata": {
    "_cell_guid": "17a97528-5fb6-4268-b794-c992a2332965",
    "_uuid": "06c73089-ef49-4a2d-a83e-f7b7aba11ed2",
    "id": "HfT7iFZXlAN7"
   },
   "source": [
    "### Generating Sequence of N-gram Tokens"
   ]
  },
  {
   "cell_type": "code",
   "execution_count": 4,
   "metadata": {
    "_cell_guid": "97c4cbdf-6ea2-4f65-85bf-067bf92d7ebe",
    "_uuid": "bbd4f881-a50f-4241-8392-0fd593d42954",
    "execution": {
     "iopub.execute_input": "2022-03-17T19:49:45.216668Z",
     "iopub.status.busy": "2022-03-17T19:49:45.215753Z",
     "iopub.status.idle": "2022-03-17T19:49:45.268109Z",
     "shell.execute_reply": "2022-03-17T19:49:45.266989Z",
     "shell.execute_reply.started": "2022-03-17T19:49:45.216603Z"
    },
    "id": "q7gKTGijlAN8",
    "jupyter": {
     "outputs_hidden": false
    }
   },
   "outputs": [
    {
     "data": {
      "text/plain": [
       "[[660, 117],\n",
       " [660, 117, 72],\n",
       " [660, 117, 72, 73],\n",
       " [660, 117, 72, 73, 661],\n",
       " [660, 117, 72, 73, 661, 662],\n",
       " [660, 117, 72, 73, 661, 662, 63],\n",
       " [660, 117, 72, 73, 661, 662, 63, 29],\n",
       " [660, 117, 72, 73, 661, 662, 63, 29, 210],\n",
       " [211, 663],\n",
       " [211, 663, 664]]"
      ]
     },
     "execution_count": 4,
     "metadata": {},
     "output_type": "execute_result"
    }
   ],
   "source": [
    "tokenizer = Tokenizer()\n",
    "\n",
    "\n",
    "def get_sequence_of_tokens(corpus):\n",
    "    # tokenization\n",
    "    tokenizer.fit_on_texts(corpus)\n",
    "    total_words = len(tokenizer.word_index) + 1\n",
    "\n",
    "    # convert data to sequence of tokens\n",
    "    input_sequences = []\n",
    "    for line in corpus:\n",
    "        token_list = tokenizer.texts_to_sequences([line])[0]\n",
    "        for i in range(1, len(token_list)):\n",
    "            n_gram_sequence = token_list[:i + 1]\n",
    "            input_sequences.append(n_gram_sequence)\n",
    "    return input_sequences, total_words\n",
    "\n",
    "\n",
    "inp_sequences, total_words = get_sequence_of_tokens(corpus)\n",
    "inp_sequences[:10]"
   ]
  },
  {
   "cell_type": "markdown",
   "metadata": {
    "_cell_guid": "b43ff142-e4a0-4d60-9683-0165f79a4f5c",
    "_uuid": "46f2d573-710f-45be-99be-8a0142e1c776",
    "id": "CWxbd-rBlAN9"
   },
   "source": [
    "In the above output [30, 507], [30, 507, 11], [30, 507, 11, 1] and so on represents the ngram phrases generated from the input data. where every integer corresponds to the index of a particular word in the complete vocabulary of words present in the text.\n",
    "\n",
    "### Padding the Sequences and obtain Variables : Predictors and Target"
   ]
  },
  {
   "cell_type": "code",
   "execution_count": 5,
   "metadata": {
    "_cell_guid": "1a788688-076e-4e92-a215-4347b3469caf",
    "_uuid": "48e5f4b4-ca52-47ef-98eb-b23341ec5944",
    "execution": {
     "iopub.execute_input": "2022-03-17T19:49:45.270826Z",
     "iopub.status.busy": "2022-03-17T19:49:45.270184Z",
     "iopub.status.idle": "2022-03-17T19:49:45.360368Z",
     "shell.execute_reply": "2022-03-17T19:49:45.359450Z",
     "shell.execute_reply.started": "2022-03-17T19:49:45.270767Z"
    },
    "id": "1BpmeTCvlAN_",
    "jupyter": {
     "outputs_hidden": false
    }
   },
   "outputs": [],
   "source": [
    "def generate_padded_sequences(input_sequences):\n",
    "    max_sequence_len = max([len(x) for x in input_sequences])\n",
    "    input_sequences = np.array(\n",
    "        pad_sequences(input_sequences, maxlen=max_sequence_len, padding='pre'))\n",
    "\n",
    "    predictors, label = input_sequences[:, :-1], input_sequences[:, -1]\n",
    "    label = ku.to_categorical(label, num_classes=total_words)\n",
    "    return predictors, label, max_sequence_len\n",
    "\n",
    "\n",
    "predictors, label, max_sequence_len = generate_padded_sequences(inp_sequences)"
   ]
  },
  {
   "cell_type": "markdown",
   "metadata": {
    "_cell_guid": "cc75be7e-e85d-4401-916c-f017fe09fc83",
    "_uuid": "9135abd9-051f-4459-a4b3-1001d9fdfb57",
    "id": "z_nfxfNBlAOA"
   },
   "source": [
    "### USING THE LSTM FOR TEXT GENERATION"
   ]
  },
  {
   "cell_type": "code",
   "execution_count": 6,
   "metadata": {
    "_cell_guid": "6321c341-ef9c-4230-891a-80b87dd7055e",
    "_uuid": "6707f9f8-bdfc-47b2-9f39-843af988eed0",
    "execution": {
     "iopub.execute_input": "2022-03-17T19:49:45.362233Z",
     "iopub.status.busy": "2022-03-17T19:49:45.361880Z",
     "iopub.status.idle": "2022-03-17T19:49:45.765735Z",
     "shell.execute_reply": "2022-03-17T19:49:45.764887Z",
     "shell.execute_reply.started": "2022-03-17T19:49:45.362169Z"
    },
    "id": "M17tNIjFlAOC",
    "jupyter": {
     "outputs_hidden": false
    }
   },
   "outputs": [
    {
     "name": "stdout",
     "output_type": "stream",
     "text": [
      "_________________________________________________________________\n",
      "Layer (type)                 Output Shape              Param #   \n",
      "=================================================================\n",
      "embedding_1 (Embedding)      (None, 16, 10)            22880     \n",
      "_________________________________________________________________\n",
      "lstm_1 (LSTM)                (None, 100)               44400     \n",
      "_________________________________________________________________\n",
      "dropout_1 (Dropout)          (None, 100)               0         \n",
      "_________________________________________________________________\n",
      "dense_1 (Dense)              (None, 2288)              231088    \n",
      "=================================================================\n",
      "Total params: 298,368\n",
      "Trainable params: 298,368\n",
      "Non-trainable params: 0\n",
      "_________________________________________________________________\n"
     ]
    }
   ],
   "source": [
    "def create_model(max_sequence_len, total_words):\n",
    "    input_len = max_sequence_len - 1\n",
    "    model = Sequential()\n",
    "\n",
    "    # Add Input Embedding Layer\n",
    "    model.add(Embedding(total_words, 10, input_length=input_len))\n",
    "\n",
    "    # Add Hidden Layer 1 - LSTM Layer\n",
    "    model.add(LSTM(100))\n",
    "    model.add(Dropout(0.1))\n",
    "\n",
    "    # Add Output Layer\n",
    "    model.add(Dense(total_words, activation='softmax'))\n",
    "\n",
    "    model.compile(loss='categorical_crossentropy', optimizer='adam')\n",
    "\n",
    "    return model\n",
    "\n",
    "\n",
    "model = create_model(max_sequence_len, total_words)\n",
    "model.summary()"
   ]
  },
  {
   "cell_type": "markdown",
   "metadata": {
    "_cell_guid": "23d1a065-3d57-44bd-b220-0178243c8bb7",
    "_uuid": "a646c130-386a-44ec-895f-cea84410442c",
    "id": "5duLneoIlAOD"
   },
   "source": [
    "### TRAINING THE MODEL"
   ]
  },
  {
   "cell_type": "code",
   "execution_count": 7,
   "metadata": {
    "_cell_guid": "100c458b-0ef4-4590-b2fa-c02af0b437f4",
    "_uuid": "c551e670-7abb-4d44-84a6-a5c9a976a6b5",
    "execution": {
     "iopub.execute_input": "2022-03-17T19:49:45.768753Z",
     "iopub.status.busy": "2022-03-17T19:49:45.768449Z",
     "iopub.status.idle": "2022-03-17T19:57:46.536235Z",
     "shell.execute_reply": "2022-03-17T19:57:46.535329Z",
     "shell.execute_reply.started": "2022-03-17T19:49:45.768701Z"
    },
    "id": "86IJKXyelAOD",
    "jupyter": {
     "outputs_hidden": false
    }
   },
   "outputs": [
    {
     "name": "stdout",
     "output_type": "stream",
     "text": [
      "Epoch 1/100\n",
      "Epoch 2/100\n",
      "Epoch 3/100\n",
      "Epoch 4/100\n",
      "Epoch 5/100\n",
      "Epoch 6/100\n",
      "Epoch 7/100\n",
      "Epoch 8/100\n",
      "Epoch 9/100\n",
      "Epoch 10/100\n",
      "Epoch 11/100\n",
      "Epoch 12/100\n",
      "Epoch 13/100\n",
      "Epoch 14/100\n",
      "Epoch 15/100\n",
      "Epoch 16/100\n",
      "Epoch 17/100\n",
      "Epoch 18/100\n",
      "Epoch 19/100\n",
      "Epoch 20/100\n",
      "Epoch 21/100\n",
      "Epoch 22/100\n",
      "Epoch 23/100\n",
      "Epoch 24/100\n",
      "Epoch 25/100\n",
      "Epoch 26/100\n",
      "Epoch 27/100\n",
      "Epoch 28/100\n",
      "Epoch 29/100\n",
      "Epoch 30/100\n",
      "Epoch 31/100\n",
      "Epoch 32/100\n",
      "Epoch 33/100\n",
      "Epoch 34/100\n",
      "Epoch 35/100\n",
      "Epoch 36/100\n",
      "Epoch 37/100\n",
      "Epoch 38/100\n",
      "Epoch 39/100\n",
      "Epoch 40/100\n",
      "Epoch 41/100\n",
      "Epoch 42/100\n",
      "Epoch 43/100\n",
      "Epoch 44/100\n",
      "Epoch 45/100\n",
      "Epoch 46/100\n",
      "Epoch 47/100\n",
      "Epoch 48/100\n",
      "Epoch 49/100\n",
      "Epoch 50/100\n",
      "Epoch 51/100\n",
      "Epoch 52/100\n",
      "Epoch 53/100\n",
      "Epoch 54/100\n",
      "Epoch 55/100\n",
      "Epoch 56/100\n",
      "Epoch 57/100\n",
      "Epoch 58/100\n",
      "Epoch 59/100\n",
      "Epoch 60/100\n",
      "Epoch 61/100\n",
      "Epoch 62/100\n",
      "Epoch 63/100\n",
      "Epoch 64/100\n",
      "Epoch 65/100\n",
      "Epoch 66/100\n",
      "Epoch 67/100\n",
      "Epoch 68/100\n",
      "Epoch 69/100\n",
      "Epoch 70/100\n",
      "Epoch 71/100\n",
      "Epoch 72/100\n",
      "Epoch 73/100\n",
      "Epoch 74/100\n",
      "Epoch 75/100\n",
      "Epoch 76/100\n",
      "Epoch 77/100\n",
      "Epoch 78/100\n",
      "Epoch 79/100\n",
      "Epoch 80/100\n",
      "Epoch 81/100\n",
      "Epoch 82/100\n",
      "Epoch 83/100\n",
      "Epoch 84/100\n",
      "Epoch 85/100\n",
      "Epoch 86/100\n",
      "Epoch 87/100\n",
      "Epoch 88/100\n",
      "Epoch 89/100\n",
      "Epoch 90/100\n",
      "Epoch 91/100\n",
      "Epoch 92/100\n",
      "Epoch 93/100\n",
      "Epoch 94/100\n",
      "Epoch 95/100\n",
      "Epoch 96/100\n",
      "Epoch 97/100\n",
      "Epoch 98/100\n",
      "Epoch 99/100\n",
      "Epoch 100/100\n"
     ]
    },
    {
     "data": {
      "text/plain": [
       "<keras.callbacks.History at 0x7fdeacdb2d68>"
      ]
     },
     "execution_count": 7,
     "metadata": {},
     "output_type": "execute_result"
    }
   ],
   "source": [
    "model.fit(predictors, label, epochs=100, verbose=5)"
   ]
  },
  {
   "cell_type": "markdown",
   "metadata": {
    "_cell_guid": "b72203e7-7809-4df6-852b-68b68936bd37",
    "_uuid": "ed3caa42-760c-4322-b7b9-fc8885219882",
    "id": "6PRKvyCNlAOE"
   },
   "source": [
    "### GENERATING THE TEXT"
   ]
  },
  {
   "cell_type": "code",
   "execution_count": 8,
   "metadata": {
    "_cell_guid": "c0390cb6-03f1-44f1-8e5c-81a453c03c02",
    "_uuid": "00607e45-87b3-4f4e-a872-131b43636a91",
    "execution": {
     "iopub.execute_input": "2022-03-17T19:57:46.538421Z",
     "iopub.status.busy": "2022-03-17T19:57:46.538071Z",
     "iopub.status.idle": "2022-03-17T19:57:46.546414Z",
     "shell.execute_reply": "2022-03-17T19:57:46.545286Z",
     "shell.execute_reply.started": "2022-03-17T19:57:46.538350Z"
    },
    "id": "vtzey7NwlAOE",
    "jupyter": {
     "outputs_hidden": false
    }
   },
   "outputs": [],
   "source": [
    "def generate_text(seed_text, next_words, model, max_sequence_len):\n",
    "    for _ in range(next_words):\n",
    "        token_list = tokenizer.texts_to_sequences([seed_text])[0]\n",
    "        token_list = pad_sequences([token_list],\n",
    "                                   maxlen=max_sequence_len - 1,\n",
    "                                   padding='pre')\n",
    "        predicted = model.predict_classes(token_list, verbose=0)\n",
    "\n",
    "        output_word = \"\"\n",
    "        for word, index in tokenizer.word_index.items():\n",
    "            if index == predicted:\n",
    "                output_word = word\n",
    "                break\n",
    "        seed_text += \" \" + output_word\n",
    "    return seed_text.title()"
   ]
  },
  {
   "cell_type": "markdown",
   "metadata": {
    "_cell_guid": "e02a802b-d84a-4b04-9df7-2c149ebd507e",
    "_uuid": "cb882b4a-85aa-4e86-adb6-a457a2234861",
    "id": "tEbA1bRblAOF"
   },
   "source": [
    "### VERIFYING THE RESULTS"
   ]
  },
  {
   "cell_type": "code",
   "execution_count": 9,
   "metadata": {
    "_cell_guid": "fca43919-b373-4e10-a6cd-be8a28b87d6b",
    "_uuid": "5a7df37c-3245-4a45-8239-57f19b1b1745",
    "execution": {
     "iopub.execute_input": "2022-03-17T19:57:46.548913Z",
     "iopub.status.busy": "2022-03-17T19:57:46.548135Z",
     "iopub.status.idle": "2022-03-17T19:57:47.060515Z",
     "shell.execute_reply": "2022-03-17T19:57:47.059686Z",
     "shell.execute_reply.started": "2022-03-17T19:57:46.548851Z"
    },
    "id": "46j24zBBlAOF",
    "jupyter": {
     "outputs_hidden": false
    }
   },
   "outputs": [
    {
     "name": "stdout",
     "output_type": "stream",
     "text": [
      "United States Being Equal Media Obsesses On\n",
      "Preident Trump Vs Staff Rethink Tactics\n",
      "Donald Trump Master For Sports Champs\n",
      "India And China By Spy Rise With\n",
      "New York Today A Makeshift Law\n",
      "Science And Technology And Media Obsesses On Trump\n"
     ]
    }
   ],
   "source": [
    "print(generate_text(\"united states\", 5, model, max_sequence_len))\n",
    "print(generate_text(\"preident trump\", 4, model, max_sequence_len))\n",
    "print(generate_text(\"donald trump\", 4, model, max_sequence_len))\n",
    "print(generate_text(\"india and china\", 4, model, max_sequence_len))\n",
    "print(generate_text(\"new york\", 4, model, max_sequence_len))\n",
    "print(generate_text(\"science and technology\", 5, model, max_sequence_len))"
   ]
  }
 ],
 "metadata": {
  "kernelspec": {
   "display_name": "Python 3 (ipykernel)",
   "language": "python",
   "name": "python3"
  },
  "language_info": {
   "codemirror_mode": {
    "name": "ipython",
    "version": 3
   },
   "file_extension": ".py",
   "mimetype": "text/x-python",
   "name": "python",
   "nbconvert_exporter": "python",
   "pygments_lexer": "ipython3",
   "version": "3.9.7"
  },
  "nbTranslate": {
   "displayLangs": [
    "*"
   ],
   "hotkey": "alt-t",
   "langInMainMenu": true,
   "sourceLang": "en",
   "targetLang": "fr",
   "useGoogleTranslate": true
  },
  "toc": {
   "base_numbering": 1,
   "nav_menu": {},
   "number_sections": false,
   "sideBar": true,
   "skip_h1_title": false,
   "title_cell": "Table of Contents",
   "title_sidebar": "Contents",
   "toc_cell": false,
   "toc_position": {},
   "toc_section_display": true,
   "toc_window_display": false
  },
  "varInspector": {
   "cols": {
    "lenName": 16,
    "lenType": 16,
    "lenVar": 40
   },
   "kernels_config": {
    "python": {
     "delete_cmd_postfix": "",
     "delete_cmd_prefix": "del ",
     "library": "var_list.py",
     "varRefreshCmd": "print(var_dic_list())"
    },
    "r": {
     "delete_cmd_postfix": ") ",
     "delete_cmd_prefix": "rm(",
     "library": "var_list.r",
     "varRefreshCmd": "cat(var_dic_list()) "
    }
   },
   "types_to_exclude": [
    "module",
    "function",
    "builtin_function_or_method",
    "instance",
    "_Feature"
   ],
   "window_display": false
  }
 },
 "nbformat": 4,
 "nbformat_minor": 4
}
