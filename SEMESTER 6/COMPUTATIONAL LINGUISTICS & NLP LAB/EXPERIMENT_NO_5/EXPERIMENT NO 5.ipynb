{
 "cells": [
  {
   "cell_type": "markdown",
   "metadata": {
    "id": "O-Lrql2FWiO5"
   },
   "source": [
    "# EXPERIMENT NO 5"
   ]
  },
  {
   "cell_type": "markdown",
   "metadata": {
    "_uuid": "65559326e76d2b7841244e1dd6ea448671411b95",
    "id": "sEz6B506WiO-"
   },
   "source": [
    "## N - GRAM MODEL"
   ]
  },
  {
   "cell_type": "markdown",
   "metadata": {
    "id": "H3D8IA6lWiO_"
   },
   "source": [
    "### IMPORTING LIBRARIES"
   ]
  },
  {
   "cell_type": "code",
   "execution_count": 2,
   "metadata": {
    "ExecuteTime": {
     "end_time": "2022-03-15T16:54:18.224601Z",
     "start_time": "2022-03-15T16:54:15.959809Z"
    },
    "_uuid": "1b213fb0dd5534ce82d6f1c716e9695ba5cf9758",
    "execution": {
     "iopub.execute_input": "2022-03-15T15:45:51.315352Z",
     "iopub.status.busy": "2022-03-15T15:45:51.314972Z",
     "iopub.status.idle": "2022-03-15T15:45:51.321130Z",
     "shell.execute_reply": "2022-03-15T15:45:51.319994Z",
     "shell.execute_reply.started": "2022-03-15T15:45:51.315287Z"
    },
    "id": "ZhpZgslHWiPF"
   },
   "outputs": [],
   "source": [
    "from nltk.util import pad_sequence\n",
    "from nltk.util import bigrams\n",
    "from nltk.util import ngrams\n",
    "from nltk.util import everygrams\n",
    "from nltk.lm.preprocessing import pad_both_ends\n",
    "from nltk.lm.preprocessing import flatten\n",
    "from nltk.lm.preprocessing import padded_everygram_pipeline"
   ]
  },
  {
   "cell_type": "markdown",
   "metadata": {
    "id": "2g3moJ8nWiPG"
   },
   "source": [
    "### READING THE DATA FROM TEXT FILE"
   ]
  },
  {
   "cell_type": "code",
   "execution_count": 4,
   "metadata": {
    "ExecuteTime": {
     "end_time": "2022-03-15T16:55:43.382113Z",
     "start_time": "2022-03-15T16:55:43.374110Z"
    },
    "execution": {
     "iopub.execute_input": "2022-03-15T15:45:51.322715Z",
     "iopub.status.busy": "2022-03-15T15:45:51.322398Z",
     "iopub.status.idle": "2022-03-15T15:45:51.344270Z",
     "shell.execute_reply": "2022-03-15T15:45:51.343466Z",
     "shell.execute_reply.started": "2022-03-15T15:45:51.322656Z"
    },
    "id": "4j9K11hLWiPH"
   },
   "outputs": [],
   "source": [
    "file = open(\n",
    "    '/DOCUMENTS/COLLEGE/CLASSES/EXPERIMENT_NO_5/language-never-random.txt',\n",
    "    encoding='utf8')\n",
    "text = file.read()"
   ]
  },
  {
   "cell_type": "markdown",
   "metadata": {
    "_uuid": "4638a871a58694a77473a590728ebf25047cd6eb",
    "id": "XgwTugkaWiPI"
   },
   "source": [
    "### TOKENIZATION"
   ]
  },
  {
   "cell_type": "code",
   "execution_count": 6,
   "metadata": {
    "ExecuteTime": {
     "end_time": "2022-03-15T16:55:49.033714Z",
     "start_time": "2022-03-15T16:55:48.985731Z"
    },
    "_uuid": "c679084566e711286d861a622e21ca5c04db7bee",
    "colab": {
     "base_uri": "https://localhost:8080/"
    },
    "execution": {
     "iopub.execute_input": "2022-03-15T15:45:51.345852Z",
     "iopub.status.busy": "2022-03-15T15:45:51.345483Z",
     "iopub.status.idle": "2022-03-15T15:45:51.352801Z",
     "shell.execute_reply": "2022-03-15T15:45:51.351881Z",
     "shell.execute_reply.started": "2022-03-15T15:45:51.345785Z"
    },
    "id": "DbrLj8MNWiPJ",
    "outputId": "7a326151-2429-45a7-bfb7-d17fb9762816"
   },
   "outputs": [
    {
     "data": {
      "text/plain": [
       "['This', 'is', 'a', 'foobar', 'sentence', '.']"
      ]
     },
     "execution_count": 6,
     "metadata": {},
     "output_type": "execute_result"
    }
   ],
   "source": [
    "from nltk import word_tokenize, sent_tokenize\n",
    "\n",
    "word_tokenize(sent_tokenize(\"This is a foobar sentence. Yes it is.\")[0])"
   ]
  },
  {
   "cell_type": "code",
   "execution_count": 7,
   "metadata": {
    "ExecuteTime": {
     "end_time": "2022-03-15T16:55:50.284183Z",
     "start_time": "2022-03-15T16:55:50.180180Z"
    },
    "_uuid": "af4102fcbf643e09319ca6394c175ca64082fd19",
    "execution": {
     "iopub.execute_input": "2022-03-15T15:45:51.356176Z",
     "iopub.status.busy": "2022-03-15T15:45:51.355828Z",
     "iopub.status.idle": "2022-03-15T15:45:51.426361Z",
     "shell.execute_reply": "2022-03-15T15:45:51.425537Z",
     "shell.execute_reply.started": "2022-03-15T15:45:51.356113Z"
    },
    "id": "98msva7oWiPK"
   },
   "outputs": [],
   "source": [
    "# Tokenize the text.\n",
    "tokenized_text = [\n",
    "    list(map(str.lower, word_tokenize(sent))) for sent in sent_tokenize(text)\n",
    "]"
   ]
  },
  {
   "cell_type": "code",
   "execution_count": 8,
   "metadata": {
    "ExecuteTime": {
     "end_time": "2022-03-15T16:55:51.239922Z",
     "start_time": "2022-03-15T16:55:51.215901Z"
    },
    "_uuid": "9daa634f65b63882f7192a9489fba198970f3771",
    "colab": {
     "base_uri": "https://localhost:8080/"
    },
    "execution": {
     "iopub.execute_input": "2022-03-15T15:45:51.428751Z",
     "iopub.status.busy": "2022-03-15T15:45:51.428372Z",
     "iopub.status.idle": "2022-03-15T15:45:51.435844Z",
     "shell.execute_reply": "2022-03-15T15:45:51.434815Z",
     "shell.execute_reply.started": "2022-03-15T15:45:51.428665Z"
    },
    "id": "lm1NTGafWiPL",
    "outputId": "897b8c88-c133-45ef-af95-3cdeb171dbad"
   },
   "outputs": [
    {
     "data": {
      "text/plain": [
       "['language',\n",
       " 'is',\n",
       " 'never',\n",
       " ',',\n",
       " 'ever',\n",
       " ',',\n",
       " 'ever',\n",
       " ',',\n",
       " 'random',\n",
       " 'adam',\n",
       " 'kilgarriff',\n",
       " 'abstract',\n",
       " 'language',\n",
       " 'users',\n",
       " 'never',\n",
       " 'choose',\n",
       " 'words',\n",
       " 'randomly',\n",
       " ',',\n",
       " 'and',\n",
       " 'language',\n",
       " 'is',\n",
       " 'essentially',\n",
       " 'non-random',\n",
       " '.']"
      ]
     },
     "execution_count": 8,
     "metadata": {},
     "output_type": "execute_result"
    }
   ],
   "source": [
    "tokenized_text[0]"
   ]
  },
  {
   "cell_type": "code",
   "execution_count": 9,
   "metadata": {
    "ExecuteTime": {
     "end_time": "2022-03-15T16:55:53.095697Z",
     "start_time": "2022-03-15T16:55:53.087698Z"
    },
    "_uuid": "91c93337cfea53b0c15a6e8617395dab872fb140",
    "colab": {
     "base_uri": "https://localhost:8080/"
    },
    "execution": {
     "iopub.execute_input": "2022-03-15T15:45:51.437675Z",
     "iopub.status.busy": "2022-03-15T15:45:51.437419Z",
     "iopub.status.idle": "2022-03-15T15:45:51.445252Z",
     "shell.execute_reply": "2022-03-15T15:45:51.444584Z",
     "shell.execute_reply.started": "2022-03-15T15:45:51.437634Z"
    },
    "id": "2zvZ7mjhWiPM",
    "outputId": "8f48dd35-ed5f-4168-db34-a2c6ee53a54a"
   },
   "outputs": [
    {
     "name": "stdout",
     "output_type": "stream",
     "text": [
      "                       Language is never, ever, ever, random\n",
      "\n",
      "                                                               ADAM KILGARRIFF\n",
      "\n",
      "\n",
      "\n",
      "\n",
      "Abstract\n",
      "Language users never choose words randomly, and language is essentially\n",
      "non-random. Statistical hypothesis testing uses a null hypothesis, which\n",
      "posits randomness. Hence, when we look at linguistic phenomena in cor-\n",
      "pora, the null hypothesis will never be true. Moreover, where there is enough\n",
      "data, we shall (almost) always be able to establish \n"
     ]
    }
   ],
   "source": [
    "print(text[:500])"
   ]
  },
  {
   "cell_type": "markdown",
   "metadata": {
    "id": "1tK3-0OwWiPM"
   },
   "source": [
    "### READING THE DATA FROM A DATASET"
   ]
  },
  {
   "cell_type": "code",
   "execution_count": 10,
   "metadata": {
    "ExecuteTime": {
     "end_time": "2022-03-15T16:56:16.238652Z",
     "start_time": "2022-03-15T16:56:15.110670Z"
    },
    "_uuid": "caf5fea33f84e06c3cf613136ec33f80e774fc98",
    "colab": {
     "base_uri": "https://localhost:8080/",
     "height": 635
    },
    "execution": {
     "iopub.execute_input": "2022-03-15T15:45:51.446487Z",
     "iopub.status.busy": "2022-03-15T15:45:51.446226Z",
     "iopub.status.idle": "2022-03-15T15:45:51.524321Z",
     "shell.execute_reply": "2022-03-15T15:45:51.523346Z",
     "shell.execute_reply.started": "2022-03-15T15:45:51.446439Z"
    },
    "id": "hpMmBm1rWiPN",
    "outputId": "394c2563-2d39-49c1-b12d-956b24f5299a"
   },
   "outputs": [
    {
     "data": {
      "text/html": [
       "<div>\n",
       "<style scoped>\n",
       "    .dataframe tbody tr th:only-of-type {\n",
       "        vertical-align: middle;\n",
       "    }\n",
       "\n",
       "    .dataframe tbody tr th {\n",
       "        vertical-align: top;\n",
       "    }\n",
       "\n",
       "    .dataframe thead th {\n",
       "        text-align: right;\n",
       "    }\n",
       "</style>\n",
       "<table border=\"1\" class=\"dataframe\">\n",
       "  <thead>\n",
       "    <tr style=\"text-align: right;\">\n",
       "      <th></th>\n",
       "      <th>Date</th>\n",
       "      <th>Time</th>\n",
       "      <th>Tweet_Text</th>\n",
       "      <th>Type</th>\n",
       "      <th>Media_Type</th>\n",
       "      <th>Hashtags</th>\n",
       "      <th>Tweet_Id</th>\n",
       "      <th>Tweet_Url</th>\n",
       "      <th>twt_favourites_IS_THIS_LIKE_QUESTION_MARK</th>\n",
       "      <th>Retweets</th>\n",
       "      <th>Unnamed: 10</th>\n",
       "      <th>Unnamed: 11</th>\n",
       "    </tr>\n",
       "  </thead>\n",
       "  <tbody>\n",
       "    <tr>\n",
       "      <th>0</th>\n",
       "      <td>16-11-11</td>\n",
       "      <td>15:26:37</td>\n",
       "      <td>Today we express our deepest gratitude to all ...</td>\n",
       "      <td>text</td>\n",
       "      <td>photo</td>\n",
       "      <td>ThankAVet</td>\n",
       "      <td>7.970000e+17</td>\n",
       "      <td>https://twitter.com/realDonaldTrump/status/797...</td>\n",
       "      <td>127213</td>\n",
       "      <td>41112</td>\n",
       "      <td>NaN</td>\n",
       "      <td>NaN</td>\n",
       "    </tr>\n",
       "    <tr>\n",
       "      <th>1</th>\n",
       "      <td>16-11-11</td>\n",
       "      <td>13:33:35</td>\n",
       "      <td>Busy day planned in New York. Will soon be mak...</td>\n",
       "      <td>text</td>\n",
       "      <td>NaN</td>\n",
       "      <td>NaN</td>\n",
       "      <td>7.970000e+17</td>\n",
       "      <td>https://twitter.com/realDonaldTrump/status/797...</td>\n",
       "      <td>141527</td>\n",
       "      <td>28654</td>\n",
       "      <td>NaN</td>\n",
       "      <td>NaN</td>\n",
       "    </tr>\n",
       "    <tr>\n",
       "      <th>2</th>\n",
       "      <td>16-11-11</td>\n",
       "      <td>11:14:20</td>\n",
       "      <td>Love the fact that the small groups of protest...</td>\n",
       "      <td>text</td>\n",
       "      <td>NaN</td>\n",
       "      <td>NaN</td>\n",
       "      <td>7.970000e+17</td>\n",
       "      <td>https://twitter.com/realDonaldTrump/status/797...</td>\n",
       "      <td>183729</td>\n",
       "      <td>50039</td>\n",
       "      <td>NaN</td>\n",
       "      <td>NaN</td>\n",
       "    </tr>\n",
       "    <tr>\n",
       "      <th>3</th>\n",
       "      <td>16-11-11</td>\n",
       "      <td>2:19:44</td>\n",
       "      <td>Just had a very open and successful presidenti...</td>\n",
       "      <td>text</td>\n",
       "      <td>NaN</td>\n",
       "      <td>NaN</td>\n",
       "      <td>7.970000e+17</td>\n",
       "      <td>https://twitter.com/realDonaldTrump/status/796...</td>\n",
       "      <td>214001</td>\n",
       "      <td>67010</td>\n",
       "      <td>NaN</td>\n",
       "      <td>NaN</td>\n",
       "    </tr>\n",
       "    <tr>\n",
       "      <th>4</th>\n",
       "      <td>16-11-11</td>\n",
       "      <td>2:10:46</td>\n",
       "      <td>A fantastic day in D.C. Met with President Oba...</td>\n",
       "      <td>text</td>\n",
       "      <td>NaN</td>\n",
       "      <td>NaN</td>\n",
       "      <td>7.970000e+17</td>\n",
       "      <td>https://twitter.com/realDonaldTrump/status/796...</td>\n",
       "      <td>178499</td>\n",
       "      <td>36688</td>\n",
       "      <td>NaN</td>\n",
       "      <td>NaN</td>\n",
       "    </tr>\n",
       "  </tbody>\n",
       "</table>\n",
       "</div>"
      ],
      "text/plain": [
       "       Date      Time                                         Tweet_Text  \\\n",
       "0  16-11-11  15:26:37  Today we express our deepest gratitude to all ...   \n",
       "1  16-11-11  13:33:35  Busy day planned in New York. Will soon be mak...   \n",
       "2  16-11-11  11:14:20  Love the fact that the small groups of protest...   \n",
       "3  16-11-11   2:19:44  Just had a very open and successful presidenti...   \n",
       "4  16-11-11   2:10:46  A fantastic day in D.C. Met with President Oba...   \n",
       "\n",
       "   Type Media_Type   Hashtags      Tweet_Id  \\\n",
       "0  text      photo  ThankAVet  7.970000e+17   \n",
       "1  text        NaN        NaN  7.970000e+17   \n",
       "2  text        NaN        NaN  7.970000e+17   \n",
       "3  text        NaN        NaN  7.970000e+17   \n",
       "4  text        NaN        NaN  7.970000e+17   \n",
       "\n",
       "                                           Tweet_Url  \\\n",
       "0  https://twitter.com/realDonaldTrump/status/797...   \n",
       "1  https://twitter.com/realDonaldTrump/status/797...   \n",
       "2  https://twitter.com/realDonaldTrump/status/797...   \n",
       "3  https://twitter.com/realDonaldTrump/status/796...   \n",
       "4  https://twitter.com/realDonaldTrump/status/796...   \n",
       "\n",
       "   twt_favourites_IS_THIS_LIKE_QUESTION_MARK  Retweets  Unnamed: 10  \\\n",
       "0                                     127213     41112          NaN   \n",
       "1                                     141527     28654          NaN   \n",
       "2                                     183729     50039          NaN   \n",
       "3                                     214001     67010          NaN   \n",
       "4                                     178499     36688          NaN   \n",
       "\n",
       "   Unnamed: 11  \n",
       "0          NaN  \n",
       "1          NaN  \n",
       "2          NaN  \n",
       "3          NaN  \n",
       "4          NaN  "
      ]
     },
     "execution_count": 10,
     "metadata": {},
     "output_type": "execute_result"
    }
   ],
   "source": [
    "import pandas as pd\n",
    "\n",
    "df = pd.read_csv(\n",
    "    '/DOCUMENTS/COLLEGE/CLASSES/EXPERIMENT_NO_5/Donald-Tweets!.csv')\n",
    "df.head()"
   ]
  },
  {
   "cell_type": "code",
   "execution_count": 11,
   "metadata": {
    "ExecuteTime": {
     "end_time": "2022-03-15T16:56:19.366218Z",
     "start_time": "2022-03-15T16:56:16.820509Z"
    },
    "_uuid": "a15d9d1a754ca357ae79e8390069b08b05320458",
    "execution": {
     "iopub.execute_input": "2022-03-15T15:45:51.525819Z",
     "iopub.status.busy": "2022-03-15T15:45:51.525546Z",
     "iopub.status.idle": "2022-03-15T15:45:53.644870Z",
     "shell.execute_reply": "2022-03-15T15:45:53.644091Z",
     "shell.execute_reply.started": "2022-03-15T15:45:51.525768Z"
    },
    "id": "V_y2IO6PWiPO"
   },
   "outputs": [],
   "source": [
    "trump_corpus = list(df['Tweet_Text'].apply(word_tokenize))"
   ]
  },
  {
   "cell_type": "markdown",
   "metadata": {
    "id": "dQ3PrBICWiPO"
   },
   "source": [
    "### PREPROCESSIMNG TASK"
   ]
  },
  {
   "cell_type": "code",
   "execution_count": 12,
   "metadata": {
    "ExecuteTime": {
     "end_time": "2022-03-15T16:56:20.717255Z",
     "start_time": "2022-03-15T16:56:20.693175Z"
    },
    "_uuid": "8724b8724cc52b685205047bd1fda649545a6a24",
    "execution": {
     "iopub.execute_input": "2022-03-15T15:45:53.646742Z",
     "iopub.status.busy": "2022-03-15T15:45:53.646347Z",
     "iopub.status.idle": "2022-03-15T15:45:53.650977Z",
     "shell.execute_reply": "2022-03-15T15:45:53.649849Z",
     "shell.execute_reply.started": "2022-03-15T15:45:53.646581Z"
    },
    "id": "0nu8q4OxWiPP"
   },
   "outputs": [],
   "source": [
    "# Preprocess the tokenized text for 3-grams language modelling\n",
    "n = 3\n",
    "train_data, padded_sents = padded_everygram_pipeline(n, trump_corpus)"
   ]
  },
  {
   "cell_type": "markdown",
   "metadata": {
    "id": "84XFBA3bWiPP"
   },
   "source": [
    "### MODEL TRAINING"
   ]
  },
  {
   "cell_type": "code",
   "execution_count": 13,
   "metadata": {
    "ExecuteTime": {
     "end_time": "2022-03-15T16:56:29.239619Z",
     "start_time": "2022-03-15T16:56:22.448785Z"
    },
    "_uuid": "c5010b607062f6f2dd0ccf011bb9004e1e3dcee7",
    "execution": {
     "iopub.execute_input": "2022-03-15T15:45:53.652447Z",
     "iopub.status.busy": "2022-03-15T15:45:53.652200Z",
     "iopub.status.idle": "2022-03-15T15:45:59.134227Z",
     "shell.execute_reply": "2022-03-15T15:45:59.133410Z",
     "shell.execute_reply.started": "2022-03-15T15:45:53.652404Z"
    },
    "id": "x6w5zJ-dWiPP"
   },
   "outputs": [],
   "source": [
    "from nltk.lm import MLE\n",
    "\n",
    "trump_model = MLE(n)\n",
    "trump_model.fit(train_data, padded_sents)"
   ]
  },
  {
   "cell_type": "code",
   "execution_count": 14,
   "metadata": {
    "ExecuteTime": {
     "end_time": "2022-03-15T16:56:30.499130Z",
     "start_time": "2022-03-15T16:56:30.483148Z"
    },
    "execution": {
     "iopub.execute_input": "2022-03-15T15:45:59.136272Z",
     "iopub.status.busy": "2022-03-15T15:45:59.135887Z",
     "iopub.status.idle": "2022-03-15T15:45:59.143201Z",
     "shell.execute_reply": "2022-03-15T15:45:59.142068Z",
     "shell.execute_reply.started": "2022-03-15T15:45:59.136203Z"
    },
    "id": "uss8rechWiPQ"
   },
   "outputs": [],
   "source": [
    "from nltk.tokenize.treebank import TreebankWordDetokenizer\n",
    "\n",
    "detokenize = TreebankWordDetokenizer().detokenize\n",
    "\n",
    "\n",
    "def generate_sent(model, num_words, random_seed=42):\n",
    "    \"\"\"\n",
    "    :param model: An ngram language model from `nltk.lm.model`.\n",
    "    :param num_words: Max no. of words to generate.\n",
    "    :param random_seed: Seed value for random.\n",
    "    \"\"\"\n",
    "    content = []\n",
    "    for token in model.generate(num_words, random_seed=random_seed):\n",
    "        if token == '<s>':\n",
    "            continue\n",
    "        if token == '</s>':\n",
    "            break\n",
    "        content.append(token)\n",
    "    return detokenize(content)"
   ]
  },
  {
   "cell_type": "code",
   "execution_count": 15,
   "metadata": {
    "ExecuteTime": {
     "end_time": "2022-03-15T16:56:32.939942Z",
     "start_time": "2022-03-15T16:56:32.803949Z"
    },
    "_uuid": "8036f1ae5e0e1438d1d2981026766cdacd4479aa",
    "colab": {
     "base_uri": "https://localhost:8080/",
     "height": 35
    },
    "execution": {
     "iopub.execute_input": "2022-03-15T15:45:59.145074Z",
     "iopub.status.busy": "2022-03-15T15:45:59.144678Z",
     "iopub.status.idle": "2022-03-15T15:45:59.250335Z",
     "shell.execute_reply": "2022-03-15T15:45:59.249775Z",
     "shell.execute_reply.started": "2022-03-15T15:45:59.145034Z"
    },
    "id": "5xzXd53vWiPR",
    "outputId": "85b93078-a708-47b4-c711-c665931be370"
   },
   "outputs": [
    {
     "data": {
      "text/plain": [
       "'call list for my press conference on taxes at 11AM at @ TwitterNYC http: //t.co/h4UOeJFW92'"
      ]
     },
     "execution_count": 15,
     "metadata": {},
     "output_type": "execute_result"
    }
   ],
   "source": [
    "generate_sent(trump_model, num_words=20, random_seed=42)"
   ]
  },
  {
   "cell_type": "code",
   "execution_count": 16,
   "metadata": {
    "ExecuteTime": {
     "end_time": "2022-03-15T16:56:34.122629Z",
     "start_time": "2022-03-15T16:56:34.010627Z"
    },
    "_uuid": "defe4e4899cb14300710eb0c7786a6f2e894455d",
    "colab": {
     "base_uri": "https://localhost:8080/",
     "height": 35
    },
    "execution": {
     "iopub.execute_input": "2022-03-15T15:45:59.251849Z",
     "iopub.status.busy": "2022-03-15T15:45:59.251457Z",
     "iopub.status.idle": "2022-03-15T15:45:59.339579Z",
     "shell.execute_reply": "2022-03-15T15:45:59.338658Z",
     "shell.execute_reply.started": "2022-03-15T15:45:59.251654Z"
    },
    "id": "0DiEiBbuWiPS",
    "outputId": "b50f8925-0306-42ad-c232-291641a71644"
   },
   "outputs": [
    {
     "data": {
      "text/plain": [
       "'picked up the mess the U.S. is looking very bad'"
      ]
     },
     "execution_count": 16,
     "metadata": {},
     "output_type": "execute_result"
    }
   ],
   "source": [
    "generate_sent(trump_model, num_words=10, random_seed=0)"
   ]
  },
  {
   "cell_type": "code",
   "execution_count": 17,
   "metadata": {
    "ExecuteTime": {
     "end_time": "2022-03-15T16:56:34.994136Z",
     "start_time": "2022-03-15T16:56:34.826118Z"
    },
    "_uuid": "eba7934efa5a5e6b818e951c5daec9e9f621ca26",
    "colab": {
     "base_uri": "https://localhost:8080/",
     "height": 53
    },
    "execution": {
     "iopub.execute_input": "2022-03-15T15:45:59.341067Z",
     "iopub.status.busy": "2022-03-15T15:45:59.340792Z",
     "iopub.status.idle": "2022-03-15T15:45:59.473132Z",
     "shell.execute_reply": "2022-03-15T15:45:59.472070Z",
     "shell.execute_reply.started": "2022-03-15T15:45:59.341017Z"
    },
    "id": "8M5MZ2wjWiPS",
    "outputId": "3faa874b-23bd-4ed6-b56a-55f6aba76377"
   },
   "outputs": [
    {
     "data": {
      "text/plain": [
       "'\\\\\" @ about_life: @ realDonaldTrump Trumps new VA plan will help the veterans like no one is even higher than anticipated in radical Islamic terrorism, as her running mate @ realDonaldTrump Trumps new VA plan will help the veterans like no one is even higher than anticipated in'"
      ]
     },
     "execution_count": 17,
     "metadata": {},
     "output_type": "execute_result"
    }
   ],
   "source": [
    "generate_sent(trump_model, num_words=50, random_seed=10)"
   ]
  },
  {
   "cell_type": "code",
   "execution_count": 18,
   "metadata": {
    "ExecuteTime": {
     "end_time": "2022-03-15T16:56:35.908922Z",
     "start_time": "2022-03-15T16:56:35.780908Z"
    },
    "_uuid": "3ec48d8d44b2f57b16249e12b845f43f52faadca",
    "colab": {
     "base_uri": "https://localhost:8080/"
    },
    "execution": {
     "iopub.execute_input": "2022-03-15T15:45:59.475044Z",
     "iopub.status.busy": "2022-03-15T15:45:59.474674Z",
     "iopub.status.idle": "2022-03-15T15:45:59.570843Z",
     "shell.execute_reply": "2022-03-15T15:45:59.570220Z",
     "shell.execute_reply.started": "2022-03-15T15:45:59.474977Z"
    },
    "id": "70IajzqaWiPU",
    "outputId": "d4e29b1a-2ab0-4294-bfe1-ba7fa6959c6a"
   },
   "outputs": [
    {
     "name": "stdout",
     "output_type": "stream",
     "text": [
      "will win this thing! GET OUT TO VOTE Then``WE THE PEOPLE love you trump\"Nice\n"
     ]
    }
   ],
   "source": [
    "print(generate_sent(trump_model, num_words=100, random_seed=52))"
   ]
  }
 ],
 "metadata": {
  "colab": {
   "name": "EXPERIMENT NO 5.ipynb",
   "provenance": []
  },
  "kernelspec": {
   "display_name": "Python 3 (ipykernel)",
   "language": "python",
   "name": "python3"
  },
  "language_info": {
   "codemirror_mode": {
    "name": "ipython",
    "version": 3
   },
   "file_extension": ".py",
   "mimetype": "text/x-python",
   "name": "python",
   "nbconvert_exporter": "python",
   "pygments_lexer": "ipython3",
   "version": "3.9.7"
  },
  "nbTranslate": {
   "displayLangs": [
    "*"
   ],
   "hotkey": "alt-t",
   "langInMainMenu": true,
   "sourceLang": "en",
   "targetLang": "fr",
   "useGoogleTranslate": true
  },
  "toc": {
   "base_numbering": 1,
   "nav_menu": {},
   "number_sections": false,
   "sideBar": true,
   "skip_h1_title": false,
   "title_cell": "Table of Contents",
   "title_sidebar": "Contents",
   "toc_cell": false,
   "toc_position": {},
   "toc_section_display": true,
   "toc_window_display": false
  },
  "varInspector": {
   "cols": {
    "lenName": 16,
    "lenType": 16,
    "lenVar": 40
   },
   "kernels_config": {
    "python": {
     "delete_cmd_postfix": "",
     "delete_cmd_prefix": "del ",
     "library": "var_list.py",
     "varRefreshCmd": "print(var_dic_list())"
    },
    "r": {
     "delete_cmd_postfix": ") ",
     "delete_cmd_prefix": "rm(",
     "library": "var_list.r",
     "varRefreshCmd": "cat(var_dic_list()) "
    }
   },
   "types_to_exclude": [
    "module",
    "function",
    "builtin_function_or_method",
    "instance",
    "_Feature"
   ],
   "window_display": false
  }
 },
 "nbformat": 4,
 "nbformat_minor": 1
}
