{
 "cells": [
  {
   "cell_type": "markdown",
   "id": "b5d7d47f",
   "metadata": {},
   "source": [
    "# EXPERIMENT NO 2"
   ]
  },
  {
   "cell_type": "markdown",
   "id": "ec3d6bb6",
   "metadata": {},
   "source": [
    "## COLLECTING & SAVING TWITTER DATA"
   ]
  },
  {
   "cell_type": "markdown",
   "id": "a135b4a9",
   "metadata": {},
   "source": [
    "## 1. DOWNLOADING THE TWITTER DATA"
   ]
  },
  {
   "cell_type": "code",
   "execution_count": 1,
   "id": "c432e3e7",
   "metadata": {
    "ExecuteTime": {
     "end_time": "2022-02-07T07:12:12.674082Z",
     "start_time": "2022-02-07T07:12:11.409959Z"
    },
    "scrolled": true
   },
   "outputs": [],
   "source": [
    "# Importing Libraries\n",
    "\n",
    "import tweepy as tw\n",
    "\n",
    "import pandas as pd\n",
    "\n",
    "import numpy as np"
   ]
  },
  {
   "cell_type": "code",
   "execution_count": 2,
   "id": "549d91ff",
   "metadata": {
    "ExecuteTime": {
     "end_time": "2022-02-07T07:12:12.722065Z",
     "start_time": "2022-02-07T07:12:12.706042Z"
    },
    "scrolled": true
   },
   "outputs": [],
   "source": [
    "# gathering the consumer key and secret\n",
    "\n",
    "api_key = 'iR8RR78dKB5Cji5RikrPacFYC'\n",
    "api_key_secret = '3VnG6gZRPzP4EF2bEZAeUXFblLVXZWZlJ4HYb4JuWAAK5LMNit'\n",
    "access_token = '797899482566369280-EERRBmQbu2H8EqTAfUQoDJSweO8U3Kb'\n",
    "access_token_secret = 'IxEx6OW5d7MtOaW8ZW57bkAlFf5t70IPoE01yldyzPwlB'"
   ]
  },
  {
   "cell_type": "code",
   "execution_count": 3,
   "id": "36dedeb6",
   "metadata": {
    "ExecuteTime": {
     "end_time": "2022-02-07T07:12:12.770051Z",
     "start_time": "2022-02-07T07:12:12.754075Z"
    },
    "scrolled": false
   },
   "outputs": [],
   "source": [
    "# searching keyword name\n",
    "\n",
    "search_words = \"#Budget2022\"\n",
    "\n",
    "# searching number of tweets\n",
    "\n",
    "number_posts = 1000"
   ]
  },
  {
   "cell_type": "code",
   "execution_count": 4,
   "id": "fb96637a",
   "metadata": {
    "ExecuteTime": {
     "end_time": "2022-02-07T07:12:13.790063Z",
     "start_time": "2022-02-07T07:12:13.774043Z"
    },
    "scrolled": true
   },
   "outputs": [],
   "source": [
    "# using the Oauth for accessing tweets\n",
    "\n",
    "auth = tw.OAuthHandler(api_key, api_key_secret)\n",
    "auth.set_access_token(access_token, access_token_secret)\n",
    "api = tw.API(auth, wait_on_rate_limit=True)"
   ]
  },
  {
   "cell_type": "code",
   "execution_count": 5,
   "id": "2c21bfab",
   "metadata": {
    "ExecuteTime": {
     "end_time": "2022-02-07T07:12:51.680369Z",
     "start_time": "2022-02-07T07:12:14.500519Z"
    },
    "scrolled": false
   },
   "outputs": [],
   "source": [
    "# downloading the tweets\n",
    "\n",
    "tweets = tw.Cursor(api.search_tweets, q=search_words,\n",
    "                   lang='en').items(number_posts)\n",
    "\n",
    "# list to store downloaded data\n",
    "\n",
    "tweets_text = []\n",
    "\n",
    "# downloading diffrent attributes\n",
    "\n",
    "for tweet in tweets:\n",
    "    tweets_text.append([\n",
    "        tweet.user.screen_name, tweet.user.name, tweet.user.description,\n",
    "        tweet.text, tweet.user.location, tweet.user.followers_count,\n",
    "        tweet.source, tweet.created_at, tweet.user.friends_count\n",
    "    ])"
   ]
  },
  {
   "cell_type": "markdown",
   "id": "a0a2e322",
   "metadata": {},
   "source": [
    "### 2.STORING THE DOWNLOADED DATA"
   ]
  },
  {
   "cell_type": "code",
   "execution_count": 6,
   "id": "44deead0",
   "metadata": {
    "ExecuteTime": {
     "end_time": "2022-02-07T07:13:07.861116Z",
     "start_time": "2022-02-07T07:13:07.755143Z"
    },
    "scrolled": true
   },
   "outputs": [
    {
     "data": {
      "text/html": [
       "<div>\n",
       "<style scoped>\n",
       "    .dataframe tbody tr th:only-of-type {\n",
       "        vertical-align: middle;\n",
       "    }\n",
       "\n",
       "    .dataframe tbody tr th {\n",
       "        vertical-align: top;\n",
       "    }\n",
       "\n",
       "    .dataframe thead th {\n",
       "        text-align: right;\n",
       "    }\n",
       "</style>\n",
       "<table border=\"1\" class=\"dataframe\">\n",
       "  <thead>\n",
       "    <tr style=\"text-align: right;\">\n",
       "      <th></th>\n",
       "      <th>User_Name</th>\n",
       "      <th>Name</th>\n",
       "      <th>Description (Status)</th>\n",
       "      <th>Tweets Posted</th>\n",
       "      <th>Location</th>\n",
       "      <th>No of Followers</th>\n",
       "      <th>Device Used for Tweet</th>\n",
       "      <th>Date of Tweet Creation</th>\n",
       "      <th>No of Friends</th>\n",
       "    </tr>\n",
       "  </thead>\n",
       "  <tbody>\n",
       "    <tr>\n",
       "      <th>0</th>\n",
       "      <td>AdarshPallav</td>\n",
       "      <td>Adarsh Pallav</td>\n",
       "      <td></td>\n",
       "      <td>RT @satishacharya: Blueprint for 25 years! #Bu...</td>\n",
       "      <td></td>\n",
       "      <td>7</td>\n",
       "      <td>Twitter for Android</td>\n",
       "      <td>2022-02-07 07:11:43+00:00</td>\n",
       "      <td>38</td>\n",
       "    </tr>\n",
       "    <tr>\n",
       "      <th>1</th>\n",
       "      <td>bsindia</td>\n",
       "      <td>Business Standard</td>\n",
       "      <td>Latest news on the economy, companies, markets...</td>\n",
       "      <td>#BSMorningShow | Will #RBI go for a hike in re...</td>\n",
       "      <td>India</td>\n",
       "      <td>2178279</td>\n",
       "      <td>TweetDeck</td>\n",
       "      <td>2022-02-07 07:11:00+00:00</td>\n",
       "      <td>430</td>\n",
       "    </tr>\n",
       "    <tr>\n",
       "      <th>2</th>\n",
       "      <td>bsindia</td>\n",
       "      <td>Business Standard</td>\n",
       "      <td>Latest news on the economy, companies, markets...</td>\n",
       "      <td>#BSMornigShow | Will #RBI go for a hike in rev...</td>\n",
       "      <td>India</td>\n",
       "      <td>2178279</td>\n",
       "      <td>Twitter Web App</td>\n",
       "      <td>2022-02-07 07:10:43+00:00</td>\n",
       "      <td>430</td>\n",
       "    </tr>\n",
       "    <tr>\n",
       "      <th>3</th>\n",
       "      <td>bsindia</td>\n",
       "      <td>Business Standard</td>\n",
       "      <td>Latest news on the economy, companies, markets...</td>\n",
       "      <td>#BSMorningShow | Business Standard’s @aruproyt...</td>\n",
       "      <td>India</td>\n",
       "      <td>2178279</td>\n",
       "      <td>TweetDeck</td>\n",
       "      <td>2022-02-07 07:10:00+00:00</td>\n",
       "      <td>430</td>\n",
       "    </tr>\n",
       "    <tr>\n",
       "      <th>4</th>\n",
       "      <td>orfonline</td>\n",
       "      <td>ORF</td>\n",
       "      <td>Non–partisan, independent analyses on security...</td>\n",
       "      <td>Tax concessions for co-operative societies is ...</td>\n",
       "      <td>India</td>\n",
       "      <td>106444</td>\n",
       "      <td>TweetDeck</td>\n",
       "      <td>2022-02-07 07:10:00+00:00</td>\n",
       "      <td>136</td>\n",
       "    </tr>\n",
       "    <tr>\n",
       "      <th>...</th>\n",
       "      <td>...</td>\n",
       "      <td>...</td>\n",
       "      <td>...</td>\n",
       "      <td>...</td>\n",
       "      <td>...</td>\n",
       "      <td>...</td>\n",
       "      <td>...</td>\n",
       "      <td>...</td>\n",
       "      <td>...</td>\n",
       "    </tr>\n",
       "    <tr>\n",
       "      <th>995</th>\n",
       "      <td>VikramB12Singh</td>\n",
       "      <td>विक्रम बहादुर सिंह</td>\n",
       "      <td>सहेयक आचार्य (Assistant Professor)</td>\n",
       "      <td>RT @IncomeTaxIndia: Budget Highlights:\\nKey Di...</td>\n",
       "      <td>जांजगीरचांपा छत्तीसगढ, भरतखण्ड</td>\n",
       "      <td>467</td>\n",
       "      <td>Twitter for Android</td>\n",
       "      <td>2022-02-06 16:54:20+00:00</td>\n",
       "      <td>2205</td>\n",
       "    </tr>\n",
       "    <tr>\n",
       "      <th>996</th>\n",
       "      <td>TheRationalDesi</td>\n",
       "      <td>Rational One</td>\n",
       "      <td></td>\n",
       "      <td>#Budget2022 #Congress #BJPHataoDeshBachao #UPE...</td>\n",
       "      <td></td>\n",
       "      <td>0</td>\n",
       "      <td>Twitter Web App</td>\n",
       "      <td>2022-02-06 16:54:16+00:00</td>\n",
       "      <td>58</td>\n",
       "    </tr>\n",
       "    <tr>\n",
       "      <th>997</th>\n",
       "      <td>VikramB12Singh</td>\n",
       "      <td>विक्रम बहादुर सिंह</td>\n",
       "      <td>सहेयक आचार्य (Assistant Professor)</td>\n",
       "      <td>RT @cbic_india: Key highlights of Union Budget...</td>\n",
       "      <td>जांजगीरचांपा छत्तीसगढ, भरतखण्ड</td>\n",
       "      <td>467</td>\n",
       "      <td>Twitter for Android</td>\n",
       "      <td>2022-02-06 16:51:46+00:00</td>\n",
       "      <td>2205</td>\n",
       "    </tr>\n",
       "    <tr>\n",
       "      <th>998</th>\n",
       "      <td>Vishalk23312052</td>\n",
       "      <td>विशाल कुमार शाही</td>\n",
       "      <td>भारतीय जनता युवा मोर्चा (प्रदेश विशेष आमंत्रित...</td>\n",
       "      <td>RT @blsanthosh: 400 new generation Vande Bhara...</td>\n",
       "      <td>भिलाई छ.ग</td>\n",
       "      <td>78</td>\n",
       "      <td>Twitter for Android</td>\n",
       "      <td>2022-02-06 16:51:21+00:00</td>\n",
       "      <td>6</td>\n",
       "    </tr>\n",
       "    <tr>\n",
       "      <th>999</th>\n",
       "      <td>Vibhans28836256</td>\n",
       "      <td>Vibhanshu Mishra</td>\n",
       "      <td>Being sarcastic and truthful are deadly and cr...</td>\n",
       "      <td>RT @thebubblebuste1: My take on Financial Budg...</td>\n",
       "      <td>Seoni, India</td>\n",
       "      <td>79</td>\n",
       "      <td>Twitter for Android</td>\n",
       "      <td>2022-02-06 16:51:16+00:00</td>\n",
       "      <td>260</td>\n",
       "    </tr>\n",
       "  </tbody>\n",
       "</table>\n",
       "<p>1000 rows × 9 columns</p>\n",
       "</div>"
      ],
      "text/plain": [
       "           User_Name                Name  \\\n",
       "0       AdarshPallav       Adarsh Pallav   \n",
       "1            bsindia   Business Standard   \n",
       "2            bsindia   Business Standard   \n",
       "3            bsindia   Business Standard   \n",
       "4          orfonline                 ORF   \n",
       "..               ...                 ...   \n",
       "995   VikramB12Singh  विक्रम बहादुर सिंह   \n",
       "996  TheRationalDesi        Rational One   \n",
       "997   VikramB12Singh  विक्रम बहादुर सिंह   \n",
       "998  Vishalk23312052    विशाल कुमार शाही   \n",
       "999  Vibhans28836256    Vibhanshu Mishra   \n",
       "\n",
       "                                  Description (Status)  \\\n",
       "0                                                        \n",
       "1    Latest news on the economy, companies, markets...   \n",
       "2    Latest news on the economy, companies, markets...   \n",
       "3    Latest news on the economy, companies, markets...   \n",
       "4    Non–partisan, independent analyses on security...   \n",
       "..                                                 ...   \n",
       "995                 सहेयक आचार्य (Assistant Professor)   \n",
       "996                                                      \n",
       "997                 सहेयक आचार्य (Assistant Professor)   \n",
       "998  भारतीय जनता युवा मोर्चा (प्रदेश विशेष आमंत्रित...   \n",
       "999  Being sarcastic and truthful are deadly and cr...   \n",
       "\n",
       "                                         Tweets Posted  \\\n",
       "0    RT @satishacharya: Blueprint for 25 years! #Bu...   \n",
       "1    #BSMorningShow | Will #RBI go for a hike in re...   \n",
       "2    #BSMornigShow | Will #RBI go for a hike in rev...   \n",
       "3    #BSMorningShow | Business Standard’s @aruproyt...   \n",
       "4    Tax concessions for co-operative societies is ...   \n",
       "..                                                 ...   \n",
       "995  RT @IncomeTaxIndia: Budget Highlights:\\nKey Di...   \n",
       "996  #Budget2022 #Congress #BJPHataoDeshBachao #UPE...   \n",
       "997  RT @cbic_india: Key highlights of Union Budget...   \n",
       "998  RT @blsanthosh: 400 new generation Vande Bhara...   \n",
       "999  RT @thebubblebuste1: My take on Financial Budg...   \n",
       "\n",
       "                           Location  No of Followers Device Used for Tweet  \\\n",
       "0                                                  7   Twitter for Android   \n",
       "1                             India          2178279             TweetDeck   \n",
       "2                             India          2178279       Twitter Web App   \n",
       "3                             India          2178279             TweetDeck   \n",
       "4                             India           106444             TweetDeck   \n",
       "..                              ...              ...                   ...   \n",
       "995  जांजगीरचांपा छत्तीसगढ, भरतखण्ड              467   Twitter for Android   \n",
       "996                                                0       Twitter Web App   \n",
       "997  जांजगीरचांपा छत्तीसगढ, भरतखण्ड              467   Twitter for Android   \n",
       "998                       भिलाई छ.ग               78   Twitter for Android   \n",
       "999                    Seoni, India               79   Twitter for Android   \n",
       "\n",
       "       Date of Tweet Creation  No of Friends  \n",
       "0   2022-02-07 07:11:43+00:00             38  \n",
       "1   2022-02-07 07:11:00+00:00            430  \n",
       "2   2022-02-07 07:10:43+00:00            430  \n",
       "3   2022-02-07 07:10:00+00:00            430  \n",
       "4   2022-02-07 07:10:00+00:00            136  \n",
       "..                        ...            ...  \n",
       "995 2022-02-06 16:54:20+00:00           2205  \n",
       "996 2022-02-06 16:54:16+00:00             58  \n",
       "997 2022-02-06 16:51:46+00:00           2205  \n",
       "998 2022-02-06 16:51:21+00:00              6  \n",
       "999 2022-02-06 16:51:16+00:00            260  \n",
       "\n",
       "[1000 rows x 9 columns]"
      ]
     },
     "execution_count": 6,
     "metadata": {},
     "output_type": "execute_result"
    }
   ],
   "source": [
    "# storing tweet data\n",
    "\n",
    "tweet_data = pd.DataFrame(tweets_text,\n",
    "                          columns=[\n",
    "                              \"User_Name\", \"Name\", \"Description (Status)\",\n",
    "                              \"Tweets Posted\", \"Location\", \"No of Followers\",\n",
    "                              \"Device Used for Tweet\",\n",
    "                              \"Date of Tweet Creation\", \"No of Friends\"\n",
    "                          ])\n",
    "\n",
    "# starting few tweet data\n",
    "\n",
    "tweet_data"
   ]
  },
  {
   "cell_type": "markdown",
   "id": "054a99bf",
   "metadata": {},
   "source": [
    "### "
   ]
  },
  {
   "cell_type": "code",
   "execution_count": 7,
   "id": "44b19d4d",
   "metadata": {
    "ExecuteTime": {
     "end_time": "2022-02-07T07:13:09.984884Z",
     "start_time": "2022-02-07T07:13:09.936851Z"
    },
    "scrolled": true
   },
   "outputs": [
    {
     "name": "stdout",
     "output_type": "stream",
     "text": [
      "<class 'pandas.core.frame.DataFrame'>\n",
      "RangeIndex: 1000 entries, 0 to 999\n",
      "Data columns (total 9 columns):\n",
      " #   Column                  Non-Null Count  Dtype              \n",
      "---  ------                  --------------  -----              \n",
      " 0   User_Name               1000 non-null   object             \n",
      " 1   Name                    1000 non-null   object             \n",
      " 2   Description (Status)    1000 non-null   object             \n",
      " 3   Tweets Posted           1000 non-null   object             \n",
      " 4   Location                1000 non-null   object             \n",
      " 5   No of Followers         1000 non-null   int64              \n",
      " 6   Device Used for Tweet   1000 non-null   object             \n",
      " 7   Date of Tweet Creation  1000 non-null   datetime64[ns, UTC]\n",
      " 8   No of Friends           1000 non-null   int64              \n",
      "dtypes: datetime64[ns, UTC](1), int64(2), object(6)\n",
      "memory usage: 70.4+ KB\n"
     ]
    }
   ],
   "source": [
    "# collected data information\n",
    "\n",
    "tweet_data.info()"
   ]
  },
  {
   "cell_type": "code",
   "execution_count": 8,
   "id": "df3e72d8",
   "metadata": {
    "ExecuteTime": {
     "end_time": "2022-02-07T07:13:11.469870Z",
     "start_time": "2022-02-07T07:13:11.035782Z"
    },
    "scrolled": true
   },
   "outputs": [],
   "source": [
    "# saving the data as csv file\n",
    "\n",
    "tweet_data.to_csv(\n",
    "    '/DOCUMENTS/COLLEGE/CLASSES/EXPERIMENT_NO_2/tweet_data_preprocess.csv')"
   ]
  },
  {
   "cell_type": "markdown",
   "id": "704d3e66",
   "metadata": {},
   "source": [
    "#### "
   ]
  },
  {
   "cell_type": "markdown",
   "id": "5e8dca07",
   "metadata": {},
   "source": [
    "# ----------x------------------------------x------------------------------x------------------------------x------"
   ]
  }
 ],
 "metadata": {
  "kernelspec": {
   "display_name": "Python 3 (ipykernel)",
   "language": "python",
   "name": "python3"
  },
  "language_info": {
   "codemirror_mode": {
    "name": "ipython",
    "version": 3
   },
   "file_extension": ".py",
   "mimetype": "text/x-python",
   "name": "python",
   "nbconvert_exporter": "python",
   "pygments_lexer": "ipython3",
   "version": "3.9.7"
  },
  "nbTranslate": {
   "displayLangs": [
    "*"
   ],
   "hotkey": "alt-t",
   "langInMainMenu": true,
   "sourceLang": "en",
   "targetLang": "fr",
   "useGoogleTranslate": true
  },
  "toc": {
   "base_numbering": 1,
   "nav_menu": {},
   "number_sections": false,
   "sideBar": true,
   "skip_h1_title": false,
   "title_cell": "Table of Contents",
   "title_sidebar": "Contents",
   "toc_cell": false,
   "toc_position": {
    "height": "588px",
    "left": "90px",
    "top": "293.125px",
    "width": "273.188px"
   },
   "toc_section_display": true,
   "toc_window_display": false
  },
  "varInspector": {
   "cols": {
    "lenName": 16,
    "lenType": 16,
    "lenVar": 40
   },
   "kernels_config": {
    "python": {
     "delete_cmd_postfix": "",
     "delete_cmd_prefix": "del ",
     "library": "var_list.py",
     "varRefreshCmd": "print(var_dic_list())"
    },
    "r": {
     "delete_cmd_postfix": ") ",
     "delete_cmd_prefix": "rm(",
     "library": "var_list.r",
     "varRefreshCmd": "cat(var_dic_list()) "
    }
   },
   "types_to_exclude": [
    "module",
    "function",
    "builtin_function_or_method",
    "instance",
    "_Feature"
   ],
   "window_display": false
  }
 },
 "nbformat": 4,
 "nbformat_minor": 5
}
