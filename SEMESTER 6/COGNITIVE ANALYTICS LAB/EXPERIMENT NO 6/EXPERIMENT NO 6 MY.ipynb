{
 "cells": [
  {
   "cell_type": "markdown",
   "metadata": {},
   "source": [
    "# EXPERIMENT NO 6"
   ]
  },
  {
   "cell_type": "markdown",
   "metadata": {},
   "source": [
    "## APPLY FOLLOWING REGRESSION ALGORITHMS: LINEAR, POLYNOMIAL, RIDGE, LASSO, RANDOM FOREST REGRESSION."
   ]
  },
  {
   "cell_type": "markdown",
   "metadata": {},
   "source": [
    "### IMPORT LIBRARIES"
   ]
  },
  {
   "cell_type": "code",
   "execution_count": 1,
   "metadata": {
    "ExecuteTime": {
     "end_time": "2022-02-27T15:45:23.363604Z",
     "start_time": "2022-02-27T15:45:19.825289Z"
    },
    "execution": {
     "iopub.execute_input": "2022-02-27T15:37:40.753664Z",
     "iopub.status.busy": "2022-02-27T15:37:40.753293Z",
     "iopub.status.idle": "2022-02-27T15:37:41.900025Z",
     "shell.execute_reply": "2022-02-27T15:37:41.898953Z",
     "shell.execute_reply.started": "2022-02-27T15:37:40.753572Z"
    }
   },
   "outputs": [],
   "source": [
    "import numpy as np\n",
    "import pandas as pd\n",
    "import matplotlib.pyplot as plt\n",
    "import seaborn as sns"
   ]
  },
  {
   "cell_type": "markdown",
   "metadata": {},
   "source": [
    "### READING THE DATA"
   ]
  },
  {
   "cell_type": "code",
   "execution_count": 2,
   "metadata": {
    "ExecuteTime": {
     "end_time": "2022-02-27T15:45:29.717619Z",
     "start_time": "2022-02-27T15:45:23.363604Z"
    },
    "execution": {
     "iopub.execute_input": "2022-02-27T15:37:41.902533Z",
     "iopub.status.busy": "2022-02-27T15:37:41.902095Z",
     "iopub.status.idle": "2022-02-27T15:37:49.367355Z",
     "shell.execute_reply": "2022-02-27T15:37:49.366370Z",
     "shell.execute_reply.started": "2022-02-27T15:37:41.902487Z"
    }
   },
   "outputs": [],
   "source": [
    "# Importing only the first 30000 rows\n",
    "df = pd.read_csv(\n",
    "    '/DOCUMENTS/COLLEGE/CLASSES/EXPERIMENT_NO_6/Asteroid_Updated.csv/Asteroid_Updated.csv',\n",
    "    low_memory=False)"
   ]
  },
  {
   "cell_type": "code",
   "execution_count": 3,
   "metadata": {
    "ExecuteTime": {
     "end_time": "2022-02-27T15:45:29.793374Z",
     "start_time": "2022-02-27T15:45:29.717619Z"
    },
    "execution": {
     "iopub.execute_input": "2022-02-27T15:37:49.369510Z",
     "iopub.status.busy": "2022-02-27T15:37:49.369158Z",
     "iopub.status.idle": "2022-02-27T15:37:49.411344Z",
     "shell.execute_reply": "2022-02-27T15:37:49.410710Z",
     "shell.execute_reply.started": "2022-02-27T15:37:49.369464Z"
    },
    "scrolled": true
   },
   "outputs": [
    {
     "data": {
      "text/html": [
       "<div>\n",
       "<style scoped>\n",
       "    .dataframe tbody tr th:only-of-type {\n",
       "        vertical-align: middle;\n",
       "    }\n",
       "\n",
       "    .dataframe tbody tr th {\n",
       "        vertical-align: top;\n",
       "    }\n",
       "\n",
       "    .dataframe thead th {\n",
       "        text-align: right;\n",
       "    }\n",
       "</style>\n",
       "<table border=\"1\" class=\"dataframe\">\n",
       "  <thead>\n",
       "    <tr style=\"text-align: right;\">\n",
       "      <th></th>\n",
       "      <th>name</th>\n",
       "      <th>a</th>\n",
       "      <th>e</th>\n",
       "      <th>i</th>\n",
       "      <th>om</th>\n",
       "      <th>w</th>\n",
       "      <th>q</th>\n",
       "      <th>ad</th>\n",
       "      <th>per_y</th>\n",
       "      <th>data_arc</th>\n",
       "      <th>...</th>\n",
       "      <th>UB</th>\n",
       "      <th>IR</th>\n",
       "      <th>spec_B</th>\n",
       "      <th>spec_T</th>\n",
       "      <th>G</th>\n",
       "      <th>moid</th>\n",
       "      <th>class</th>\n",
       "      <th>n</th>\n",
       "      <th>per</th>\n",
       "      <th>ma</th>\n",
       "    </tr>\n",
       "  </thead>\n",
       "  <tbody>\n",
       "    <tr>\n",
       "      <th>0</th>\n",
       "      <td>Ceres</td>\n",
       "      <td>2.769165</td>\n",
       "      <td>0.076009</td>\n",
       "      <td>10.594067</td>\n",
       "      <td>80.305532</td>\n",
       "      <td>73.597694</td>\n",
       "      <td>2.558684</td>\n",
       "      <td>2.979647</td>\n",
       "      <td>4.608202</td>\n",
       "      <td>8822.0</td>\n",
       "      <td>...</td>\n",
       "      <td>0.426</td>\n",
       "      <td>NaN</td>\n",
       "      <td>C</td>\n",
       "      <td>G</td>\n",
       "      <td>0.12</td>\n",
       "      <td>1.59478</td>\n",
       "      <td>MBA</td>\n",
       "      <td>0.213885</td>\n",
       "      <td>1683.145708</td>\n",
       "      <td>77.372096</td>\n",
       "    </tr>\n",
       "    <tr>\n",
       "      <th>1</th>\n",
       "      <td>Pallas</td>\n",
       "      <td>2.772466</td>\n",
       "      <td>0.230337</td>\n",
       "      <td>34.836234</td>\n",
       "      <td>173.080063</td>\n",
       "      <td>310.048857</td>\n",
       "      <td>2.133865</td>\n",
       "      <td>3.411067</td>\n",
       "      <td>4.616444</td>\n",
       "      <td>72318.0</td>\n",
       "      <td>...</td>\n",
       "      <td>0.284</td>\n",
       "      <td>NaN</td>\n",
       "      <td>B</td>\n",
       "      <td>B</td>\n",
       "      <td>0.11</td>\n",
       "      <td>1.23324</td>\n",
       "      <td>MBA</td>\n",
       "      <td>0.213503</td>\n",
       "      <td>1686.155999</td>\n",
       "      <td>59.699133</td>\n",
       "    </tr>\n",
       "    <tr>\n",
       "      <th>2</th>\n",
       "      <td>Juno</td>\n",
       "      <td>2.669150</td>\n",
       "      <td>0.256942</td>\n",
       "      <td>12.988919</td>\n",
       "      <td>169.852760</td>\n",
       "      <td>248.138626</td>\n",
       "      <td>1.983332</td>\n",
       "      <td>3.354967</td>\n",
       "      <td>4.360814</td>\n",
       "      <td>72684.0</td>\n",
       "      <td>...</td>\n",
       "      <td>0.433</td>\n",
       "      <td>NaN</td>\n",
       "      <td>Sk</td>\n",
       "      <td>S</td>\n",
       "      <td>0.32</td>\n",
       "      <td>1.03454</td>\n",
       "      <td>MBA</td>\n",
       "      <td>0.226019</td>\n",
       "      <td>1592.787285</td>\n",
       "      <td>34.925016</td>\n",
       "    </tr>\n",
       "    <tr>\n",
       "      <th>3</th>\n",
       "      <td>Vesta</td>\n",
       "      <td>2.361418</td>\n",
       "      <td>0.088721</td>\n",
       "      <td>7.141771</td>\n",
       "      <td>103.810804</td>\n",
       "      <td>150.728541</td>\n",
       "      <td>2.151909</td>\n",
       "      <td>2.570926</td>\n",
       "      <td>3.628837</td>\n",
       "      <td>24288.0</td>\n",
       "      <td>...</td>\n",
       "      <td>0.492</td>\n",
       "      <td>NaN</td>\n",
       "      <td>V</td>\n",
       "      <td>V</td>\n",
       "      <td>0.32</td>\n",
       "      <td>1.13948</td>\n",
       "      <td>MBA</td>\n",
       "      <td>0.271609</td>\n",
       "      <td>1325.432765</td>\n",
       "      <td>95.861936</td>\n",
       "    </tr>\n",
       "    <tr>\n",
       "      <th>4</th>\n",
       "      <td>Astraea</td>\n",
       "      <td>2.574249</td>\n",
       "      <td>0.191095</td>\n",
       "      <td>5.366988</td>\n",
       "      <td>141.576605</td>\n",
       "      <td>358.687607</td>\n",
       "      <td>2.082324</td>\n",
       "      <td>3.066174</td>\n",
       "      <td>4.130323</td>\n",
       "      <td>63507.0</td>\n",
       "      <td>...</td>\n",
       "      <td>0.411</td>\n",
       "      <td>NaN</td>\n",
       "      <td>S</td>\n",
       "      <td>S</td>\n",
       "      <td>NaN</td>\n",
       "      <td>1.09589</td>\n",
       "      <td>MBA</td>\n",
       "      <td>0.238632</td>\n",
       "      <td>1508.600458</td>\n",
       "      <td>282.366289</td>\n",
       "    </tr>\n",
       "  </tbody>\n",
       "</table>\n",
       "<p>5 rows × 31 columns</p>\n",
       "</div>"
      ],
      "text/plain": [
       "      name         a         e          i          om           w         q  \\\n",
       "0    Ceres  2.769165  0.076009  10.594067   80.305532   73.597694  2.558684   \n",
       "1   Pallas  2.772466  0.230337  34.836234  173.080063  310.048857  2.133865   \n",
       "2     Juno  2.669150  0.256942  12.988919  169.852760  248.138626  1.983332   \n",
       "3    Vesta  2.361418  0.088721   7.141771  103.810804  150.728541  2.151909   \n",
       "4  Astraea  2.574249  0.191095   5.366988  141.576605  358.687607  2.082324   \n",
       "\n",
       "         ad     per_y  data_arc  ...     UB  IR  spec_B spec_T     G     moid  \\\n",
       "0  2.979647  4.608202    8822.0  ...  0.426 NaN       C      G  0.12  1.59478   \n",
       "1  3.411067  4.616444   72318.0  ...  0.284 NaN       B      B  0.11  1.23324   \n",
       "2  3.354967  4.360814   72684.0  ...  0.433 NaN      Sk      S  0.32  1.03454   \n",
       "3  2.570926  3.628837   24288.0  ...  0.492 NaN       V      V  0.32  1.13948   \n",
       "4  3.066174  4.130323   63507.0  ...  0.411 NaN       S      S   NaN  1.09589   \n",
       "\n",
       "  class         n          per          ma  \n",
       "0   MBA  0.213885  1683.145708   77.372096  \n",
       "1   MBA  0.213503  1686.155999   59.699133  \n",
       "2   MBA  0.226019  1592.787285   34.925016  \n",
       "3   MBA  0.271609  1325.432765   95.861936  \n",
       "4   MBA  0.238632  1508.600458  282.366289  \n",
       "\n",
       "[5 rows x 31 columns]"
      ]
     },
     "execution_count": 3,
     "metadata": {},
     "output_type": "execute_result"
    }
   ],
   "source": [
    "df.head()"
   ]
  },
  {
   "cell_type": "markdown",
   "metadata": {},
   "source": [
    "# "
   ]
  },
  {
   "cell_type": "markdown",
   "metadata": {},
   "source": [
    "### PREPROCESSING THE DATA"
   ]
  },
  {
   "cell_type": "markdown",
   "metadata": {},
   "source": [
    "#### CHECK NAN VALUES"
   ]
  },
  {
   "cell_type": "code",
   "execution_count": 4,
   "metadata": {
    "ExecuteTime": {
     "end_time": "2022-02-27T15:45:30.266859Z",
     "start_time": "2022-02-27T15:45:29.793374Z"
    },
    "execution": {
     "iopub.execute_input": "2022-02-27T15:37:49.413251Z",
     "iopub.status.busy": "2022-02-27T15:37:49.412910Z",
     "iopub.status.idle": "2022-02-27T15:37:49.995243Z",
     "shell.execute_reply": "2022-02-27T15:37:49.994390Z",
     "shell.execute_reply.started": "2022-02-27T15:37:49.413223Z"
    },
    "scrolled": true
   },
   "outputs": [
    {
     "data": {
      "text/plain": [
       "name              817747\n",
       "a                      2\n",
       "e                      0\n",
       "i                      0\n",
       "om                     0\n",
       "w                      0\n",
       "q                      0\n",
       "ad                     6\n",
       "per_y                  1\n",
       "data_arc           15474\n",
       "condition_code       867\n",
       "n_obs_used             0\n",
       "H                   2689\n",
       "neo                    6\n",
       "pha                16442\n",
       "diameter          702078\n",
       "extent            839696\n",
       "albedo            703305\n",
       "rot_per           820918\n",
       "GM                839700\n",
       "BV                838693\n",
       "UB                838735\n",
       "IR                839713\n",
       "spec_B            838048\n",
       "spec_T            838734\n",
       "G                 839595\n",
       "moid               16442\n",
       "class                  0\n",
       "n                      2\n",
       "per                    6\n",
       "ma                     8\n",
       "dtype: int64"
      ]
     },
     "execution_count": 4,
     "metadata": {},
     "output_type": "execute_result"
    }
   ],
   "source": [
    "# Checking which columns(features) have nan values\n",
    "df.isna().sum()"
   ]
  },
  {
   "cell_type": "code",
   "execution_count": 5,
   "metadata": {
    "ExecuteTime": {
     "end_time": "2022-02-27T15:45:31.299300Z",
     "start_time": "2022-02-27T15:45:30.266859Z"
    },
    "execution": {
     "iopub.execute_input": "2022-02-27T15:37:49.996899Z",
     "iopub.status.busy": "2022-02-27T15:37:49.996644Z",
     "iopub.status.idle": "2022-02-27T15:37:50.652571Z",
     "shell.execute_reply": "2022-02-27T15:37:50.651843Z",
     "shell.execute_reply.started": "2022-02-27T15:37:49.996869Z"
    },
    "scrolled": true
   },
   "outputs": [
    {
     "data": {
      "text/html": [
       "<div>\n",
       "<style scoped>\n",
       "    .dataframe tbody tr th:only-of-type {\n",
       "        vertical-align: middle;\n",
       "    }\n",
       "\n",
       "    .dataframe tbody tr th {\n",
       "        vertical-align: top;\n",
       "    }\n",
       "\n",
       "    .dataframe thead th {\n",
       "        text-align: right;\n",
       "    }\n",
       "</style>\n",
       "<table border=\"1\" class=\"dataframe\">\n",
       "  <thead>\n",
       "    <tr style=\"text-align: right;\">\n",
       "      <th></th>\n",
       "      <th>a</th>\n",
       "      <th>e</th>\n",
       "      <th>i</th>\n",
       "      <th>om</th>\n",
       "      <th>w</th>\n",
       "      <th>q</th>\n",
       "      <th>ad</th>\n",
       "      <th>per_y</th>\n",
       "      <th>data_arc</th>\n",
       "      <th>n_obs_used</th>\n",
       "      <th>...</th>\n",
       "      <th>rot_per</th>\n",
       "      <th>GM</th>\n",
       "      <th>BV</th>\n",
       "      <th>UB</th>\n",
       "      <th>IR</th>\n",
       "      <th>G</th>\n",
       "      <th>moid</th>\n",
       "      <th>n</th>\n",
       "      <th>per</th>\n",
       "      <th>ma</th>\n",
       "    </tr>\n",
       "  </thead>\n",
       "  <tbody>\n",
       "    <tr>\n",
       "      <th>count</th>\n",
       "      <td>839712.000000</td>\n",
       "      <td>839714.000000</td>\n",
       "      <td>839714.000000</td>\n",
       "      <td>839714.000000</td>\n",
       "      <td>839714.000000</td>\n",
       "      <td>839714.000000</td>\n",
       "      <td>839708.000000</td>\n",
       "      <td>839713.000000</td>\n",
       "      <td>824240.000000</td>\n",
       "      <td>839714.000000</td>\n",
       "      <td>...</td>\n",
       "      <td>18796.000000</td>\n",
       "      <td>1.400000e+01</td>\n",
       "      <td>1021.000000</td>\n",
       "      <td>979.000000</td>\n",
       "      <td>1.00</td>\n",
       "      <td>119.000000</td>\n",
       "      <td>8.232720e+05</td>\n",
       "      <td>8.397120e+05</td>\n",
       "      <td>8.397080e+05</td>\n",
       "      <td>839706.000000</td>\n",
       "    </tr>\n",
       "    <tr>\n",
       "      <th>mean</th>\n",
       "      <td>2.757514</td>\n",
       "      <td>0.155636</td>\n",
       "      <td>8.949826</td>\n",
       "      <td>168.499466</td>\n",
       "      <td>181.075796</td>\n",
       "      <td>2.404728</td>\n",
       "      <td>3.385710</td>\n",
       "      <td>6.859734</td>\n",
       "      <td>5688.422331</td>\n",
       "      <td>259.191837</td>\n",
       "      <td>...</td>\n",
       "      <td>21.136772</td>\n",
       "      <td>7.821928e+00</td>\n",
       "      <td>0.769212</td>\n",
       "      <td>0.364396</td>\n",
       "      <td>-0.33</td>\n",
       "      <td>0.178739</td>\n",
       "      <td>1.423371e+00</td>\n",
       "      <td>2.374145e-01</td>\n",
       "      <td>2.505533e+03</td>\n",
       "      <td>180.659892</td>\n",
       "    </tr>\n",
       "    <tr>\n",
       "      <th>std</th>\n",
       "      <td>114.384959</td>\n",
       "      <td>0.093897</td>\n",
       "      <td>6.666087</td>\n",
       "      <td>103.096307</td>\n",
       "      <td>104.023854</td>\n",
       "      <td>2.233172</td>\n",
       "      <td>12.748733</td>\n",
       "      <td>252.264249</td>\n",
       "      <td>4208.177231</td>\n",
       "      <td>371.759667</td>\n",
       "      <td>...</td>\n",
       "      <td>73.131751</td>\n",
       "      <td>1.678880e+01</td>\n",
       "      <td>0.088625</td>\n",
       "      <td>0.095780</td>\n",
       "      <td>NaN</td>\n",
       "      <td>0.134603</td>\n",
       "      <td>2.250450e+00</td>\n",
       "      <td>8.095014e-02</td>\n",
       "      <td>9.213979e+04</td>\n",
       "      <td>106.562235</td>\n",
       "    </tr>\n",
       "    <tr>\n",
       "      <th>min</th>\n",
       "      <td>-104279.220927</td>\n",
       "      <td>0.000000</td>\n",
       "      <td>0.007546</td>\n",
       "      <td>0.000388</td>\n",
       "      <td>0.001666</td>\n",
       "      <td>0.070511</td>\n",
       "      <td>0.773684</td>\n",
       "      <td>0.000000</td>\n",
       "      <td>0.000000</td>\n",
       "      <td>2.000000</td>\n",
       "      <td>...</td>\n",
       "      <td>0.004389</td>\n",
       "      <td>2.100000e-09</td>\n",
       "      <td>0.580000</td>\n",
       "      <td>0.120000</td>\n",
       "      <td>-0.33</td>\n",
       "      <td>-0.250000</td>\n",
       "      <td>3.437640e-07</td>\n",
       "      <td>2.926897e-08</td>\n",
       "      <td>1.511339e+02</td>\n",
       "      <td>-67.136826</td>\n",
       "    </tr>\n",
       "    <tr>\n",
       "      <th>25%</th>\n",
       "      <td>2.385258</td>\n",
       "      <td>0.091454</td>\n",
       "      <td>4.069077</td>\n",
       "      <td>80.211400</td>\n",
       "      <td>91.041603</td>\n",
       "      <td>1.971941</td>\n",
       "      <td>2.775350</td>\n",
       "      <td>3.683928</td>\n",
       "      <td>3608.000000</td>\n",
       "      <td>50.000000</td>\n",
       "      <td>...</td>\n",
       "      <td>4.210000</td>\n",
       "      <td>1.022225e-03</td>\n",
       "      <td>0.700000</td>\n",
       "      <td>0.289000</td>\n",
       "      <td>-0.33</td>\n",
       "      <td>0.100000</td>\n",
       "      <td>9.784998e-01</td>\n",
       "      <td>1.900553e-01</td>\n",
       "      <td>1.345555e+03</td>\n",
       "      <td>86.642618</td>\n",
       "    </tr>\n",
       "    <tr>\n",
       "      <th>50%</th>\n",
       "      <td>2.644219</td>\n",
       "      <td>0.143655</td>\n",
       "      <td>7.257101</td>\n",
       "      <td>160.294860</td>\n",
       "      <td>181.669478</td>\n",
       "      <td>2.225510</td>\n",
       "      <td>3.037761</td>\n",
       "      <td>4.299859</td>\n",
       "      <td>5806.000000</td>\n",
       "      <td>118.000000</td>\n",
       "      <td>...</td>\n",
       "      <td>6.653000</td>\n",
       "      <td>6.192500e-01</td>\n",
       "      <td>0.743000</td>\n",
       "      <td>0.360000</td>\n",
       "      <td>-0.33</td>\n",
       "      <td>0.190000</td>\n",
       "      <td>1.237810e+00</td>\n",
       "      <td>2.292228e-01</td>\n",
       "      <td>1.570524e+03</td>\n",
       "      <td>181.517775</td>\n",
       "    </tr>\n",
       "    <tr>\n",
       "      <th>75%</th>\n",
       "      <td>2.996048</td>\n",
       "      <td>0.199400</td>\n",
       "      <td>12.255653</td>\n",
       "      <td>252.201519</td>\n",
       "      <td>271.521717</td>\n",
       "      <td>2.578162</td>\n",
       "      <td>3.357967</td>\n",
       "      <td>5.185985</td>\n",
       "      <td>7270.000000</td>\n",
       "      <td>296.000000</td>\n",
       "      <td>...</td>\n",
       "      <td>12.624250</td>\n",
       "      <td>6.500000e+00</td>\n",
       "      <td>0.850000</td>\n",
       "      <td>0.439000</td>\n",
       "      <td>-0.33</td>\n",
       "      <td>0.250000</td>\n",
       "      <td>1.590560e+00</td>\n",
       "      <td>2.675475e-01</td>\n",
       "      <td>1.894184e+03</td>\n",
       "      <td>274.301731</td>\n",
       "    </tr>\n",
       "    <tr>\n",
       "      <th>max</th>\n",
       "      <td>3043.149073</td>\n",
       "      <td>1.201134</td>\n",
       "      <td>175.188725</td>\n",
       "      <td>359.999800</td>\n",
       "      <td>359.999833</td>\n",
       "      <td>80.424175</td>\n",
       "      <td>6081.841956</td>\n",
       "      <td>167877.712688</td>\n",
       "      <td>72684.000000</td>\n",
       "      <td>9325.000000</td>\n",
       "      <td>...</td>\n",
       "      <td>3240.000000</td>\n",
       "      <td>6.262840e+01</td>\n",
       "      <td>1.077000</td>\n",
       "      <td>0.655000</td>\n",
       "      <td>-0.33</td>\n",
       "      <td>0.600000</td>\n",
       "      <td>7.950130e+01</td>\n",
       "      <td>2.381994e+00</td>\n",
       "      <td>6.131733e+07</td>\n",
       "      <td>491.618014</td>\n",
       "    </tr>\n",
       "  </tbody>\n",
       "</table>\n",
       "<p>8 rows × 22 columns</p>\n",
       "</div>"
      ],
      "text/plain": [
       "                   a              e              i             om  \\\n",
       "count  839712.000000  839714.000000  839714.000000  839714.000000   \n",
       "mean        2.757514       0.155636       8.949826     168.499466   \n",
       "std       114.384959       0.093897       6.666087     103.096307   \n",
       "min   -104279.220927       0.000000       0.007546       0.000388   \n",
       "25%         2.385258       0.091454       4.069077      80.211400   \n",
       "50%         2.644219       0.143655       7.257101     160.294860   \n",
       "75%         2.996048       0.199400      12.255653     252.201519   \n",
       "max      3043.149073       1.201134     175.188725     359.999800   \n",
       "\n",
       "                   w              q             ad          per_y  \\\n",
       "count  839714.000000  839714.000000  839708.000000  839713.000000   \n",
       "mean      181.075796       2.404728       3.385710       6.859734   \n",
       "std       104.023854       2.233172      12.748733     252.264249   \n",
       "min         0.001666       0.070511       0.773684       0.000000   \n",
       "25%        91.041603       1.971941       2.775350       3.683928   \n",
       "50%       181.669478       2.225510       3.037761       4.299859   \n",
       "75%       271.521717       2.578162       3.357967       5.185985   \n",
       "max       359.999833      80.424175    6081.841956  167877.712688   \n",
       "\n",
       "            data_arc     n_obs_used  ...       rot_per            GM  \\\n",
       "count  824240.000000  839714.000000  ...  18796.000000  1.400000e+01   \n",
       "mean     5688.422331     259.191837  ...     21.136772  7.821928e+00   \n",
       "std      4208.177231     371.759667  ...     73.131751  1.678880e+01   \n",
       "min         0.000000       2.000000  ...      0.004389  2.100000e-09   \n",
       "25%      3608.000000      50.000000  ...      4.210000  1.022225e-03   \n",
       "50%      5806.000000     118.000000  ...      6.653000  6.192500e-01   \n",
       "75%      7270.000000     296.000000  ...     12.624250  6.500000e+00   \n",
       "max     72684.000000    9325.000000  ...   3240.000000  6.262840e+01   \n",
       "\n",
       "                BV          UB    IR           G          moid             n  \\\n",
       "count  1021.000000  979.000000  1.00  119.000000  8.232720e+05  8.397120e+05   \n",
       "mean      0.769212    0.364396 -0.33    0.178739  1.423371e+00  2.374145e-01   \n",
       "std       0.088625    0.095780   NaN    0.134603  2.250450e+00  8.095014e-02   \n",
       "min       0.580000    0.120000 -0.33   -0.250000  3.437640e-07  2.926897e-08   \n",
       "25%       0.700000    0.289000 -0.33    0.100000  9.784998e-01  1.900553e-01   \n",
       "50%       0.743000    0.360000 -0.33    0.190000  1.237810e+00  2.292228e-01   \n",
       "75%       0.850000    0.439000 -0.33    0.250000  1.590560e+00  2.675475e-01   \n",
       "max       1.077000    0.655000 -0.33    0.600000  7.950130e+01  2.381994e+00   \n",
       "\n",
       "                per             ma  \n",
       "count  8.397080e+05  839706.000000  \n",
       "mean   2.505533e+03     180.659892  \n",
       "std    9.213979e+04     106.562235  \n",
       "min    1.511339e+02     -67.136826  \n",
       "25%    1.345555e+03      86.642618  \n",
       "50%    1.570524e+03     181.517775  \n",
       "75%    1.894184e+03     274.301731  \n",
       "max    6.131733e+07     491.618014  \n",
       "\n",
       "[8 rows x 22 columns]"
      ]
     },
     "execution_count": 5,
     "metadata": {},
     "output_type": "execute_result"
    }
   ],
   "source": [
    "# Get an idea of the different means, distributions, and values associated with the features\n",
    "df.describe()"
   ]
  },
  {
   "cell_type": "markdown",
   "metadata": {},
   "source": [
    "* **Cleaning and prepping the dataframe:**  \n",
    "**Steps:**\n",
    "    * 0: 'diameter' is string type, I will convert to numeric. This gave errors for some diameters because they were corrupted, so I added the argument \"errors='coerce'\" to set corrupted diameters to nan, and later dropped those.\n",
    "    * 1: Dropping irrelevent features and choosing my battles:\n",
    "        * 1a/ dropping names because I dont believe asteroids are named according to their diameter.\n",
    "        * 1b/ Dropping all features with more than half nan values\n",
    "        * 1c/ dropping condition_code and neo and pha because most seems to be 0 or nan.\n",
    "    * 2: Replace nans entries with mean value of column"
   ]
  },
  {
   "cell_type": "code",
   "execution_count": 6,
   "metadata": {
    "ExecuteTime": {
     "end_time": "2022-02-27T15:45:32.294771Z",
     "start_time": "2022-02-27T15:45:31.299300Z"
    },
    "execution": {
     "iopub.execute_input": "2022-02-27T15:37:50.654463Z",
     "iopub.status.busy": "2022-02-27T15:37:50.653477Z",
     "iopub.status.idle": "2022-02-27T15:37:51.372090Z",
     "shell.execute_reply": "2022-02-27T15:37:51.371265Z",
     "shell.execute_reply.started": "2022-02-27T15:37:50.654397Z"
    }
   },
   "outputs": [],
   "source": [
    "# Steps 0\n",
    "# transforming to numeric, setting errors to NaN\n",
    "df['diameter'] = pd.to_numeric(df['diameter'], errors='coerce')\n",
    "# rows with nan diameters to drop\n",
    "dropindexes = df['diameter'][df['diameter'].isnull()].index\n",
    "dropped_df = df.loc[dropindexes]  # saving dropped rows for the future\n",
    "df = df.drop(dropindexes, axis=0)"
   ]
  },
  {
   "cell_type": "code",
   "execution_count": 7,
   "metadata": {
    "ExecuteTime": {
     "end_time": "2022-02-27T15:45:32.480177Z",
     "start_time": "2022-02-27T15:45:32.294771Z"
    },
    "execution": {
     "iopub.execute_input": "2022-02-27T15:37:51.373684Z",
     "iopub.status.busy": "2022-02-27T15:37:51.373428Z",
     "iopub.status.idle": "2022-02-27T15:37:51.496827Z",
     "shell.execute_reply": "2022-02-27T15:37:51.495808Z",
     "shell.execute_reply.started": "2022-02-27T15:37:51.373643Z"
    }
   },
   "outputs": [],
   "source": [
    "# Steps 1\n",
    "tooMuchNa = df.columns[df.isna().sum() / df.shape[0] > 0.5]\n",
    "df = df.drop(tooMuchNa, axis=1)\n",
    "df = df.drop('condition_code', axis=1)\n",
    "df = df.drop(['neo', 'pha', 'class'], axis=1)"
   ]
  },
  {
   "cell_type": "code",
   "execution_count": 8,
   "metadata": {
    "ExecuteTime": {
     "end_time": "2022-02-27T15:45:32.568176Z",
     "start_time": "2022-02-27T15:45:32.480177Z"
    },
    "execution": {
     "iopub.execute_input": "2022-02-27T15:37:51.498530Z",
     "iopub.status.busy": "2022-02-27T15:37:51.498136Z",
     "iopub.status.idle": "2022-02-27T15:37:51.520996Z",
     "shell.execute_reply": "2022-02-27T15:37:51.520277Z",
     "shell.execute_reply.started": "2022-02-27T15:37:51.498486Z"
    }
   },
   "outputs": [],
   "source": [
    "# Step 2\n",
    "df = df.fillna(df.mean(numeric_only=None))"
   ]
  },
  {
   "cell_type": "code",
   "execution_count": 9,
   "metadata": {
    "ExecuteTime": {
     "end_time": "2022-02-27T15:45:32.624512Z",
     "start_time": "2022-02-27T15:45:32.568176Z"
    },
    "execution": {
     "iopub.execute_input": "2022-02-27T15:37:51.523255Z",
     "iopub.status.busy": "2022-02-27T15:37:51.522689Z",
     "iopub.status.idle": "2022-02-27T15:37:51.546322Z",
     "shell.execute_reply": "2022-02-27T15:37:51.545459Z",
     "shell.execute_reply.started": "2022-02-27T15:37:51.523210Z"
    },
    "scrolled": true
   },
   "outputs": [
    {
     "data": {
      "text/html": [
       "<div>\n",
       "<style scoped>\n",
       "    .dataframe tbody tr th:only-of-type {\n",
       "        vertical-align: middle;\n",
       "    }\n",
       "\n",
       "    .dataframe tbody tr th {\n",
       "        vertical-align: top;\n",
       "    }\n",
       "\n",
       "    .dataframe thead th {\n",
       "        text-align: right;\n",
       "    }\n",
       "</style>\n",
       "<table border=\"1\" class=\"dataframe\">\n",
       "  <thead>\n",
       "    <tr style=\"text-align: right;\">\n",
       "      <th></th>\n",
       "      <th>a</th>\n",
       "      <th>e</th>\n",
       "      <th>i</th>\n",
       "      <th>om</th>\n",
       "      <th>w</th>\n",
       "      <th>q</th>\n",
       "      <th>ad</th>\n",
       "      <th>per_y</th>\n",
       "      <th>data_arc</th>\n",
       "      <th>n_obs_used</th>\n",
       "      <th>H</th>\n",
       "      <th>diameter</th>\n",
       "      <th>albedo</th>\n",
       "      <th>moid</th>\n",
       "      <th>n</th>\n",
       "      <th>per</th>\n",
       "      <th>ma</th>\n",
       "    </tr>\n",
       "  </thead>\n",
       "  <tbody>\n",
       "    <tr>\n",
       "      <th>0</th>\n",
       "      <td>2.769165</td>\n",
       "      <td>0.076009</td>\n",
       "      <td>10.594067</td>\n",
       "      <td>80.305532</td>\n",
       "      <td>73.597694</td>\n",
       "      <td>2.558684</td>\n",
       "      <td>2.979647</td>\n",
       "      <td>4.608202</td>\n",
       "      <td>8822.0</td>\n",
       "      <td>1002</td>\n",
       "      <td>3.34</td>\n",
       "      <td>939.400</td>\n",
       "      <td>0.0900</td>\n",
       "      <td>1.59478</td>\n",
       "      <td>0.213885</td>\n",
       "      <td>1683.145708</td>\n",
       "      <td>77.372096</td>\n",
       "    </tr>\n",
       "    <tr>\n",
       "      <th>1</th>\n",
       "      <td>2.772466</td>\n",
       "      <td>0.230337</td>\n",
       "      <td>34.836234</td>\n",
       "      <td>173.080063</td>\n",
       "      <td>310.048857</td>\n",
       "      <td>2.133865</td>\n",
       "      <td>3.411067</td>\n",
       "      <td>4.616444</td>\n",
       "      <td>72318.0</td>\n",
       "      <td>8490</td>\n",
       "      <td>4.13</td>\n",
       "      <td>545.000</td>\n",
       "      <td>0.1010</td>\n",
       "      <td>1.23324</td>\n",
       "      <td>0.213503</td>\n",
       "      <td>1686.155999</td>\n",
       "      <td>59.699133</td>\n",
       "    </tr>\n",
       "    <tr>\n",
       "      <th>2</th>\n",
       "      <td>2.669150</td>\n",
       "      <td>0.256942</td>\n",
       "      <td>12.988919</td>\n",
       "      <td>169.852760</td>\n",
       "      <td>248.138626</td>\n",
       "      <td>1.983332</td>\n",
       "      <td>3.354967</td>\n",
       "      <td>4.360814</td>\n",
       "      <td>72684.0</td>\n",
       "      <td>7104</td>\n",
       "      <td>5.33</td>\n",
       "      <td>246.596</td>\n",
       "      <td>0.2140</td>\n",
       "      <td>1.03454</td>\n",
       "      <td>0.226019</td>\n",
       "      <td>1592.787285</td>\n",
       "      <td>34.925016</td>\n",
       "    </tr>\n",
       "    <tr>\n",
       "      <th>3</th>\n",
       "      <td>2.361418</td>\n",
       "      <td>0.088721</td>\n",
       "      <td>7.141771</td>\n",
       "      <td>103.810804</td>\n",
       "      <td>150.728541</td>\n",
       "      <td>2.151909</td>\n",
       "      <td>2.570926</td>\n",
       "      <td>3.628837</td>\n",
       "      <td>24288.0</td>\n",
       "      <td>9325</td>\n",
       "      <td>3.20</td>\n",
       "      <td>525.400</td>\n",
       "      <td>0.4228</td>\n",
       "      <td>1.13948</td>\n",
       "      <td>0.271609</td>\n",
       "      <td>1325.432765</td>\n",
       "      <td>95.861936</td>\n",
       "    </tr>\n",
       "    <tr>\n",
       "      <th>4</th>\n",
       "      <td>2.574249</td>\n",
       "      <td>0.191095</td>\n",
       "      <td>5.366988</td>\n",
       "      <td>141.576605</td>\n",
       "      <td>358.687607</td>\n",
       "      <td>2.082324</td>\n",
       "      <td>3.066174</td>\n",
       "      <td>4.130323</td>\n",
       "      <td>63507.0</td>\n",
       "      <td>2916</td>\n",
       "      <td>6.85</td>\n",
       "      <td>106.699</td>\n",
       "      <td>0.2740</td>\n",
       "      <td>1.09589</td>\n",
       "      <td>0.238632</td>\n",
       "      <td>1508.600458</td>\n",
       "      <td>282.366289</td>\n",
       "    </tr>\n",
       "  </tbody>\n",
       "</table>\n",
       "</div>"
      ],
      "text/plain": [
       "          a         e          i          om           w         q        ad  \\\n",
       "0  2.769165  0.076009  10.594067   80.305532   73.597694  2.558684  2.979647   \n",
       "1  2.772466  0.230337  34.836234  173.080063  310.048857  2.133865  3.411067   \n",
       "2  2.669150  0.256942  12.988919  169.852760  248.138626  1.983332  3.354967   \n",
       "3  2.361418  0.088721   7.141771  103.810804  150.728541  2.151909  2.570926   \n",
       "4  2.574249  0.191095   5.366988  141.576605  358.687607  2.082324  3.066174   \n",
       "\n",
       "      per_y  data_arc  n_obs_used     H  diameter  albedo     moid         n  \\\n",
       "0  4.608202    8822.0        1002  3.34   939.400  0.0900  1.59478  0.213885   \n",
       "1  4.616444   72318.0        8490  4.13   545.000  0.1010  1.23324  0.213503   \n",
       "2  4.360814   72684.0        7104  5.33   246.596  0.2140  1.03454  0.226019   \n",
       "3  3.628837   24288.0        9325  3.20   525.400  0.4228  1.13948  0.271609   \n",
       "4  4.130323   63507.0        2916  6.85   106.699  0.2740  1.09589  0.238632   \n",
       "\n",
       "           per          ma  \n",
       "0  1683.145708   77.372096  \n",
       "1  1686.155999   59.699133  \n",
       "2  1592.787285   34.925016  \n",
       "3  1325.432765   95.861936  \n",
       "4  1508.600458  282.366289  "
      ]
     },
     "execution_count": 9,
     "metadata": {},
     "output_type": "execute_result"
    }
   ],
   "source": [
    "df.head()"
   ]
  },
  {
   "cell_type": "code",
   "execution_count": 10,
   "metadata": {
    "ExecuteTime": {
     "end_time": "2022-02-27T15:45:32.648775Z",
     "start_time": "2022-02-27T15:45:32.624766Z"
    },
    "execution": {
     "iopub.execute_input": "2022-02-27T15:37:51.550247Z",
     "iopub.status.busy": "2022-02-27T15:37:51.549958Z",
     "iopub.status.idle": "2022-02-27T15:37:51.563137Z",
     "shell.execute_reply": "2022-02-27T15:37:51.562293Z",
     "shell.execute_reply.started": "2022-02-27T15:37:51.550215Z"
    },
    "scrolled": true
   },
   "outputs": [
    {
     "data": {
      "text/plain": [
       "False"
      ]
     },
     "execution_count": 10,
     "metadata": {},
     "output_type": "execute_result"
    }
   ],
   "source": [
    "# Last sanity check for nan values\n",
    "df.isna().values.any()"
   ]
  },
  {
   "cell_type": "markdown",
   "metadata": {},
   "source": [
    "### CREATING TRAIN & TEST DATASET"
   ]
  },
  {
   "cell_type": "code",
   "execution_count": 11,
   "metadata": {
    "ExecuteTime": {
     "end_time": "2022-02-27T15:45:33.242230Z",
     "start_time": "2022-02-27T15:45:32.648775Z"
    },
    "execution": {
     "iopub.execute_input": "2022-02-27T15:37:51.565243Z",
     "iopub.status.busy": "2022-02-27T15:37:51.564645Z",
     "iopub.status.idle": "2022-02-27T15:37:51.801232Z",
     "shell.execute_reply": "2022-02-27T15:37:51.799922Z",
     "shell.execute_reply.started": "2022-02-27T15:37:51.565197Z"
    }
   },
   "outputs": [],
   "source": [
    "from sklearn.model_selection import train_test_split\n",
    "\n",
    "target = df['diameter']\n",
    "predictors = df.drop(['diameter'], axis=1)\n",
    "X_train, X_test, Y_train, Y_test = train_test_split(predictors,\n",
    "                                                    target,\n",
    "                                                    test_size=0.20,\n",
    "                                                    random_state=0)"
   ]
  },
  {
   "cell_type": "code",
   "execution_count": 12,
   "metadata": {
    "ExecuteTime": {
     "end_time": "2022-02-27T15:45:33.290847Z",
     "start_time": "2022-02-27T15:45:33.242230Z"
    },
    "execution": {
     "iopub.execute_input": "2022-02-27T15:37:51.802792Z",
     "iopub.status.busy": "2022-02-27T15:37:51.802548Z",
     "iopub.status.idle": "2022-02-27T15:37:51.826226Z",
     "shell.execute_reply": "2022-02-27T15:37:51.825250Z",
     "shell.execute_reply.started": "2022-02-27T15:37:51.802763Z"
    }
   },
   "outputs": [
    {
     "data": {
      "text/html": [
       "<div>\n",
       "<style scoped>\n",
       "    .dataframe tbody tr th:only-of-type {\n",
       "        vertical-align: middle;\n",
       "    }\n",
       "\n",
       "    .dataframe tbody tr th {\n",
       "        vertical-align: top;\n",
       "    }\n",
       "\n",
       "    .dataframe thead th {\n",
       "        text-align: right;\n",
       "    }\n",
       "</style>\n",
       "<table border=\"1\" class=\"dataframe\">\n",
       "  <thead>\n",
       "    <tr style=\"text-align: right;\">\n",
       "      <th></th>\n",
       "      <th>a</th>\n",
       "      <th>e</th>\n",
       "      <th>i</th>\n",
       "      <th>om</th>\n",
       "      <th>w</th>\n",
       "      <th>q</th>\n",
       "      <th>ad</th>\n",
       "      <th>per_y</th>\n",
       "      <th>data_arc</th>\n",
       "      <th>n_obs_used</th>\n",
       "      <th>H</th>\n",
       "      <th>albedo</th>\n",
       "      <th>moid</th>\n",
       "      <th>n</th>\n",
       "      <th>per</th>\n",
       "      <th>ma</th>\n",
       "    </tr>\n",
       "  </thead>\n",
       "  <tbody>\n",
       "    <tr>\n",
       "      <th>474961</th>\n",
       "      <td>3.148871</td>\n",
       "      <td>0.130545</td>\n",
       "      <td>14.123745</td>\n",
       "      <td>20.870476</td>\n",
       "      <td>335.017941</td>\n",
       "      <td>2.737801</td>\n",
       "      <td>3.559942</td>\n",
       "      <td>5.587796</td>\n",
       "      <td>5812.0</td>\n",
       "      <td>72</td>\n",
       "      <td>16.0</td>\n",
       "      <td>0.032</td>\n",
       "      <td>1.74091</td>\n",
       "      <td>0.176389</td>\n",
       "      <td>2040.942568</td>\n",
       "      <td>171.197625</td>\n",
       "    </tr>\n",
       "    <tr>\n",
       "      <th>283914</th>\n",
       "      <td>3.104229</td>\n",
       "      <td>0.169382</td>\n",
       "      <td>19.711359</td>\n",
       "      <td>107.671134</td>\n",
       "      <td>182.187629</td>\n",
       "      <td>2.578429</td>\n",
       "      <td>3.630030</td>\n",
       "      <td>5.469390</td>\n",
       "      <td>6824.0</td>\n",
       "      <td>186</td>\n",
       "      <td>15.0</td>\n",
       "      <td>0.233</td>\n",
       "      <td>1.56154</td>\n",
       "      <td>0.180208</td>\n",
       "      <td>1997.694859</td>\n",
       "      <td>177.806839</td>\n",
       "    </tr>\n",
       "    <tr>\n",
       "      <th>241049</th>\n",
       "      <td>3.170379</td>\n",
       "      <td>0.104378</td>\n",
       "      <td>1.607302</td>\n",
       "      <td>151.293279</td>\n",
       "      <td>138.910748</td>\n",
       "      <td>2.839460</td>\n",
       "      <td>3.501298</td>\n",
       "      <td>5.645143</td>\n",
       "      <td>6684.0</td>\n",
       "      <td>272</td>\n",
       "      <td>15.6</td>\n",
       "      <td>0.064</td>\n",
       "      <td>1.82279</td>\n",
       "      <td>0.174597</td>\n",
       "      <td>2061.888649</td>\n",
       "      <td>153.747173</td>\n",
       "    </tr>\n",
       "    <tr>\n",
       "      <th>359366</th>\n",
       "      <td>3.123361</td>\n",
       "      <td>0.232180</td>\n",
       "      <td>13.565848</td>\n",
       "      <td>54.472085</td>\n",
       "      <td>258.745939</td>\n",
       "      <td>2.398180</td>\n",
       "      <td>3.848542</td>\n",
       "      <td>5.520031</td>\n",
       "      <td>7120.0</td>\n",
       "      <td>185</td>\n",
       "      <td>15.4</td>\n",
       "      <td>0.083</td>\n",
       "      <td>1.42886</td>\n",
       "      <td>0.178554</td>\n",
       "      <td>2016.191342</td>\n",
       "      <td>323.992520</td>\n",
       "    </tr>\n",
       "    <tr>\n",
       "      <th>110551</th>\n",
       "      <td>2.646488</td>\n",
       "      <td>0.191386</td>\n",
       "      <td>13.100536</td>\n",
       "      <td>39.183682</td>\n",
       "      <td>344.363064</td>\n",
       "      <td>2.139987</td>\n",
       "      <td>3.152990</td>\n",
       "      <td>4.305397</td>\n",
       "      <td>6660.0</td>\n",
       "      <td>711</td>\n",
       "      <td>14.4</td>\n",
       "      <td>0.223</td>\n",
       "      <td>1.14667</td>\n",
       "      <td>0.228928</td>\n",
       "      <td>1572.546205</td>\n",
       "      <td>77.728902</td>\n",
       "    </tr>\n",
       "  </tbody>\n",
       "</table>\n",
       "</div>"
      ],
      "text/plain": [
       "               a         e          i          om           w         q  \\\n",
       "474961  3.148871  0.130545  14.123745   20.870476  335.017941  2.737801   \n",
       "283914  3.104229  0.169382  19.711359  107.671134  182.187629  2.578429   \n",
       "241049  3.170379  0.104378   1.607302  151.293279  138.910748  2.839460   \n",
       "359366  3.123361  0.232180  13.565848   54.472085  258.745939  2.398180   \n",
       "110551  2.646488  0.191386  13.100536   39.183682  344.363064  2.139987   \n",
       "\n",
       "              ad     per_y  data_arc  n_obs_used     H  albedo     moid  \\\n",
       "474961  3.559942  5.587796    5812.0          72  16.0   0.032  1.74091   \n",
       "283914  3.630030  5.469390    6824.0         186  15.0   0.233  1.56154   \n",
       "241049  3.501298  5.645143    6684.0         272  15.6   0.064  1.82279   \n",
       "359366  3.848542  5.520031    7120.0         185  15.4   0.083  1.42886   \n",
       "110551  3.152990  4.305397    6660.0         711  14.4   0.223  1.14667   \n",
       "\n",
       "               n          per          ma  \n",
       "474961  0.176389  2040.942568  171.197625  \n",
       "283914  0.180208  1997.694859  177.806839  \n",
       "241049  0.174597  2061.888649  153.747173  \n",
       "359366  0.178554  2016.191342  323.992520  \n",
       "110551  0.228928  1572.546205   77.728902  "
      ]
     },
     "execution_count": 12,
     "metadata": {},
     "output_type": "execute_result"
    }
   ],
   "source": [
    "X_train.head()"
   ]
  },
  {
   "cell_type": "markdown",
   "metadata": {},
   "source": [
    "#### PERFORMING NORMALIZATION"
   ]
  },
  {
   "cell_type": "code",
   "execution_count": 13,
   "metadata": {
    "ExecuteTime": {
     "end_time": "2022-02-27T15:45:33.546878Z",
     "start_time": "2022-02-27T15:45:33.290847Z"
    },
    "execution": {
     "iopub.execute_input": "2022-02-27T15:37:51.827767Z",
     "iopub.status.busy": "2022-02-27T15:37:51.827522Z",
     "iopub.status.idle": "2022-02-27T15:37:51.926375Z",
     "shell.execute_reply": "2022-02-27T15:37:51.925170Z",
     "shell.execute_reply.started": "2022-02-27T15:37:51.827731Z"
    }
   },
   "outputs": [],
   "source": [
    "from sklearn import preprocessing\n",
    "\n",
    "# Input standard normalization:\n",
    "std_scaler = preprocessing.StandardScaler().fit(X_train)\n",
    "\n",
    "\n",
    "def scaler(X):\n",
    "    x_norm_arr = std_scaler.fit_transform(X)\n",
    "    return pd.DataFrame(x_norm_arr, columns=X.columns, index=X.index)\n",
    "\n",
    "\n",
    "X_train_norm = scaler(X_train)\n",
    "X_test_norm = scaler(X_test)\n",
    "\n",
    "\n",
    "def inverse_scaler(X):\n",
    "    x_norm_arr = std_scaler.inverse_transform(X)\n",
    "    return pd.DataFrame(x_norm_arr, columns=X.columns, index=X.index)"
   ]
  },
  {
   "cell_type": "markdown",
   "metadata": {},
   "source": [
    "### APPLYING DIFFERENT REGRESSION ALGORITHMS"
   ]
  },
  {
   "cell_type": "markdown",
   "metadata": {},
   "source": [
    "#### FUNCTION FOR MODEL VISUALIZATION"
   ]
  },
  {
   "cell_type": "code",
   "execution_count": 14,
   "metadata": {
    "ExecuteTime": {
     "end_time": "2022-02-27T15:45:33.562842Z",
     "start_time": "2022-02-27T15:45:33.546878Z"
    },
    "execution": {
     "iopub.execute_input": "2022-02-27T15:37:51.928397Z",
     "iopub.status.busy": "2022-02-27T15:37:51.928078Z",
     "iopub.status.idle": "2022-02-27T15:37:51.939133Z",
     "shell.execute_reply": "2022-02-27T15:37:51.938023Z",
     "shell.execute_reply.started": "2022-02-27T15:37:51.928354Z"
    }
   },
   "outputs": [],
   "source": [
    "from sklearn.metrics import r2_score\n",
    "import seaborn as sns\n",
    "from sklearn.metrics import mean_squared_error\n",
    "from sklearn.metrics import mean_absolute_error\n",
    "from sklearn.metrics import r2_score\n",
    "\n",
    "\n",
    "def plot(prediction):\n",
    "    fig, (ax1, ax2) = plt.subplots(1, 2, figsize=(20, 7))\n",
    "    sns.distplot(Y_test.values, label='test values', ax=ax1)\n",
    "    sns.distplot(prediction, label='prediction', ax=ax1)\n",
    "    ax1.set_xlabel('Distribution plot')\n",
    "    ax2.scatter(Y_test, prediction, c='orange', label='predictions')\n",
    "    ax2.plot(Y_test, Y_test, c='blue', label='y=x')\n",
    "    ax2.set_xlabel('test value')\n",
    "    ax2.set_ylabel('estimated $\\log(radius)$')\n",
    "    ax1.legend()\n",
    "    ax2.legend()\n",
    "    ax2.axis('scaled')  # same x y scale\n",
    "\n",
    "\n",
    "def score(prediction):\n",
    "    score = r2_score(prediction, Y_test)\n",
    "    return score\n",
    "\n",
    "\n",
    "def announce(score):\n",
    "    print('The R^2 score achieved using this regression is:', round(score, 3))\n",
    "\n",
    "\n",
    "algorithms = []\n",
    "scores = []"
   ]
  },
  {
   "cell_type": "markdown",
   "metadata": {},
   "source": [
    "#### LINEAR REGRESSION"
   ]
  },
  {
   "cell_type": "code",
   "execution_count": 15,
   "metadata": {
    "ExecuteTime": {
     "end_time": "2022-02-27T15:45:33.883231Z",
     "start_time": "2022-02-27T15:45:33.562842Z"
    },
    "execution": {
     "iopub.execute_input": "2022-02-27T15:37:51.940496Z",
     "iopub.status.busy": "2022-02-27T15:37:51.940226Z",
     "iopub.status.idle": "2022-02-27T15:37:52.128211Z",
     "shell.execute_reply": "2022-02-27T15:37:52.126443Z",
     "shell.execute_reply.started": "2022-02-27T15:37:51.940465Z"
    }
   },
   "outputs": [
    {
     "name": "stdout",
     "output_type": "stream",
     "text": [
      "The R^2 score achieved using this regression is: 0.497\n"
     ]
    }
   ],
   "source": [
    "# Defining the model\n",
    "from sklearn.linear_model import LinearRegression\n",
    "\n",
    "lr = LinearRegression()\n",
    "\n",
    "# Training\n",
    "lr.fit(X_train, Y_train)\n",
    "\n",
    "# Predicting\n",
    "Y_pred_lr = lr.predict(X_test)\n",
    "\n",
    "# Scoring\n",
    "score_lr = score(Y_pred_lr) * -1\n",
    "announce(score_lr)\n",
    "\n",
    "algorithms.append('LR')\n",
    "scores.append(score_lr)"
   ]
  },
  {
   "cell_type": "code",
   "execution_count": 16,
   "metadata": {
    "ExecuteTime": {
     "end_time": "2022-02-27T15:45:33.899247Z",
     "start_time": "2022-02-27T15:45:33.883231Z"
    },
    "execution": {
     "iopub.execute_input": "2022-02-27T15:37:52.134037Z",
     "iopub.status.busy": "2022-02-27T15:37:52.130628Z",
     "iopub.status.idle": "2022-02-27T15:37:52.158842Z",
     "shell.execute_reply": "2022-02-27T15:37:52.157769Z",
     "shell.execute_reply.started": "2022-02-27T15:37:52.133979Z"
    }
   },
   "outputs": [
    {
     "data": {
      "text/plain": [
       "474961    4.276\n",
       "283914    2.867\n",
       "241049    3.635\n",
       "359366    3.831\n",
       "110551    3.813\n",
       "          ...  \n",
       "64431     5.672\n",
       "245904    2.362\n",
       "242701    2.826\n",
       "405500    2.569\n",
       "67651     1.911\n",
       "Name: diameter, Length: 110108, dtype: float64"
      ]
     },
     "execution_count": 16,
     "metadata": {},
     "output_type": "execute_result"
    }
   ],
   "source": [
    "Y_train"
   ]
  },
  {
   "cell_type": "code",
   "execution_count": 17,
   "metadata": {
    "ExecuteTime": {
     "end_time": "2022-02-27T15:45:36.559338Z",
     "start_time": "2022-02-27T15:45:33.899247Z"
    },
    "execution": {
     "iopub.execute_input": "2022-02-27T15:37:52.161614Z",
     "iopub.status.busy": "2022-02-27T15:37:52.160296Z",
     "iopub.status.idle": "2022-02-27T15:37:54.037736Z",
     "shell.execute_reply": "2022-02-27T15:37:54.036714Z",
     "shell.execute_reply.started": "2022-02-27T15:37:52.161553Z"
    }
   },
   "outputs": [
    {
     "name": "stderr",
     "output_type": "stream",
     "text": [
      "C:\\Users\\HP\\anaconda3\\lib\\site-packages\\seaborn\\distributions.py:2619: FutureWarning: `distplot` is a deprecated function and will be removed in a future version. Please adapt your code to use either `displot` (a figure-level function with similar flexibility) or `histplot` (an axes-level function for histograms).\n",
      "  warnings.warn(msg, FutureWarning)\n",
      "C:\\Users\\HP\\anaconda3\\lib\\site-packages\\seaborn\\distributions.py:2619: FutureWarning: `distplot` is a deprecated function and will be removed in a future version. Please adapt your code to use either `displot` (a figure-level function with similar flexibility) or `histplot` (an axes-level function for histograms).\n",
      "  warnings.warn(msg, FutureWarning)\n"
     ]
    },
    {
     "data": {
      "image/png": "[encoded data removed]",
      "text/plain": [
       "<Figure size 1440x504 with 2 Axes>"
      ]
     },
     "metadata": {
      "needs_background": "light"
     },
     "output_type": "display_data"
    }
   ],
   "source": [
    "plot(Y_pred_lr)"
   ]
  },
  {
   "cell_type": "markdown",
   "metadata": {},
   "source": [
    "#### POLYNOMIAL REGRESSION"
   ]
  },
  {
   "cell_type": "code",
   "execution_count": 18,
   "metadata": {
    "ExecuteTime": {
     "end_time": "2022-02-27T15:45:38.800146Z",
     "start_time": "2022-02-27T15:45:36.559338Z"
    },
    "execution": {
     "iopub.execute_input": "2022-02-27T15:37:54.039345Z",
     "iopub.status.busy": "2022-02-27T15:37:54.038962Z",
     "iopub.status.idle": "2022-02-27T15:37:55.527517Z",
     "shell.execute_reply": "2022-02-27T15:37:55.526657Z",
     "shell.execute_reply.started": "2022-02-27T15:37:54.039297Z"
    }
   },
   "outputs": [
    {
     "name": "stdout",
     "output_type": "stream",
     "text": [
      "The R^2 score achieved using this regression is: 0.473\n"
     ]
    }
   ],
   "source": [
    "# Defining the model\n",
    "from sklearn.preprocessing import PolynomialFeatures\n",
    "\n",
    "poly_features = PolynomialFeatures(degree=2)\n",
    "x_poly_train = poly_features.fit_transform(X_train)\n",
    "x_poly_test = poly_features.fit_transform(X_test)\n",
    "\n",
    "# Training\n",
    "lr.fit(x_poly_train, Y_train)\n",
    "\n",
    "# Predicting\n",
    "Y_pred_pr = lr.predict(x_poly_test)\n",
    "\n",
    "# Scoring\n",
    "score_pr = score(Y_pred_pr)\n",
    "announce(score_pr)\n",
    "\n",
    "algorithms.append('POLYR')\n",
    "scores.append(score_pr)"
   ]
  },
  {
   "cell_type": "code",
   "execution_count": 19,
   "metadata": {
    "ExecuteTime": {
     "end_time": "2022-02-27T15:45:38.824149Z",
     "start_time": "2022-02-27T15:45:38.800146Z"
    },
    "execution": {
     "iopub.execute_input": "2022-02-27T15:37:55.530865Z",
     "iopub.status.busy": "2022-02-27T15:37:55.529117Z",
     "iopub.status.idle": "2022-02-27T15:37:55.548564Z",
     "shell.execute_reply": "2022-02-27T15:37:55.547673Z",
     "shell.execute_reply.started": "2022-02-27T15:37:55.530816Z"
    }
   },
   "outputs": [
    {
     "data": {
      "text/plain": [
       "474961    4.276\n",
       "283914    2.867\n",
       "241049    3.635\n",
       "359366    3.831\n",
       "110551    3.813\n",
       "          ...  \n",
       "64431     5.672\n",
       "245904    2.362\n",
       "242701    2.826\n",
       "405500    2.569\n",
       "67651     1.911\n",
       "Name: diameter, Length: 110108, dtype: float64"
      ]
     },
     "execution_count": 19,
     "metadata": {},
     "output_type": "execute_result"
    }
   ],
   "source": [
    "Y_train"
   ]
  },
  {
   "cell_type": "code",
   "execution_count": 20,
   "metadata": {
    "ExecuteTime": {
     "end_time": "2022-02-27T15:45:40.991637Z",
     "start_time": "2022-02-27T15:45:38.824149Z"
    },
    "execution": {
     "iopub.execute_input": "2022-02-27T15:37:55.553012Z",
     "iopub.status.busy": "2022-02-27T15:37:55.551017Z",
     "iopub.status.idle": "2022-02-27T15:37:57.284637Z",
     "shell.execute_reply": "2022-02-27T15:37:57.283613Z",
     "shell.execute_reply.started": "2022-02-27T15:37:55.552959Z"
    }
   },
   "outputs": [
    {
     "name": "stderr",
     "output_type": "stream",
     "text": [
      "C:\\Users\\HP\\anaconda3\\lib\\site-packages\\seaborn\\distributions.py:2619: FutureWarning: `distplot` is a deprecated function and will be removed in a future version. Please adapt your code to use either `displot` (a figure-level function with similar flexibility) or `histplot` (an axes-level function for histograms).\n",
      "  warnings.warn(msg, FutureWarning)\n",
      "C:\\Users\\HP\\anaconda3\\lib\\site-packages\\seaborn\\distributions.py:2619: FutureWarning: `distplot` is a deprecated function and will be removed in a future version. Please adapt your code to use either `displot` (a figure-level function with similar flexibility) or `histplot` (an axes-level function for histograms).\n",
      "  warnings.warn(msg, FutureWarning)\n"
     ]
    },
    {
     "data": {
      "image/png": "[encoded data removed]",
      "text/plain": [
       "<Figure size 1440x504 with 2 Axes>"
      ]
     },
     "metadata": {
      "needs_background": "light"
     },
     "output_type": "display_data"
    }
   ],
   "source": [
    "plot(Y_pred_lr)"
   ]
  },
  {
   "cell_type": "markdown",
   "metadata": {},
   "source": [
    "#### RANDOM FOREST REGRESSION"
   ]
  },
  {
   "cell_type": "code",
   "execution_count": 21,
   "metadata": {
    "ExecuteTime": {
     "end_time": "2022-02-27T15:48:24.363054Z",
     "start_time": "2022-02-27T15:45:40.991637Z"
    },
    "execution": {
     "iopub.execute_input": "2022-02-27T15:37:57.287003Z",
     "iopub.status.busy": "2022-02-27T15:37:57.286193Z",
     "iopub.status.idle": "2022-02-27T15:39:54.102953Z",
     "shell.execute_reply": "2022-02-27T15:39:54.101999Z",
     "shell.execute_reply.started": "2022-02-27T15:37:57.286959Z"
    }
   },
   "outputs": [
    {
     "name": "stdout",
     "output_type": "stream",
     "text": [
      "The R^2 score achieved using this regression is: 0.902\n"
     ]
    }
   ],
   "source": [
    "# Defining the model\n",
    "from sklearn.ensemble import RandomForestRegressor\n",
    "\n",
    "forest = RandomForestRegressor(max_depth=32, n_estimators=50)\n",
    "\n",
    "# Training\n",
    "forest.fit(X_train_norm, np.ravel(Y_train))\n",
    "\n",
    "# Predicting\n",
    "Y_pred_forest = forest.predict(X_test_norm)\n",
    "\n",
    "# Scoring\n",
    "score_forest = score(Y_pred_forest)\n",
    "announce(score_forest)\n",
    "\n",
    "algorithms.append('RForest')\n",
    "scores.append(score_forest)"
   ]
  },
  {
   "cell_type": "code",
   "execution_count": 22,
   "metadata": {
    "ExecuteTime": {
     "end_time": "2022-02-27T15:48:27.282255Z",
     "start_time": "2022-02-27T15:48:24.363054Z"
    },
    "execution": {
     "iopub.execute_input": "2022-02-27T15:39:54.105175Z",
     "iopub.status.busy": "2022-02-27T15:39:54.104320Z",
     "iopub.status.idle": "2022-02-27T15:39:55.688423Z",
     "shell.execute_reply": "2022-02-27T15:39:55.687382Z",
     "shell.execute_reply.started": "2022-02-27T15:39:54.105125Z"
    }
   },
   "outputs": [
    {
     "name": "stderr",
     "output_type": "stream",
     "text": [
      "C:\\Users\\HP\\anaconda3\\lib\\site-packages\\seaborn\\distributions.py:2619: FutureWarning: `distplot` is a deprecated function and will be removed in a future version. Please adapt your code to use either `displot` (a figure-level function with similar flexibility) or `histplot` (an axes-level function for histograms).\n",
      "  warnings.warn(msg, FutureWarning)\n",
      "C:\\Users\\HP\\anaconda3\\lib\\site-packages\\seaborn\\distributions.py:2619: FutureWarning: `distplot` is a deprecated function and will be removed in a future version. Please adapt your code to use either `displot` (a figure-level function with similar flexibility) or `histplot` (an axes-level function for histograms).\n",
      "  warnings.warn(msg, FutureWarning)\n"
     ]
    },
    {
     "data": {
      "image/png": "[encoded data removed]",
      "text/plain": [
       "<Figure size 1440x504 with 2 Axes>"
      ]
     },
     "metadata": {
      "needs_background": "light"
     },
     "output_type": "display_data"
    }
   ],
   "source": [
    "plot(Y_pred_forest)"
   ]
  },
  {
   "cell_type": "markdown",
   "metadata": {},
   "source": [
    "#### RIDGE REGRESSION"
   ]
  },
  {
   "cell_type": "code",
   "execution_count": 23,
   "metadata": {
    "ExecuteTime": {
     "end_time": "2022-02-27T15:48:27.362460Z",
     "start_time": "2022-02-27T15:48:27.282255Z"
    },
    "execution": {
     "iopub.execute_input": "2022-02-27T15:39:55.689866Z",
     "iopub.status.busy": "2022-02-27T15:39:55.689644Z",
     "iopub.status.idle": "2022-02-27T15:39:55.739234Z",
     "shell.execute_reply": "2022-02-27T15:39:55.738231Z",
     "shell.execute_reply.started": "2022-02-27T15:39:55.689840Z"
    }
   },
   "outputs": [
    {
     "name": "stdout",
     "output_type": "stream",
     "text": [
      "The R^2 score achieved using this regression is: 0.497\n"
     ]
    }
   ],
   "source": [
    "# Defining the model\n",
    "from sklearn.linear_model import Ridge\n",
    "\n",
    "lr_ridge = Ridge(alpha=0.1)\n",
    "\n",
    "# Training\n",
    "lr_ridge.fit(X_train, Y_train)\n",
    "\n",
    "# Predicting\n",
    "Y_pred_lr_ridge = lr_ridge.predict(X_test)\n",
    "\n",
    "# Scoring\n",
    "score_lr_ridge = score(Y_pred_lr_ridge) * -1\n",
    "announce(score_lr_ridge)\n",
    "\n",
    "algorithms.append('RR')\n",
    "scores.append(score_lr_ridge)"
   ]
  },
  {
   "cell_type": "code",
   "execution_count": 24,
   "metadata": {
    "ExecuteTime": {
     "end_time": "2022-02-27T15:48:27.386251Z",
     "start_time": "2022-02-27T15:48:27.362460Z"
    },
    "execution": {
     "iopub.execute_input": "2022-02-27T15:39:55.748948Z",
     "iopub.status.busy": "2022-02-27T15:39:55.745099Z",
     "iopub.status.idle": "2022-02-27T15:39:55.765436Z",
     "shell.execute_reply": "2022-02-27T15:39:55.764369Z",
     "shell.execute_reply.started": "2022-02-27T15:39:55.748871Z"
    }
   },
   "outputs": [
    {
     "data": {
      "text/plain": [
       "474961    4.276\n",
       "283914    2.867\n",
       "241049    3.635\n",
       "359366    3.831\n",
       "110551    3.813\n",
       "          ...  \n",
       "64431     5.672\n",
       "245904    2.362\n",
       "242701    2.826\n",
       "405500    2.569\n",
       "67651     1.911\n",
       "Name: diameter, Length: 110108, dtype: float64"
      ]
     },
     "execution_count": 24,
     "metadata": {},
     "output_type": "execute_result"
    }
   ],
   "source": [
    "Y_train"
   ]
  },
  {
   "cell_type": "code",
   "execution_count": 25,
   "metadata": {
    "ExecuteTime": {
     "end_time": "2022-02-27T15:48:29.421150Z",
     "start_time": "2022-02-27T15:48:27.386251Z"
    },
    "execution": {
     "iopub.execute_input": "2022-02-27T15:39:55.768555Z",
     "iopub.status.busy": "2022-02-27T15:39:55.768029Z",
     "iopub.status.idle": "2022-02-27T15:39:57.379149Z",
     "shell.execute_reply": "2022-02-27T15:39:57.378260Z",
     "shell.execute_reply.started": "2022-02-27T15:39:55.768493Z"
    }
   },
   "outputs": [
    {
     "name": "stderr",
     "output_type": "stream",
     "text": [
      "C:\\Users\\HP\\anaconda3\\lib\\site-packages\\seaborn\\distributions.py:2619: FutureWarning: `distplot` is a deprecated function and will be removed in a future version. Please adapt your code to use either `displot` (a figure-level function with similar flexibility) or `histplot` (an axes-level function for histograms).\n",
      "  warnings.warn(msg, FutureWarning)\n",
      "C:\\Users\\HP\\anaconda3\\lib\\site-packages\\seaborn\\distributions.py:2619: FutureWarning: `distplot` is a deprecated function and will be removed in a future version. Please adapt your code to use either `displot` (a figure-level function with similar flexibility) or `histplot` (an axes-level function for histograms).\n",
      "  warnings.warn(msg, FutureWarning)\n"
     ]
    },
    {
     "data": {
      "image/png": "[encoded data removed]",
      "text/plain": [
       "<Figure size 1440x504 with 2 Axes>"
      ]
     },
     "metadata": {
      "needs_background": "light"
     },
     "output_type": "display_data"
    }
   ],
   "source": [
    "plot(Y_pred_lr)"
   ]
  },
  {
   "cell_type": "markdown",
   "metadata": {},
   "source": [
    "#### LASSO REGRESSION"
   ]
  },
  {
   "cell_type": "code",
   "execution_count": 26,
   "metadata": {
    "ExecuteTime": {
     "end_time": "2022-02-27T15:48:29.526614Z",
     "start_time": "2022-02-27T15:48:29.421150Z"
    },
    "execution": {
     "iopub.execute_input": "2022-02-27T15:39:57.380696Z",
     "iopub.status.busy": "2022-02-27T15:39:57.380492Z",
     "iopub.status.idle": "2022-02-27T15:39:57.454076Z",
     "shell.execute_reply": "2022-02-27T15:39:57.453065Z",
     "shell.execute_reply.started": "2022-02-27T15:39:57.380671Z"
    }
   },
   "outputs": [
    {
     "name": "stdout",
     "output_type": "stream",
     "text": [
      "The R^2 score achieved using this regression is: 1.506\n"
     ]
    }
   ],
   "source": [
    "# Defining the model\n",
    "from sklearn.linear_model import Lasso\n",
    "\n",
    "lr_lasso = Lasso()\n",
    "\n",
    "# Training\n",
    "lr_lasso.fit(X_train, Y_train)\n",
    "\n",
    "# Predicting\n",
    "Y_pred_lr_lasso = lr_lasso.predict(X_test)\n",
    "\n",
    "# Scoring\n",
    "score_lr_lasso = score(Y_pred_lr_lasso) * -1\n",
    "announce(score_lr_lasso)\n",
    "\n",
    "algorithms.append('LASR')\n",
    "scores.append(score_lr_lasso)"
   ]
  },
  {
   "cell_type": "code",
   "execution_count": 27,
   "metadata": {
    "ExecuteTime": {
     "end_time": "2022-02-27T15:48:29.549470Z",
     "start_time": "2022-02-27T15:48:29.526614Z"
    },
    "execution": {
     "iopub.execute_input": "2022-02-27T15:39:57.456718Z",
     "iopub.status.busy": "2022-02-27T15:39:57.455492Z",
     "iopub.status.idle": "2022-02-27T15:39:57.471766Z",
     "shell.execute_reply": "2022-02-27T15:39:57.470884Z",
     "shell.execute_reply.started": "2022-02-27T15:39:57.456671Z"
    }
   },
   "outputs": [
    {
     "data": {
      "text/plain": [
       "474961    4.276\n",
       "283914    2.867\n",
       "241049    3.635\n",
       "359366    3.831\n",
       "110551    3.813\n",
       "          ...  \n",
       "64431     5.672\n",
       "245904    2.362\n",
       "242701    2.826\n",
       "405500    2.569\n",
       "67651     1.911\n",
       "Name: diameter, Length: 110108, dtype: float64"
      ]
     },
     "execution_count": 27,
     "metadata": {},
     "output_type": "execute_result"
    }
   ],
   "source": [
    "Y_train"
   ]
  },
  {
   "cell_type": "code",
   "execution_count": 28,
   "metadata": {
    "ExecuteTime": {
     "end_time": "2022-02-27T15:48:31.948063Z",
     "start_time": "2022-02-27T15:48:29.550951Z"
    },
    "execution": {
     "iopub.execute_input": "2022-02-27T15:39:57.481690Z",
     "iopub.status.busy": "2022-02-27T15:39:57.478613Z",
     "iopub.status.idle": "2022-02-27T15:39:59.047623Z",
     "shell.execute_reply": "2022-02-27T15:39:59.046638Z",
     "shell.execute_reply.started": "2022-02-27T15:39:57.481633Z"
    }
   },
   "outputs": [
    {
     "name": "stderr",
     "output_type": "stream",
     "text": [
      "C:\\Users\\HP\\anaconda3\\lib\\site-packages\\seaborn\\distributions.py:2619: FutureWarning: `distplot` is a deprecated function and will be removed in a future version. Please adapt your code to use either `displot` (a figure-level function with similar flexibility) or `histplot` (an axes-level function for histograms).\n",
      "  warnings.warn(msg, FutureWarning)\n",
      "C:\\Users\\HP\\anaconda3\\lib\\site-packages\\seaborn\\distributions.py:2619: FutureWarning: `distplot` is a deprecated function and will be removed in a future version. Please adapt your code to use either `displot` (a figure-level function with similar flexibility) or `histplot` (an axes-level function for histograms).\n",
      "  warnings.warn(msg, FutureWarning)\n"
     ]
    },
    {
     "data": {
      "image/png": "[encoded data removed]",
      "text/plain": [
       "<Figure size 1440x504 with 2 Axes>"
      ]
     },
     "metadata": {
      "needs_background": "light"
     },
     "output_type": "display_data"
    }
   ],
   "source": [
    "plot(Y_pred_lr)"
   ]
  },
  {
   "cell_type": "markdown",
   "metadata": {
    "ExecuteTime": {
     "start_time": "2022-02-27T15:31:08.294Z"
    }
   },
   "source": [
    "#### ANALYZING DIFFRENT REGRESSION ALGORITHMS"
   ]
  },
  {
   "cell_type": "code",
   "execution_count": 29,
   "metadata": {
    "ExecuteTime": {
     "end_time": "2022-02-27T15:48:32.242406Z",
     "start_time": "2022-02-27T15:48:31.951353Z"
    },
    "execution": {
     "iopub.execute_input": "2022-02-27T15:39:59.048956Z",
     "iopub.status.busy": "2022-02-27T15:39:59.048720Z",
     "iopub.status.idle": "2022-02-27T15:39:59.208442Z",
     "shell.execute_reply": "2022-02-27T15:39:59.207534Z",
     "shell.execute_reply.started": "2022-02-27T15:39:59.048922Z"
    }
   },
   "outputs": [
    {
     "name": "stderr",
     "output_type": "stream",
     "text": [
      "C:\\Users\\HP\\anaconda3\\lib\\site-packages\\seaborn\\_decorators.py:36: FutureWarning: Pass the following variables as keyword args: x, y. From version 0.12, the only valid positional argument will be `data`, and passing other arguments without an explicit keyword will result in an error or misinterpretation.\n",
      "  warnings.warn(\n"
     ]
    },
    {
     "data": {
      "text/plain": [
       "<AxesSubplot:>"
      ]
     },
     "execution_count": 29,
     "metadata": {},
     "output_type": "execute_result"
    },
    {
     "data": {
      "image/png": "[encoded data removed]",
      "text/plain": [
       "<Figure size 432x288 with 1 Axes>"
      ]
     },
     "metadata": {
      "needs_background": "light"
     },
     "output_type": "display_data"
    }
   ],
   "source": [
    "sns.barplot(algorithms, scores)"
   ]
  },
  {
   "cell_type": "markdown",
   "metadata": {},
   "source": [
    "# ----X----X----X----X----X----X----X----X----X----X----X----X----X----X----X----X----X----"
   ]
  }
 ],
 "metadata": {
  "kernelspec": {
   "display_name": "Python 3 (ipykernel)",
   "language": "python",
   "name": "python3"
  },
  "language_info": {
   "codemirror_mode": {
    "name": "ipython",
    "version": 3
   },
   "file_extension": ".py",
   "mimetype": "text/x-python",
   "name": "python",
   "nbconvert_exporter": "python",
   "pygments_lexer": "ipython3",
   "version": "3.9.7"
  },
  "nbTranslate": {
   "displayLangs": [
    "*"
   ],
   "hotkey": "alt-t",
   "langInMainMenu": true,
   "sourceLang": "en",
   "targetLang": "fr",
   "useGoogleTranslate": true
  },
  "toc": {
   "base_numbering": 1,
   "nav_menu": {},
   "number_sections": false,
   "sideBar": true,
   "skip_h1_title": false,
   "title_cell": "Table of Contents",
   "title_sidebar": "Contents",
   "toc_cell": false,
   "toc_position": {},
   "toc_section_display": true,
   "toc_window_display": false
  },
  "varInspector": {
   "cols": {
    "lenName": 16,
    "lenType": 16,
    "lenVar": 40
   },
   "kernels_config": {
    "python": {
     "delete_cmd_postfix": "",
     "delete_cmd_prefix": "del ",
     "library": "var_list.py",
     "varRefreshCmd": "print(var_dic_list())"
    },
    "r": {
     "delete_cmd_postfix": ") ",
     "delete_cmd_prefix": "rm(",
     "library": "var_list.r",
     "varRefreshCmd": "cat(var_dic_list()) "
    }
   },
   "types_to_exclude": [
    "module",
    "function",
    "builtin_function_or_method",
    "instance",
    "_Feature"
   ],
   "window_display": false
  }
 },
 "nbformat": 4,
 "nbformat_minor": 4
}
