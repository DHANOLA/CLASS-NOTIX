{
 "cells": [
  {
   "cell_type": "markdown",
   "id": "ab3ced67",
   "metadata": {},
   "source": [
    "# =============================================================================\n",
    "# PANDAS EXCERCISES\n",
    "# =============================================================================\n"
   ]
  },
  {
   "cell_type": "markdown",
   "id": "d0afcd5d",
   "metadata": {},
   "source": [
    "# "
   ]
  },
  {
   "cell_type": "markdown",
   "id": "2e55b7ac",
   "metadata": {},
   "source": [
    "# "
   ]
  },
  {
   "cell_type": "markdown",
   "id": "8f2bfa04",
   "metadata": {},
   "source": [
    "# importing the panadas\n"
   ]
  },
  {
   "cell_type": "code",
   "execution_count": 64,
   "id": "110c6dbd",
   "metadata": {
    "ExecuteTime": {
     "end_time": "2021-08-24T04:09:39.787822Z",
     "start_time": "2021-08-24T04:09:39.783206Z"
    }
   },
   "outputs": [],
   "source": [
    "import numpy as np\n",
    "import pandas as pd"
   ]
  },
  {
   "cell_type": "markdown",
   "id": "fdd5fdf7",
   "metadata": {},
   "source": [
    "# creating a dataframe fruits\n"
   ]
  },
  {
   "cell_type": "code",
   "execution_count": 65,
   "id": "d942ad9b",
   "metadata": {
    "ExecuteTime": {
     "end_time": "2021-08-24T04:09:39.884802Z",
     "start_time": "2021-08-24T04:09:39.792566Z"
    }
   },
   "outputs": [
    {
     "data": {
      "text/html": [
       "<div>\n",
       "<style scoped>\n",
       "    .dataframe tbody tr th:only-of-type {\n",
       "        vertical-align: middle;\n",
       "    }\n",
       "\n",
       "    .dataframe tbody tr th {\n",
       "        vertical-align: top;\n",
       "    }\n",
       "\n",
       "    .dataframe thead th {\n",
       "        text-align: right;\n",
       "    }\n",
       "</style>\n",
       "<table border=\"1\" class=\"dataframe\">\n",
       "  <thead>\n",
       "    <tr style=\"text-align: right;\">\n",
       "      <th></th>\n",
       "      <th>Apples</th>\n",
       "      <th>Bananas</th>\n",
       "    </tr>\n",
       "  </thead>\n",
       "  <tbody>\n",
       "    <tr>\n",
       "      <th>0</th>\n",
       "      <td>30</td>\n",
       "      <td>21</td>\n",
       "    </tr>\n",
       "  </tbody>\n",
       "</table>\n",
       "</div>"
      ],
      "text/plain": [
       "   Apples  Bananas\n",
       "0      30       21"
      ]
     },
     "execution_count": 65,
     "metadata": {},
     "output_type": "execute_result"
    }
   ],
   "source": [
    "fruits = pd.DataFrame({'Apples': [30], 'Bananas': [21]})\n",
    "\n",
    "fruits"
   ]
  },
  {
   "cell_type": "markdown",
   "id": "8a5b4cbf",
   "metadata": {},
   "source": [
    " # creating a dataframe fruit_sales\n"
   ]
  },
  {
   "cell_type": "code",
   "execution_count": 66,
   "id": "2b8e9998",
   "metadata": {
    "ExecuteTime": {
     "end_time": "2021-08-24T04:09:39.986001Z",
     "start_time": "2021-08-24T04:09:39.889236Z"
    }
   },
   "outputs": [
    {
     "data": {
      "text/html": [
       "<div>\n",
       "<style scoped>\n",
       "    .dataframe tbody tr th:only-of-type {\n",
       "        vertical-align: middle;\n",
       "    }\n",
       "\n",
       "    .dataframe tbody tr th {\n",
       "        vertical-align: top;\n",
       "    }\n",
       "\n",
       "    .dataframe thead th {\n",
       "        text-align: right;\n",
       "    }\n",
       "</style>\n",
       "<table border=\"1\" class=\"dataframe\">\n",
       "  <thead>\n",
       "    <tr style=\"text-align: right;\">\n",
       "      <th></th>\n",
       "      <th>Apples</th>\n",
       "      <th>Bananas</th>\n",
       "    </tr>\n",
       "  </thead>\n",
       "  <tbody>\n",
       "    <tr>\n",
       "      <th>2017 Sales</th>\n",
       "      <td>35</td>\n",
       "      <td>21</td>\n",
       "    </tr>\n",
       "    <tr>\n",
       "      <th>2018 Sales</th>\n",
       "      <td>41</td>\n",
       "      <td>34</td>\n",
       "    </tr>\n",
       "  </tbody>\n",
       "</table>\n",
       "</div>"
      ],
      "text/plain": [
       "            Apples  Bananas\n",
       "2017 Sales      35       21\n",
       "2018 Sales      41       34"
      ]
     },
     "execution_count": 66,
     "metadata": {},
     "output_type": "execute_result"
    }
   ],
   "source": [
    "fruit_sales = pd.DataFrame({\"Apples\": [35, 41], \"Bananas\": [\n",
    "                           21, 34]}, index=([\"2017 Sales\", \"2018 Sales\"]))\n",
    "\n",
    "fruit_sales"
   ]
  },
  {
   "cell_type": "markdown",
   "id": "c15fd9cf",
   "metadata": {},
   "source": [
    "# creating a series ingredients\n"
   ]
  },
  {
   "cell_type": "code",
   "execution_count": 67,
   "id": "517a6a4d",
   "metadata": {
    "ExecuteTime": {
     "end_time": "2021-08-24T04:09:40.078205Z",
     "start_time": "2021-08-24T04:09:39.990822Z"
    }
   },
   "outputs": [
    {
     "data": {
      "text/plain": [
       "Flour     4 Cups\n",
       "Milk       1 Cup\n",
       "Eggs     2 large\n",
       "Spam       1 Can\n",
       "dtype: object"
      ]
     },
     "execution_count": 67,
     "metadata": {},
     "output_type": "execute_result"
    }
   ],
   "source": [
    "ingredients = pd.Series(\n",
    "    {\"Flour\": \"4 Cups\", \"Milk\": \"1 Cup\", \"Eggs\": \"2 large\", \"Spam\": \"1 Can\"})\n",
    "\n",
    "ingredients"
   ]
  },
  {
   "cell_type": "markdown",
   "id": "bd9ecaad",
   "metadata": {},
   "source": [
    "#  reading the csv dataset of wine reviews into  a Dataframe reviews\n"
   ]
  },
  {
   "cell_type": "code",
   "execution_count": 68,
   "id": "978f70b8",
   "metadata": {
    "ExecuteTime": {
     "end_time": "2021-08-24T04:09:41.569454Z",
     "start_time": "2021-08-24T04:09:40.081261Z"
    }
   },
   "outputs": [
    {
     "data": {
      "text/html": [
       "<div>\n",
       "<style scoped>\n",
       "    .dataframe tbody tr th:only-of-type {\n",
       "        vertical-align: middle;\n",
       "    }\n",
       "\n",
       "    .dataframe tbody tr th {\n",
       "        vertical-align: top;\n",
       "    }\n",
       "\n",
       "    .dataframe thead th {\n",
       "        text-align: right;\n",
       "    }\n",
       "</style>\n",
       "<table border=\"1\" class=\"dataframe\">\n",
       "  <thead>\n",
       "    <tr style=\"text-align: right;\">\n",
       "      <th></th>\n",
       "      <th>Unnamed: 0</th>\n",
       "      <th>country</th>\n",
       "      <th>description</th>\n",
       "      <th>designation</th>\n",
       "      <th>points</th>\n",
       "      <th>price</th>\n",
       "      <th>province</th>\n",
       "      <th>region_1</th>\n",
       "      <th>region_2</th>\n",
       "      <th>variety</th>\n",
       "      <th>winery</th>\n",
       "    </tr>\n",
       "  </thead>\n",
       "  <tbody>\n",
       "    <tr>\n",
       "      <th>0</th>\n",
       "      <td>0</td>\n",
       "      <td>US</td>\n",
       "      <td>This tremendous 100% varietal wine hails from ...</td>\n",
       "      <td>Martha's Vineyard</td>\n",
       "      <td>96</td>\n",
       "      <td>235.0</td>\n",
       "      <td>California</td>\n",
       "      <td>Napa Valley</td>\n",
       "      <td>Napa</td>\n",
       "      <td>Cabernet Sauvignon</td>\n",
       "      <td>Heitz</td>\n",
       "    </tr>\n",
       "    <tr>\n",
       "      <th>1</th>\n",
       "      <td>1</td>\n",
       "      <td>Spain</td>\n",
       "      <td>Ripe aromas of fig, blackberry and cassis are ...</td>\n",
       "      <td>Carodorum Selección Especial Reserva</td>\n",
       "      <td>96</td>\n",
       "      <td>110.0</td>\n",
       "      <td>Northern Spain</td>\n",
       "      <td>Toro</td>\n",
       "      <td>NaN</td>\n",
       "      <td>Tinta de Toro</td>\n",
       "      <td>Bodega Carmen Rodríguez</td>\n",
       "    </tr>\n",
       "    <tr>\n",
       "      <th>2</th>\n",
       "      <td>2</td>\n",
       "      <td>US</td>\n",
       "      <td>Mac Watson honors the memory of a wine once ma...</td>\n",
       "      <td>Special Selected Late Harvest</td>\n",
       "      <td>96</td>\n",
       "      <td>90.0</td>\n",
       "      <td>California</td>\n",
       "      <td>Knights Valley</td>\n",
       "      <td>Sonoma</td>\n",
       "      <td>Sauvignon Blanc</td>\n",
       "      <td>Macauley</td>\n",
       "    </tr>\n",
       "    <tr>\n",
       "      <th>3</th>\n",
       "      <td>3</td>\n",
       "      <td>US</td>\n",
       "      <td>This spent 20 months in 30% new French oak, an...</td>\n",
       "      <td>Reserve</td>\n",
       "      <td>96</td>\n",
       "      <td>65.0</td>\n",
       "      <td>Oregon</td>\n",
       "      <td>Willamette Valley</td>\n",
       "      <td>Willamette Valley</td>\n",
       "      <td>Pinot Noir</td>\n",
       "      <td>Ponzi</td>\n",
       "    </tr>\n",
       "    <tr>\n",
       "      <th>4</th>\n",
       "      <td>4</td>\n",
       "      <td>France</td>\n",
       "      <td>This is the top wine from La Bégude, named aft...</td>\n",
       "      <td>La Brûlade</td>\n",
       "      <td>95</td>\n",
       "      <td>66.0</td>\n",
       "      <td>Provence</td>\n",
       "      <td>Bandol</td>\n",
       "      <td>NaN</td>\n",
       "      <td>Provence red blend</td>\n",
       "      <td>Domaine de la Bégude</td>\n",
       "    </tr>\n",
       "  </tbody>\n",
       "</table>\n",
       "</div>"
      ],
      "text/plain": [
       "   Unnamed: 0 country                                        description  \\\n",
       "0           0      US  This tremendous 100% varietal wine hails from ...   \n",
       "1           1   Spain  Ripe aromas of fig, blackberry and cassis are ...   \n",
       "2           2      US  Mac Watson honors the memory of a wine once ma...   \n",
       "3           3      US  This spent 20 months in 30% new French oak, an...   \n",
       "4           4  France  This is the top wine from La Bégude, named aft...   \n",
       "\n",
       "                            designation  points  price        province  \\\n",
       "0                     Martha's Vineyard      96  235.0      California   \n",
       "1  Carodorum Selección Especial Reserva      96  110.0  Northern Spain   \n",
       "2         Special Selected Late Harvest      96   90.0      California   \n",
       "3                               Reserve      96   65.0          Oregon   \n",
       "4                            La Brûlade      95   66.0        Provence   \n",
       "\n",
       "            region_1           region_2             variety  \\\n",
       "0        Napa Valley               Napa  Cabernet Sauvignon   \n",
       "1               Toro                NaN       Tinta de Toro   \n",
       "2     Knights Valley             Sonoma     Sauvignon Blanc   \n",
       "3  Willamette Valley  Willamette Valley          Pinot Noir   \n",
       "4             Bandol                NaN  Provence red blend   \n",
       "\n",
       "                    winery  \n",
       "0                    Heitz  \n",
       "1  Bodega Carmen Rodríguez  \n",
       "2                 Macauley  \n",
       "3                    Ponzi  \n",
       "4     Domaine de la Bégude  "
      ]
     },
     "execution_count": 68,
     "metadata": {},
     "output_type": "execute_result"
    }
   ],
   "source": [
    "reviews = pd.read_csv(\"~/KUBUNTU/DATASET/CSV_FILES/winemag-data_first150k.csv\")\n",
    "\n",
    "reviews.head()"
   ]
  },
  {
   "cell_type": "markdown",
   "id": "d30e8493",
   "metadata": {},
   "source": [
    "#  describe the dataset\n"
   ]
  },
  {
   "cell_type": "code",
   "execution_count": 69,
   "id": "e8177a39",
   "metadata": {
    "ExecuteTime": {
     "end_time": "2021-08-24T04:09:41.632463Z",
     "start_time": "2021-08-24T04:09:41.572886Z"
    }
   },
   "outputs": [
    {
     "data": {
      "text/html": [
       "<div>\n",
       "<style scoped>\n",
       "    .dataframe tbody tr th:only-of-type {\n",
       "        vertical-align: middle;\n",
       "    }\n",
       "\n",
       "    .dataframe tbody tr th {\n",
       "        vertical-align: top;\n",
       "    }\n",
       "\n",
       "    .dataframe thead th {\n",
       "        text-align: right;\n",
       "    }\n",
       "</style>\n",
       "<table border=\"1\" class=\"dataframe\">\n",
       "  <thead>\n",
       "    <tr style=\"text-align: right;\">\n",
       "      <th></th>\n",
       "      <th>Unnamed: 0</th>\n",
       "      <th>points</th>\n",
       "      <th>price</th>\n",
       "    </tr>\n",
       "  </thead>\n",
       "  <tbody>\n",
       "    <tr>\n",
       "      <th>count</th>\n",
       "      <td>150930.000000</td>\n",
       "      <td>150930.000000</td>\n",
       "      <td>137235.000000</td>\n",
       "    </tr>\n",
       "    <tr>\n",
       "      <th>mean</th>\n",
       "      <td>75464.500000</td>\n",
       "      <td>87.888418</td>\n",
       "      <td>33.131482</td>\n",
       "    </tr>\n",
       "    <tr>\n",
       "      <th>std</th>\n",
       "      <td>43569.882402</td>\n",
       "      <td>3.222392</td>\n",
       "      <td>36.322536</td>\n",
       "    </tr>\n",
       "    <tr>\n",
       "      <th>min</th>\n",
       "      <td>0.000000</td>\n",
       "      <td>80.000000</td>\n",
       "      <td>4.000000</td>\n",
       "    </tr>\n",
       "    <tr>\n",
       "      <th>25%</th>\n",
       "      <td>37732.250000</td>\n",
       "      <td>86.000000</td>\n",
       "      <td>16.000000</td>\n",
       "    </tr>\n",
       "    <tr>\n",
       "      <th>50%</th>\n",
       "      <td>75464.500000</td>\n",
       "      <td>88.000000</td>\n",
       "      <td>24.000000</td>\n",
       "    </tr>\n",
       "    <tr>\n",
       "      <th>75%</th>\n",
       "      <td>113196.750000</td>\n",
       "      <td>90.000000</td>\n",
       "      <td>40.000000</td>\n",
       "    </tr>\n",
       "    <tr>\n",
       "      <th>max</th>\n",
       "      <td>150929.000000</td>\n",
       "      <td>100.000000</td>\n",
       "      <td>2300.000000</td>\n",
       "    </tr>\n",
       "  </tbody>\n",
       "</table>\n",
       "</div>"
      ],
      "text/plain": [
       "          Unnamed: 0         points          price\n",
       "count  150930.000000  150930.000000  137235.000000\n",
       "mean    75464.500000      87.888418      33.131482\n",
       "std     43569.882402       3.222392      36.322536\n",
       "min         0.000000      80.000000       4.000000\n",
       "25%     37732.250000      86.000000      16.000000\n",
       "50%     75464.500000      88.000000      24.000000\n",
       "75%    113196.750000      90.000000      40.000000\n",
       "max    150929.000000     100.000000    2300.000000"
      ]
     },
     "execution_count": 69,
     "metadata": {},
     "output_type": "execute_result"
    }
   ],
   "source": [
    "desc = reviews.describe()\n",
    "\n",
    "desc"
   ]
  },
  {
   "cell_type": "markdown",
   "id": "7a68a8b4",
   "metadata": {
    "ExecuteTime": {
     "end_time": "2021-08-17T16:00:42.119449Z",
     "start_time": "2021-08-17T16:00:42.103745Z"
    }
   },
   "source": [
    "#  create and display a DataFrame called `animals`\n"
   ]
  },
  {
   "cell_type": "code",
   "execution_count": 70,
   "id": "c5cca793",
   "metadata": {
    "ExecuteTime": {
     "end_time": "2021-08-24T04:09:41.684567Z",
     "start_time": "2021-08-24T04:09:41.640583Z"
    }
   },
   "outputs": [
    {
     "data": {
      "text/html": [
       "<div>\n",
       "<style scoped>\n",
       "    .dataframe tbody tr th:only-of-type {\n",
       "        vertical-align: middle;\n",
       "    }\n",
       "\n",
       "    .dataframe tbody tr th {\n",
       "        vertical-align: top;\n",
       "    }\n",
       "\n",
       "    .dataframe thead th {\n",
       "        text-align: right;\n",
       "    }\n",
       "</style>\n",
       "<table border=\"1\" class=\"dataframe\">\n",
       "  <thead>\n",
       "    <tr style=\"text-align: right;\">\n",
       "      <th></th>\n",
       "      <th>Cows</th>\n",
       "      <th>Goats</th>\n",
       "    </tr>\n",
       "  </thead>\n",
       "  <tbody>\n",
       "    <tr>\n",
       "      <th>Year 1</th>\n",
       "      <td>12</td>\n",
       "      <td>22</td>\n",
       "    </tr>\n",
       "    <tr>\n",
       "      <th>Year 2</th>\n",
       "      <td>20</td>\n",
       "      <td>19</td>\n",
       "    </tr>\n",
       "  </tbody>\n",
       "</table>\n",
       "</div>"
      ],
      "text/plain": [
       "        Cows  Goats\n",
       "Year 1    12     22\n",
       "Year 2    20     19"
      ]
     },
     "execution_count": 70,
     "metadata": {},
     "output_type": "execute_result"
    }
   ],
   "source": [
    "animals = pd.DataFrame({'Cows': [12, 20], 'Goats': [22, 19]}, index=[\n",
    "                       'Year 1', 'Year 2'])\n",
    "\n",
    "animals"
   ]
  },
  {
   "cell_type": "markdown",
   "id": "63f57a53",
   "metadata": {},
   "source": [
    "# code to save this DataFrame to disk as a csv file with the name `cows_and_goats.csv`\n"
   ]
  },
  {
   "cell_type": "code",
   "execution_count": 71,
   "id": "14251d68",
   "metadata": {
    "ExecuteTime": {
     "end_time": "2021-08-24T04:09:41.752516Z",
     "start_time": "2021-08-24T04:09:41.687975Z"
    }
   },
   "outputs": [],
   "source": [
    "animals.to_csv(\"~/KUBUNTU/DATASET/CSV_FILES/cows_and_goats.csv\")"
   ]
  },
  {
   "cell_type": "markdown",
   "id": "34b9ccfe",
   "metadata": {},
   "source": [
    "# select the description column from reviews and assign it to variable desc\n"
   ]
  },
  {
   "cell_type": "code",
   "execution_count": 72,
   "id": "85002d50",
   "metadata": {
    "ExecuteTime": {
     "end_time": "2021-08-24T04:09:41.903125Z",
     "start_time": "2021-08-24T04:09:41.760905Z"
    }
   },
   "outputs": [
    {
     "data": {
      "text/plain": [
       "0         This tremendous 100% varietal wine hails from ...\n",
       "1         Ripe aromas of fig, blackberry and cassis are ...\n",
       "2         Mac Watson honors the memory of a wine once ma...\n",
       "3         This spent 20 months in 30% new French oak, an...\n",
       "4         This is the top wine from La Bégude, named aft...\n",
       "                                ...                        \n",
       "150925    Many people feel Fiano represents southern Ita...\n",
       "150926    Offers an intriguing nose with ginger, lime an...\n",
       "150927    This classic example comes from a cru vineyard...\n",
       "150928    A perfect salmon shade, with scents of peaches...\n",
       "150929    More Pinot Grigios should taste like this. A r...\n",
       "Name: description, Length: 150930, dtype: object"
      ]
     },
     "execution_count": 72,
     "metadata": {},
     "output_type": "execute_result"
    }
   ],
   "source": [
    "desc = reviews[\"description\"]\n",
    "\n",
    "desc"
   ]
  },
  {
   "cell_type": "markdown",
   "id": "a3137446",
   "metadata": {},
   "source": [
    "# check the type of the variable desc is\n"
   ]
  },
  {
   "cell_type": "code",
   "execution_count": 73,
   "id": "ff9a602c",
   "metadata": {
    "ExecuteTime": {
     "end_time": "2021-08-24T04:09:41.986769Z",
     "start_time": "2021-08-24T04:09:41.906397Z"
    }
   },
   "outputs": [
    {
     "name": "stdout",
     "output_type": "stream",
     "text": [
      "<class 'pandas.core.series.Series'>\n"
     ]
    }
   ],
   "source": [
    "print(type(desc))"
   ]
  },
  {
   "cell_type": "markdown",
   "id": "92b285d2",
   "metadata": {},
   "source": [
    "# select first column from description column of reviews and assign it to ariable first_description\n"
   ]
  },
  {
   "cell_type": "code",
   "execution_count": 74,
   "id": "535c787e",
   "metadata": {
    "ExecuteTime": {
     "end_time": "2021-08-24T04:09:42.067084Z",
     "start_time": "2021-08-24T04:09:41.990118Z"
    }
   },
   "outputs": [
    {
     "data": {
      "text/plain": [
       "'This tremendous 100% varietal wine hails from Oakville and was aged over three years in oak. Juicy red-cherry fruit and a compelling hint of caramel greet the palate, framed by elegant, fine tannins and a subtle minty tone in the background. Balanced and rewarding from start to finish, it has years ahead of it to develop further nuance. Enjoy 2022–2030.'"
      ]
     },
     "execution_count": 74,
     "metadata": {},
     "output_type": "execute_result"
    }
   ],
   "source": [
    "first_description = reviews[\"description\"][0]\n",
    "\n",
    "first_description"
   ]
  },
  {
   "cell_type": "markdown",
   "id": "43a69350",
   "metadata": {},
   "source": [
    "# select first row of the data from reviews and assign it to first_row\n"
   ]
  },
  {
   "cell_type": "code",
   "execution_count": 75,
   "id": "b7792227",
   "metadata": {
    "ExecuteTime": {
     "end_time": "2021-08-24T04:09:42.157312Z",
     "start_time": "2021-08-24T04:09:42.070953Z"
    }
   },
   "outputs": [
    {
     "data": {
      "text/plain": [
       "Unnamed: 0                                                     0\n",
       "country                                                       US\n",
       "description    This tremendous 100% varietal wine hails from ...\n",
       "designation                                    Martha's Vineyard\n",
       "points                                                        96\n",
       "price                                                      235.0\n",
       "province                                              California\n",
       "region_1                                             Napa Valley\n",
       "region_2                                                    Napa\n",
       "variety                                       Cabernet Sauvignon\n",
       "winery                                                     Heitz\n",
       "Name: 0, dtype: object"
      ]
     },
     "execution_count": 75,
     "metadata": {},
     "output_type": "execute_result"
    }
   ],
   "source": [
    "first_row = reviews.iloc[0]\n",
    "\n",
    "first_row"
   ]
  },
  {
   "cell_type": "markdown",
   "id": "125b34bb",
   "metadata": {},
   "source": [
    "# select the first 10 values from the description column in reviews and assign to variable first_descriptions\n"
   ]
  },
  {
   "cell_type": "code",
   "execution_count": 76,
   "id": "577e3d8f",
   "metadata": {
    "ExecuteTime": {
     "end_time": "2021-08-24T04:09:42.257875Z",
     "start_time": "2021-08-24T04:09:42.161013Z"
    }
   },
   "outputs": [
    {
     "data": {
      "text/plain": [
       "0    This tremendous 100% varietal wine hails from ...\n",
       "1    Ripe aromas of fig, blackberry and cassis are ...\n",
       "2    Mac Watson honors the memory of a wine once ma...\n",
       "3    This spent 20 months in 30% new French oak, an...\n",
       "4    This is the top wine from La Bégude, named aft...\n",
       "5    Deep, dense and pure from the opening bell, th...\n",
       "6    Slightly gritty black-fruit aromas include a s...\n",
       "7    Lush cedary black-fruit aromas are luxe and of...\n",
       "8    This re-named vineyard was formerly bottled as...\n",
       "9    The producer sources from two blocks of the vi...\n",
       "Name: description, dtype: object"
      ]
     },
     "execution_count": 76,
     "metadata": {},
     "output_type": "execute_result"
    }
   ],
   "source": [
    "first_descriptions = reviews[\"description\"][:10]\n",
    "\n",
    "first_descriptions"
   ]
  },
  {
   "cell_type": "markdown",
   "id": "e60f7f2e",
   "metadata": {},
   "source": [
    "# select the records with index labels 1,2,3,5,8 and assign to varible sample_reviews\n"
   ]
  },
  {
   "cell_type": "code",
   "execution_count": 77,
   "id": "22c142a2",
   "metadata": {
    "ExecuteTime": {
     "end_time": "2021-08-24T04:09:42.354549Z",
     "start_time": "2021-08-24T04:09:42.261822Z"
    }
   },
   "outputs": [
    {
     "data": {
      "text/html": [
       "<div>\n",
       "<style scoped>\n",
       "    .dataframe tbody tr th:only-of-type {\n",
       "        vertical-align: middle;\n",
       "    }\n",
       "\n",
       "    .dataframe tbody tr th {\n",
       "        vertical-align: top;\n",
       "    }\n",
       "\n",
       "    .dataframe thead th {\n",
       "        text-align: right;\n",
       "    }\n",
       "</style>\n",
       "<table border=\"1\" class=\"dataframe\">\n",
       "  <thead>\n",
       "    <tr style=\"text-align: right;\">\n",
       "      <th></th>\n",
       "      <th>Unnamed: 0</th>\n",
       "      <th>country</th>\n",
       "      <th>description</th>\n",
       "      <th>designation</th>\n",
       "      <th>points</th>\n",
       "      <th>price</th>\n",
       "      <th>province</th>\n",
       "      <th>region_1</th>\n",
       "      <th>region_2</th>\n",
       "      <th>variety</th>\n",
       "      <th>winery</th>\n",
       "    </tr>\n",
       "  </thead>\n",
       "  <tbody>\n",
       "    <tr>\n",
       "      <th>1</th>\n",
       "      <td>1</td>\n",
       "      <td>Spain</td>\n",
       "      <td>Ripe aromas of fig, blackberry and cassis are ...</td>\n",
       "      <td>Carodorum Selección Especial Reserva</td>\n",
       "      <td>96</td>\n",
       "      <td>110.0</td>\n",
       "      <td>Northern Spain</td>\n",
       "      <td>Toro</td>\n",
       "      <td>NaN</td>\n",
       "      <td>Tinta de Toro</td>\n",
       "      <td>Bodega Carmen Rodríguez</td>\n",
       "    </tr>\n",
       "    <tr>\n",
       "      <th>2</th>\n",
       "      <td>2</td>\n",
       "      <td>US</td>\n",
       "      <td>Mac Watson honors the memory of a wine once ma...</td>\n",
       "      <td>Special Selected Late Harvest</td>\n",
       "      <td>96</td>\n",
       "      <td>90.0</td>\n",
       "      <td>California</td>\n",
       "      <td>Knights Valley</td>\n",
       "      <td>Sonoma</td>\n",
       "      <td>Sauvignon Blanc</td>\n",
       "      <td>Macauley</td>\n",
       "    </tr>\n",
       "    <tr>\n",
       "      <th>3</th>\n",
       "      <td>3</td>\n",
       "      <td>US</td>\n",
       "      <td>This spent 20 months in 30% new French oak, an...</td>\n",
       "      <td>Reserve</td>\n",
       "      <td>96</td>\n",
       "      <td>65.0</td>\n",
       "      <td>Oregon</td>\n",
       "      <td>Willamette Valley</td>\n",
       "      <td>Willamette Valley</td>\n",
       "      <td>Pinot Noir</td>\n",
       "      <td>Ponzi</td>\n",
       "    </tr>\n",
       "    <tr>\n",
       "      <th>5</th>\n",
       "      <td>5</td>\n",
       "      <td>Spain</td>\n",
       "      <td>Deep, dense and pure from the opening bell, th...</td>\n",
       "      <td>Numanthia</td>\n",
       "      <td>95</td>\n",
       "      <td>73.0</td>\n",
       "      <td>Northern Spain</td>\n",
       "      <td>Toro</td>\n",
       "      <td>NaN</td>\n",
       "      <td>Tinta de Toro</td>\n",
       "      <td>Numanthia</td>\n",
       "    </tr>\n",
       "    <tr>\n",
       "      <th>8</th>\n",
       "      <td>8</td>\n",
       "      <td>US</td>\n",
       "      <td>This re-named vineyard was formerly bottled as...</td>\n",
       "      <td>Silice</td>\n",
       "      <td>95</td>\n",
       "      <td>65.0</td>\n",
       "      <td>Oregon</td>\n",
       "      <td>Chehalem Mountains</td>\n",
       "      <td>Willamette Valley</td>\n",
       "      <td>Pinot Noir</td>\n",
       "      <td>Bergström</td>\n",
       "    </tr>\n",
       "  </tbody>\n",
       "</table>\n",
       "</div>"
      ],
      "text/plain": [
       "   Unnamed: 0 country                                        description  \\\n",
       "1           1   Spain  Ripe aromas of fig, blackberry and cassis are ...   \n",
       "2           2      US  Mac Watson honors the memory of a wine once ma...   \n",
       "3           3      US  This spent 20 months in 30% new French oak, an...   \n",
       "5           5   Spain  Deep, dense and pure from the opening bell, th...   \n",
       "8           8      US  This re-named vineyard was formerly bottled as...   \n",
       "\n",
       "                            designation  points  price        province  \\\n",
       "1  Carodorum Selección Especial Reserva      96  110.0  Northern Spain   \n",
       "2         Special Selected Late Harvest      96   90.0      California   \n",
       "3                               Reserve      96   65.0          Oregon   \n",
       "5                             Numanthia      95   73.0  Northern Spain   \n",
       "8                                Silice      95   65.0          Oregon   \n",
       "\n",
       "             region_1           region_2          variety  \\\n",
       "1                Toro                NaN    Tinta de Toro   \n",
       "2      Knights Valley             Sonoma  Sauvignon Blanc   \n",
       "3   Willamette Valley  Willamette Valley       Pinot Noir   \n",
       "5                Toro                NaN    Tinta de Toro   \n",
       "8  Chehalem Mountains  Willamette Valley       Pinot Noir   \n",
       "\n",
       "                    winery  \n",
       "1  Bodega Carmen Rodríguez  \n",
       "2                 Macauley  \n",
       "3                    Ponzi  \n",
       "5                Numanthia  \n",
       "8                Bergström  "
      ]
     },
     "execution_count": 77,
     "metadata": {},
     "output_type": "execute_result"
    }
   ],
   "source": [
    "sample_reviews = reviews.iloc[[1, 2, 3, 5, 8], :]\n",
    "\n",
    "\n",
    "sample_reviews"
   ]
  },
  {
   "cell_type": "markdown",
   "id": "a68c9643",
   "metadata": {},
   "source": [
    "# create a variable df have country, province, region_1, region_2, columns with index labels 0,1,10,100\n"
   ]
  },
  {
   "cell_type": "code",
   "execution_count": 78,
   "id": "19229a75",
   "metadata": {
    "ExecuteTime": {
     "end_time": "2021-08-24T04:09:42.457326Z",
     "start_time": "2021-08-24T04:09:42.359017Z"
    }
   },
   "outputs": [
    {
     "data": {
      "text/html": [
       "<div>\n",
       "<style scoped>\n",
       "    .dataframe tbody tr th:only-of-type {\n",
       "        vertical-align: middle;\n",
       "    }\n",
       "\n",
       "    .dataframe tbody tr th {\n",
       "        vertical-align: top;\n",
       "    }\n",
       "\n",
       "    .dataframe thead th {\n",
       "        text-align: right;\n",
       "    }\n",
       "</style>\n",
       "<table border=\"1\" class=\"dataframe\">\n",
       "  <thead>\n",
       "    <tr style=\"text-align: right;\">\n",
       "      <th></th>\n",
       "      <th>description</th>\n",
       "      <th>country</th>\n",
       "      <th>province</th>\n",
       "      <th>region_1</th>\n",
       "      <th>region_2</th>\n",
       "    </tr>\n",
       "  </thead>\n",
       "  <tbody>\n",
       "    <tr>\n",
       "      <th>0</th>\n",
       "      <td>This tremendous 100% varietal wine hails from ...</td>\n",
       "      <td>US</td>\n",
       "      <td>California</td>\n",
       "      <td>Napa Valley</td>\n",
       "      <td>Napa</td>\n",
       "    </tr>\n",
       "    <tr>\n",
       "      <th>1</th>\n",
       "      <td>Ripe aromas of fig, blackberry and cassis are ...</td>\n",
       "      <td>Spain</td>\n",
       "      <td>Northern Spain</td>\n",
       "      <td>Toro</td>\n",
       "      <td>NaN</td>\n",
       "    </tr>\n",
       "    <tr>\n",
       "      <th>10</th>\n",
       "      <td>Elegance, complexity and structure come togeth...</td>\n",
       "      <td>Italy</td>\n",
       "      <td>Northeastern Italy</td>\n",
       "      <td>Collio</td>\n",
       "      <td>NaN</td>\n",
       "    </tr>\n",
       "    <tr>\n",
       "      <th>100</th>\n",
       "      <td>Juicy kiwi, lime blossom and sour apple candy ...</td>\n",
       "      <td>US</td>\n",
       "      <td>California</td>\n",
       "      <td>South Coast</td>\n",
       "      <td>South Coast</td>\n",
       "    </tr>\n",
       "  </tbody>\n",
       "</table>\n",
       "</div>"
      ],
      "text/plain": [
       "                                           description country  \\\n",
       "0    This tremendous 100% varietal wine hails from ...      US   \n",
       "1    Ripe aromas of fig, blackberry and cassis are ...   Spain   \n",
       "10   Elegance, complexity and structure come togeth...   Italy   \n",
       "100  Juicy kiwi, lime blossom and sour apple candy ...      US   \n",
       "\n",
       "               province     region_1     region_2  \n",
       "0            California  Napa Valley         Napa  \n",
       "1        Northern Spain         Toro          NaN  \n",
       "10   Northeastern Italy       Collio          NaN  \n",
       "100          California  South Coast  South Coast  "
      ]
     },
     "execution_count": 78,
     "metadata": {},
     "output_type": "execute_result"
    }
   ],
   "source": [
    "df = reviews[[\"description\", \"country\", \"province\",\n",
    "              \"region_1\", \"region_2\"]].iloc[[0, 1, 10, 100]]\n",
    "\n",
    "df"
   ]
  },
  {
   "cell_type": "markdown",
   "id": "aa612922",
   "metadata": {},
   "source": [
    "# a variable df containing country and variety column first 100 records\n"
   ]
  },
  {
   "cell_type": "code",
   "execution_count": 79,
   "id": "f71cbae8",
   "metadata": {
    "ExecuteTime": {
     "end_time": "2021-08-24T04:09:42.512760Z",
     "start_time": "2021-08-24T04:09:42.460766Z"
    }
   },
   "outputs": [
    {
     "data": {
      "text/html": [
       "<div>\n",
       "<style scoped>\n",
       "    .dataframe tbody tr th:only-of-type {\n",
       "        vertical-align: middle;\n",
       "    }\n",
       "\n",
       "    .dataframe tbody tr th {\n",
       "        vertical-align: top;\n",
       "    }\n",
       "\n",
       "    .dataframe thead th {\n",
       "        text-align: right;\n",
       "    }\n",
       "</style>\n",
       "<table border=\"1\" class=\"dataframe\">\n",
       "  <thead>\n",
       "    <tr style=\"text-align: right;\">\n",
       "      <th></th>\n",
       "      <th>country</th>\n",
       "      <th>variety</th>\n",
       "    </tr>\n",
       "  </thead>\n",
       "  <tbody>\n",
       "    <tr>\n",
       "      <th>0</th>\n",
       "      <td>US</td>\n",
       "      <td>Cabernet Sauvignon</td>\n",
       "    </tr>\n",
       "    <tr>\n",
       "      <th>1</th>\n",
       "      <td>Spain</td>\n",
       "      <td>Tinta de Toro</td>\n",
       "    </tr>\n",
       "    <tr>\n",
       "      <th>2</th>\n",
       "      <td>US</td>\n",
       "      <td>Sauvignon Blanc</td>\n",
       "    </tr>\n",
       "    <tr>\n",
       "      <th>3</th>\n",
       "      <td>US</td>\n",
       "      <td>Pinot Noir</td>\n",
       "    </tr>\n",
       "    <tr>\n",
       "      <th>4</th>\n",
       "      <td>France</td>\n",
       "      <td>Provence red blend</td>\n",
       "    </tr>\n",
       "    <tr>\n",
       "      <th>...</th>\n",
       "      <td>...</td>\n",
       "      <td>...</td>\n",
       "    </tr>\n",
       "    <tr>\n",
       "      <th>95</th>\n",
       "      <td>France</td>\n",
       "      <td>Malbec-Merlot</td>\n",
       "    </tr>\n",
       "    <tr>\n",
       "      <th>96</th>\n",
       "      <td>US</td>\n",
       "      <td>Chardonnay</td>\n",
       "    </tr>\n",
       "    <tr>\n",
       "      <th>97</th>\n",
       "      <td>US</td>\n",
       "      <td>Cabernet Sauvignon</td>\n",
       "    </tr>\n",
       "    <tr>\n",
       "      <th>98</th>\n",
       "      <td>France</td>\n",
       "      <td>Merlot-Malbec</td>\n",
       "    </tr>\n",
       "    <tr>\n",
       "      <th>99</th>\n",
       "      <td>France</td>\n",
       "      <td>Ugni Blanc-Colombard</td>\n",
       "    </tr>\n",
       "  </tbody>\n",
       "</table>\n",
       "<p>100 rows × 2 columns</p>\n",
       "</div>"
      ],
      "text/plain": [
       "   country               variety\n",
       "0       US    Cabernet Sauvignon\n",
       "1    Spain         Tinta de Toro\n",
       "2       US       Sauvignon Blanc\n",
       "3       US            Pinot Noir\n",
       "4   France    Provence red blend\n",
       "..     ...                   ...\n",
       "95  France         Malbec-Merlot\n",
       "96      US            Chardonnay\n",
       "97      US    Cabernet Sauvignon\n",
       "98  France         Merlot-Malbec\n",
       "99  France  Ugni Blanc-Colombard\n",
       "\n",
       "[100 rows x 2 columns]"
      ]
     },
     "execution_count": 79,
     "metadata": {},
     "output_type": "execute_result"
    }
   ],
   "source": [
    "df = reviews[[\"country\", \"variety\"]].iloc[:100, ]\n",
    "\n",
    "df"
   ]
  },
  {
   "cell_type": "markdown",
   "id": "40694d47",
   "metadata": {},
   "source": [
    "#  craete a datframe italian_wines having reviews of wines made in Italy\n"
   ]
  },
  {
   "cell_type": "code",
   "execution_count": 80,
   "id": "fdf4a7fc",
   "metadata": {
    "ExecuteTime": {
     "end_time": "2021-08-24T04:09:42.630976Z",
     "start_time": "2021-08-24T04:09:42.515593Z"
    }
   },
   "outputs": [
    {
     "data": {
      "text/html": [
       "<div>\n",
       "<style scoped>\n",
       "    .dataframe tbody tr th:only-of-type {\n",
       "        vertical-align: middle;\n",
       "    }\n",
       "\n",
       "    .dataframe tbody tr th {\n",
       "        vertical-align: top;\n",
       "    }\n",
       "\n",
       "    .dataframe thead th {\n",
       "        text-align: right;\n",
       "    }\n",
       "</style>\n",
       "<table border=\"1\" class=\"dataframe\">\n",
       "  <thead>\n",
       "    <tr style=\"text-align: right;\">\n",
       "      <th></th>\n",
       "      <th>Unnamed: 0</th>\n",
       "      <th>country</th>\n",
       "      <th>description</th>\n",
       "      <th>designation</th>\n",
       "      <th>points</th>\n",
       "      <th>price</th>\n",
       "      <th>province</th>\n",
       "      <th>region_1</th>\n",
       "      <th>region_2</th>\n",
       "      <th>variety</th>\n",
       "      <th>winery</th>\n",
       "    </tr>\n",
       "  </thead>\n",
       "  <tbody>\n",
       "    <tr>\n",
       "      <th>10</th>\n",
       "      <td>10</td>\n",
       "      <td>Italy</td>\n",
       "      <td>Elegance, complexity and structure come togeth...</td>\n",
       "      <td>Ronco della Chiesa</td>\n",
       "      <td>95</td>\n",
       "      <td>80.0</td>\n",
       "      <td>Northeastern Italy</td>\n",
       "      <td>Collio</td>\n",
       "      <td>NaN</td>\n",
       "      <td>Friulano</td>\n",
       "      <td>Borgo del Tiglio</td>\n",
       "    </tr>\n",
       "    <tr>\n",
       "      <th>32</th>\n",
       "      <td>32</td>\n",
       "      <td>Italy</td>\n",
       "      <td>Underbrush, scorched earth, menthol and plum s...</td>\n",
       "      <td>Vigna Piaggia</td>\n",
       "      <td>90</td>\n",
       "      <td>NaN</td>\n",
       "      <td>Tuscany</td>\n",
       "      <td>Brunello di Montalcino</td>\n",
       "      <td>NaN</td>\n",
       "      <td>Sangiovese</td>\n",
       "      <td>Abbadia Ardenga</td>\n",
       "    </tr>\n",
       "    <tr>\n",
       "      <th>35</th>\n",
       "      <td>35</td>\n",
       "      <td>Italy</td>\n",
       "      <td>Forest floor, tilled soil, mature berry and a ...</td>\n",
       "      <td>Riserva</td>\n",
       "      <td>90</td>\n",
       "      <td>135.0</td>\n",
       "      <td>Tuscany</td>\n",
       "      <td>Brunello di Montalcino</td>\n",
       "      <td>NaN</td>\n",
       "      <td>Sangiovese</td>\n",
       "      <td>Carillon</td>\n",
       "    </tr>\n",
       "    <tr>\n",
       "      <th>37</th>\n",
       "      <td>37</td>\n",
       "      <td>Italy</td>\n",
       "      <td>Aromas of forest floor, violet, red berry and ...</td>\n",
       "      <td>NaN</td>\n",
       "      <td>90</td>\n",
       "      <td>29.0</td>\n",
       "      <td>Tuscany</td>\n",
       "      <td>Vino Nobile di Montepulciano</td>\n",
       "      <td>NaN</td>\n",
       "      <td>Sangiovese</td>\n",
       "      <td>Avignonesi</td>\n",
       "    </tr>\n",
       "    <tr>\n",
       "      <th>38</th>\n",
       "      <td>38</td>\n",
       "      <td>Italy</td>\n",
       "      <td>This has a charming nose that boasts rose, vio...</td>\n",
       "      <td>NaN</td>\n",
       "      <td>90</td>\n",
       "      <td>23.0</td>\n",
       "      <td>Tuscany</td>\n",
       "      <td>Chianti Classico</td>\n",
       "      <td>NaN</td>\n",
       "      <td>Sangiovese</td>\n",
       "      <td>Casina di Cornia</td>\n",
       "    </tr>\n",
       "    <tr>\n",
       "      <th>...</th>\n",
       "      <td>...</td>\n",
       "      <td>...</td>\n",
       "      <td>...</td>\n",
       "      <td>...</td>\n",
       "      <td>...</td>\n",
       "      <td>...</td>\n",
       "      <td>...</td>\n",
       "      <td>...</td>\n",
       "      <td>...</td>\n",
       "      <td>...</td>\n",
       "      <td>...</td>\n",
       "    </tr>\n",
       "    <tr>\n",
       "      <th>150920</th>\n",
       "      <td>150920</td>\n",
       "      <td>Italy</td>\n",
       "      <td>Rich and mature aromas of smoke, earth and her...</td>\n",
       "      <td>Brut Riserva</td>\n",
       "      <td>91</td>\n",
       "      <td>19.0</td>\n",
       "      <td>Northeastern Italy</td>\n",
       "      <td>Trento</td>\n",
       "      <td>NaN</td>\n",
       "      <td>Champagne Blend</td>\n",
       "      <td>Letrari</td>\n",
       "    </tr>\n",
       "    <tr>\n",
       "      <th>150922</th>\n",
       "      <td>150922</td>\n",
       "      <td>Italy</td>\n",
       "      <td>Made by 30-ish Roberta Borghese high above Man...</td>\n",
       "      <td>Superiore</td>\n",
       "      <td>91</td>\n",
       "      <td>NaN</td>\n",
       "      <td>Northeastern Italy</td>\n",
       "      <td>Colli Orientali del Friuli</td>\n",
       "      <td>NaN</td>\n",
       "      <td>Tocai</td>\n",
       "      <td>Ronchi di Manzano</td>\n",
       "    </tr>\n",
       "    <tr>\n",
       "      <th>150925</th>\n",
       "      <td>150925</td>\n",
       "      <td>Italy</td>\n",
       "      <td>Many people feel Fiano represents southern Ita...</td>\n",
       "      <td>NaN</td>\n",
       "      <td>91</td>\n",
       "      <td>20.0</td>\n",
       "      <td>Southern Italy</td>\n",
       "      <td>Fiano di Avellino</td>\n",
       "      <td>NaN</td>\n",
       "      <td>White Blend</td>\n",
       "      <td>Feudi di San Gregorio</td>\n",
       "    </tr>\n",
       "    <tr>\n",
       "      <th>150927</th>\n",
       "      <td>150927</td>\n",
       "      <td>Italy</td>\n",
       "      <td>This classic example comes from a cru vineyard...</td>\n",
       "      <td>Terre di Dora</td>\n",
       "      <td>91</td>\n",
       "      <td>20.0</td>\n",
       "      <td>Southern Italy</td>\n",
       "      <td>Fiano di Avellino</td>\n",
       "      <td>NaN</td>\n",
       "      <td>White Blend</td>\n",
       "      <td>Terredora</td>\n",
       "    </tr>\n",
       "    <tr>\n",
       "      <th>150929</th>\n",
       "      <td>150929</td>\n",
       "      <td>Italy</td>\n",
       "      <td>More Pinot Grigios should taste like this. A r...</td>\n",
       "      <td>NaN</td>\n",
       "      <td>90</td>\n",
       "      <td>15.0</td>\n",
       "      <td>Northeastern Italy</td>\n",
       "      <td>Alto Adige</td>\n",
       "      <td>NaN</td>\n",
       "      <td>Pinot Grigio</td>\n",
       "      <td>Alois Lageder</td>\n",
       "    </tr>\n",
       "  </tbody>\n",
       "</table>\n",
       "<p>23478 rows × 11 columns</p>\n",
       "</div>"
      ],
      "text/plain": [
       "        Unnamed: 0 country                                        description  \\\n",
       "10              10   Italy  Elegance, complexity and structure come togeth...   \n",
       "32              32   Italy  Underbrush, scorched earth, menthol and plum s...   \n",
       "35              35   Italy  Forest floor, tilled soil, mature berry and a ...   \n",
       "37              37   Italy  Aromas of forest floor, violet, red berry and ...   \n",
       "38              38   Italy  This has a charming nose that boasts rose, vio...   \n",
       "...            ...     ...                                                ...   \n",
       "150920      150920   Italy  Rich and mature aromas of smoke, earth and her...   \n",
       "150922      150922   Italy  Made by 30-ish Roberta Borghese high above Man...   \n",
       "150925      150925   Italy  Many people feel Fiano represents southern Ita...   \n",
       "150927      150927   Italy  This classic example comes from a cru vineyard...   \n",
       "150929      150929   Italy  More Pinot Grigios should taste like this. A r...   \n",
       "\n",
       "               designation  points  price            province  \\\n",
       "10      Ronco della Chiesa      95   80.0  Northeastern Italy   \n",
       "32           Vigna Piaggia      90    NaN             Tuscany   \n",
       "35                 Riserva      90  135.0             Tuscany   \n",
       "37                     NaN      90   29.0             Tuscany   \n",
       "38                     NaN      90   23.0             Tuscany   \n",
       "...                    ...     ...    ...                 ...   \n",
       "150920        Brut Riserva      91   19.0  Northeastern Italy   \n",
       "150922           Superiore      91    NaN  Northeastern Italy   \n",
       "150925                 NaN      91   20.0      Southern Italy   \n",
       "150927       Terre di Dora      91   20.0      Southern Italy   \n",
       "150929                 NaN      90   15.0  Northeastern Italy   \n",
       "\n",
       "                            region_1 region_2          variety  \\\n",
       "10                            Collio      NaN         Friulano   \n",
       "32            Brunello di Montalcino      NaN       Sangiovese   \n",
       "35            Brunello di Montalcino      NaN       Sangiovese   \n",
       "37      Vino Nobile di Montepulciano      NaN       Sangiovese   \n",
       "38                  Chianti Classico      NaN       Sangiovese   \n",
       "...                              ...      ...              ...   \n",
       "150920                        Trento      NaN  Champagne Blend   \n",
       "150922    Colli Orientali del Friuli      NaN            Tocai   \n",
       "150925             Fiano di Avellino      NaN      White Blend   \n",
       "150927             Fiano di Avellino      NaN      White Blend   \n",
       "150929                    Alto Adige      NaN     Pinot Grigio   \n",
       "\n",
       "                       winery  \n",
       "10           Borgo del Tiglio  \n",
       "32            Abbadia Ardenga  \n",
       "35                   Carillon  \n",
       "37                 Avignonesi  \n",
       "38           Casina di Cornia  \n",
       "...                       ...  \n",
       "150920                Letrari  \n",
       "150922      Ronchi di Manzano  \n",
       "150925  Feudi di San Gregorio  \n",
       "150927              Terredora  \n",
       "150929          Alois Lageder  \n",
       "\n",
       "[23478 rows x 11 columns]"
      ]
     },
     "execution_count": 80,
     "metadata": {},
     "output_type": "execute_result"
    }
   ],
   "source": [
    "italian_wines = reviews.loc[reviews[\"country\"] == \"Italy\"]\n",
    "\n",
    "\n",
    "italian_wines"
   ]
  },
  {
   "cell_type": "markdown",
   "id": "341f4a1b",
   "metadata": {},
   "source": [
    "# create a datafrme top_oceania_wines with all reviews having atleast 95 points out of 100 for wines from Australia and New Zealand\n"
   ]
  },
  {
   "cell_type": "code",
   "execution_count": 81,
   "id": "acaaac56",
   "metadata": {
    "ExecuteTime": {
     "end_time": "2021-08-24T04:09:42.706536Z",
     "start_time": "2021-08-24T04:09:42.634289Z"
    }
   },
   "outputs": [
    {
     "data": {
      "text/html": [
       "<div>\n",
       "<style scoped>\n",
       "    .dataframe tbody tr th:only-of-type {\n",
       "        vertical-align: middle;\n",
       "    }\n",
       "\n",
       "    .dataframe tbody tr th {\n",
       "        vertical-align: top;\n",
       "    }\n",
       "\n",
       "    .dataframe thead th {\n",
       "        text-align: right;\n",
       "    }\n",
       "</style>\n",
       "<table border=\"1\" class=\"dataframe\">\n",
       "  <thead>\n",
       "    <tr style=\"text-align: right;\">\n",
       "      <th></th>\n",
       "      <th>Unnamed: 0</th>\n",
       "      <th>country</th>\n",
       "      <th>description</th>\n",
       "      <th>designation</th>\n",
       "      <th>points</th>\n",
       "      <th>price</th>\n",
       "      <th>province</th>\n",
       "      <th>region_1</th>\n",
       "      <th>region_2</th>\n",
       "      <th>variety</th>\n",
       "      <th>winery</th>\n",
       "    </tr>\n",
       "  </thead>\n",
       "  <tbody>\n",
       "    <tr>\n",
       "      <th>2148</th>\n",
       "      <td>2148</td>\n",
       "      <td>Australia</td>\n",
       "      <td>Full-bodied and plush yet vibrant and imbued w...</td>\n",
       "      <td>The Factor</td>\n",
       "      <td>98</td>\n",
       "      <td>125.0</td>\n",
       "      <td>South Australia</td>\n",
       "      <td>Barossa Valley</td>\n",
       "      <td>NaN</td>\n",
       "      <td>Shiraz</td>\n",
       "      <td>Torbreck</td>\n",
       "    </tr>\n",
       "    <tr>\n",
       "      <th>2458</th>\n",
       "      <td>2458</td>\n",
       "      <td>Australia</td>\n",
       "      <td>This is a top example of the classic Australia...</td>\n",
       "      <td>The Peake</td>\n",
       "      <td>96</td>\n",
       "      <td>150.0</td>\n",
       "      <td>South Australia</td>\n",
       "      <td>McLaren Vale</td>\n",
       "      <td>NaN</td>\n",
       "      <td>Cabernet-Shiraz</td>\n",
       "      <td>Hickinbotham</td>\n",
       "    </tr>\n",
       "    <tr>\n",
       "      <th>3033</th>\n",
       "      <td>3033</td>\n",
       "      <td>Australia</td>\n",
       "      <td>This Cabernet equivalent to Grange has explode...</td>\n",
       "      <td>Bin 707</td>\n",
       "      <td>95</td>\n",
       "      <td>500.0</td>\n",
       "      <td>South Australia</td>\n",
       "      <td>South Australia</td>\n",
       "      <td>NaN</td>\n",
       "      <td>Cabernet Sauvignon</td>\n",
       "      <td>Penfolds</td>\n",
       "    </tr>\n",
       "    <tr>\n",
       "      <th>3044</th>\n",
       "      <td>3044</td>\n",
       "      <td>Australia</td>\n",
       "      <td>From vines planted in 1912, this has been an i...</td>\n",
       "      <td>Mount Edelstone Vineyard</td>\n",
       "      <td>95</td>\n",
       "      <td>200.0</td>\n",
       "      <td>South Australia</td>\n",
       "      <td>Eden Valley</td>\n",
       "      <td>NaN</td>\n",
       "      <td>Shiraz</td>\n",
       "      <td>Henschke</td>\n",
       "    </tr>\n",
       "    <tr>\n",
       "      <th>3047</th>\n",
       "      <td>3047</td>\n",
       "      <td>Australia</td>\n",
       "      <td>This is a throwback to those brash, flavor-exu...</td>\n",
       "      <td>One</td>\n",
       "      <td>95</td>\n",
       "      <td>95.0</td>\n",
       "      <td>South Australia</td>\n",
       "      <td>Langhorne Creek</td>\n",
       "      <td>NaN</td>\n",
       "      <td>Red Blend</td>\n",
       "      <td>Heartland</td>\n",
       "    </tr>\n",
       "    <tr>\n",
       "      <th>...</th>\n",
       "      <td>...</td>\n",
       "      <td>...</td>\n",
       "      <td>...</td>\n",
       "      <td>...</td>\n",
       "      <td>...</td>\n",
       "      <td>...</td>\n",
       "      <td>...</td>\n",
       "      <td>...</td>\n",
       "      <td>...</td>\n",
       "      <td>...</td>\n",
       "      <td>...</td>\n",
       "    </tr>\n",
       "    <tr>\n",
       "      <th>122779</th>\n",
       "      <td>122779</td>\n",
       "      <td>Australia</td>\n",
       "      <td>If Standish's Relic is the feminine side of Sh...</td>\n",
       "      <td>The Standish Single Vineyard</td>\n",
       "      <td>96</td>\n",
       "      <td>135.0</td>\n",
       "      <td>South Australia</td>\n",
       "      <td>Barossa Valley</td>\n",
       "      <td>NaN</td>\n",
       "      <td>Shiraz</td>\n",
       "      <td>Standish</td>\n",
       "    </tr>\n",
       "    <tr>\n",
       "      <th>127614</th>\n",
       "      <td>127614</td>\n",
       "      <td>Australia</td>\n",
       "      <td>This stellar wine takes a little time in the g...</td>\n",
       "      <td>Hill of Grace</td>\n",
       "      <td>95</td>\n",
       "      <td>625.0</td>\n",
       "      <td>South Australia</td>\n",
       "      <td>Eden Valley</td>\n",
       "      <td>NaN</td>\n",
       "      <td>Shiraz</td>\n",
       "      <td>Henschke</td>\n",
       "    </tr>\n",
       "    <tr>\n",
       "      <th>137383</th>\n",
       "      <td>137383</td>\n",
       "      <td>Australia</td>\n",
       "      <td>The 2007 Astralis impresses for its combinatio...</td>\n",
       "      <td>Astralis</td>\n",
       "      <td>95</td>\n",
       "      <td>225.0</td>\n",
       "      <td>South Australia</td>\n",
       "      <td>Clarendon</td>\n",
       "      <td>NaN</td>\n",
       "      <td>Syrah</td>\n",
       "      <td>Clarendon Hills</td>\n",
       "    </tr>\n",
       "    <tr>\n",
       "      <th>150562</th>\n",
       "      <td>150562</td>\n",
       "      <td>Australia</td>\n",
       "      <td>As unevolved as they are, the dense and multil...</td>\n",
       "      <td>Grange</td>\n",
       "      <td>96</td>\n",
       "      <td>185.0</td>\n",
       "      <td>South Australia</td>\n",
       "      <td>South Australia</td>\n",
       "      <td>NaN</td>\n",
       "      <td>Shiraz</td>\n",
       "      <td>Penfolds</td>\n",
       "    </tr>\n",
       "    <tr>\n",
       "      <th>150563</th>\n",
       "      <td>150563</td>\n",
       "      <td>Australia</td>\n",
       "      <td>Seamless luxury from stem to stern, this ‘baby...</td>\n",
       "      <td>RWT</td>\n",
       "      <td>95</td>\n",
       "      <td>70.0</td>\n",
       "      <td>South Australia</td>\n",
       "      <td>Barossa Valley</td>\n",
       "      <td>NaN</td>\n",
       "      <td>Shiraz</td>\n",
       "      <td>Penfolds</td>\n",
       "    </tr>\n",
       "  </tbody>\n",
       "</table>\n",
       "<p>82 rows × 11 columns</p>\n",
       "</div>"
      ],
      "text/plain": [
       "        Unnamed: 0    country  \\\n",
       "2148          2148  Australia   \n",
       "2458          2458  Australia   \n",
       "3033          3033  Australia   \n",
       "3044          3044  Australia   \n",
       "3047          3047  Australia   \n",
       "...            ...        ...   \n",
       "122779      122779  Australia   \n",
       "127614      127614  Australia   \n",
       "137383      137383  Australia   \n",
       "150562      150562  Australia   \n",
       "150563      150563  Australia   \n",
       "\n",
       "                                              description  \\\n",
       "2148    Full-bodied and plush yet vibrant and imbued w...   \n",
       "2458    This is a top example of the classic Australia...   \n",
       "3033    This Cabernet equivalent to Grange has explode...   \n",
       "3044    From vines planted in 1912, this has been an i...   \n",
       "3047    This is a throwback to those brash, flavor-exu...   \n",
       "...                                                   ...   \n",
       "122779  If Standish's Relic is the feminine side of Sh...   \n",
       "127614  This stellar wine takes a little time in the g...   \n",
       "137383  The 2007 Astralis impresses for its combinatio...   \n",
       "150562  As unevolved as they are, the dense and multil...   \n",
       "150563  Seamless luxury from stem to stern, this ‘baby...   \n",
       "\n",
       "                         designation  points  price         province  \\\n",
       "2148                      The Factor      98  125.0  South Australia   \n",
       "2458                       The Peake      96  150.0  South Australia   \n",
       "3033                         Bin 707      95  500.0  South Australia   \n",
       "3044        Mount Edelstone Vineyard      95  200.0  South Australia   \n",
       "3047                             One      95   95.0  South Australia   \n",
       "...                              ...     ...    ...              ...   \n",
       "122779  The Standish Single Vineyard      96  135.0  South Australia   \n",
       "127614                 Hill of Grace      95  625.0  South Australia   \n",
       "137383                      Astralis      95  225.0  South Australia   \n",
       "150562                        Grange      96  185.0  South Australia   \n",
       "150563                           RWT      95   70.0  South Australia   \n",
       "\n",
       "               region_1 region_2             variety           winery  \n",
       "2148     Barossa Valley      NaN              Shiraz         Torbreck  \n",
       "2458       McLaren Vale      NaN     Cabernet-Shiraz     Hickinbotham  \n",
       "3033    South Australia      NaN  Cabernet Sauvignon         Penfolds  \n",
       "3044        Eden Valley      NaN              Shiraz         Henschke  \n",
       "3047    Langhorne Creek      NaN           Red Blend        Heartland  \n",
       "...                 ...      ...                 ...              ...  \n",
       "122779   Barossa Valley      NaN              Shiraz         Standish  \n",
       "127614      Eden Valley      NaN              Shiraz         Henschke  \n",
       "137383        Clarendon      NaN               Syrah  Clarendon Hills  \n",
       "150562  South Australia      NaN              Shiraz         Penfolds  \n",
       "150563   Barossa Valley      NaN              Shiraz         Penfolds  \n",
       "\n",
       "[82 rows x 11 columns]"
      ]
     },
     "execution_count": 81,
     "metadata": {},
     "output_type": "execute_result"
    }
   ],
   "source": [
    "top_oceania_wines = reviews.loc[(reviews[\"country\"].isin(\n",
    "    [\"Australia\", \"New Zealand\"])) & (reviews[\"points\"] >= 95)]\n",
    "\n",
    "\n",
    "top_oceania_wines"
   ]
  },
  {
   "cell_type": "markdown",
   "id": "afa5ec18",
   "metadata": {},
   "source": [
    "# find tjhe median of the points column\n"
   ]
  },
  {
   "cell_type": "code",
   "execution_count": 82,
   "id": "00a1cf08",
   "metadata": {
    "ExecuteTime": {
     "end_time": "2021-08-24T04:09:42.790681Z",
     "start_time": "2021-08-24T04:09:42.711080Z"
    }
   },
   "outputs": [
    {
     "data": {
      "text/plain": [
       "88.0"
      ]
     },
     "execution_count": 82,
     "metadata": {},
     "output_type": "execute_result"
    }
   ],
   "source": [
    "median_points = reviews[\"points\"].median()\n",
    "\n",
    "\n",
    "median_points"
   ]
  },
  {
   "cell_type": "markdown",
   "id": "9972fc7d",
   "metadata": {},
   "source": [
    "# what countries in dataset\n"
   ]
  },
  {
   "cell_type": "code",
   "execution_count": 83,
   "id": "445089f8",
   "metadata": {
    "ExecuteTime": {
     "end_time": "2021-08-24T04:09:42.905403Z",
     "start_time": "2021-08-24T04:09:42.794003Z"
    }
   },
   "outputs": [
    {
     "data": {
      "text/plain": [
       "array(['US', 'Spain', 'France', 'Italy', 'New Zealand', 'Bulgaria',\n",
       "       'Argentina', 'Australia', 'Portugal', 'Israel', 'South Africa',\n",
       "       'Greece', 'Chile', 'Morocco', 'Romania', 'Germany', 'Canada',\n",
       "       'Moldova', 'Hungary', 'Austria', 'Croatia', 'Slovenia', nan,\n",
       "       'India', 'Turkey', 'Macedonia', 'Lebanon', 'Serbia', 'Uruguay',\n",
       "       'Switzerland', 'Albania', 'Bosnia and Herzegovina', 'Brazil',\n",
       "       'Cyprus', 'Lithuania', 'Japan', 'China', 'South Korea', 'Ukraine',\n",
       "       'England', 'Mexico', 'Georgia', 'Montenegro', 'Luxembourg',\n",
       "       'Slovakia', 'Czech Republic', 'Egypt', 'Tunisia', 'US-France'],\n",
       "      dtype=object)"
      ]
     },
     "execution_count": 83,
     "metadata": {},
     "output_type": "execute_result"
    }
   ],
   "source": [
    "countries_unique = reviews[\"country\"].unique()\n",
    "\n",
    "\n",
    "countries_unique"
   ]
  },
  {
   "cell_type": "markdown",
   "id": "078879f0",
   "metadata": {},
   "source": [
    "# create reviews_per_country variable mapping countries to the count of reviews of wines from that country\n"
   ]
  },
  {
   "cell_type": "code",
   "execution_count": 84,
   "id": "d4d5e57e",
   "metadata": {
    "ExecuteTime": {
     "end_time": "2021-08-24T04:09:43.022964Z",
     "start_time": "2021-08-24T04:09:42.908494Z"
    }
   },
   "outputs": [
    {
     "data": {
      "text/plain": [
       "US                        62397\n",
       "Italy                     23478\n",
       "France                    21098\n",
       "Spain                      8268\n",
       "Chile                      5816\n",
       "Argentina                  5631\n",
       "Portugal                   5322\n",
       "Australia                  4957\n",
       "New Zealand                3320\n",
       "Austria                    3057\n",
       "Germany                    2452\n",
       "South Africa               2258\n",
       "Greece                      884\n",
       "Israel                      630\n",
       "Hungary                     231\n",
       "Canada                      196\n",
       "Romania                     139\n",
       "Slovenia                     94\n",
       "Uruguay                      92\n",
       "Croatia                      89\n",
       "Bulgaria                     77\n",
       "Moldova                      71\n",
       "Mexico                       63\n",
       "Turkey                       52\n",
       "Georgia                      43\n",
       "Lebanon                      37\n",
       "Cyprus                       31\n",
       "Brazil                       25\n",
       "Macedonia                    16\n",
       "Serbia                       14\n",
       "Morocco                      12\n",
       "England                       9\n",
       "Luxembourg                    9\n",
       "India                         8\n",
       "Lithuania                     8\n",
       "Czech Republic                6\n",
       "Ukraine                       5\n",
       "Switzerland                   4\n",
       "Bosnia and Herzegovina        4\n",
       "South Korea                   4\n",
       "Egypt                         3\n",
       "China                         3\n",
       "Slovakia                      3\n",
       "Albania                       2\n",
       "Montenegro                    2\n",
       "Japan                         2\n",
       "Tunisia                       2\n",
       "US-France                     1\n",
       "Name: country, dtype: int64"
      ]
     },
     "execution_count": 84,
     "metadata": {},
     "output_type": "execute_result"
    }
   ],
   "source": [
    "reviews_per_country = reviews[\"country\"].value_counts()\n",
    "\n",
    "\n",
    "reviews_per_country"
   ]
  },
  {
   "cell_type": "markdown",
   "id": "b4eae31c",
   "metadata": {},
   "source": [
    "# craete centered_price having version of price column with mean malue subtarcted\n"
   ]
  },
  {
   "cell_type": "code",
   "execution_count": 85,
   "id": "7d736fc0",
   "metadata": {
    "ExecuteTime": {
     "end_time": "2021-08-24T04:09:43.115962Z",
     "start_time": "2021-08-24T04:09:43.026256Z"
    }
   },
   "outputs": [
    {
     "data": {
      "text/plain": [
       "0         201.868518\n",
       "1          76.868518\n",
       "2          56.868518\n",
       "3          31.868518\n",
       "4          32.868518\n",
       "             ...    \n",
       "150925    -13.131482\n",
       "150926     -6.131482\n",
       "150927    -13.131482\n",
       "150928     18.868518\n",
       "150929    -18.131482\n",
       "Name: price, Length: 150930, dtype: float64"
      ]
     },
     "execution_count": 85,
     "metadata": {},
     "output_type": "execute_result"
    }
   ],
   "source": [
    "centered_price = reviews[\"price\"]-reviews[\"price\"].mean()\n",
    "\n",
    "\n",
    "centered_price"
   ]
  },
  {
   "cell_type": "markdown",
   "id": "e7d1992b",
   "metadata": {},
   "source": [
    "#  create variable bargain_wine with the title of the wine with the highest points-to-price ratio\n"
   ]
  },
  {
   "cell_type": "code",
   "execution_count": 86,
   "id": "9675453e",
   "metadata": {
    "ExecuteTime": {
     "end_time": "2021-08-24T04:09:43.192371Z",
     "start_time": "2021-08-24T04:09:43.118786Z"
    }
   },
   "outputs": [
    {
     "data": {
      "text/plain": [
       "'Bandit'"
      ]
     },
     "execution_count": 86,
     "metadata": {},
     "output_type": "execute_result"
    }
   ],
   "source": [
    "bargain_idx = (reviews[\"points\"]/reviews[\"price\"]).idxmax()\n",
    "\n",
    "bargain_wine = reviews.loc[bargain_idx][\"winery\"]\n",
    "\n",
    "bargain_wine"
   ]
  },
  {
   "cell_type": "markdown",
   "id": "901e916f",
   "metadata": {},
   "source": [
    "# create a series descriptor_counts to count how many the words \"tropical\" or \"fruity\" appear\n"
   ]
  },
  {
   "cell_type": "code",
   "execution_count": 87,
   "id": "efaf0f70",
   "metadata": {
    "ExecuteTime": {
     "end_time": "2021-08-24T04:09:43.545775Z",
     "start_time": "2021-08-24T04:09:43.200947Z"
    }
   },
   "outputs": [
    {
     "data": {
      "text/plain": [
       "tropical    4135\n",
       "fruity      8669\n",
       "dtype: int64"
      ]
     },
     "execution_count": 87,
     "metadata": {},
     "output_type": "execute_result"
    }
   ],
   "source": [
    "trop = reviews[\"description\"].map(lambda desc: \"tropical\" in desc).sum()\n",
    "\n",
    "\n",
    "fruit = reviews[\"description\"].map(lambda desc: \"fruity\" in desc).sum()\n",
    "\n",
    "\n",
    "descriptor_counts = pd.Series([trop, fruit], index=[\"tropical\", \"fruity\"])\n",
    "\n",
    "\n",
    "descriptor_counts"
   ]
  },
  {
   "cell_type": "markdown",
   "id": "87d9ab4b",
   "metadata": {},
   "source": [
    "# create variable star_ratings with number of strs regarding the each review in dataset\n"
   ]
  },
  {
   "cell_type": "code",
   "execution_count": 88,
   "id": "c83d9fb2",
   "metadata": {
    "ExecuteTime": {
     "end_time": "2021-08-24T04:09:52.094563Z",
     "start_time": "2021-08-24T04:09:43.552960Z"
    }
   },
   "outputs": [
    {
     "data": {
      "text/plain": [
       "0         3\n",
       "1         3\n",
       "2         3\n",
       "3         3\n",
       "4         3\n",
       "         ..\n",
       "150925    2\n",
       "150926    2\n",
       "150927    2\n",
       "150928    2\n",
       "150929    2\n",
       "Length: 150930, dtype: int64"
      ]
     },
     "execution_count": 88,
     "metadata": {},
     "output_type": "execute_result"
    }
   ],
   "source": [
    "def rating(row):\n",
    "\n",
    "    if row.country == \"Canada\":\n",
    "\n",
    "        return 3\n",
    "    elif row.points >= 95:\n",
    "\n",
    "        return 3\n",
    "    elif row.points >= 85:\n",
    "\n",
    "        return 2\n",
    "\n",
    "    else:\n",
    "\n",
    "        return 1\n",
    "\n",
    "\n",
    "star_ratings = reviews.apply(rating, axis=\"columns\")\n",
    "\n",
    "star_ratings"
   ]
  },
  {
   "cell_type": "markdown",
   "id": "ff354854",
   "metadata": {
    "ExecuteTime": {
     "end_time": "2021-08-17T16:08:32.007578Z",
     "start_time": "2021-08-17T16:08:31.991755Z"
    }
   },
   "source": [
    "# create series whose index is variety and whose value counts how many review each person wrote\n"
   ]
  },
  {
   "cell_type": "code",
   "execution_count": 89,
   "id": "404db0b2",
   "metadata": {
    "ExecuteTime": {
     "end_time": "2021-08-24T04:09:52.147049Z",
     "start_time": "2021-08-24T04:09:52.101830Z"
    }
   },
   "outputs": [
    {
     "data": {
      "text/plain": [
       "variety\n",
       "Agiorgitiko                120\n",
       "Aglianico                  317\n",
       "Aidani                       1\n",
       "Airen                        6\n",
       "Albana                      17\n",
       "                          ... \n",
       "Zierfandler-Rotgipfler       3\n",
       "Zinfandel                 3799\n",
       "Zlahtina                     4\n",
       "Zweigelt                   219\n",
       "Žilavka                      2\n",
       "Name: variety, Length: 632, dtype: int64"
      ]
     },
     "execution_count": 89,
     "metadata": {},
     "output_type": "execute_result"
    }
   ],
   "source": [
    "reviews_written = reviews.groupby('variety').variety.count()\n",
    "\n",
    "reviews_written"
   ]
  },
  {
   "cell_type": "markdown",
   "id": "2abe04ad",
   "metadata": {
    "ExecuteTime": {
     "end_time": "2021-08-17T16:08:52.244312Z",
     "start_time": "2021-08-17T16:08:52.234393Z"
    }
   },
   "source": [
    "# Create a Series whose index is wine prices and whose values is the maximum number of points a wine costing that much was given in a review. Sort the values by price, ascending order\n"
   ]
  },
  {
   "cell_type": "code",
   "execution_count": 90,
   "id": "557106e0",
   "metadata": {
    "ExecuteTime": {
     "end_time": "2021-08-24T04:09:52.417787Z",
     "start_time": "2021-08-24T04:09:52.149560Z"
    }
   },
   "outputs": [
    {
     "data": {
      "text/plain": [
       "price\n",
       "4.0        86\n",
       "5.0        90\n",
       "6.0        90\n",
       "7.0        90\n",
       "8.0        91\n",
       "         ... \n",
       "1300.0     96\n",
       "1400.0    100\n",
       "1900.0     98\n",
       "2013.0     91\n",
       "2300.0     99\n",
       "Name: points, Length: 357, dtype: int64"
      ]
     },
     "execution_count": 90,
     "metadata": {},
     "output_type": "execute_result"
    }
   ],
   "source": [
    "best_rating_per_price = reviews.groupby('price')['points'].max().sort_index()\n",
    "\n",
    "best_rating_per_price"
   ]
  },
  {
   "cell_type": "markdown",
   "id": "70a5a4a5",
   "metadata": {
    "ExecuteTime": {
     "end_time": "2021-08-17T16:09:12.865477Z",
     "start_time": "2021-08-17T16:09:12.858029Z"
    }
   },
   "source": [
    "# Create a DataFrame whose index is the variety category from the dataset and whose values are the min and max values thereof.\n"
   ]
  },
  {
   "cell_type": "code",
   "execution_count": 91,
   "id": "ff1ed3c4",
   "metadata": {
    "ExecuteTime": {
     "end_time": "2021-08-24T04:09:52.553361Z",
     "start_time": "2021-08-24T04:09:52.420790Z"
    }
   },
   "outputs": [
    {
     "data": {
      "text/html": [
       "<div>\n",
       "<style scoped>\n",
       "    .dataframe tbody tr th:only-of-type {\n",
       "        vertical-align: middle;\n",
       "    }\n",
       "\n",
       "    .dataframe tbody tr th {\n",
       "        vertical-align: top;\n",
       "    }\n",
       "\n",
       "    .dataframe thead th {\n",
       "        text-align: right;\n",
       "    }\n",
       "</style>\n",
       "<table border=\"1\" class=\"dataframe\">\n",
       "  <thead>\n",
       "    <tr style=\"text-align: right;\">\n",
       "      <th></th>\n",
       "      <th>min</th>\n",
       "      <th>max</th>\n",
       "    </tr>\n",
       "    <tr>\n",
       "      <th>variety</th>\n",
       "      <th></th>\n",
       "      <th></th>\n",
       "    </tr>\n",
       "  </thead>\n",
       "  <tbody>\n",
       "    <tr>\n",
       "      <th>Agiorgitiko</th>\n",
       "      <td>8.0</td>\n",
       "      <td>65.0</td>\n",
       "    </tr>\n",
       "    <tr>\n",
       "      <th>Aglianico</th>\n",
       "      <td>6.0</td>\n",
       "      <td>130.0</td>\n",
       "    </tr>\n",
       "    <tr>\n",
       "      <th>Aidani</th>\n",
       "      <td>27.0</td>\n",
       "      <td>27.0</td>\n",
       "    </tr>\n",
       "    <tr>\n",
       "      <th>Airen</th>\n",
       "      <td>8.0</td>\n",
       "      <td>10.0</td>\n",
       "    </tr>\n",
       "    <tr>\n",
       "      <th>Albana</th>\n",
       "      <td>8.0</td>\n",
       "      <td>66.0</td>\n",
       "    </tr>\n",
       "    <tr>\n",
       "      <th>...</th>\n",
       "      <td>...</td>\n",
       "      <td>...</td>\n",
       "    </tr>\n",
       "    <tr>\n",
       "      <th>Zierfandler-Rotgipfler</th>\n",
       "      <td>20.0</td>\n",
       "      <td>25.0</td>\n",
       "    </tr>\n",
       "    <tr>\n",
       "      <th>Zinfandel</th>\n",
       "      <td>4.0</td>\n",
       "      <td>100.0</td>\n",
       "    </tr>\n",
       "    <tr>\n",
       "      <th>Zlahtina</th>\n",
       "      <td>13.0</td>\n",
       "      <td>17.0</td>\n",
       "    </tr>\n",
       "    <tr>\n",
       "      <th>Zweigelt</th>\n",
       "      <td>9.0</td>\n",
       "      <td>70.0</td>\n",
       "    </tr>\n",
       "    <tr>\n",
       "      <th>Žilavka</th>\n",
       "      <td>13.0</td>\n",
       "      <td>15.0</td>\n",
       "    </tr>\n",
       "  </tbody>\n",
       "</table>\n",
       "<p>632 rows × 2 columns</p>\n",
       "</div>"
      ],
      "text/plain": [
       "                         min    max\n",
       "variety                            \n",
       "Agiorgitiko              8.0   65.0\n",
       "Aglianico                6.0  130.0\n",
       "Aidani                  27.0   27.0\n",
       "Airen                    8.0   10.0\n",
       "Albana                   8.0   66.0\n",
       "...                      ...    ...\n",
       "Zierfandler-Rotgipfler  20.0   25.0\n",
       "Zinfandel                4.0  100.0\n",
       "Zlahtina                13.0   17.0\n",
       "Zweigelt                 9.0   70.0\n",
       "Žilavka                 13.0   15.0\n",
       "\n",
       "[632 rows x 2 columns]"
      ]
     },
     "execution_count": 91,
     "metadata": {},
     "output_type": "execute_result"
    }
   ],
   "source": [
    "price_extremes = reviews.groupby('variety').price.agg([min, max])\n",
    "\n",
    "\n",
    "price_extremes"
   ]
  },
  {
   "cell_type": "markdown",
   "id": "46dadd31",
   "metadata": {},
   "source": [
    "# Create a variable sorted_varieties containing a copy of the dataframe from the previous question where varieties are sorted in descending order based on minimum price, then on maximum price (to break ties).\n"
   ]
  },
  {
   "cell_type": "code",
   "execution_count": 92,
   "id": "f9c32852",
   "metadata": {
    "ExecuteTime": {
     "end_time": "2021-08-24T04:09:52.625133Z",
     "start_time": "2021-08-24T04:09:52.556280Z"
    }
   },
   "outputs": [
    {
     "data": {
      "text/html": [
       "<div>\n",
       "<style scoped>\n",
       "    .dataframe tbody tr th:only-of-type {\n",
       "        vertical-align: middle;\n",
       "    }\n",
       "\n",
       "    .dataframe tbody tr th {\n",
       "        vertical-align: top;\n",
       "    }\n",
       "\n",
       "    .dataframe thead th {\n",
       "        text-align: right;\n",
       "    }\n",
       "</style>\n",
       "<table border=\"1\" class=\"dataframe\">\n",
       "  <thead>\n",
       "    <tr style=\"text-align: right;\">\n",
       "      <th></th>\n",
       "      <th>min</th>\n",
       "      <th>max</th>\n",
       "    </tr>\n",
       "    <tr>\n",
       "      <th>variety</th>\n",
       "      <th></th>\n",
       "      <th></th>\n",
       "    </tr>\n",
       "  </thead>\n",
       "  <tbody>\n",
       "    <tr>\n",
       "      <th>Cabernet-Shiraz</th>\n",
       "      <td>150.0</td>\n",
       "      <td>150.0</td>\n",
       "    </tr>\n",
       "    <tr>\n",
       "      <th>Mazuelo</th>\n",
       "      <td>92.0</td>\n",
       "      <td>105.0</td>\n",
       "    </tr>\n",
       "    <tr>\n",
       "      <th>Carignan-Syrah</th>\n",
       "      <td>80.0</td>\n",
       "      <td>80.0</td>\n",
       "    </tr>\n",
       "    <tr>\n",
       "      <th>Syrah-Cabernet Franc</th>\n",
       "      <td>69.0</td>\n",
       "      <td>69.0</td>\n",
       "    </tr>\n",
       "    <tr>\n",
       "      <th>Nasco</th>\n",
       "      <td>65.0</td>\n",
       "      <td>65.0</td>\n",
       "    </tr>\n",
       "    <tr>\n",
       "      <th>...</th>\n",
       "      <td>...</td>\n",
       "      <td>...</td>\n",
       "    </tr>\n",
       "    <tr>\n",
       "      <th>Rabigato</th>\n",
       "      <td>NaN</td>\n",
       "      <td>NaN</td>\n",
       "    </tr>\n",
       "    <tr>\n",
       "      <th>Sacy</th>\n",
       "      <td>NaN</td>\n",
       "      <td>NaN</td>\n",
       "    </tr>\n",
       "    <tr>\n",
       "      <th>Sauvignon Blanc-Sauvignon Gris</th>\n",
       "      <td>NaN</td>\n",
       "      <td>NaN</td>\n",
       "    </tr>\n",
       "    <tr>\n",
       "      <th>Terret Blanc</th>\n",
       "      <td>NaN</td>\n",
       "      <td>NaN</td>\n",
       "    </tr>\n",
       "    <tr>\n",
       "      <th>Zelen</th>\n",
       "      <td>NaN</td>\n",
       "      <td>NaN</td>\n",
       "    </tr>\n",
       "  </tbody>\n",
       "</table>\n",
       "<p>632 rows × 2 columns</p>\n",
       "</div>"
      ],
      "text/plain": [
       "                                  min    max\n",
       "variety                                     \n",
       "Cabernet-Shiraz                 150.0  150.0\n",
       "Mazuelo                          92.0  105.0\n",
       "Carignan-Syrah                   80.0   80.0\n",
       "Syrah-Cabernet Franc             69.0   69.0\n",
       "Nasco                            65.0   65.0\n",
       "...                               ...    ...\n",
       "Rabigato                          NaN    NaN\n",
       "Sacy                              NaN    NaN\n",
       "Sauvignon Blanc-Sauvignon Gris    NaN    NaN\n",
       "Terret Blanc                      NaN    NaN\n",
       "Zelen                             NaN    NaN\n",
       "\n",
       "[632 rows x 2 columns]"
      ]
     },
     "execution_count": 92,
     "metadata": {},
     "output_type": "execute_result"
    }
   ],
   "source": [
    "sorted_varieties = price_extremes.sort_values(\n",
    "    by=['min', 'max'], ascending=False)\n",
    "\n",
    "\n",
    "sorted_varieties"
   ]
  },
  {
   "cell_type": "markdown",
   "id": "033409b3",
   "metadata": {},
   "source": [
    "# Create a Series whose index is reviewers and whose values is the average review score given out by that reviewer.\n"
   ]
  },
  {
   "cell_type": "code",
   "execution_count": 93,
   "id": "b24e6f6b",
   "metadata": {
    "ExecuteTime": {
     "end_time": "2021-08-24T04:09:52.837718Z",
     "start_time": "2021-08-24T04:09:52.628019Z"
    }
   },
   "outputs": [
    {
     "data": {
      "text/plain": [
       "designation\n",
       "\"M\"                    84.0\n",
       "#50 Mon Chou           88.0\n",
       "#SocialSecret          86.0\n",
       "'72                    87.0\n",
       "'A Naca Rosso          88.0\n",
       "                       ... \n",
       "étoile Brut            90.0\n",
       "ía                     85.0\n",
       "ía Crianza             85.0\n",
       "Župska                 88.0\n",
       "‘Rough Justice' Red    89.0\n",
       "Name: points, Length: 30621, dtype: float64"
      ]
     },
     "execution_count": 93,
     "metadata": {},
     "output_type": "execute_result"
    }
   ],
   "source": [
    "reviewer_mean_ratings = reviews.groupby('designation').points.mean()\n",
    "\n",
    "\n",
    "reviewer_mean_ratings"
   ]
  },
  {
   "cell_type": "markdown",
   "id": "f45e5de0",
   "metadata": {},
   "source": [
    "# Create a Series whose index is a MultiIndexof {country, variety} pairs.\n"
   ]
  },
  {
   "cell_type": "code",
   "execution_count": 94,
   "id": "b332ec08",
   "metadata": {
    "ExecuteTime": {
     "end_time": "2021-08-24T04:09:52.948568Z",
     "start_time": "2021-08-24T04:09:52.841333Z"
    }
   },
   "outputs": [
    {
     "data": {
      "text/plain": [
       "country      variety                 \n",
       "US           Pinot Noir                  10340\n",
       "             Cabernet Sauvignon           9178\n",
       "             Chardonnay                   8127\n",
       "France       Bordeaux-style Red Blend     4960\n",
       "US           Syrah                        4274\n",
       "                                         ...  \n",
       "France       Pied de Perdrix                 1\n",
       "Tunisia      White Blend                     1\n",
       "             Rosé                            1\n",
       "Switzerland  White Blend                     1\n",
       "US           Carignan-Grenache               1\n",
       "Length: 1475, dtype: int64"
      ]
     },
     "execution_count": 94,
     "metadata": {},
     "output_type": "execute_result"
    }
   ],
   "source": [
    "country_variety_counts = reviews.groupby(\n",
    "    ['country', 'variety']).size().sort_values(ascending=False)\n",
    "\n",
    "\n",
    "country_variety_counts"
   ]
  },
  {
   "cell_type": "markdown",
   "id": "2c2ee3f1",
   "metadata": {},
   "source": [
    "# What is the data type of the points column in the dataset\n"
   ]
  },
  {
   "cell_type": "code",
   "execution_count": 95,
   "id": "6476f8c1",
   "metadata": {
    "ExecuteTime": {
     "end_time": "2021-08-24T04:09:52.998950Z",
     "start_time": "2021-08-24T04:09:52.953437Z"
    }
   },
   "outputs": [
    {
     "data": {
      "text/plain": [
       "dtype('int64')"
      ]
     },
     "execution_count": 95,
     "metadata": {},
     "output_type": "execute_result"
    }
   ],
   "source": [
    "dtype = reviews.points.dtype\n",
    "\n",
    "\n",
    "dtype"
   ]
  },
  {
   "cell_type": "markdown",
   "id": "0008a5c3",
   "metadata": {},
   "source": [
    "# Create a Series from entries in the `points` column, but convert the entries to strings.\n"
   ]
  },
  {
   "cell_type": "code",
   "execution_count": 96,
   "id": "e4f3a125",
   "metadata": {
    "ExecuteTime": {
     "end_time": "2021-08-24T04:09:53.309641Z",
     "start_time": "2021-08-24T04:09:53.001334Z"
    }
   },
   "outputs": [
    {
     "data": {
      "text/plain": [
       "0         96\n",
       "1         96\n",
       "2         96\n",
       "3         96\n",
       "4         95\n",
       "          ..\n",
       "150925    91\n",
       "150926    91\n",
       "150927    91\n",
       "150928    90\n",
       "150929    90\n",
       "Name: points, Length: 150930, dtype: object"
      ]
     },
     "execution_count": 96,
     "metadata": {},
     "output_type": "execute_result"
    }
   ],
   "source": [
    "point_strings = reviews.points.astype(str)\n",
    "\n",
    "\n",
    "point_strings"
   ]
  },
  {
   "cell_type": "markdown",
   "id": "29b5d711",
   "metadata": {},
   "source": [
    "# How many reviews in the dataset are missing a price?\n"
   ]
  },
  {
   "cell_type": "code",
   "execution_count": 97,
   "id": "4ef2e434",
   "metadata": {
    "ExecuteTime": {
     "end_time": "2021-08-24T04:09:53.535044Z",
     "start_time": "2021-08-24T04:09:53.312799Z"
    }
   },
   "outputs": [
    {
     "data": {
      "text/plain": [
       "13695"
      ]
     },
     "execution_count": 97,
     "metadata": {},
     "output_type": "execute_result"
    }
   ],
   "source": [
    "n_missing_prices = reviews.price.isnull().sum()\n",
    "\n",
    "\n",
    "n_missing_prices"
   ]
  },
  {
   "cell_type": "markdown",
   "id": "d446ea94",
   "metadata": {
    "ExecuteTime": {
     "end_time": "2021-08-17T16:11:28.052013Z",
     "start_time": "2021-08-17T16:11:28.043977Z"
    }
   },
   "source": [
    "# Create a Series counting the number of times each value occurs in the region_1 field. This field is often missing data, so replace missing values with Unknown. Sort in descending order.\n"
   ]
  },
  {
   "cell_type": "code",
   "execution_count": 98,
   "id": "f0507e85",
   "metadata": {
    "ExecuteTime": {
     "end_time": "2021-08-24T04:09:53.661061Z",
     "start_time": "2021-08-24T04:09:53.538532Z"
    }
   },
   "outputs": [
    {
     "data": {
      "text/plain": [
       "Unknown                                  25060\n",
       "Napa Valley                               6209\n",
       "Columbia Valley (WA)                      4975\n",
       "Mendoza                                   3586\n",
       "Russian River Valley                      3571\n",
       "                                         ...  \n",
       "Ramandolo                                    1\n",
       "Côtes du Roussillon Villages Caramany        1\n",
       "Vin de Pays de la Vallée de l’Aude           1\n",
       "Rivesaltes Rosé                              1\n",
       "Prince Edward County                         1\n",
       "Name: region_1, Length: 1237, dtype: int64"
      ]
     },
     "execution_count": 98,
     "metadata": {},
     "output_type": "execute_result"
    }
   ],
   "source": [
    "reviews_per_region = reviews.region_1.fillna(\n",
    "    'Unknown').value_counts().sort_values(ascending=False)\n",
    "\n",
    "\n",
    "reviews_per_region"
   ]
  },
  {
   "cell_type": "markdown",
   "id": "be95a3d0",
   "metadata": {},
   "source": [
    "# `region_1` and `region_2` are pretty uninformative names for locale columns in the dataset. Create a copy of `reviews` with these columns renamed to `region` and `locale`, respectively.\n"
   ]
  },
  {
   "cell_type": "code",
   "execution_count": 99,
   "id": "1bba22bd",
   "metadata": {
    "ExecuteTime": {
     "end_time": "2021-08-24T04:09:53.785685Z",
     "start_time": "2021-08-24T04:09:53.663945Z"
    }
   },
   "outputs": [
    {
     "data": {
      "text/html": [
       "<div>\n",
       "<style scoped>\n",
       "    .dataframe tbody tr th:only-of-type {\n",
       "        vertical-align: middle;\n",
       "    }\n",
       "\n",
       "    .dataframe tbody tr th {\n",
       "        vertical-align: top;\n",
       "    }\n",
       "\n",
       "    .dataframe thead th {\n",
       "        text-align: right;\n",
       "    }\n",
       "</style>\n",
       "<table border=\"1\" class=\"dataframe\">\n",
       "  <thead>\n",
       "    <tr style=\"text-align: right;\">\n",
       "      <th></th>\n",
       "      <th>Unnamed: 0</th>\n",
       "      <th>country</th>\n",
       "      <th>description</th>\n",
       "      <th>designation</th>\n",
       "      <th>points</th>\n",
       "      <th>price</th>\n",
       "      <th>province</th>\n",
       "      <th>region</th>\n",
       "      <th>locale</th>\n",
       "      <th>variety</th>\n",
       "      <th>winery</th>\n",
       "    </tr>\n",
       "  </thead>\n",
       "  <tbody>\n",
       "    <tr>\n",
       "      <th>0</th>\n",
       "      <td>0</td>\n",
       "      <td>US</td>\n",
       "      <td>This tremendous 100% varietal wine hails from ...</td>\n",
       "      <td>Martha's Vineyard</td>\n",
       "      <td>96</td>\n",
       "      <td>235.0</td>\n",
       "      <td>California</td>\n",
       "      <td>Napa Valley</td>\n",
       "      <td>Napa</td>\n",
       "      <td>Cabernet Sauvignon</td>\n",
       "      <td>Heitz</td>\n",
       "    </tr>\n",
       "    <tr>\n",
       "      <th>1</th>\n",
       "      <td>1</td>\n",
       "      <td>Spain</td>\n",
       "      <td>Ripe aromas of fig, blackberry and cassis are ...</td>\n",
       "      <td>Carodorum Selección Especial Reserva</td>\n",
       "      <td>96</td>\n",
       "      <td>110.0</td>\n",
       "      <td>Northern Spain</td>\n",
       "      <td>Toro</td>\n",
       "      <td>NaN</td>\n",
       "      <td>Tinta de Toro</td>\n",
       "      <td>Bodega Carmen Rodríguez</td>\n",
       "    </tr>\n",
       "    <tr>\n",
       "      <th>2</th>\n",
       "      <td>2</td>\n",
       "      <td>US</td>\n",
       "      <td>Mac Watson honors the memory of a wine once ma...</td>\n",
       "      <td>Special Selected Late Harvest</td>\n",
       "      <td>96</td>\n",
       "      <td>90.0</td>\n",
       "      <td>California</td>\n",
       "      <td>Knights Valley</td>\n",
       "      <td>Sonoma</td>\n",
       "      <td>Sauvignon Blanc</td>\n",
       "      <td>Macauley</td>\n",
       "    </tr>\n",
       "    <tr>\n",
       "      <th>3</th>\n",
       "      <td>3</td>\n",
       "      <td>US</td>\n",
       "      <td>This spent 20 months in 30% new French oak, an...</td>\n",
       "      <td>Reserve</td>\n",
       "      <td>96</td>\n",
       "      <td>65.0</td>\n",
       "      <td>Oregon</td>\n",
       "      <td>Willamette Valley</td>\n",
       "      <td>Willamette Valley</td>\n",
       "      <td>Pinot Noir</td>\n",
       "      <td>Ponzi</td>\n",
       "    </tr>\n",
       "    <tr>\n",
       "      <th>4</th>\n",
       "      <td>4</td>\n",
       "      <td>France</td>\n",
       "      <td>This is the top wine from La Bégude, named aft...</td>\n",
       "      <td>La Brûlade</td>\n",
       "      <td>95</td>\n",
       "      <td>66.0</td>\n",
       "      <td>Provence</td>\n",
       "      <td>Bandol</td>\n",
       "      <td>NaN</td>\n",
       "      <td>Provence red blend</td>\n",
       "      <td>Domaine de la Bégude</td>\n",
       "    </tr>\n",
       "    <tr>\n",
       "      <th>...</th>\n",
       "      <td>...</td>\n",
       "      <td>...</td>\n",
       "      <td>...</td>\n",
       "      <td>...</td>\n",
       "      <td>...</td>\n",
       "      <td>...</td>\n",
       "      <td>...</td>\n",
       "      <td>...</td>\n",
       "      <td>...</td>\n",
       "      <td>...</td>\n",
       "      <td>...</td>\n",
       "    </tr>\n",
       "    <tr>\n",
       "      <th>150925</th>\n",
       "      <td>150925</td>\n",
       "      <td>Italy</td>\n",
       "      <td>Many people feel Fiano represents southern Ita...</td>\n",
       "      <td>NaN</td>\n",
       "      <td>91</td>\n",
       "      <td>20.0</td>\n",
       "      <td>Southern Italy</td>\n",
       "      <td>Fiano di Avellino</td>\n",
       "      <td>NaN</td>\n",
       "      <td>White Blend</td>\n",
       "      <td>Feudi di San Gregorio</td>\n",
       "    </tr>\n",
       "    <tr>\n",
       "      <th>150926</th>\n",
       "      <td>150926</td>\n",
       "      <td>France</td>\n",
       "      <td>Offers an intriguing nose with ginger, lime an...</td>\n",
       "      <td>Cuvée Prestige</td>\n",
       "      <td>91</td>\n",
       "      <td>27.0</td>\n",
       "      <td>Champagne</td>\n",
       "      <td>Champagne</td>\n",
       "      <td>NaN</td>\n",
       "      <td>Champagne Blend</td>\n",
       "      <td>H.Germain</td>\n",
       "    </tr>\n",
       "    <tr>\n",
       "      <th>150927</th>\n",
       "      <td>150927</td>\n",
       "      <td>Italy</td>\n",
       "      <td>This classic example comes from a cru vineyard...</td>\n",
       "      <td>Terre di Dora</td>\n",
       "      <td>91</td>\n",
       "      <td>20.0</td>\n",
       "      <td>Southern Italy</td>\n",
       "      <td>Fiano di Avellino</td>\n",
       "      <td>NaN</td>\n",
       "      <td>White Blend</td>\n",
       "      <td>Terredora</td>\n",
       "    </tr>\n",
       "    <tr>\n",
       "      <th>150928</th>\n",
       "      <td>150928</td>\n",
       "      <td>France</td>\n",
       "      <td>A perfect salmon shade, with scents of peaches...</td>\n",
       "      <td>Grand Brut Rosé</td>\n",
       "      <td>90</td>\n",
       "      <td>52.0</td>\n",
       "      <td>Champagne</td>\n",
       "      <td>Champagne</td>\n",
       "      <td>NaN</td>\n",
       "      <td>Champagne Blend</td>\n",
       "      <td>Gosset</td>\n",
       "    </tr>\n",
       "    <tr>\n",
       "      <th>150929</th>\n",
       "      <td>150929</td>\n",
       "      <td>Italy</td>\n",
       "      <td>More Pinot Grigios should taste like this. A r...</td>\n",
       "      <td>NaN</td>\n",
       "      <td>90</td>\n",
       "      <td>15.0</td>\n",
       "      <td>Northeastern Italy</td>\n",
       "      <td>Alto Adige</td>\n",
       "      <td>NaN</td>\n",
       "      <td>Pinot Grigio</td>\n",
       "      <td>Alois Lageder</td>\n",
       "    </tr>\n",
       "  </tbody>\n",
       "</table>\n",
       "<p>150930 rows × 11 columns</p>\n",
       "</div>"
      ],
      "text/plain": [
       "        Unnamed: 0 country                                        description  \\\n",
       "0                0      US  This tremendous 100% varietal wine hails from ...   \n",
       "1                1   Spain  Ripe aromas of fig, blackberry and cassis are ...   \n",
       "2                2      US  Mac Watson honors the memory of a wine once ma...   \n",
       "3                3      US  This spent 20 months in 30% new French oak, an...   \n",
       "4                4  France  This is the top wine from La Bégude, named aft...   \n",
       "...            ...     ...                                                ...   \n",
       "150925      150925   Italy  Many people feel Fiano represents southern Ita...   \n",
       "150926      150926  France  Offers an intriguing nose with ginger, lime an...   \n",
       "150927      150927   Italy  This classic example comes from a cru vineyard...   \n",
       "150928      150928  France  A perfect salmon shade, with scents of peaches...   \n",
       "150929      150929   Italy  More Pinot Grigios should taste like this. A r...   \n",
       "\n",
       "                                 designation  points  price  \\\n",
       "0                          Martha's Vineyard      96  235.0   \n",
       "1       Carodorum Selección Especial Reserva      96  110.0   \n",
       "2              Special Selected Late Harvest      96   90.0   \n",
       "3                                    Reserve      96   65.0   \n",
       "4                                 La Brûlade      95   66.0   \n",
       "...                                      ...     ...    ...   \n",
       "150925                                   NaN      91   20.0   \n",
       "150926                        Cuvée Prestige      91   27.0   \n",
       "150927                         Terre di Dora      91   20.0   \n",
       "150928                       Grand Brut Rosé      90   52.0   \n",
       "150929                                   NaN      90   15.0   \n",
       "\n",
       "                  province             region             locale  \\\n",
       "0               California        Napa Valley               Napa   \n",
       "1           Northern Spain               Toro                NaN   \n",
       "2               California     Knights Valley             Sonoma   \n",
       "3                   Oregon  Willamette Valley  Willamette Valley   \n",
       "4                 Provence             Bandol                NaN   \n",
       "...                    ...                ...                ...   \n",
       "150925      Southern Italy  Fiano di Avellino                NaN   \n",
       "150926           Champagne          Champagne                NaN   \n",
       "150927      Southern Italy  Fiano di Avellino                NaN   \n",
       "150928           Champagne          Champagne                NaN   \n",
       "150929  Northeastern Italy         Alto Adige                NaN   \n",
       "\n",
       "                   variety                   winery  \n",
       "0       Cabernet Sauvignon                    Heitz  \n",
       "1            Tinta de Toro  Bodega Carmen Rodríguez  \n",
       "2          Sauvignon Blanc                 Macauley  \n",
       "3               Pinot Noir                    Ponzi  \n",
       "4       Provence red blend     Domaine de la Bégude  \n",
       "...                    ...                      ...  \n",
       "150925         White Blend    Feudi di San Gregorio  \n",
       "150926     Champagne Blend                H.Germain  \n",
       "150927         White Blend                Terredora  \n",
       "150928     Champagne Blend                   Gosset  \n",
       "150929        Pinot Grigio            Alois Lageder  \n",
       "\n",
       "[150930 rows x 11 columns]"
      ]
     },
     "execution_count": 99,
     "metadata": {},
     "output_type": "execute_result"
    }
   ],
   "source": [
    "renamed = reviews.rename(columns=dict(region_1='region', region_2='locale'))\n",
    "\n",
    "\n",
    "renamed"
   ]
  },
  {
   "cell_type": "markdown",
   "id": "4464a966",
   "metadata": {},
   "source": [
    "# Set the index name in the dataset to `wines`.\n"
   ]
  },
  {
   "cell_type": "code",
   "execution_count": 100,
   "id": "366c2475",
   "metadata": {
    "ExecuteTime": {
     "end_time": "2021-08-24T04:09:54.087885Z",
     "start_time": "2021-08-24T04:09:53.789166Z"
    }
   },
   "outputs": [
    {
     "data": {
      "text/html": [
       "<div>\n",
       "<style scoped>\n",
       "    .dataframe tbody tr th:only-of-type {\n",
       "        vertical-align: middle;\n",
       "    }\n",
       "\n",
       "    .dataframe tbody tr th {\n",
       "        vertical-align: top;\n",
       "    }\n",
       "\n",
       "    .dataframe thead th {\n",
       "        text-align: right;\n",
       "    }\n",
       "</style>\n",
       "<table border=\"1\" class=\"dataframe\">\n",
       "  <thead>\n",
       "    <tr style=\"text-align: right;\">\n",
       "      <th></th>\n",
       "      <th>Unnamed: 0</th>\n",
       "      <th>country</th>\n",
       "      <th>description</th>\n",
       "      <th>designation</th>\n",
       "      <th>points</th>\n",
       "      <th>price</th>\n",
       "      <th>province</th>\n",
       "      <th>region_1</th>\n",
       "      <th>region_2</th>\n",
       "      <th>variety</th>\n",
       "      <th>winery</th>\n",
       "    </tr>\n",
       "    <tr>\n",
       "      <th>wines</th>\n",
       "      <th></th>\n",
       "      <th></th>\n",
       "      <th></th>\n",
       "      <th></th>\n",
       "      <th></th>\n",
       "      <th></th>\n",
       "      <th></th>\n",
       "      <th></th>\n",
       "      <th></th>\n",
       "      <th></th>\n",
       "      <th></th>\n",
       "    </tr>\n",
       "  </thead>\n",
       "  <tbody>\n",
       "    <tr>\n",
       "      <th>0</th>\n",
       "      <td>0</td>\n",
       "      <td>US</td>\n",
       "      <td>This tremendous 100% varietal wine hails from ...</td>\n",
       "      <td>Martha's Vineyard</td>\n",
       "      <td>96</td>\n",
       "      <td>235.0</td>\n",
       "      <td>California</td>\n",
       "      <td>Napa Valley</td>\n",
       "      <td>Napa</td>\n",
       "      <td>Cabernet Sauvignon</td>\n",
       "      <td>Heitz</td>\n",
       "    </tr>\n",
       "    <tr>\n",
       "      <th>1</th>\n",
       "      <td>1</td>\n",
       "      <td>Spain</td>\n",
       "      <td>Ripe aromas of fig, blackberry and cassis are ...</td>\n",
       "      <td>Carodorum Selección Especial Reserva</td>\n",
       "      <td>96</td>\n",
       "      <td>110.0</td>\n",
       "      <td>Northern Spain</td>\n",
       "      <td>Toro</td>\n",
       "      <td>NaN</td>\n",
       "      <td>Tinta de Toro</td>\n",
       "      <td>Bodega Carmen Rodríguez</td>\n",
       "    </tr>\n",
       "    <tr>\n",
       "      <th>2</th>\n",
       "      <td>2</td>\n",
       "      <td>US</td>\n",
       "      <td>Mac Watson honors the memory of a wine once ma...</td>\n",
       "      <td>Special Selected Late Harvest</td>\n",
       "      <td>96</td>\n",
       "      <td>90.0</td>\n",
       "      <td>California</td>\n",
       "      <td>Knights Valley</td>\n",
       "      <td>Sonoma</td>\n",
       "      <td>Sauvignon Blanc</td>\n",
       "      <td>Macauley</td>\n",
       "    </tr>\n",
       "    <tr>\n",
       "      <th>3</th>\n",
       "      <td>3</td>\n",
       "      <td>US</td>\n",
       "      <td>This spent 20 months in 30% new French oak, an...</td>\n",
       "      <td>Reserve</td>\n",
       "      <td>96</td>\n",
       "      <td>65.0</td>\n",
       "      <td>Oregon</td>\n",
       "      <td>Willamette Valley</td>\n",
       "      <td>Willamette Valley</td>\n",
       "      <td>Pinot Noir</td>\n",
       "      <td>Ponzi</td>\n",
       "    </tr>\n",
       "    <tr>\n",
       "      <th>4</th>\n",
       "      <td>4</td>\n",
       "      <td>France</td>\n",
       "      <td>This is the top wine from La Bégude, named aft...</td>\n",
       "      <td>La Brûlade</td>\n",
       "      <td>95</td>\n",
       "      <td>66.0</td>\n",
       "      <td>Provence</td>\n",
       "      <td>Bandol</td>\n",
       "      <td>NaN</td>\n",
       "      <td>Provence red blend</td>\n",
       "      <td>Domaine de la Bégude</td>\n",
       "    </tr>\n",
       "    <tr>\n",
       "      <th>...</th>\n",
       "      <td>...</td>\n",
       "      <td>...</td>\n",
       "      <td>...</td>\n",
       "      <td>...</td>\n",
       "      <td>...</td>\n",
       "      <td>...</td>\n",
       "      <td>...</td>\n",
       "      <td>...</td>\n",
       "      <td>...</td>\n",
       "      <td>...</td>\n",
       "      <td>...</td>\n",
       "    </tr>\n",
       "    <tr>\n",
       "      <th>150925</th>\n",
       "      <td>150925</td>\n",
       "      <td>Italy</td>\n",
       "      <td>Many people feel Fiano represents southern Ita...</td>\n",
       "      <td>NaN</td>\n",
       "      <td>91</td>\n",
       "      <td>20.0</td>\n",
       "      <td>Southern Italy</td>\n",
       "      <td>Fiano di Avellino</td>\n",
       "      <td>NaN</td>\n",
       "      <td>White Blend</td>\n",
       "      <td>Feudi di San Gregorio</td>\n",
       "    </tr>\n",
       "    <tr>\n",
       "      <th>150926</th>\n",
       "      <td>150926</td>\n",
       "      <td>France</td>\n",
       "      <td>Offers an intriguing nose with ginger, lime an...</td>\n",
       "      <td>Cuvée Prestige</td>\n",
       "      <td>91</td>\n",
       "      <td>27.0</td>\n",
       "      <td>Champagne</td>\n",
       "      <td>Champagne</td>\n",
       "      <td>NaN</td>\n",
       "      <td>Champagne Blend</td>\n",
       "      <td>H.Germain</td>\n",
       "    </tr>\n",
       "    <tr>\n",
       "      <th>150927</th>\n",
       "      <td>150927</td>\n",
       "      <td>Italy</td>\n",
       "      <td>This classic example comes from a cru vineyard...</td>\n",
       "      <td>Terre di Dora</td>\n",
       "      <td>91</td>\n",
       "      <td>20.0</td>\n",
       "      <td>Southern Italy</td>\n",
       "      <td>Fiano di Avellino</td>\n",
       "      <td>NaN</td>\n",
       "      <td>White Blend</td>\n",
       "      <td>Terredora</td>\n",
       "    </tr>\n",
       "    <tr>\n",
       "      <th>150928</th>\n",
       "      <td>150928</td>\n",
       "      <td>France</td>\n",
       "      <td>A perfect salmon shade, with scents of peaches...</td>\n",
       "      <td>Grand Brut Rosé</td>\n",
       "      <td>90</td>\n",
       "      <td>52.0</td>\n",
       "      <td>Champagne</td>\n",
       "      <td>Champagne</td>\n",
       "      <td>NaN</td>\n",
       "      <td>Champagne Blend</td>\n",
       "      <td>Gosset</td>\n",
       "    </tr>\n",
       "    <tr>\n",
       "      <th>150929</th>\n",
       "      <td>150929</td>\n",
       "      <td>Italy</td>\n",
       "      <td>More Pinot Grigios should taste like this. A r...</td>\n",
       "      <td>NaN</td>\n",
       "      <td>90</td>\n",
       "      <td>15.0</td>\n",
       "      <td>Northeastern Italy</td>\n",
       "      <td>Alto Adige</td>\n",
       "      <td>NaN</td>\n",
       "      <td>Pinot Grigio</td>\n",
       "      <td>Alois Lageder</td>\n",
       "    </tr>\n",
       "  </tbody>\n",
       "</table>\n",
       "<p>150930 rows × 11 columns</p>\n",
       "</div>"
      ],
      "text/plain": [
       "        Unnamed: 0 country                                        description  \\\n",
       "wines                                                                           \n",
       "0                0      US  This tremendous 100% varietal wine hails from ...   \n",
       "1                1   Spain  Ripe aromas of fig, blackberry and cassis are ...   \n",
       "2                2      US  Mac Watson honors the memory of a wine once ma...   \n",
       "3                3      US  This spent 20 months in 30% new French oak, an...   \n",
       "4                4  France  This is the top wine from La Bégude, named aft...   \n",
       "...            ...     ...                                                ...   \n",
       "150925      150925   Italy  Many people feel Fiano represents southern Ita...   \n",
       "150926      150926  France  Offers an intriguing nose with ginger, lime an...   \n",
       "150927      150927   Italy  This classic example comes from a cru vineyard...   \n",
       "150928      150928  France  A perfect salmon shade, with scents of peaches...   \n",
       "150929      150929   Italy  More Pinot Grigios should taste like this. A r...   \n",
       "\n",
       "                                 designation  points  price  \\\n",
       "wines                                                         \n",
       "0                          Martha's Vineyard      96  235.0   \n",
       "1       Carodorum Selección Especial Reserva      96  110.0   \n",
       "2              Special Selected Late Harvest      96   90.0   \n",
       "3                                    Reserve      96   65.0   \n",
       "4                                 La Brûlade      95   66.0   \n",
       "...                                      ...     ...    ...   \n",
       "150925                                   NaN      91   20.0   \n",
       "150926                        Cuvée Prestige      91   27.0   \n",
       "150927                         Terre di Dora      91   20.0   \n",
       "150928                       Grand Brut Rosé      90   52.0   \n",
       "150929                                   NaN      90   15.0   \n",
       "\n",
       "                  province           region_1           region_2  \\\n",
       "wines                                                              \n",
       "0               California        Napa Valley               Napa   \n",
       "1           Northern Spain               Toro                NaN   \n",
       "2               California     Knights Valley             Sonoma   \n",
       "3                   Oregon  Willamette Valley  Willamette Valley   \n",
       "4                 Provence             Bandol                NaN   \n",
       "...                    ...                ...                ...   \n",
       "150925      Southern Italy  Fiano di Avellino                NaN   \n",
       "150926           Champagne          Champagne                NaN   \n",
       "150927      Southern Italy  Fiano di Avellino                NaN   \n",
       "150928           Champagne          Champagne                NaN   \n",
       "150929  Northeastern Italy         Alto Adige                NaN   \n",
       "\n",
       "                   variety                   winery  \n",
       "wines                                                \n",
       "0       Cabernet Sauvignon                    Heitz  \n",
       "1            Tinta de Toro  Bodega Carmen Rodríguez  \n",
       "2          Sauvignon Blanc                 Macauley  \n",
       "3               Pinot Noir                    Ponzi  \n",
       "4       Provence red blend     Domaine de la Bégude  \n",
       "...                    ...                      ...  \n",
       "150925         White Blend    Feudi di San Gregorio  \n",
       "150926     Champagne Blend                H.Germain  \n",
       "150927         White Blend                Terredora  \n",
       "150928     Champagne Blend                   Gosset  \n",
       "150929        Pinot Grigio            Alois Lageder  \n",
       "\n",
       "[150930 rows x 11 columns]"
      ]
     },
     "execution_count": 100,
     "metadata": {},
     "output_type": "execute_result"
    }
   ],
   "source": [
    "reindexed = reviews.rename_axis('wines', axis='rows')\n",
    "\n",
    "\n",
    "reindexed"
   ]
  },
  {
   "cell_type": "markdown",
   "id": "dc87afef",
   "metadata": {},
   "source": [
    "# =============================================================================\n",
    "# NUMPY EXCERCISES\n",
    "# =============================================================================\n",
    "\n"
   ]
  },
  {
   "cell_type": "markdown",
   "id": "97454daf",
   "metadata": {},
   "source": [
    "# NumPy Creating Array\n"
   ]
  },
  {
   "cell_type": "markdown",
   "id": "fe3b7e4d",
   "metadata": {},
   "source": [
    "##  importing the numpy library"
   ]
  },
  {
   "cell_type": "markdown",
   "id": "ed101267",
   "metadata": {},
   "source": [
    "# Create a NumPy ndarray Object\n"
   ]
  },
  {
   "cell_type": "code",
   "execution_count": 101,
   "id": "1e49ba0c",
   "metadata": {
    "ExecuteTime": {
     "end_time": "2021-08-24T04:09:54.121600Z",
     "start_time": "2021-08-24T04:09:54.091842Z"
    }
   },
   "outputs": [
    {
     "name": "stdout",
     "output_type": "stream",
     "text": [
      "[1 2 3 4 5]\n",
      "<class 'numpy.ndarray'>\n"
     ]
    }
   ],
   "source": [
    "arr = np.array([1, 2, 3, 4, 5])\n",
    "\n",
    "print(arr)\n",
    "\n",
    "print(type(arr))"
   ]
  },
  {
   "cell_type": "markdown",
   "id": "34e9ef14",
   "metadata": {},
   "source": [
    "# Use a tuple to create a NumPy array:\n"
   ]
  },
  {
   "cell_type": "code",
   "execution_count": 102,
   "id": "bd340f24",
   "metadata": {
    "ExecuteTime": {
     "end_time": "2021-08-24T04:09:54.209823Z",
     "start_time": "2021-08-24T04:09:54.125978Z"
    }
   },
   "outputs": [
    {
     "name": "stdout",
     "output_type": "stream",
     "text": [
      "[1 2 3 4 5]\n"
     ]
    }
   ],
   "source": [
    "arr = np.array((1, 2, 3, 4, 5))\n",
    "\n",
    "print(arr)"
   ]
  },
  {
   "cell_type": "markdown",
   "id": "d0886325",
   "metadata": {},
   "source": [
    "# Create a 0-D array with value 42\n"
   ]
  },
  {
   "cell_type": "code",
   "execution_count": 103,
   "id": "d9ec9f7c",
   "metadata": {
    "ExecuteTime": {
     "end_time": "2021-08-24T04:09:54.297261Z",
     "start_time": "2021-08-24T04:09:54.213643Z"
    }
   },
   "outputs": [
    {
     "name": "stdout",
     "output_type": "stream",
     "text": [
      "42\n"
     ]
    }
   ],
   "source": [
    "arr = np.array(42)\n",
    "\n",
    "print(arr)"
   ]
  },
  {
   "cell_type": "markdown",
   "id": "8106227f",
   "metadata": {},
   "source": [
    "# Create a 1-D array containing the values 1,2,3,4,5:\n"
   ]
  },
  {
   "cell_type": "code",
   "execution_count": 104,
   "id": "eb67565d",
   "metadata": {
    "ExecuteTime": {
     "end_time": "2021-08-24T04:09:54.378030Z",
     "start_time": "2021-08-24T04:09:54.300824Z"
    }
   },
   "outputs": [
    {
     "name": "stdout",
     "output_type": "stream",
     "text": [
      "[1 2 3 4 5]\n"
     ]
    }
   ],
   "source": [
    "arr = np.array([1, 2, 3, 4, 5])\n",
    "\n",
    "print(arr)"
   ]
  },
  {
   "cell_type": "markdown",
   "id": "78ffcd49",
   "metadata": {},
   "source": [
    "# Create a 2-D array containing two arrays with the values 1,2,3 and 4,5,6:\n"
   ]
  },
  {
   "cell_type": "code",
   "execution_count": 105,
   "id": "5d2f0a89",
   "metadata": {
    "ExecuteTime": {
     "end_time": "2021-08-24T04:09:54.464446Z",
     "start_time": "2021-08-24T04:09:54.381658Z"
    }
   },
   "outputs": [
    {
     "name": "stdout",
     "output_type": "stream",
     "text": [
      "[[1 2 3]\n",
      " [4 5 6]]\n"
     ]
    }
   ],
   "source": [
    "arr = np.array([[1, 2, 3], [4, 5, 6]])\n",
    "\n",
    "print(arr)"
   ]
  },
  {
   "cell_type": "markdown",
   "id": "c176752e",
   "metadata": {},
   "source": [
    "# Create a 3-D array with two 2-D arrays, both containing two arrays with the values 1,2,3 and 4,5,6:\n"
   ]
  },
  {
   "cell_type": "code",
   "execution_count": 106,
   "id": "316df003",
   "metadata": {
    "ExecuteTime": {
     "end_time": "2021-08-24T04:09:54.542886Z",
     "start_time": "2021-08-24T04:09:54.467444Z"
    }
   },
   "outputs": [
    {
     "name": "stdout",
     "output_type": "stream",
     "text": [
      "[[[1 2 3]\n",
      "  [4 5 6]]\n",
      "\n",
      " [[1 2 3]\n",
      "  [4 5 6]]]\n"
     ]
    }
   ],
   "source": [
    "arr = np.array([[[1, 2, 3], [4, 5, 6]], [[1, 2, 3], [4, 5, 6]]])\n",
    "\n",
    "print(arr)"
   ]
  },
  {
   "cell_type": "markdown",
   "id": "a706f49a",
   "metadata": {},
   "source": [
    "# Check how many dimensions the arrays have:\n"
   ]
  },
  {
   "cell_type": "code",
   "execution_count": 107,
   "id": "559f027d",
   "metadata": {
    "ExecuteTime": {
     "end_time": "2021-08-24T04:09:54.654396Z",
     "start_time": "2021-08-24T04:09:54.546203Z"
    }
   },
   "outputs": [
    {
     "name": "stdout",
     "output_type": "stream",
     "text": [
      "0\n",
      "1\n",
      "2\n",
      "3\n"
     ]
    }
   ],
   "source": [
    "a = np.array(42)\n",
    "b = np.array([1, 2, 3, 4, 5])\n",
    "c = np.array([[1, 2, 3], [4, 5, 6]])\n",
    "d = np.array([[[1, 2, 3], [4, 5, 6]], [[1, 2, 3], [4, 5, 6]]])\n",
    "\n",
    "print(a.ndim)\n",
    "print(b.ndim)\n",
    "print(c.ndim)\n",
    "print(d.ndim)"
   ]
  },
  {
   "cell_type": "markdown",
   "id": "104bc5a0",
   "metadata": {},
   "source": [
    "# Create an array with 5 dimensions and verify that it has 5 dimensions:\n"
   ]
  },
  {
   "cell_type": "code",
   "execution_count": 108,
   "id": "b2795014",
   "metadata": {
    "ExecuteTime": {
     "end_time": "2021-08-24T04:09:54.732445Z",
     "start_time": "2021-08-24T04:09:54.657940Z"
    }
   },
   "outputs": [
    {
     "name": "stdout",
     "output_type": "stream",
     "text": [
      "[[[[[1 2 3 4]]]]]\n",
      "number of dimensions : 5\n"
     ]
    }
   ],
   "source": [
    "arr = np.array([1, 2, 3, 4], ndmin=5)\n",
    "\n",
    "print(arr)\n",
    "print('number of dimensions :', arr.ndim)"
   ]
  },
  {
   "cell_type": "markdown",
   "id": "6c032e89",
   "metadata": {},
   "source": [
    "# NumPy Array Indexing\n",
    "## Get the first element from the following array:\n"
   ]
  },
  {
   "cell_type": "code",
   "execution_count": 109,
   "id": "afb038bc",
   "metadata": {
    "ExecuteTime": {
     "end_time": "2021-08-24T04:09:54.797589Z",
     "start_time": "2021-08-24T04:09:54.736889Z"
    }
   },
   "outputs": [
    {
     "name": "stdout",
     "output_type": "stream",
     "text": [
      "1\n"
     ]
    }
   ],
   "source": [
    "arr = np.array([1, 2, 3, 4])\n",
    "\n",
    "print(arr[0])"
   ]
  },
  {
   "cell_type": "markdown",
   "id": "bbe466d1",
   "metadata": {
    "ExecuteTime": {
     "end_time": "2021-08-17T16:16:36.955201Z",
     "start_time": "2021-08-17T16:16:36.947048Z"
    }
   },
   "source": [
    "# Get the second element from the following array.\n"
   ]
  },
  {
   "cell_type": "code",
   "execution_count": 110,
   "id": "da8abd11",
   "metadata": {
    "ExecuteTime": {
     "end_time": "2021-08-24T04:09:54.864570Z",
     "start_time": "2021-08-24T04:09:54.800930Z"
    }
   },
   "outputs": [
    {
     "name": "stdout",
     "output_type": "stream",
     "text": [
      "2\n"
     ]
    }
   ],
   "source": [
    "arr = np.array([1, 2, 3, 4])\n",
    "\n",
    "print(arr[1])"
   ]
  },
  {
   "cell_type": "markdown",
   "id": "3bbc64e4",
   "metadata": {},
   "source": [
    "# Get third and fourth elements from the following array and add them.\n"
   ]
  },
  {
   "cell_type": "code",
   "execution_count": 111,
   "id": "31711f29",
   "metadata": {
    "ExecuteTime": {
     "end_time": "2021-08-24T04:09:54.931309Z",
     "start_time": "2021-08-24T04:09:54.867770Z"
    }
   },
   "outputs": [
    {
     "name": "stdout",
     "output_type": "stream",
     "text": [
      "7\n"
     ]
    }
   ],
   "source": [
    "arr = np.array([1, 2, 3, 4])\n",
    "\n",
    "print(arr[2] + arr[3])"
   ]
  },
  {
   "cell_type": "markdown",
   "id": "a0f2af24",
   "metadata": {},
   "source": [
    "# Access the 2nd element on 1st dim:\n",
    "\n"
   ]
  },
  {
   "cell_type": "code",
   "execution_count": 112,
   "id": "6312c6f1",
   "metadata": {
    "ExecuteTime": {
     "end_time": "2021-08-24T04:09:55.020420Z",
     "start_time": "2021-08-24T04:09:54.935304Z"
    }
   },
   "outputs": [
    {
     "name": "stdout",
     "output_type": "stream",
     "text": [
      "2nd element on 1st dim:  2\n"
     ]
    }
   ],
   "source": [
    "arr = np.array([[1, 2, 3, 4, 5], [6, 7, 8, 9, 10]])\n",
    "\n",
    "print('2nd element on 1st dim: ', arr[0, 1])"
   ]
  },
  {
   "cell_type": "markdown",
   "id": "a66bef5a",
   "metadata": {},
   "source": [
    "# Access the 5th element on 2nd dim:\n",
    "\n"
   ]
  },
  {
   "cell_type": "code",
   "execution_count": 113,
   "id": "33651d08",
   "metadata": {
    "ExecuteTime": {
     "end_time": "2021-08-24T04:09:55.113062Z",
     "start_time": "2021-08-24T04:09:55.023486Z"
    }
   },
   "outputs": [
    {
     "name": "stdout",
     "output_type": "stream",
     "text": [
      "5th element on 2nd dim:  10\n"
     ]
    }
   ],
   "source": [
    "arr = np.array([[1, 2, 3, 4, 5], [6, 7, 8, 9, 10]])\n",
    "\n",
    "print('5th element on 2nd dim: ', arr[1, 4])"
   ]
  },
  {
   "cell_type": "markdown",
   "id": "485efa9c",
   "metadata": {},
   "source": [
    "# Access the third element of the second array of the first array:\n"
   ]
  },
  {
   "cell_type": "code",
   "execution_count": 114,
   "id": "65b2f54d",
   "metadata": {
    "ExecuteTime": {
     "end_time": "2021-08-24T04:09:55.198002Z",
     "start_time": "2021-08-24T04:09:55.116748Z"
    }
   },
   "outputs": [
    {
     "name": "stdout",
     "output_type": "stream",
     "text": [
      "6\n"
     ]
    }
   ],
   "source": [
    "arr = np.array([[[1, 2, 3], [4, 5, 6]], [[7, 8, 9], [10, 11, 12]]])\n",
    "\n",
    "print(arr[0, 1, 2])"
   ]
  },
  {
   "cell_type": "markdown",
   "id": "1dbb6062",
   "metadata": {},
   "source": [
    "# Print the last element from the 2nd dim:\n"
   ]
  },
  {
   "cell_type": "code",
   "execution_count": 115,
   "id": "c43699be",
   "metadata": {
    "ExecuteTime": {
     "end_time": "2021-08-24T04:09:55.289284Z",
     "start_time": "2021-08-24T04:09:55.201679Z"
    }
   },
   "outputs": [
    {
     "name": "stdout",
     "output_type": "stream",
     "text": [
      "Last element from 2nd dim:  10\n"
     ]
    }
   ],
   "source": [
    "arr = np.array([[1, 2, 3, 4, 5], [6, 7, 8, 9, 10]])\n",
    "\n",
    "print('Last element from 2nd dim: ', arr[1, -1])"
   ]
  },
  {
   "cell_type": "markdown",
   "id": "5b715617",
   "metadata": {
    "ExecuteTime": {
     "end_time": "2021-08-17T16:18:29.522770Z",
     "start_time": "2021-08-17T16:18:29.512884Z"
    }
   },
   "source": [
    "# NumPy Array Slicing\n",
    "\n",
    "\n",
    "## Slice elements from index 1 to index 5 from the following array:\n"
   ]
  },
  {
   "cell_type": "code",
   "execution_count": 116,
   "id": "06efcf12",
   "metadata": {
    "ExecuteTime": {
     "end_time": "2021-08-24T04:09:55.387653Z",
     "start_time": "2021-08-24T04:09:55.293440Z"
    }
   },
   "outputs": [
    {
     "name": "stdout",
     "output_type": "stream",
     "text": [
      "[2 3 4 5]\n"
     ]
    }
   ],
   "source": [
    "arr = np.array([1, 2, 3, 4, 5, 6, 7])\n",
    "\n",
    "print(arr[1:5])"
   ]
  },
  {
   "cell_type": "markdown",
   "id": "989e5b45",
   "metadata": {},
   "source": [
    "# Slice elements from index 4 to the end of the array:\n"
   ]
  },
  {
   "cell_type": "code",
   "execution_count": 117,
   "id": "2bdf1500",
   "metadata": {
    "ExecuteTime": {
     "end_time": "2021-08-24T04:09:55.512525Z",
     "start_time": "2021-08-24T04:09:55.395620Z"
    }
   },
   "outputs": [
    {
     "name": "stdout",
     "output_type": "stream",
     "text": [
      "[5 6 7]\n"
     ]
    }
   ],
   "source": [
    "arr = np.array([1, 2, 3, 4, 5, 6, 7])\n",
    "\n",
    "print(arr[4:])"
   ]
  },
  {
   "cell_type": "markdown",
   "id": "056ba698",
   "metadata": {},
   "source": [
    "# Slice elements from the beginning to index 4 (not included):\n"
   ]
  },
  {
   "cell_type": "code",
   "execution_count": 118,
   "id": "6f551cea",
   "metadata": {
    "ExecuteTime": {
     "end_time": "2021-08-24T04:09:55.589333Z",
     "start_time": "2021-08-24T04:09:55.516957Z"
    }
   },
   "outputs": [
    {
     "name": "stdout",
     "output_type": "stream",
     "text": [
      "[1 2 3 4]\n"
     ]
    }
   ],
   "source": [
    "arr = np.array([1, 2, 3, 4, 5, 6, 7])\n",
    "\n",
    "print(arr[:4])"
   ]
  },
  {
   "cell_type": "markdown",
   "id": "8788dd3c",
   "metadata": {},
   "source": [
    "# Slice from the index 3 from the end to index 1 from the end:\n"
   ]
  },
  {
   "cell_type": "code",
   "execution_count": 119,
   "id": "9a8d68bc",
   "metadata": {
    "ExecuteTime": {
     "end_time": "2021-08-24T04:09:55.678994Z",
     "start_time": "2021-08-24T04:09:55.593111Z"
    }
   },
   "outputs": [
    {
     "name": "stdout",
     "output_type": "stream",
     "text": [
      "[5 6]\n"
     ]
    }
   ],
   "source": [
    "arr = np.array([1, 2, 3, 4, 5, 6, 7])\n",
    "\n",
    "print(arr[-3:-1])"
   ]
  },
  {
   "cell_type": "markdown",
   "id": "7dd85284",
   "metadata": {},
   "source": [
    "# Return every other element from index 1 to index 5:\n"
   ]
  },
  {
   "cell_type": "code",
   "execution_count": 120,
   "id": "7c9fa468",
   "metadata": {
    "ExecuteTime": {
     "end_time": "2021-08-24T04:09:55.743129Z",
     "start_time": "2021-08-24T04:09:55.682329Z"
    }
   },
   "outputs": [
    {
     "name": "stdout",
     "output_type": "stream",
     "text": [
      "[2 4]\n"
     ]
    }
   ],
   "source": [
    "arr = np.array([1, 2, 3, 4, 5, 6, 7])\n",
    "\n",
    "print(arr[1:5:2])"
   ]
  },
  {
   "cell_type": "markdown",
   "id": "8fe882b3",
   "metadata": {},
   "source": [
    "# Return every other element from the entire array:\n",
    "\n"
   ]
  },
  {
   "cell_type": "code",
   "execution_count": 121,
   "id": "f8837e55",
   "metadata": {
    "ExecuteTime": {
     "end_time": "2021-08-24T04:09:55.825307Z",
     "start_time": "2021-08-24T04:09:55.746268Z"
    }
   },
   "outputs": [
    {
     "name": "stdout",
     "output_type": "stream",
     "text": [
      "[1 3 5 7]\n"
     ]
    }
   ],
   "source": [
    "arr = np.array([1, 2, 3, 4, 5, 6, 7])\n",
    "\n",
    "print(arr[::2])"
   ]
  },
  {
   "cell_type": "markdown",
   "id": "03a1fcea",
   "metadata": {},
   "source": [
    "# NumPy Data Types\n",
    "\n",
    "\n",
    "## Get the data type of an array object:\n"
   ]
  },
  {
   "cell_type": "code",
   "execution_count": 122,
   "id": "7b80c152",
   "metadata": {
    "ExecuteTime": {
     "end_time": "2021-08-24T04:09:55.908902Z",
     "start_time": "2021-08-24T04:09:55.829492Z"
    }
   },
   "outputs": [
    {
     "name": "stdout",
     "output_type": "stream",
     "text": [
      "int64\n"
     ]
    }
   ],
   "source": [
    "arr = np.array([1, 2, 3, 4])\n",
    "\n",
    "print(arr.dtype)"
   ]
  },
  {
   "cell_type": "markdown",
   "id": "29e7aa6a",
   "metadata": {},
   "source": [
    "# Make a copy, change the original array, and display both arrays:\n"
   ]
  },
  {
   "cell_type": "code",
   "execution_count": 123,
   "id": "519859b2",
   "metadata": {
    "ExecuteTime": {
     "end_time": "2021-08-24T04:09:55.999365Z",
     "start_time": "2021-08-24T04:09:55.911538Z"
    }
   },
   "outputs": [
    {
     "name": "stdout",
     "output_type": "stream",
     "text": [
      "[42  2  3  4  5]\n",
      "[1 2 3 4 5]\n"
     ]
    }
   ],
   "source": [
    "arr = np.array([1, 2, 3, 4, 5])\n",
    "x = arr.copy()\n",
    "arr[0] = 42\n",
    "\n",
    "print(arr)\n",
    "print(x)"
   ]
  },
  {
   "cell_type": "markdown",
   "id": "f559ade4",
   "metadata": {},
   "source": [
    "# NumPy Array Shape\n",
    "## Print the shape of a 2-D array:\n"
   ]
  },
  {
   "cell_type": "code",
   "execution_count": 124,
   "id": "566872fc",
   "metadata": {
    "ExecuteTime": {
     "end_time": "2021-08-24T04:09:56.064526Z",
     "start_time": "2021-08-24T04:09:56.002944Z"
    }
   },
   "outputs": [
    {
     "name": "stdout",
     "output_type": "stream",
     "text": [
      "(2, 4)\n"
     ]
    }
   ],
   "source": [
    "arr = np.array([[1, 2, 3, 4], [5, 6, 7, 8]])\n",
    "\n",
    "print(arr.shape)"
   ]
  },
  {
   "cell_type": "markdown",
   "id": "1cecade8",
   "metadata": {},
   "source": [
    "# NumPy Array Reshaping\n"
   ]
  },
  {
   "cell_type": "markdown",
   "id": "2dab84a5",
   "metadata": {},
   "source": [
    "# Convert the following 1-D array with 12 elements into a 2-D array.The outermost dimension will have 4 arrays, each with 3 elements:\n"
   ]
  },
  {
   "cell_type": "code",
   "execution_count": 125,
   "id": "506cf35a",
   "metadata": {
    "ExecuteTime": {
     "end_time": "2021-08-24T04:09:56.164880Z",
     "start_time": "2021-08-24T04:09:56.068613Z"
    }
   },
   "outputs": [
    {
     "name": "stdout",
     "output_type": "stream",
     "text": [
      "[[ 1  2  3]\n",
      " [ 4  5  6]\n",
      " [ 7  8  9]\n",
      " [10 11 12]]\n"
     ]
    }
   ],
   "source": [
    "arr = np.array([1, 2, 3, 4, 5, 6, 7, 8, 9, 10, 11, 12])\n",
    "\n",
    "newarr = arr.reshape(4, 3)\n",
    "\n",
    "print(newarr)"
   ]
  },
  {
   "cell_type": "markdown",
   "id": "578ca353",
   "metadata": {},
   "source": [
    "# NumPy Sorting Arrays\n",
    "\n",
    "## Sort the array:"
   ]
  },
  {
   "cell_type": "code",
   "execution_count": 126,
   "id": "be4dd681",
   "metadata": {
    "ExecuteTime": {
     "end_time": "2021-08-24T04:09:56.265133Z",
     "start_time": "2021-08-24T04:09:56.168182Z"
    }
   },
   "outputs": [
    {
     "name": "stdout",
     "output_type": "stream",
     "text": [
      "[0 1 2 3]\n"
     ]
    }
   ],
   "source": [
    "arr = np.array([3, 2, 0, 1])\n",
    "\n",
    "print(np.sort(arr))"
   ]
  },
  {
   "cell_type": "markdown",
   "id": "f26af825",
   "metadata": {},
   "source": [
    "# "
   ]
  },
  {
   "cell_type": "markdown",
   "id": "68cf14c3",
   "metadata": {},
   "source": [
    "# "
   ]
  },
  {
   "cell_type": "markdown",
   "id": "47d13539",
   "metadata": {},
   "source": [
    "# "
   ]
  },
  {
   "cell_type": "markdown",
   "id": "f8755cc2",
   "metadata": {},
   "source": [
    " # =============================================================================\n",
    "# EXPERIMENT COMPLETED\n",
    "# =============================================================================\n"
   ]
  }
 ],
 "metadata": {
  "kernelspec": {
   "display_name": "Python 3",
   "language": "python",
   "name": "python3"
  },
  "language_info": {
   "codemirror_mode": {
    "name": "ipython",
    "version": 3
   },
   "file_extension": ".py",
   "mimetype": "text/x-python",
   "name": "python",
   "nbconvert_exporter": "python",
   "pygments_lexer": "ipython3",
   "version": "3.8.8"
  },
  "varInspector": {
   "cols": {
    "lenName": 16,
    "lenType": 16,
    "lenVar": 40
   },
   "kernels_config": {
    "python": {
     "delete_cmd_postfix": "",
     "delete_cmd_prefix": "del ",
     "library": "var_list.py",
     "varRefreshCmd": "print(var_dic_list())"
    },
    "r": {
     "delete_cmd_postfix": ") ",
     "delete_cmd_prefix": "rm(",
     "library": "var_list.r",
     "varRefreshCmd": "cat(var_dic_list()) "
    }
   },
   "types_to_exclude": [
    "module",
    "function",
    "builtin_function_or_method",
    "instance",
    "_Feature"
   ],
   "window_display": false
  }
 },
 "nbformat": 4,
 "nbformat_minor": 5
}
