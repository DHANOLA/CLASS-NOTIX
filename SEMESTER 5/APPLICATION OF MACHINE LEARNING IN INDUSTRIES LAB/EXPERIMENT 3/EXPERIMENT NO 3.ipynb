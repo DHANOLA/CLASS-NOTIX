{
 "cells": [
  {
   "cell_type": "markdown",
   "id": "225a8995",
   "metadata": {},
   "source": [
    "# ==============================================================="
   ]
  },
  {
   "cell_type": "markdown",
   "id": "e684593d",
   "metadata": {},
   "source": [
    "# WINE QUALITY PREDICTION"
   ]
  },
  {
   "cell_type": "markdown",
   "id": "d15ed901",
   "metadata": {},
   "source": [
    "# ==============================================================="
   ]
  },
  {
   "cell_type": "markdown",
   "id": "af567032",
   "metadata": {},
   "source": [
    "# "
   ]
  },
  {
   "cell_type": "markdown",
   "id": "2bf2f908",
   "metadata": {},
   "source": [
    "## importing the libraries"
   ]
  },
  {
   "cell_type": "code",
   "execution_count": 45,
   "id": "7e545e68",
   "metadata": {
    "ExecuteTime": {
     "end_time": "2021-08-26T16:29:31.367789Z",
     "start_time": "2021-08-26T16:29:31.359797Z"
    }
   },
   "outputs": [],
   "source": [
    "import matplotlib.pyplot as plt\n",
    "from scipy import stats\n",
    "import seaborn as sns\n",
    "import pandas as pd\n",
    "import numpy as np\n",
    "from sklearn import metrics"
   ]
  },
  {
   "cell_type": "markdown",
   "id": "aa78b354",
   "metadata": {},
   "source": [
    "## reading the dataset"
   ]
  },
  {
   "cell_type": "code",
   "execution_count": 46,
   "id": "0867e040",
   "metadata": {
    "ExecuteTime": {
     "end_time": "2021-08-26T16:29:31.496833Z",
     "start_time": "2021-08-26T16:29:31.375526Z"
    }
   },
   "outputs": [
    {
     "name": "stdout",
     "output_type": "stream",
     "text": [
      "(1599, 12)\n"
     ]
    },
    {
     "data": {
      "text/html": [
       "<div>\n",
       "<style scoped>\n",
       "    .dataframe tbody tr th:only-of-type {\n",
       "        vertical-align: middle;\n",
       "    }\n",
       "\n",
       "    .dataframe tbody tr th {\n",
       "        vertical-align: top;\n",
       "    }\n",
       "\n",
       "    .dataframe thead th {\n",
       "        text-align: right;\n",
       "    }\n",
       "</style>\n",
       "<table border=\"1\" class=\"dataframe\">\n",
       "  <thead>\n",
       "    <tr style=\"text-align: right;\">\n",
       "      <th></th>\n",
       "      <th>fixed acidity</th>\n",
       "      <th>volatile acidity</th>\n",
       "      <th>citric acid</th>\n",
       "      <th>residual sugar</th>\n",
       "      <th>chlorides</th>\n",
       "      <th>free sulfur dioxide</th>\n",
       "      <th>total sulfur dioxide</th>\n",
       "      <th>density</th>\n",
       "      <th>pH</th>\n",
       "      <th>sulphates</th>\n",
       "      <th>alcohol</th>\n",
       "      <th>quality</th>\n",
       "    </tr>\n",
       "  </thead>\n",
       "  <tbody>\n",
       "    <tr>\n",
       "      <th>0</th>\n",
       "      <td>7.4</td>\n",
       "      <td>0.70</td>\n",
       "      <td>0.00</td>\n",
       "      <td>1.9</td>\n",
       "      <td>0.076</td>\n",
       "      <td>11.0</td>\n",
       "      <td>34.0</td>\n",
       "      <td>0.9978</td>\n",
       "      <td>3.51</td>\n",
       "      <td>0.56</td>\n",
       "      <td>9.4</td>\n",
       "      <td>5</td>\n",
       "    </tr>\n",
       "    <tr>\n",
       "      <th>1</th>\n",
       "      <td>7.8</td>\n",
       "      <td>0.88</td>\n",
       "      <td>0.00</td>\n",
       "      <td>2.6</td>\n",
       "      <td>0.098</td>\n",
       "      <td>25.0</td>\n",
       "      <td>67.0</td>\n",
       "      <td>0.9968</td>\n",
       "      <td>3.20</td>\n",
       "      <td>0.68</td>\n",
       "      <td>9.8</td>\n",
       "      <td>5</td>\n",
       "    </tr>\n",
       "    <tr>\n",
       "      <th>2</th>\n",
       "      <td>7.8</td>\n",
       "      <td>0.76</td>\n",
       "      <td>0.04</td>\n",
       "      <td>2.3</td>\n",
       "      <td>0.092</td>\n",
       "      <td>15.0</td>\n",
       "      <td>54.0</td>\n",
       "      <td>0.9970</td>\n",
       "      <td>3.26</td>\n",
       "      <td>0.65</td>\n",
       "      <td>9.8</td>\n",
       "      <td>5</td>\n",
       "    </tr>\n",
       "    <tr>\n",
       "      <th>3</th>\n",
       "      <td>11.2</td>\n",
       "      <td>0.28</td>\n",
       "      <td>0.56</td>\n",
       "      <td>1.9</td>\n",
       "      <td>0.075</td>\n",
       "      <td>17.0</td>\n",
       "      <td>60.0</td>\n",
       "      <td>0.9980</td>\n",
       "      <td>3.16</td>\n",
       "      <td>0.58</td>\n",
       "      <td>9.8</td>\n",
       "      <td>6</td>\n",
       "    </tr>\n",
       "    <tr>\n",
       "      <th>4</th>\n",
       "      <td>7.4</td>\n",
       "      <td>0.70</td>\n",
       "      <td>0.00</td>\n",
       "      <td>1.9</td>\n",
       "      <td>0.076</td>\n",
       "      <td>11.0</td>\n",
       "      <td>34.0</td>\n",
       "      <td>0.9978</td>\n",
       "      <td>3.51</td>\n",
       "      <td>0.56</td>\n",
       "      <td>9.4</td>\n",
       "      <td>5</td>\n",
       "    </tr>\n",
       "  </tbody>\n",
       "</table>\n",
       "</div>"
      ],
      "text/plain": [
       "   fixed acidity  volatile acidity  citric acid  residual sugar  chlorides  \\\n",
       "0            7.4              0.70         0.00             1.9      0.076   \n",
       "1            7.8              0.88         0.00             2.6      0.098   \n",
       "2            7.8              0.76         0.04             2.3      0.092   \n",
       "3           11.2              0.28         0.56             1.9      0.075   \n",
       "4            7.4              0.70         0.00             1.9      0.076   \n",
       "\n",
       "   free sulfur dioxide  total sulfur dioxide  density    pH  sulphates  \\\n",
       "0                 11.0                  34.0   0.9978  3.51       0.56   \n",
       "1                 25.0                  67.0   0.9968  3.20       0.68   \n",
       "2                 15.0                  54.0   0.9970  3.26       0.65   \n",
       "3                 17.0                  60.0   0.9980  3.16       0.58   \n",
       "4                 11.0                  34.0   0.9978  3.51       0.56   \n",
       "\n",
       "   alcohol  quality  \n",
       "0      9.4        5  \n",
       "1      9.8        5  \n",
       "2      9.8        5  \n",
       "3      9.8        6  \n",
       "4      9.4        5  "
      ]
     },
     "execution_count": 46,
     "metadata": {},
     "output_type": "execute_result"
    }
   ],
   "source": [
    "data = pd.read_csv(\n",
    "    \"/home/dhanola/KUBUNTU/DATASET/CSV_FILES/winequality-red.csv\")\n",
    "\n",
    "print(data.shape)\n",
    "data.head()"
   ]
  },
  {
   "cell_type": "markdown",
   "id": "039b1b79",
   "metadata": {},
   "source": [
    "## checking missing values"
   ]
  },
  {
   "cell_type": "code",
   "execution_count": 47,
   "id": "a6012492",
   "metadata": {
    "ExecuteTime": {
     "end_time": "2021-08-26T16:29:31.583902Z",
     "start_time": "2021-08-26T16:29:31.501259Z"
    }
   },
   "outputs": [
    {
     "data": {
      "text/plain": [
       "fixed acidity           False\n",
       "volatile acidity        False\n",
       "citric acid             False\n",
       "residual sugar          False\n",
       "chlorides               False\n",
       "free sulfur dioxide     False\n",
       "total sulfur dioxide    False\n",
       "density                 False\n",
       "pH                      False\n",
       "sulphates               False\n",
       "alcohol                 False\n",
       "quality                 False\n",
       "dtype: bool"
      ]
     },
     "execution_count": 47,
     "metadata": {},
     "output_type": "execute_result"
    }
   ],
   "source": [
    "data.isnull().all()"
   ]
  },
  {
   "cell_type": "raw",
   "id": "1ce6c0eb",
   "metadata": {},
   "source": [
    "our dataset have no missing values"
   ]
  },
  {
   "cell_type": "markdown",
   "id": "348e1b81",
   "metadata": {},
   "source": [
    "## describing the summary of dataframe"
   ]
  },
  {
   "cell_type": "code",
   "execution_count": 48,
   "id": "382913c6",
   "metadata": {
    "ExecuteTime": {
     "end_time": "2021-08-26T16:29:31.758270Z",
     "start_time": "2021-08-26T16:29:31.587450Z"
    }
   },
   "outputs": [
    {
     "data": {
      "text/html": [
       "<div>\n",
       "<style scoped>\n",
       "    .dataframe tbody tr th:only-of-type {\n",
       "        vertical-align: middle;\n",
       "    }\n",
       "\n",
       "    .dataframe tbody tr th {\n",
       "        vertical-align: top;\n",
       "    }\n",
       "\n",
       "    .dataframe thead th {\n",
       "        text-align: right;\n",
       "    }\n",
       "</style>\n",
       "<table border=\"1\" class=\"dataframe\">\n",
       "  <thead>\n",
       "    <tr style=\"text-align: right;\">\n",
       "      <th></th>\n",
       "      <th>fixed acidity</th>\n",
       "      <th>volatile acidity</th>\n",
       "      <th>citric acid</th>\n",
       "      <th>residual sugar</th>\n",
       "      <th>chlorides</th>\n",
       "      <th>free sulfur dioxide</th>\n",
       "      <th>total sulfur dioxide</th>\n",
       "      <th>density</th>\n",
       "      <th>pH</th>\n",
       "      <th>sulphates</th>\n",
       "      <th>alcohol</th>\n",
       "      <th>quality</th>\n",
       "    </tr>\n",
       "  </thead>\n",
       "  <tbody>\n",
       "    <tr>\n",
       "      <th>count</th>\n",
       "      <td>1599.000000</td>\n",
       "      <td>1599.000000</td>\n",
       "      <td>1599.000000</td>\n",
       "      <td>1599.000000</td>\n",
       "      <td>1599.000000</td>\n",
       "      <td>1599.000000</td>\n",
       "      <td>1599.000000</td>\n",
       "      <td>1599.000000</td>\n",
       "      <td>1599.000000</td>\n",
       "      <td>1599.000000</td>\n",
       "      <td>1599.000000</td>\n",
       "      <td>1599.000000</td>\n",
       "    </tr>\n",
       "    <tr>\n",
       "      <th>mean</th>\n",
       "      <td>8.319637</td>\n",
       "      <td>0.527821</td>\n",
       "      <td>0.270976</td>\n",
       "      <td>2.538806</td>\n",
       "      <td>0.087467</td>\n",
       "      <td>15.874922</td>\n",
       "      <td>46.467792</td>\n",
       "      <td>0.996747</td>\n",
       "      <td>3.311113</td>\n",
       "      <td>0.658149</td>\n",
       "      <td>10.422983</td>\n",
       "      <td>5.636023</td>\n",
       "    </tr>\n",
       "    <tr>\n",
       "      <th>std</th>\n",
       "      <td>1.741096</td>\n",
       "      <td>0.179060</td>\n",
       "      <td>0.194801</td>\n",
       "      <td>1.409928</td>\n",
       "      <td>0.047065</td>\n",
       "      <td>10.460157</td>\n",
       "      <td>32.895324</td>\n",
       "      <td>0.001887</td>\n",
       "      <td>0.154386</td>\n",
       "      <td>0.169507</td>\n",
       "      <td>1.065668</td>\n",
       "      <td>0.807569</td>\n",
       "    </tr>\n",
       "    <tr>\n",
       "      <th>min</th>\n",
       "      <td>4.600000</td>\n",
       "      <td>0.120000</td>\n",
       "      <td>0.000000</td>\n",
       "      <td>0.900000</td>\n",
       "      <td>0.012000</td>\n",
       "      <td>1.000000</td>\n",
       "      <td>6.000000</td>\n",
       "      <td>0.990070</td>\n",
       "      <td>2.740000</td>\n",
       "      <td>0.330000</td>\n",
       "      <td>8.400000</td>\n",
       "      <td>3.000000</td>\n",
       "    </tr>\n",
       "    <tr>\n",
       "      <th>25%</th>\n",
       "      <td>7.100000</td>\n",
       "      <td>0.390000</td>\n",
       "      <td>0.090000</td>\n",
       "      <td>1.900000</td>\n",
       "      <td>0.070000</td>\n",
       "      <td>7.000000</td>\n",
       "      <td>22.000000</td>\n",
       "      <td>0.995600</td>\n",
       "      <td>3.210000</td>\n",
       "      <td>0.550000</td>\n",
       "      <td>9.500000</td>\n",
       "      <td>5.000000</td>\n",
       "    </tr>\n",
       "    <tr>\n",
       "      <th>50%</th>\n",
       "      <td>7.900000</td>\n",
       "      <td>0.520000</td>\n",
       "      <td>0.260000</td>\n",
       "      <td>2.200000</td>\n",
       "      <td>0.079000</td>\n",
       "      <td>14.000000</td>\n",
       "      <td>38.000000</td>\n",
       "      <td>0.996750</td>\n",
       "      <td>3.310000</td>\n",
       "      <td>0.620000</td>\n",
       "      <td>10.200000</td>\n",
       "      <td>6.000000</td>\n",
       "    </tr>\n",
       "    <tr>\n",
       "      <th>75%</th>\n",
       "      <td>9.200000</td>\n",
       "      <td>0.640000</td>\n",
       "      <td>0.420000</td>\n",
       "      <td>2.600000</td>\n",
       "      <td>0.090000</td>\n",
       "      <td>21.000000</td>\n",
       "      <td>62.000000</td>\n",
       "      <td>0.997835</td>\n",
       "      <td>3.400000</td>\n",
       "      <td>0.730000</td>\n",
       "      <td>11.100000</td>\n",
       "      <td>6.000000</td>\n",
       "    </tr>\n",
       "    <tr>\n",
       "      <th>max</th>\n",
       "      <td>15.900000</td>\n",
       "      <td>1.580000</td>\n",
       "      <td>1.000000</td>\n",
       "      <td>15.500000</td>\n",
       "      <td>0.611000</td>\n",
       "      <td>72.000000</td>\n",
       "      <td>289.000000</td>\n",
       "      <td>1.003690</td>\n",
       "      <td>4.010000</td>\n",
       "      <td>2.000000</td>\n",
       "      <td>14.900000</td>\n",
       "      <td>8.000000</td>\n",
       "    </tr>\n",
       "  </tbody>\n",
       "</table>\n",
       "</div>"
      ],
      "text/plain": [
       "       fixed acidity  volatile acidity  citric acid  residual sugar  \\\n",
       "count    1599.000000       1599.000000  1599.000000     1599.000000   \n",
       "mean        8.319637          0.527821     0.270976        2.538806   \n",
       "std         1.741096          0.179060     0.194801        1.409928   \n",
       "min         4.600000          0.120000     0.000000        0.900000   \n",
       "25%         7.100000          0.390000     0.090000        1.900000   \n",
       "50%         7.900000          0.520000     0.260000        2.200000   \n",
       "75%         9.200000          0.640000     0.420000        2.600000   \n",
       "max        15.900000          1.580000     1.000000       15.500000   \n",
       "\n",
       "         chlorides  free sulfur dioxide  total sulfur dioxide      density  \\\n",
       "count  1599.000000          1599.000000           1599.000000  1599.000000   \n",
       "mean      0.087467            15.874922             46.467792     0.996747   \n",
       "std       0.047065            10.460157             32.895324     0.001887   \n",
       "min       0.012000             1.000000              6.000000     0.990070   \n",
       "25%       0.070000             7.000000             22.000000     0.995600   \n",
       "50%       0.079000            14.000000             38.000000     0.996750   \n",
       "75%       0.090000            21.000000             62.000000     0.997835   \n",
       "max       0.611000            72.000000            289.000000     1.003690   \n",
       "\n",
       "                pH    sulphates      alcohol      quality  \n",
       "count  1599.000000  1599.000000  1599.000000  1599.000000  \n",
       "mean      3.311113     0.658149    10.422983     5.636023  \n",
       "std       0.154386     0.169507     1.065668     0.807569  \n",
       "min       2.740000     0.330000     8.400000     3.000000  \n",
       "25%       3.210000     0.550000     9.500000     5.000000  \n",
       "50%       3.310000     0.620000    10.200000     6.000000  \n",
       "75%       3.400000     0.730000    11.100000     6.000000  \n",
       "max       4.010000     2.000000    14.900000     8.000000  "
      ]
     },
     "execution_count": 48,
     "metadata": {},
     "output_type": "execute_result"
    }
   ],
   "source": [
    "data.describe()"
   ]
  },
  {
   "cell_type": "markdown",
   "id": "f6c0f221",
   "metadata": {},
   "source": [
    "## checking the correlation between different attributes"
   ]
  },
  {
   "cell_type": "code",
   "execution_count": 49,
   "id": "c40d06ca",
   "metadata": {
    "ExecuteTime": {
     "end_time": "2021-08-26T16:29:33.633629Z",
     "start_time": "2021-08-26T16:29:31.763582Z"
    }
   },
   "outputs": [
    {
     "data": {
      "text/plain": [
       "<AxesSubplot:>"
      ]
     },
     "execution_count": 49,
     "metadata": {},
     "output_type": "execute_result"
    },
    {
     "data": {
      "image/png": "[encoded data removed]",
      "text/plain": [
       "<Figure size 1080x720 with 2 Axes>"
      ]
     },
     "metadata": {
      "needs_background": "light"
     },
     "output_type": "display_data"
    }
   ],
   "source": [
    "plt.subplots(figsize=(15, 10))\n",
    "sns.heatmap(data.corr(), annot=True, cmap='coolwarm')"
   ]
  },
  {
   "cell_type": "markdown",
   "id": "18d8042b",
   "metadata": {},
   "source": [
    "## data preprocessing"
   ]
  },
  {
   "cell_type": "markdown",
   "id": "83a8e463",
   "metadata": {},
   "source": [
    "### defining the features and target "
   ]
  },
  {
   "cell_type": "code",
   "execution_count": 50,
   "id": "3b65fc28",
   "metadata": {
    "ExecuteTime": {
     "end_time": "2021-08-26T16:29:33.654070Z",
     "start_time": "2021-08-26T16:29:33.636731Z"
    }
   },
   "outputs": [],
   "source": [
    "X = np.asarray(data.iloc[:, :-1])  # defining the features\n",
    "y = np.asarray(data[\"quality\"])  # defining the target"
   ]
  },
  {
   "cell_type": "markdown",
   "id": "579cb9aa",
   "metadata": {},
   "source": [
    "### standardizing the dataset"
   ]
  },
  {
   "cell_type": "code",
   "execution_count": 51,
   "id": "15e0a71f",
   "metadata": {
    "ExecuteTime": {
     "end_time": "2021-08-26T16:29:33.754265Z",
     "start_time": "2021-08-26T16:29:33.658329Z"
    }
   },
   "outputs": [],
   "source": [
    "from sklearn import preprocessing\n",
    "# it helps in standardize the different scale of features\n",
    "X = preprocessing.StandardScaler().fit(X).transform(X)"
   ]
  },
  {
   "cell_type": "markdown",
   "id": "37e2c0f8",
   "metadata": {},
   "source": [
    "### train and test sets split"
   ]
  },
  {
   "cell_type": "code",
   "execution_count": 52,
   "id": "c61708ee",
   "metadata": {
    "ExecuteTime": {
     "end_time": "2021-08-26T16:29:33.826111Z",
     "start_time": "2021-08-26T16:29:33.757408Z"
    }
   },
   "outputs": [
    {
     "name": "stdout",
     "output_type": "stream",
     "text": [
      "Training dataset: (1279, 11) (1279,)\n",
      "Testing dataset: (320, 11) (320,)\n"
     ]
    }
   ],
   "source": [
    "from sklearn.model_selection import train_test_split\n",
    "\n",
    "X_train, X_test, y_train, y_test = train_test_split(\n",
    "    X, y, test_size=0.2, random_state=0)\n",
    "print(\"Training dataset:\", X_train.shape, y_train.shape)\n",
    "print(\"Testing dataset:\", X_test.shape, y_test.shape)"
   ]
  },
  {
   "cell_type": "markdown",
   "id": "1d26d9d2",
   "metadata": {},
   "source": [
    "### validation and model selection"
   ]
  },
  {
   "cell_type": "markdown",
   "id": "66d8e784",
   "metadata": {},
   "source": [
    "### 1. K-Nearest Neighbours"
   ]
  },
  {
   "cell_type": "code",
   "execution_count": 53,
   "id": "c43b8142",
   "metadata": {
    "ExecuteTime": {
     "end_time": "2021-08-26T16:29:40.675807Z",
     "start_time": "2021-08-26T16:29:33.830444Z"
    }
   },
   "outputs": [],
   "source": [
    "from sklearn.neighbors import KNeighborsClassifier\n",
    "from sklearn.model_selection import cross_val_score\n",
    "# Number of k from 1 to 26\n",
    "k_range = range(1, 26)\n",
    "k_scores = []\n",
    "# Calculate cross validation score for every k number from 1 to 26\n",
    "for k in k_range:\n",
    "    knn = KNeighborsClassifier(n_neighbors=k)\n",
    "    # It’s 10 fold cross validation with ‘accuracy’ scoring\n",
    "    scores = cross_val_score(knn, X, y, cv=10, scoring='accuracy')\n",
    "    k_scores.append(scores.mean())"
   ]
  },
  {
   "cell_type": "markdown",
   "id": "a2d6de64",
   "metadata": {},
   "source": [
    "### KNN accuracy plot"
   ]
  },
  {
   "cell_type": "code",
   "execution_count": 54,
   "id": "842ca2c3",
   "metadata": {
    "ExecuteTime": {
     "end_time": "2021-08-26T16:29:40.979338Z",
     "start_time": "2021-08-26T16:29:40.680141Z"
    }
   },
   "outputs": [
    {
     "data": {
      "text/plain": [
       "Text(0, 0.5, 'Cross-validated accuracy')"
      ]
     },
     "execution_count": 54,
     "metadata": {},
     "output_type": "execute_result"
    },
    {
     "data": {
      "image/png": "[encoded data removed]",
      "text/plain": [
       "<Figure size 432x288 with 1 Axes>"
      ]
     },
     "metadata": {
      "needs_background": "light"
     },
     "output_type": "display_data"
    }
   ],
   "source": [
    "# plotting the accuracy change\n",
    "%matplotlib inline\n",
    "# Plot accuracy for every k number between 1 and 26\n",
    "plt.plot(k_range, k_scores)\n",
    "plt.xlabel('Value of K for KNN')\n",
    "plt.ylabel('Cross-validated accuracy')"
   ]
  },
  {
   "cell_type": "markdown",
   "id": "7c148031",
   "metadata": {},
   "source": [
    "### cross validation for KNN "
   ]
  },
  {
   "cell_type": "code",
   "execution_count": 55,
   "id": "ca9abd5c",
   "metadata": {
    "ExecuteTime": {
     "end_time": "2021-08-26T16:29:41.052925Z",
     "start_time": "2021-08-26T16:29:40.982151Z"
    }
   },
   "outputs": [],
   "source": [
    "# Train the model and predict for k=19\n",
    "knn = KNeighborsClassifier(n_neighbors=19)\n",
    "knn.fit(X_train, y_train)\n",
    "y_pred = knn.predict(X_test)"
   ]
  },
  {
   "cell_type": "code",
   "execution_count": 56,
   "id": "04004a3f",
   "metadata": {
    "ExecuteTime": {
     "end_time": "2021-08-26T16:29:41.085573Z",
     "start_time": "2021-08-26T16:29:41.056315Z"
    }
   },
   "outputs": [
    {
     "name": "stdout",
     "output_type": "stream",
     "text": [
      "              precision    recall  f1-score   support\n",
      "\n",
      "           3      1.000     0.000     0.000         2\n",
      "           4      1.000     0.000     0.000        11\n",
      "           5      0.625     0.704     0.662       135\n",
      "           6      0.599     0.599     0.599       142\n",
      "           7      0.346     0.333     0.340        27\n",
      "           8      1.000     0.000     0.000         3\n",
      "\n",
      "    accuracy                          0.591       320\n",
      "   macro avg      0.762     0.273     0.267       320\n",
      "weighted avg      0.609     0.591     0.574       320\n",
      "\n",
      "accuracy 0.590625\n"
     ]
    }
   ],
   "source": [
    "from sklearn.metrics import accuracy_score\n",
    "from sklearn.metrics import roc_auc_score\n",
    "# classification report for test set\n",
    "print(metrics.classification_report(y_test, y_pred, digits=3, zero_division=1))\n",
    "print('accuracy', accuracy_score(y_test, y_pred))"
   ]
  },
  {
   "cell_type": "markdown",
   "id": "f426e2b9",
   "metadata": {},
   "source": [
    "# model gives accuracy of `0.590625`"
   ]
  },
  {
   "cell_type": "code",
   "execution_count": 57,
   "id": "7854afcc",
   "metadata": {
    "ExecuteTime": {
     "end_time": "2021-08-26T16:29:41.493617Z",
     "start_time": "2021-08-26T16:29:41.090086Z"
    }
   },
   "outputs": [
    {
     "name": "stdout",
     "output_type": "stream",
     "text": [
      "cross validation score 0.5472327044025158\n"
     ]
    }
   ],
   "source": [
    "# Calculate cv score with 'accuracy' scoring and 10 folds\n",
    "accuracy = cross_val_score(knn, X, y, scoring='accuracy', cv=10)\n",
    "print('cross validation score', accuracy.mean())"
   ]
  },
  {
   "cell_type": "code",
   "execution_count": 58,
   "id": "19ff9e55",
   "metadata": {
    "ExecuteTime": {
     "end_time": "2021-08-26T16:29:41.784523Z",
     "start_time": "2021-08-26T16:29:41.499305Z"
    }
   },
   "outputs": [
    {
     "name": "stdout",
     "output_type": "stream",
     "text": [
      "cross validation score with roc_auc 0.7152270734711184\n"
     ]
    }
   ],
   "source": [
    "# Calculate cv score with 'roc_auc_ovr' scoring and 10 folds\n",
    "accuracy = cross_val_score(knn, X, y, scoring='roc_auc_ovr', cv=10)\n",
    "print('cross validation score with roc_auc', accuracy.mean())"
   ]
  },
  {
   "cell_type": "code",
   "execution_count": 59,
   "id": "73285c8c",
   "metadata": {
    "ExecuteTime": {
     "end_time": "2021-08-26T16:29:41.827620Z",
     "start_time": "2021-08-26T16:29:41.787629Z"
    }
   },
   "outputs": [
    {
     "name": "stdout",
     "output_type": "stream",
     "text": [
      "roc_auc_score 0.6851210171422698\n"
     ]
    }
   ],
   "source": [
    "# Calculate roc_auc score with multiclass parameter\n",
    "print('roc_auc_score', roc_auc_score(\n",
    "    y_test, knn.predict_proba(X_test), multi_class='ovr'))"
   ]
  },
  {
   "cell_type": "markdown",
   "id": "4aa27b13",
   "metadata": {},
   "source": [
    "### 2. Logistic Regression"
   ]
  },
  {
   "cell_type": "code",
   "execution_count": 60,
   "id": "9a5b29bd",
   "metadata": {
    "ExecuteTime": {
     "end_time": "2021-08-26T16:29:41.864577Z",
     "start_time": "2021-08-26T16:29:41.831940Z"
    }
   },
   "outputs": [],
   "source": [
    "# import module\n",
    "from sklearn.linear_model import LogisticRegression"
   ]
  },
  {
   "cell_type": "code",
   "execution_count": 61,
   "id": "9152db51",
   "metadata": {
    "ExecuteTime": {
     "end_time": "2021-08-26T16:29:42.101378Z",
     "start_time": "2021-08-26T16:29:41.869637Z"
    }
   },
   "outputs": [
    {
     "data": {
      "text/plain": [
       "LogisticRegression(multi_class='multinomial', solver='newton-cg')"
      ]
     },
     "execution_count": 61,
     "metadata": {},
     "output_type": "execute_result"
    }
   ],
   "source": [
    "# Train and fit model\n",
    "logreg = LogisticRegression(multi_class='multinomial', solver='newton-cg')\n",
    "logreg.fit(X_train, y_train)"
   ]
  },
  {
   "cell_type": "code",
   "execution_count": 62,
   "id": "4537ed95",
   "metadata": {
    "ExecuteTime": {
     "end_time": "2021-08-26T16:29:42.113533Z",
     "start_time": "2021-08-26T16:29:42.105355Z"
    }
   },
   "outputs": [],
   "source": [
    "# Predict out-of-sample test set\n",
    "y_pred = logreg.predict(X_test)"
   ]
  },
  {
   "cell_type": "code",
   "execution_count": 63,
   "id": "6e18b3cf",
   "metadata": {
    "ExecuteTime": {
     "end_time": "2021-08-26T16:29:42.206193Z",
     "start_time": "2021-08-26T16:29:42.124189Z"
    }
   },
   "outputs": [
    {
     "name": "stdout",
     "output_type": "stream",
     "text": [
      "              precision    recall  f1-score   support\n",
      "\n",
      "           3      1.000     0.000     0.000         2\n",
      "           4      1.000     0.000     0.000        11\n",
      "           5      0.689     0.770     0.727       135\n",
      "           6      0.638     0.634     0.636       142\n",
      "           7      0.321     0.333     0.327        27\n",
      "           8      1.000     0.000     0.000         3\n",
      "\n",
      "    accuracy                          0.634       320\n",
      "   macro avg      0.775     0.290     0.282       320\n",
      "weighted avg      0.651     0.634     0.617       320\n",
      "\n",
      "accuracy 0.634375\n"
     ]
    }
   ],
   "source": [
    "# classification report\n",
    "print(metrics.classification_report(y_test, y_pred, digits=3, zero_division=1))\n",
    "print('accuracy', accuracy_score(y_test, y_pred))"
   ]
  },
  {
   "cell_type": "markdown",
   "id": "14673a65",
   "metadata": {},
   "source": [
    "# model gives accuracy of `0.634375`"
   ]
  },
  {
   "cell_type": "code",
   "execution_count": 64,
   "id": "0448f416",
   "metadata": {
    "ExecuteTime": {
     "end_time": "2021-08-26T16:29:44.327449Z",
     "start_time": "2021-08-26T16:29:42.211510Z"
    }
   },
   "outputs": [
    {
     "name": "stdout",
     "output_type": "stream",
     "text": [
      "cross validation score with roc_auc 0.8122395666925059\n"
     ]
    }
   ],
   "source": [
    "# Calculate cv score with ‘roc_auc_ovr’ scoring and 10 folds\n",
    "accuracy = cross_val_score(logreg, X, y, scoring='roc_auc_ovr', cv=10)\n",
    "print('cross validation score with roc_auc', accuracy.mean())"
   ]
  },
  {
   "cell_type": "code",
   "execution_count": 65,
   "id": "a5d7867d",
   "metadata": {
    "ExecuteTime": {
     "end_time": "2021-08-26T16:29:44.351900Z",
     "start_time": "2021-08-26T16:29:44.332052Z"
    }
   },
   "outputs": [
    {
     "name": "stdout",
     "output_type": "stream",
     "text": [
      "roc_auc_score 0.7733433467826508\n"
     ]
    }
   ],
   "source": [
    "# Calculate roc_auc score with multiclass parameter\n",
    "print('roc_auc_score', roc_auc_score(\n",
    "    y_test, logreg.predict_proba(X_test), multi_class='ovr'))"
   ]
  },
  {
   "cell_type": "markdown",
   "id": "70ae61e6",
   "metadata": {},
   "source": [
    "### Adding polynomial features to the logistic regression"
   ]
  },
  {
   "cell_type": "code",
   "execution_count": 66,
   "id": "fcdd4ae3",
   "metadata": {
    "ExecuteTime": {
     "end_time": "2021-08-26T16:29:44.443267Z",
     "start_time": "2021-08-26T16:29:44.355272Z"
    }
   },
   "outputs": [],
   "source": [
    "from sklearn.preprocessing import PolynomialFeatures\n",
    "from sklearn.pipeline import make_pipeline\n",
    "# Add polynomial features to the logistic regression model\n",
    "\n",
    "\n",
    "def PolynomialRegression(degree=2, **kwargs):\n",
    "    return make_pipeline(PolynomialFeatures(degree),\n",
    "                         LogisticRegression(multi_class='multinomial', solver='newton-cg', **kwargs))"
   ]
  },
  {
   "cell_type": "markdown",
   "id": "ea9afe9a",
   "metadata": {},
   "source": [
    "### adding 3rd degree polynomial features to the logistic regression model."
   ]
  },
  {
   "cell_type": "code",
   "execution_count": 67,
   "id": "311b1080",
   "metadata": {
    "ExecuteTime": {
     "end_time": "2021-08-26T16:29:57.750593Z",
     "start_time": "2021-08-26T16:29:44.446427Z"
    }
   },
   "outputs": [
    {
     "data": {
      "text/plain": [
       "Pipeline(steps=[('polynomialfeatures', PolynomialFeatures(degree=3)),\n",
       "                ('logisticregression',\n",
       "                 LogisticRegression(multi_class='multinomial',\n",
       "                                    solver='newton-cg'))])"
      ]
     },
     "execution_count": 67,
     "metadata": {},
     "output_type": "execute_result"
    }
   ],
   "source": [
    "# Train and fit the 3rd degree polynomial regression model\n",
    "poly = PolynomialRegression(3)\n",
    "poly.fit(X_train, y_train)"
   ]
  },
  {
   "cell_type": "code",
   "execution_count": 68,
   "id": "e429a02d",
   "metadata": {
    "ExecuteTime": {
     "end_time": "2021-08-26T16:29:57.772170Z",
     "start_time": "2021-08-26T16:29:57.755423Z"
    }
   },
   "outputs": [],
   "source": [
    "# Test out-of-sample test set\n",
    "y_pred = poly.predict(X_test)"
   ]
  },
  {
   "cell_type": "code",
   "execution_count": 69,
   "id": "bb4cbe7a",
   "metadata": {
    "ExecuteTime": {
     "end_time": "2021-08-26T16:29:57.893959Z",
     "start_time": "2021-08-26T16:29:57.776087Z"
    }
   },
   "outputs": [
    {
     "name": "stdout",
     "output_type": "stream",
     "text": [
      "              precision    recall  f1-score   support\n",
      "\n",
      "           3      0.000     0.000     0.000         2\n",
      "           4      0.000     0.000     0.000        11\n",
      "           5      0.671     0.696     0.684       135\n",
      "           6      0.677     0.620     0.647       142\n",
      "           7      0.349     0.556     0.429        27\n",
      "           8      0.000     0.000     0.000         3\n",
      "\n",
      "    accuracy                          0.616       320\n",
      "   macro avg      0.283     0.312     0.293       320\n",
      "weighted avg      0.613     0.616     0.612       320\n",
      "\n",
      "accuracy 0.615625\n"
     ]
    }
   ],
   "source": [
    "# Classification report\n",
    "print(metrics.classification_report(y_test, y_pred, digits=3))\n",
    "print('accuracy', accuracy_score(y_test, y_pred))"
   ]
  },
  {
   "cell_type": "markdown",
   "id": "9ebfa813",
   "metadata": {},
   "source": [
    "# model gives accuracy of `0.615625`"
   ]
  },
  {
   "cell_type": "code",
   "execution_count": 70,
   "id": "1fb5dcf1",
   "metadata": {
    "ExecuteTime": {
     "end_time": "2021-08-26T16:32:13.799580Z",
     "start_time": "2021-08-26T16:29:57.899276Z"
    }
   },
   "outputs": [
    {
     "name": "stdout",
     "output_type": "stream",
     "text": [
      "cross validation score with roc_auc_ovr scoring 0.641826720035031\n",
      "roc_auc_score 0.6404490224017735\n"
     ]
    }
   ],
   "source": [
    "# Calculate cv score with 'roc_auc_ovr' scoring and 10 folds\n",
    "accuracy = cross_val_score(poly, X, y, scoring='roc_auc_ovr', cv=10)\n",
    "print('cross validation score with roc_auc_ovr scoring', accuracy.mean())\n",
    "# Calculate roc_auc score with multiclass parameter\n",
    "print('roc_auc_score', roc_auc_score(\n",
    "    y_test, poly.predict_proba(X_test), multi_class='ovr'))"
   ]
  },
  {
   "cell_type": "markdown",
   "id": "f1f4efba",
   "metadata": {},
   "source": [
    "### 3.Decision Tree"
   ]
  },
  {
   "cell_type": "code",
   "execution_count": 71,
   "id": "2db87e5d",
   "metadata": {
    "ExecuteTime": {
     "end_time": "2021-08-26T16:32:13.825398Z",
     "start_time": "2021-08-26T16:32:13.803017Z"
    }
   },
   "outputs": [
    {
     "data": {
      "text/plain": [
       "DecisionTreeClassifier(random_state=0)"
      ]
     },
     "execution_count": 71,
     "metadata": {},
     "output_type": "execute_result"
    }
   ],
   "source": [
    "from sklearn.tree import DecisionTreeClassifier\n",
    "# Train and fit the Decision Tree Classification model\n",
    "tree = DecisionTreeClassifier(random_state=0)\n",
    "tree.fit(X_train, y_train)"
   ]
  },
  {
   "cell_type": "code",
   "execution_count": 72,
   "id": "d0620bd6",
   "metadata": {
    "ExecuteTime": {
     "end_time": "2021-08-26T16:32:13.905311Z",
     "start_time": "2021-08-26T16:32:13.828426Z"
    }
   },
   "outputs": [],
   "source": [
    "# Evaluate the model with out-of-sample test set\n",
    "y_pred = tree.predict(X_test)"
   ]
  },
  {
   "cell_type": "code",
   "execution_count": 73,
   "id": "30173285",
   "metadata": {
    "ExecuteTime": {
     "end_time": "2021-08-26T16:32:13.986774Z",
     "start_time": "2021-08-26T16:32:13.911071Z"
    }
   },
   "outputs": [
    {
     "name": "stdout",
     "output_type": "stream",
     "text": [
      "              precision    recall  f1-score   support\n",
      "\n",
      "           3      0.000     0.000     0.000         2\n",
      "           4      0.429     0.273     0.333        11\n",
      "           5      0.761     0.756     0.758       135\n",
      "           6      0.710     0.690     0.700       142\n",
      "           7      0.528     0.704     0.603        27\n",
      "           8      0.000     0.000     0.000         3\n",
      "\n",
      "    accuracy                          0.694       320\n",
      "   macro avg      0.405     0.404     0.399       320\n",
      "weighted avg      0.696     0.694     0.693       320\n",
      "\n",
      "accuracy 0.69375\n"
     ]
    }
   ],
   "source": [
    "# Classification report\n",
    "print(metrics.classification_report(y_test, y_pred.round(), digits=3))\n",
    "print('accuracy', accuracy_score(y_test, y_pred))"
   ]
  },
  {
   "cell_type": "markdown",
   "id": "6d758c08",
   "metadata": {},
   "source": [
    "# model gives accuracy of `0.69375`"
   ]
  },
  {
   "cell_type": "code",
   "execution_count": 74,
   "id": "d6def436",
   "metadata": {
    "ExecuteTime": {
     "end_time": "2021-08-26T16:32:14.359770Z",
     "start_time": "2021-08-26T16:32:13.990275Z"
    }
   },
   "outputs": [
    {
     "name": "stdout",
     "output_type": "stream",
     "text": [
      "cross validation score with roc_auc_ovr scoring 0.5768482985141795\n",
      "roc_auc_score 0.6614764008960282\n"
     ]
    }
   ],
   "source": [
    "# Calculate cv score with ‘roc_auc_ovr’ scoring and 10 folds\n",
    "accuracy = cross_val_score(tree, X, y, scoring='roc_auc_ovr', cv=10)\n",
    "print('cross validation score with roc_auc_ovr scoring', accuracy.mean())\n",
    "# Calculate roc_auc score with multiclass parameter\n",
    "print('roc_auc_score', roc_auc_score(\n",
    "    y_test, tree.predict_proba(X_test), multi_class='ovr'))"
   ]
  },
  {
   "cell_type": "markdown",
   "id": "dad649af",
   "metadata": {},
   "source": [
    "### 4. Random Forest"
   ]
  },
  {
   "cell_type": "code",
   "execution_count": 75,
   "id": "a1f77e20",
   "metadata": {
    "ExecuteTime": {
     "end_time": "2021-08-26T16:32:14.880133Z",
     "start_time": "2021-08-26T16:32:14.362949Z"
    }
   },
   "outputs": [
    {
     "data": {
      "text/plain": [
       "RandomForestClassifier(random_state=0)"
      ]
     },
     "execution_count": 75,
     "metadata": {},
     "output_type": "execute_result"
    }
   ],
   "source": [
    "from sklearn.ensemble import RandomForestClassifier\n",
    "# Train and fit the Random Forest Classification model\n",
    "forest = RandomForestClassifier(n_estimators=100, random_state=0)\n",
    "forest.fit(X_train, y_train)"
   ]
  },
  {
   "cell_type": "code",
   "execution_count": 76,
   "id": "86ad07d1",
   "metadata": {
    "ExecuteTime": {
     "end_time": "2021-08-26T16:32:14.920753Z",
     "start_time": "2021-08-26T16:32:14.883726Z"
    }
   },
   "outputs": [],
   "source": [
    "# Test out-of-sample test set\n",
    "y_pred = forest.predict(X_test)"
   ]
  },
  {
   "cell_type": "code",
   "execution_count": 77,
   "id": "0a96f6f0",
   "metadata": {
    "ExecuteTime": {
     "end_time": "2021-08-26T16:32:14.972034Z",
     "start_time": "2021-08-26T16:32:14.923670Z"
    }
   },
   "outputs": [
    {
     "name": "stdout",
     "output_type": "stream",
     "text": [
      "              precision    recall  f1-score   support\n",
      "\n",
      "           3      0.000     0.000     0.000         2\n",
      "           4      0.000     0.000     0.000        11\n",
      "           5      0.733     0.815     0.772       135\n",
      "           6      0.732     0.711     0.721       142\n",
      "           7      0.533     0.593     0.561        27\n",
      "           8      0.000     0.000     0.000         3\n",
      "\n",
      "    accuracy                          0.709       320\n",
      "   macro avg      0.333     0.353     0.342       320\n",
      "weighted avg      0.679     0.709     0.693       320\n",
      "\n",
      "accuracy 0.709375\n"
     ]
    },
    {
     "name": "stderr",
     "output_type": "stream",
     "text": [
      "/home/dhanola/anaconda3/lib/python3.8/site-packages/sklearn/metrics/_classification.py:1245: UndefinedMetricWarning: Precision and F-score are ill-defined and being set to 0.0 in labels with no predicted samples. Use `zero_division` parameter to control this behavior.\n",
      "  _warn_prf(average, modifier, msg_start, len(result))\n",
      "/home/dhanola/anaconda3/lib/python3.8/site-packages/sklearn/metrics/_classification.py:1245: UndefinedMetricWarning: Precision and F-score are ill-defined and being set to 0.0 in labels with no predicted samples. Use `zero_division` parameter to control this behavior.\n",
      "  _warn_prf(average, modifier, msg_start, len(result))\n",
      "/home/dhanola/anaconda3/lib/python3.8/site-packages/sklearn/metrics/_classification.py:1245: UndefinedMetricWarning: Precision and F-score are ill-defined and being set to 0.0 in labels with no predicted samples. Use `zero_division` parameter to control this behavior.\n",
      "  _warn_prf(average, modifier, msg_start, len(result))\n"
     ]
    }
   ],
   "source": [
    "# Classification report\n",
    "print(metrics.classification_report(y_test, y_pred.round(), digits=3))\n",
    "print('accuracy', accuracy_score(y_test, y_pred))"
   ]
  },
  {
   "cell_type": "markdown",
   "id": "63d15a53",
   "metadata": {},
   "source": [
    "# model gives accuracy of `0.709375`"
   ]
  },
  {
   "cell_type": "code",
   "execution_count": 78,
   "id": "4c2e3087",
   "metadata": {
    "ExecuteTime": {
     "end_time": "2021-08-26T16:32:20.321478Z",
     "start_time": "2021-08-26T16:32:14.974684Z"
    }
   },
   "outputs": [
    {
     "name": "stdout",
     "output_type": "stream",
     "text": [
      "cross validation score with roc_auc_ovr scoring 0.7744698089165192\n",
      "roc_auc_score 0.7731111820064127\n"
     ]
    }
   ],
   "source": [
    "# Calculate cv score with 'roc_auc_ovr' scoring and 10 folds\n",
    "accuracy = cross_val_score(forest, X, y, scoring='roc_auc_ovr', cv=10)\n",
    "print('cross validation score with roc_auc_ovr scoring', accuracy.mean())\n",
    "# Calculate roc_auc score with multiclass parameter\n",
    "print('roc_auc_score', roc_auc_score(\n",
    "    y_test, forest.predict_proba(X_test), multi_class='ovr'))"
   ]
  },
  {
   "cell_type": "markdown",
   "id": "e16f2935",
   "metadata": {},
   "source": [
    "### 5. Support Vector Machines (SVM)"
   ]
  },
  {
   "cell_type": "code",
   "execution_count": 79,
   "id": "79ebb582",
   "metadata": {
    "ExecuteTime": {
     "end_time": "2021-08-26T16:32:20.510052Z",
     "start_time": "2021-08-26T16:32:20.325198Z"
    }
   },
   "outputs": [
    {
     "data": {
      "text/plain": [
       "SVC(random_state=0)"
      ]
     },
     "execution_count": 79,
     "metadata": {},
     "output_type": "execute_result"
    }
   ],
   "source": [
    "# Fitting Kernel SVM to the Training set\n",
    "from sklearn.svm import SVC\n",
    "classifier = SVC(kernel='rbf', random_state=0)\n",
    "classifier.fit(X_train, y_train)"
   ]
  },
  {
   "cell_type": "code",
   "execution_count": 80,
   "id": "ac22fa77",
   "metadata": {
    "ExecuteTime": {
     "end_time": "2021-08-26T16:32:20.570326Z",
     "start_time": "2021-08-26T16:32:20.512908Z"
    }
   },
   "outputs": [],
   "source": [
    "# Predicting the Test Set\n",
    "y_pred = classifier.predict(X_test)"
   ]
  },
  {
   "cell_type": "code",
   "execution_count": 81,
   "id": "4d0ce819",
   "metadata": {
    "ExecuteTime": {
     "end_time": "2021-08-26T16:34:21.227748Z",
     "start_time": "2021-08-26T16:34:20.466389Z"
    }
   },
   "outputs": [
    {
     "data": {
      "text/plain": [
       "<AxesSubplot:>"
      ]
     },
     "execution_count": 81,
     "metadata": {},
     "output_type": "execute_result"
    },
    {
     "data": {
      "image/png": "[encoded data removed]",
      "text/plain": [
       "<Figure size 432x288 with 2 Axes>"
      ]
     },
     "metadata": {
      "needs_background": "light"
     },
     "output_type": "display_data"
    }
   ],
   "source": [
    "# making confusing matrix\n",
    "from sklearn.metrics import confusion_matrix\n",
    "cm = confusion_matrix(y_test, y_pred)\n",
    "sns.heatmap(cm, annot=True, fmt='2.0f')"
   ]
  },
  {
   "cell_type": "code",
   "execution_count": 83,
   "id": "430cb30a",
   "metadata": {
    "ExecuteTime": {
     "end_time": "2021-08-26T16:36:00.856732Z",
     "start_time": "2021-08-26T16:35:59.386488Z"
    }
   },
   "outputs": [
    {
     "name": "stderr",
     "output_type": "stream",
     "text": [
      "/home/dhanola/anaconda3/lib/python3.8/site-packages/sklearn/model_selection/_split.py:666: UserWarning: The least populated class in y has only 8 members, which is less than n_splits=10.\n",
      "  warnings.warn((\"The least populated class in y has only %d\"\n"
     ]
    },
    {
     "data": {
      "text/plain": [
       "0.6043614665354331"
      ]
     },
     "execution_count": 83,
     "metadata": {},
     "output_type": "execute_result"
    }
   ],
   "source": [
    "# k-Fold cross validation for improving our model\n",
    "from sklearn.model_selection import cross_val_score\n",
    "accuracies = cross_val_score(estimator=classifier, X=X_train,\n",
    "                             y=y_train, cv=10)\n",
    "# we can see model's average accuracy\n",
    "accuracies.mean()"
   ]
  },
  {
   "cell_type": "code",
   "execution_count": 94,
   "id": "12da2d5b",
   "metadata": {
    "ExecuteTime": {
     "end_time": "2021-08-26T16:36:34.382357Z",
     "start_time": "2021-08-26T16:36:34.357304Z"
    }
   },
   "outputs": [
    {
     "name": "stdout",
     "output_type": "stream",
     "text": [
      "              precision    recall  f1-score   support\n",
      "\n",
      "           3      0.000     0.000     0.000         2\n",
      "           4      0.000     0.000     0.000        11\n",
      "           5      0.673     0.748     0.709       135\n",
      "           6      0.630     0.683     0.655       142\n",
      "           7      0.500     0.296     0.372        27\n",
      "           8      0.000     0.000     0.000         3\n",
      "\n",
      "    accuracy                          0.644       320\n",
      "   macro avg      0.301     0.288     0.289       320\n",
      "weighted avg      0.606     0.644     0.621       320\n",
      "\n",
      "accuracy 0.64375\n"
     ]
    },
    {
     "name": "stderr",
     "output_type": "stream",
     "text": [
      "/home/dhanola/anaconda3/lib/python3.8/site-packages/sklearn/metrics/_classification.py:1245: UndefinedMetricWarning: Precision and F-score are ill-defined and being set to 0.0 in labels with no predicted samples. Use `zero_division` parameter to control this behavior.\n",
      "  _warn_prf(average, modifier, msg_start, len(result))\n",
      "/home/dhanola/anaconda3/lib/python3.8/site-packages/sklearn/metrics/_classification.py:1245: UndefinedMetricWarning: Precision and F-score are ill-defined and being set to 0.0 in labels with no predicted samples. Use `zero_division` parameter to control this behavior.\n",
      "  _warn_prf(average, modifier, msg_start, len(result))\n",
      "/home/dhanola/anaconda3/lib/python3.8/site-packages/sklearn/metrics/_classification.py:1245: UndefinedMetricWarning: Precision and F-score are ill-defined and being set to 0.0 in labels with no predicted samples. Use `zero_division` parameter to control this behavior.\n",
      "  _warn_prf(average, modifier, msg_start, len(result))\n"
     ]
    }
   ],
   "source": [
    "print(metrics.classification_report(y_test, y_pred.round(), digits=3))\n",
    "print('accuracy', accuracy_score(y_test, y_pred))"
   ]
  },
  {
   "cell_type": "markdown",
   "id": "75d24578",
   "metadata": {},
   "source": [
    "# model gives accuracy of `0.64375`"
   ]
  },
  {
   "cell_type": "markdown",
   "id": "55e11f77",
   "metadata": {},
   "source": [
    "# "
   ]
  },
  {
   "cell_type": "markdown",
   "id": "d26a0eeb",
   "metadata": {},
   "source": [
    "# ==============================================================="
   ]
  },
  {
   "cell_type": "markdown",
   "id": "edca2b9c",
   "metadata": {},
   "source": [
    "# THE END"
   ]
  },
  {
   "cell_type": "markdown",
   "id": "b8712af6",
   "metadata": {},
   "source": [
    "# ==============================================================="
   ]
  }
 ],
 "metadata": {
  "kernelspec": {
   "display_name": "Python 3",
   "language": "python",
   "name": "python3"
  },
  "language_info": {
   "codemirror_mode": {
    "name": "ipython",
    "version": 3
   },
   "file_extension": ".py",
   "mimetype": "text/x-python",
   "name": "python",
   "nbconvert_exporter": "python",
   "pygments_lexer": "ipython3",
   "version": "3.8.8"
  },
  "varInspector": {
   "cols": {
    "lenName": 16,
    "lenType": 16,
    "lenVar": 40
   },
   "kernels_config": {
    "python": {
     "delete_cmd_postfix": "",
     "delete_cmd_prefix": "del ",
     "library": "var_list.py",
     "varRefreshCmd": "print(var_dic_list())"
    },
    "r": {
     "delete_cmd_postfix": ") ",
     "delete_cmd_prefix": "rm(",
     "library": "var_list.r",
     "varRefreshCmd": "cat(var_dic_list()) "
    }
   },
   "types_to_exclude": [
    "module",
    "function",
    "builtin_function_or_method",
    "instance",
    "_Feature"
   ],
   "window_display": false
  }
 },
 "nbformat": 4,
 "nbformat_minor": 5
}
